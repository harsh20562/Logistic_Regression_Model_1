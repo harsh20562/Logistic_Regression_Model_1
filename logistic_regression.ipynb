{
  "nbformat": 4,
  "nbformat_minor": 0,
  "metadata": {
    "colab": {
      "name": "iis_Assignment_2.ipynb",
      "provenance": []
    },
    "kernelspec": {
      "name": "python3",
      "display_name": "Python 3"
    },
    "language_info": {
      "name": "python"
    }
  },
  "cells": [
    {
      "cell_type": "code",
      "metadata": {
        "colab": {
          "base_uri": "https://localhost:8080/"
        },
        "id": "J5rpKwR5EHHd",
        "outputId": "74055168-e7d9-4df5-8ce7-fe009acb454f"
      },
      "source": [
        "!pip install openpyxl"
      ],
      "execution_count": 1888,
      "outputs": [
        {
          "output_type": "stream",
          "name": "stdout",
          "text": [
            "Requirement already satisfied: openpyxl in /usr/local/lib/python3.7/dist-packages (2.5.9)\n",
            "Requirement already satisfied: jdcal in /usr/local/lib/python3.7/dist-packages (from openpyxl) (1.4.1)\n",
            "Requirement already satisfied: et-xmlfile in /usr/local/lib/python3.7/dist-packages (from openpyxl) (1.1.0)\n"
          ]
        }
      ]
    },
    {
      "cell_type": "code",
      "metadata": {
        "id": "jL3xmwT5Pwqp"
      },
      "source": [
        "!pip install scikit-learn --upgrade --quiet"
      ],
      "execution_count": 1889,
      "outputs": []
    },
    {
      "cell_type": "code",
      "metadata": {
        "id": "x-lvnXfJEVc2"
      },
      "source": [
        "import pandas as pd\n",
        "import numpy as np\n",
        "import plotly.express as px\n",
        "import matplotlib\n",
        "import matplotlib.pyplot as plt\n",
        "import seaborn as sns\n",
        "import random\n",
        "%matplotlib inline\n",
        "\n",
        "sns.set_style('darkgrid')\n",
        "matplotlib.rcParams['font.size'] = 15\n",
        "matplotlib.rcParams['figure.figsize'] = (10, 6)\n",
        "matplotlib.rcParams['figure.facecolor'] = '#00000000'"
      ],
      "execution_count": 1890,
      "outputs": []
    },
    {
      "cell_type": "code",
      "metadata": {
        "id": "cNJAzm7IEg9W"
      },
      "source": [
        "df = pd.DataFrame(pd.read_excel (\"iis_data.xlsx\"))"
      ],
      "execution_count": 1891,
      "outputs": []
    },
    {
      "cell_type": "code",
      "metadata": {
        "colab": {
          "base_uri": "https://localhost:8080/",
          "height": 711
        },
        "id": "95R7k48_GszH",
        "outputId": "f7e43933-4c3d-4f04-bdd1-144a0aef4870"
      },
      "source": [
        "df"
      ],
      "execution_count": 1892,
      "outputs": [
        {
          "output_type": "execute_result",
          "data": {
            "text/html": [
              "<div>\n",
              "<style scoped>\n",
              "    .dataframe tbody tr th:only-of-type {\n",
              "        vertical-align: middle;\n",
              "    }\n",
              "\n",
              "    .dataframe tbody tr th {\n",
              "        vertical-align: top;\n",
              "    }\n",
              "\n",
              "    .dataframe thead th {\n",
              "        text-align: right;\n",
              "    }\n",
              "</style>\n",
              "<table border=\"1\" class=\"dataframe\">\n",
              "  <thead>\n",
              "    <tr style=\"text-align: right;\">\n",
              "      <th></th>\n",
              "      <th>ID</th>\n",
              "      <th>Gender</th>\n",
              "      <th>DOB</th>\n",
              "      <th>10percentage</th>\n",
              "      <th>10board</th>\n",
              "      <th>12graduation</th>\n",
              "      <th>12percentage</th>\n",
              "      <th>12board</th>\n",
              "      <th>CollegeID</th>\n",
              "      <th>CollegeTier</th>\n",
              "      <th>Degree</th>\n",
              "      <th>Specialization</th>\n",
              "      <th>collegeGPA</th>\n",
              "      <th>CollegeCityID</th>\n",
              "      <th>CollegeCityTier</th>\n",
              "      <th>CollegeState</th>\n",
              "      <th>GraduationYear</th>\n",
              "      <th>English</th>\n",
              "      <th>Logical</th>\n",
              "      <th>Quant</th>\n",
              "      <th>Domain</th>\n",
              "      <th>ComputerProgramming</th>\n",
              "      <th>ElectronicsAndSemicon</th>\n",
              "      <th>ComputerScience</th>\n",
              "      <th>MechanicalEngg</th>\n",
              "      <th>ElectricalEngg</th>\n",
              "      <th>TelecomEngg</th>\n",
              "      <th>CivilEngg</th>\n",
              "      <th>conscientiousness</th>\n",
              "      <th>agreeableness</th>\n",
              "      <th>extraversion</th>\n",
              "      <th>nueroticism</th>\n",
              "      <th>openess_to_experience</th>\n",
              "      <th>High-Salary</th>\n",
              "    </tr>\n",
              "  </thead>\n",
              "  <tbody>\n",
              "    <tr>\n",
              "      <th>0</th>\n",
              "      <td>203097</td>\n",
              "      <td>f</td>\n",
              "      <td>1990-02-19</td>\n",
              "      <td>84.30</td>\n",
              "      <td>board ofsecondary education,ap</td>\n",
              "      <td>2007</td>\n",
              "      <td>95.80</td>\n",
              "      <td>board of intermediate education,ap</td>\n",
              "      <td>1141</td>\n",
              "      <td>2</td>\n",
              "      <td>B.Tech/B.E.</td>\n",
              "      <td>computer engineering</td>\n",
              "      <td>78.00</td>\n",
              "      <td>1141</td>\n",
              "      <td>0</td>\n",
              "      <td>Andhra Pradesh</td>\n",
              "      <td>2011</td>\n",
              "      <td>515</td>\n",
              "      <td>585</td>\n",
              "      <td>525</td>\n",
              "      <td>0.635979</td>\n",
              "      <td>445</td>\n",
              "      <td>-1</td>\n",
              "      <td>-1</td>\n",
              "      <td>-1</td>\n",
              "      <td>-1</td>\n",
              "      <td>-1</td>\n",
              "      <td>-1</td>\n",
              "      <td>0.9737</td>\n",
              "      <td>0.8128</td>\n",
              "      <td>0.5269</td>\n",
              "      <td>1.35490</td>\n",
              "      <td>-0.4455</td>\n",
              "      <td>1</td>\n",
              "    </tr>\n",
              "    <tr>\n",
              "      <th>1</th>\n",
              "      <td>579905</td>\n",
              "      <td>m</td>\n",
              "      <td>1989-10-04</td>\n",
              "      <td>85.40</td>\n",
              "      <td>cbse</td>\n",
              "      <td>2007</td>\n",
              "      <td>85.00</td>\n",
              "      <td>cbse</td>\n",
              "      <td>5807</td>\n",
              "      <td>2</td>\n",
              "      <td>B.Tech/B.E.</td>\n",
              "      <td>electronics and communication engineering</td>\n",
              "      <td>70.06</td>\n",
              "      <td>5807</td>\n",
              "      <td>0</td>\n",
              "      <td>Madhya Pradesh</td>\n",
              "      <td>2012</td>\n",
              "      <td>695</td>\n",
              "      <td>610</td>\n",
              "      <td>780</td>\n",
              "      <td>0.960603</td>\n",
              "      <td>-1</td>\n",
              "      <td>466</td>\n",
              "      <td>-1</td>\n",
              "      <td>-1</td>\n",
              "      <td>-1</td>\n",
              "      <td>-1</td>\n",
              "      <td>-1</td>\n",
              "      <td>-0.7335</td>\n",
              "      <td>0.3789</td>\n",
              "      <td>1.2396</td>\n",
              "      <td>-0.10760</td>\n",
              "      <td>0.8637</td>\n",
              "      <td>1</td>\n",
              "    </tr>\n",
              "    <tr>\n",
              "      <th>2</th>\n",
              "      <td>810601</td>\n",
              "      <td>f</td>\n",
              "      <td>1992-08-03</td>\n",
              "      <td>85.00</td>\n",
              "      <td>cbse</td>\n",
              "      <td>2010</td>\n",
              "      <td>68.20</td>\n",
              "      <td>cbse</td>\n",
              "      <td>64</td>\n",
              "      <td>2</td>\n",
              "      <td>B.Tech/B.E.</td>\n",
              "      <td>information technology</td>\n",
              "      <td>70.00</td>\n",
              "      <td>64</td>\n",
              "      <td>0</td>\n",
              "      <td>Uttar Pradesh</td>\n",
              "      <td>2014</td>\n",
              "      <td>615</td>\n",
              "      <td>545</td>\n",
              "      <td>370</td>\n",
              "      <td>0.450877</td>\n",
              "      <td>395</td>\n",
              "      <td>-1</td>\n",
              "      <td>-1</td>\n",
              "      <td>-1</td>\n",
              "      <td>-1</td>\n",
              "      <td>-1</td>\n",
              "      <td>-1</td>\n",
              "      <td>0.2718</td>\n",
              "      <td>1.7109</td>\n",
              "      <td>0.1637</td>\n",
              "      <td>-0.86820</td>\n",
              "      <td>0.6721</td>\n",
              "      <td>1</td>\n",
              "    </tr>\n",
              "    <tr>\n",
              "      <th>3</th>\n",
              "      <td>267447</td>\n",
              "      <td>m</td>\n",
              "      <td>1989-12-05</td>\n",
              "      <td>85.60</td>\n",
              "      <td>cbse</td>\n",
              "      <td>2007</td>\n",
              "      <td>83.60</td>\n",
              "      <td>cbse</td>\n",
              "      <td>6920</td>\n",
              "      <td>1</td>\n",
              "      <td>B.Tech/B.E.</td>\n",
              "      <td>computer engineering</td>\n",
              "      <td>74.64</td>\n",
              "      <td>6920</td>\n",
              "      <td>1</td>\n",
              "      <td>Delhi</td>\n",
              "      <td>2011</td>\n",
              "      <td>635</td>\n",
              "      <td>585</td>\n",
              "      <td>625</td>\n",
              "      <td>0.974396</td>\n",
              "      <td>615</td>\n",
              "      <td>-1</td>\n",
              "      <td>-1</td>\n",
              "      <td>-1</td>\n",
              "      <td>-1</td>\n",
              "      <td>-1</td>\n",
              "      <td>-1</td>\n",
              "      <td>0.0464</td>\n",
              "      <td>0.3448</td>\n",
              "      <td>-0.3440</td>\n",
              "      <td>-0.40780</td>\n",
              "      <td>-0.9194</td>\n",
              "      <td>1</td>\n",
              "    </tr>\n",
              "    <tr>\n",
              "      <th>4</th>\n",
              "      <td>343523</td>\n",
              "      <td>m</td>\n",
              "      <td>1991-02-27</td>\n",
              "      <td>78.00</td>\n",
              "      <td>cbse</td>\n",
              "      <td>2008</td>\n",
              "      <td>76.80</td>\n",
              "      <td>cbse</td>\n",
              "      <td>11368</td>\n",
              "      <td>2</td>\n",
              "      <td>B.Tech/B.E.</td>\n",
              "      <td>electronics and communication engineering</td>\n",
              "      <td>73.90</td>\n",
              "      <td>11368</td>\n",
              "      <td>0</td>\n",
              "      <td>Uttar Pradesh</td>\n",
              "      <td>2012</td>\n",
              "      <td>545</td>\n",
              "      <td>625</td>\n",
              "      <td>465</td>\n",
              "      <td>0.124502</td>\n",
              "      <td>-1</td>\n",
              "      <td>233</td>\n",
              "      <td>-1</td>\n",
              "      <td>-1</td>\n",
              "      <td>-1</td>\n",
              "      <td>-1</td>\n",
              "      <td>-1</td>\n",
              "      <td>-0.8810</td>\n",
              "      <td>-0.2793</td>\n",
              "      <td>-1.0697</td>\n",
              "      <td>0.09163</td>\n",
              "      <td>-0.1295</td>\n",
              "      <td>0</td>\n",
              "    </tr>\n",
              "    <tr>\n",
              "      <th>...</th>\n",
              "      <td>...</td>\n",
              "      <td>...</td>\n",
              "      <td>...</td>\n",
              "      <td>...</td>\n",
              "      <td>...</td>\n",
              "      <td>...</td>\n",
              "      <td>...</td>\n",
              "      <td>...</td>\n",
              "      <td>...</td>\n",
              "      <td>...</td>\n",
              "      <td>...</td>\n",
              "      <td>...</td>\n",
              "      <td>...</td>\n",
              "      <td>...</td>\n",
              "      <td>...</td>\n",
              "      <td>...</td>\n",
              "      <td>...</td>\n",
              "      <td>...</td>\n",
              "      <td>...</td>\n",
              "      <td>...</td>\n",
              "      <td>...</td>\n",
              "      <td>...</td>\n",
              "      <td>...</td>\n",
              "      <td>...</td>\n",
              "      <td>...</td>\n",
              "      <td>...</td>\n",
              "      <td>...</td>\n",
              "      <td>...</td>\n",
              "      <td>...</td>\n",
              "      <td>...</td>\n",
              "      <td>...</td>\n",
              "      <td>...</td>\n",
              "      <td>...</td>\n",
              "      <td>...</td>\n",
              "    </tr>\n",
              "    <tr>\n",
              "      <th>3993</th>\n",
              "      <td>47916</td>\n",
              "      <td>m</td>\n",
              "      <td>1987-04-15</td>\n",
              "      <td>52.09</td>\n",
              "      <td>cbse</td>\n",
              "      <td>2006</td>\n",
              "      <td>55.50</td>\n",
              "      <td>cbse</td>\n",
              "      <td>6268</td>\n",
              "      <td>2</td>\n",
              "      <td>B.Tech/B.E.</td>\n",
              "      <td>information technology</td>\n",
              "      <td>61.50</td>\n",
              "      <td>6268</td>\n",
              "      <td>0</td>\n",
              "      <td>Haryana</td>\n",
              "      <td>2010</td>\n",
              "      <td>365</td>\n",
              "      <td>334</td>\n",
              "      <td>475</td>\n",
              "      <td>0.276047</td>\n",
              "      <td>345</td>\n",
              "      <td>-1</td>\n",
              "      <td>-1</td>\n",
              "      <td>-1</td>\n",
              "      <td>-1</td>\n",
              "      <td>-1</td>\n",
              "      <td>-1</td>\n",
              "      <td>-0.1082</td>\n",
              "      <td>0.3448</td>\n",
              "      <td>0.2366</td>\n",
              "      <td>0.64980</td>\n",
              "      <td>-0.9194</td>\n",
              "      <td>0</td>\n",
              "    </tr>\n",
              "    <tr>\n",
              "      <th>3994</th>\n",
              "      <td>752781</td>\n",
              "      <td>f</td>\n",
              "      <td>1992-08-27</td>\n",
              "      <td>90.00</td>\n",
              "      <td>state board</td>\n",
              "      <td>2009</td>\n",
              "      <td>93.00</td>\n",
              "      <td>state board</td>\n",
              "      <td>4883</td>\n",
              "      <td>2</td>\n",
              "      <td>B.Tech/B.E.</td>\n",
              "      <td>electronics and communication engineering</td>\n",
              "      <td>77.30</td>\n",
              "      <td>4883</td>\n",
              "      <td>1</td>\n",
              "      <td>Telangana</td>\n",
              "      <td>2013</td>\n",
              "      <td>415</td>\n",
              "      <td>410</td>\n",
              "      <td>535</td>\n",
              "      <td>0.881620</td>\n",
              "      <td>325</td>\n",
              "      <td>420</td>\n",
              "      <td>-1</td>\n",
              "      <td>-1</td>\n",
              "      <td>-1</td>\n",
              "      <td>-1</td>\n",
              "      <td>-1</td>\n",
              "      <td>-0.3027</td>\n",
              "      <td>0.8784</td>\n",
              "      <td>0.9322</td>\n",
              "      <td>0.77980</td>\n",
              "      <td>-0.0943</td>\n",
              "      <td>0</td>\n",
              "    </tr>\n",
              "    <tr>\n",
              "      <th>3995</th>\n",
              "      <td>355888</td>\n",
              "      <td>m</td>\n",
              "      <td>1991-07-03</td>\n",
              "      <td>81.86</td>\n",
              "      <td>bse,odisha</td>\n",
              "      <td>2008</td>\n",
              "      <td>65.50</td>\n",
              "      <td>chse,odisha</td>\n",
              "      <td>9786</td>\n",
              "      <td>2</td>\n",
              "      <td>B.Tech/B.E.</td>\n",
              "      <td>computer engineering</td>\n",
              "      <td>70.00</td>\n",
              "      <td>9786</td>\n",
              "      <td>0</td>\n",
              "      <td>Orissa</td>\n",
              "      <td>2012</td>\n",
              "      <td>475</td>\n",
              "      <td>475</td>\n",
              "      <td>465</td>\n",
              "      <td>0.488348</td>\n",
              "      <td>405</td>\n",
              "      <td>-1</td>\n",
              "      <td>-1</td>\n",
              "      <td>-1</td>\n",
              "      <td>-1</td>\n",
              "      <td>-1</td>\n",
              "      <td>-1</td>\n",
              "      <td>-1.5765</td>\n",
              "      <td>-1.5273</td>\n",
              "      <td>-1.5051</td>\n",
              "      <td>-1.31840</td>\n",
              "      <td>-0.7615</td>\n",
              "      <td>1</td>\n",
              "    </tr>\n",
              "    <tr>\n",
              "      <th>3996</th>\n",
              "      <td>947111</td>\n",
              "      <td>f</td>\n",
              "      <td>1992-03-20</td>\n",
              "      <td>78.72</td>\n",
              "      <td>state board</td>\n",
              "      <td>2010</td>\n",
              "      <td>69.88</td>\n",
              "      <td>state board</td>\n",
              "      <td>979</td>\n",
              "      <td>2</td>\n",
              "      <td>B.Tech/B.E.</td>\n",
              "      <td>computer science &amp; engineering</td>\n",
              "      <td>70.42</td>\n",
              "      <td>979</td>\n",
              "      <td>1</td>\n",
              "      <td>Karnataka</td>\n",
              "      <td>2014</td>\n",
              "      <td>450</td>\n",
              "      <td>410</td>\n",
              "      <td>320</td>\n",
              "      <td>0.744758</td>\n",
              "      <td>445</td>\n",
              "      <td>-1</td>\n",
              "      <td>438</td>\n",
              "      <td>-1</td>\n",
              "      <td>-1</td>\n",
              "      <td>-1</td>\n",
              "      <td>-1</td>\n",
              "      <td>-0.1590</td>\n",
              "      <td>0.0459</td>\n",
              "      <td>-0.4511</td>\n",
              "      <td>-0.36120</td>\n",
              "      <td>-0.0943</td>\n",
              "      <td>0</td>\n",
              "    </tr>\n",
              "    <tr>\n",
              "      <th>3997</th>\n",
              "      <td>324966</td>\n",
              "      <td>f</td>\n",
              "      <td>1991-02-26</td>\n",
              "      <td>70.60</td>\n",
              "      <td>cbse</td>\n",
              "      <td>2008</td>\n",
              "      <td>68.00</td>\n",
              "      <td>cbse</td>\n",
              "      <td>6609</td>\n",
              "      <td>2</td>\n",
              "      <td>B.Tech/B.E.</td>\n",
              "      <td>information technology</td>\n",
              "      <td>68.00</td>\n",
              "      <td>6609</td>\n",
              "      <td>1</td>\n",
              "      <td>Tamil Nadu</td>\n",
              "      <td>2012</td>\n",
              "      <td>565</td>\n",
              "      <td>515</td>\n",
              "      <td>464</td>\n",
              "      <td>0.600057</td>\n",
              "      <td>435</td>\n",
              "      <td>-1</td>\n",
              "      <td>-1</td>\n",
              "      <td>-1</td>\n",
              "      <td>-1</td>\n",
              "      <td>-1</td>\n",
              "      <td>-1</td>\n",
              "      <td>-1.1128</td>\n",
              "      <td>-0.2793</td>\n",
              "      <td>-0.6343</td>\n",
              "      <td>1.32553</td>\n",
              "      <td>-0.6035</td>\n",
              "      <td>1</td>\n",
              "    </tr>\n",
              "  </tbody>\n",
              "</table>\n",
              "<p>3998 rows × 34 columns</p>\n",
              "</div>"
            ],
            "text/plain": [
              "          ID Gender        DOB  ...  nueroticism openess_to_experience  High-Salary\n",
              "0     203097      f 1990-02-19  ...      1.35490               -0.4455            1\n",
              "1     579905      m 1989-10-04  ...     -0.10760                0.8637            1\n",
              "2     810601      f 1992-08-03  ...     -0.86820                0.6721            1\n",
              "3     267447      m 1989-12-05  ...     -0.40780               -0.9194            1\n",
              "4     343523      m 1991-02-27  ...      0.09163               -0.1295            0\n",
              "...      ...    ...        ...  ...          ...                   ...          ...\n",
              "3993   47916      m 1987-04-15  ...      0.64980               -0.9194            0\n",
              "3994  752781      f 1992-08-27  ...      0.77980               -0.0943            0\n",
              "3995  355888      m 1991-07-03  ...     -1.31840               -0.7615            1\n",
              "3996  947111      f 1992-03-20  ...     -0.36120               -0.0943            0\n",
              "3997  324966      f 1991-02-26  ...      1.32553               -0.6035            1\n",
              "\n",
              "[3998 rows x 34 columns]"
            ]
          },
          "metadata": {},
          "execution_count": 1892
        }
      ]
    },
    {
      "cell_type": "code",
      "metadata": {
        "colab": {
          "base_uri": "https://localhost:8080/"
        },
        "id": "9g_DW_CHEsdH",
        "outputId": "30f981df-004b-4ae5-f3ae-c885cd6a6b49"
      },
      "source": [
        "df.info()"
      ],
      "execution_count": 1893,
      "outputs": [
        {
          "output_type": "stream",
          "name": "stdout",
          "text": [
            "<class 'pandas.core.frame.DataFrame'>\n",
            "RangeIndex: 3998 entries, 0 to 3997\n",
            "Data columns (total 34 columns):\n",
            " #   Column                 Non-Null Count  Dtype         \n",
            "---  ------                 --------------  -----         \n",
            " 0   ID                     3998 non-null   int64         \n",
            " 1   Gender                 3998 non-null   object        \n",
            " 2   DOB                    3998 non-null   datetime64[ns]\n",
            " 3   10percentage           3998 non-null   float64       \n",
            " 4   10board                3998 non-null   object        \n",
            " 5   12graduation           3998 non-null   int64         \n",
            " 6   12percentage           3998 non-null   float64       \n",
            " 7   12board                3998 non-null   object        \n",
            " 8   CollegeID              3998 non-null   int64         \n",
            " 9   CollegeTier            3998 non-null   int64         \n",
            " 10  Degree                 3998 non-null   object        \n",
            " 11  Specialization         3998 non-null   object        \n",
            " 12  collegeGPA             3998 non-null   float64       \n",
            " 13  CollegeCityID          3998 non-null   int64         \n",
            " 14  CollegeCityTier        3998 non-null   int64         \n",
            " 15  CollegeState           3998 non-null   object        \n",
            " 16  GraduationYear         3998 non-null   int64         \n",
            " 17  English                3998 non-null   int64         \n",
            " 18  Logical                3998 non-null   int64         \n",
            " 19  Quant                  3998 non-null   int64         \n",
            " 20  Domain                 3998 non-null   float64       \n",
            " 21  ComputerProgramming    3998 non-null   int64         \n",
            " 22  ElectronicsAndSemicon  3998 non-null   int64         \n",
            " 23  ComputerScience        3998 non-null   int64         \n",
            " 24  MechanicalEngg         3998 non-null   int64         \n",
            " 25  ElectricalEngg         3998 non-null   int64         \n",
            " 26  TelecomEngg            3998 non-null   int64         \n",
            " 27  CivilEngg              3998 non-null   int64         \n",
            " 28  conscientiousness      3998 non-null   float64       \n",
            " 29  agreeableness          3998 non-null   float64       \n",
            " 30  extraversion           3998 non-null   float64       \n",
            " 31  nueroticism            3998 non-null   float64       \n",
            " 32  openess_to_experience  3998 non-null   float64       \n",
            " 33  High-Salary            3998 non-null   int64         \n",
            "dtypes: datetime64[ns](1), float64(9), int64(18), object(6)\n",
            "memory usage: 1.0+ MB\n"
          ]
        }
      ]
    },
    {
      "cell_type": "markdown",
      "metadata": {
        "id": "Y6-H3k3tGjGX"
      },
      "source": [
        "**Exploratory Data Analysis and Visualization**\n",
        "\n"
      ]
    },
    {
      "cell_type": "code",
      "metadata": {
        "colab": {
          "base_uri": "https://localhost:8080/",
          "height": 542
        },
        "id": "OFy94We9GH3T",
        "outputId": "e9dffee6-1062-4920-fbf5-95595e6a37ef"
      },
      "source": [
        "px.histogram(df , x='CollegeTier',title='College Tier vs. Salary', color='High-Salary')"
      ],
      "execution_count": 1894,
      "outputs": [
        {
          "output_type": "display_data",
          "data": {
            "text/html": [
              "<html>\n",
              "<head><meta charset=\"utf-8\" /></head>\n",
              "<body>\n",
              "    <div>\n",
              "            <script src=\"https://cdnjs.cloudflare.com/ajax/libs/mathjax/2.7.5/MathJax.js?config=TeX-AMS-MML_SVG\"></script><script type=\"text/javascript\">if (window.MathJax) {MathJax.Hub.Config({SVG: {font: \"STIX-Web\"}});}</script>\n",
              "                <script type=\"text/javascript\">window.PlotlyConfig = {MathJaxConfig: 'local'};</script>\n",
              "        <script src=\"https://cdn.plot.ly/plotly-latest.min.js\"></script>    \n",
              "            <div id=\"ab9c1b8f-c708-4a05-bfa1-8fafa3118803\" class=\"plotly-graph-div\" style=\"height:525px; width:100%;\"></div>\n",
              "            <script type=\"text/javascript\">\n",
              "                \n",
              "                    window.PLOTLYENV=window.PLOTLYENV || {};\n",
              "                    \n",
              "                if (document.getElementById(\"ab9c1b8f-c708-4a05-bfa1-8fafa3118803\")) {\n",
              "                    Plotly.newPlot(\n",
              "                        'ab9c1b8f-c708-4a05-bfa1-8fafa3118803',\n",
              "                        [{\"alignmentgroup\": \"True\", \"bingroup\": \"x\", \"hoverlabel\": {\"namelength\": 0}, \"hovertemplate\": \"High-Salary=1<br>CollegeTier=%{x}<br>count=%{y}\", \"legendgroup\": \"High-Salary=1\", \"marker\": {\"color\": \"#636efa\"}, \"name\": \"High-Salary=1\", \"offsetgroup\": \"High-Salary=1\", \"orientation\": \"v\", \"showlegend\": true, \"type\": \"histogram\", \"x\": [2, 2, 2, 1, 2, 2, 1, 1, 2, 1, 2, 2, 2, 2, 2, 2, 2, 2, 2, 2, 2, 1, 2, 2, 1, 2, 2, 2, 2, 2, 2, 2, 1, 2, 2, 2, 2, 2, 2, 2, 2, 2, 2, 2, 2, 2, 2, 2, 2, 2, 2, 2, 2, 2, 2, 2, 2, 2, 2, 2, 2, 2, 2, 2, 2, 2, 2, 2, 2, 2, 2, 2, 2, 2, 2, 1, 2, 2, 2, 2, 2, 2, 2, 2, 1, 2, 1, 1, 1, 2, 1, 2, 2, 2, 2, 2, 2, 1, 2, 2, 2, 2, 1, 1, 1, 1, 1, 2, 2, 1, 2, 2, 2, 2, 2, 2, 1, 2, 2, 2, 2, 2, 1, 2, 1, 1, 2, 2, 2, 2, 2, 2, 1, 2, 2, 2, 2, 2, 2, 2, 2, 2, 1, 2, 2, 2, 2, 2, 2, 2, 2, 2, 2, 2, 2, 2, 2, 2, 2, 2, 1, 2, 1, 2, 1, 2, 1, 2, 2, 2, 1, 2, 2, 2, 2, 2, 2, 2, 2, 2, 2, 2, 1, 2, 2, 2, 2, 2, 2, 2, 2, 1, 2, 2, 2, 2, 2, 2, 2, 2, 2, 2, 2, 2, 2, 2, 2, 2, 2, 2, 2, 2, 1, 2, 2, 2, 1, 2, 2, 2, 2, 2, 2, 2, 2, 2, 2, 1, 2, 2, 2, 2, 1, 2, 2, 2, 2, 2, 2, 2, 1, 2, 2, 2, 1, 2, 2, 2, 2, 2, 2, 2, 2, 2, 2, 2, 2, 2, 2, 2, 2, 2, 2, 2, 1, 2, 2, 2, 2, 2, 2, 2, 2, 2, 2, 2, 2, 1, 2, 1, 2, 2, 2, 2, 2, 2, 2, 2, 2, 2, 2, 1, 2, 2, 2, 2, 2, 2, 1, 2, 2, 2, 2, 2, 2, 2, 1, 2, 2, 2, 2, 2, 2, 1, 2, 2, 2, 2, 2, 2, 2, 2, 2, 1, 2, 2, 2, 2, 2, 2, 2, 1, 2, 2, 2, 1, 2, 2, 2, 2, 2, 2, 2, 2, 2, 2, 2, 1, 2, 2, 2, 2, 2, 2, 2, 2, 2, 1, 1, 2, 2, 2, 2, 2, 2, 2, 2, 2, 2, 1, 2, 1, 2, 2, 2, 2, 2, 2, 2, 2, 2, 2, 2, 2, 2, 2, 2, 2, 2, 2, 2, 2, 2, 2, 2, 2, 2, 2, 2, 2, 2, 2, 2, 2, 2, 2, 2, 2, 2, 2, 2, 2, 2, 2, 1, 1, 2, 2, 2, 2, 2, 2, 2, 2, 2, 2, 2, 2, 2, 2, 2, 2, 2, 2, 2, 2, 2, 2, 2, 2, 2, 2, 2, 2, 2, 2, 2, 2, 2, 2, 2, 2, 2, 2, 2, 2, 1, 2, 2, 2, 2, 1, 2, 1, 2, 1, 2, 2, 1, 2, 2, 2, 2, 2, 1, 1, 2, 2, 2, 2, 2, 2, 2, 2, 2, 2, 2, 2, 2, 2, 1, 2, 2, 2, 2, 2, 2, 2, 2, 2, 2, 2, 2, 2, 2, 2, 2, 2, 2, 2, 2, 1, 2, 2, 2, 2, 2, 2, 2, 2, 2, 2, 2, 2, 2, 2, 2, 1, 2, 2, 2, 2, 2, 2, 2, 2, 2, 2, 2, 2, 2, 2, 2, 2, 2, 2, 1, 2, 2, 2, 2, 2, 2, 1, 2, 2, 2, 2, 2, 2, 2, 2, 2, 2, 2, 2, 2, 2, 2, 2, 2, 2, 2, 2, 2, 2, 2, 2, 1, 2, 2, 2, 2, 2, 2, 2, 2, 2, 2, 1, 2, 2, 2, 1, 1, 2, 2, 2, 2, 1, 2, 2, 1, 2, 2, 2, 2, 2, 2, 2, 2, 2, 2, 2, 2, 2, 2, 2, 2, 2, 2, 1, 2, 1, 1, 2, 2, 2, 2, 2, 2, 2, 2, 2, 2, 1, 2, 2, 2, 2, 2, 2, 2, 2, 2, 2, 1, 2, 2, 2, 2, 2, 2, 2, 2, 2, 2, 1, 2, 2, 2, 2, 2, 2, 2, 2, 2, 2, 2, 2, 2, 2, 2, 2, 2, 2, 2, 2, 2, 2, 2, 2, 1, 2, 2, 2, 2, 1, 2, 2, 2, 2, 2, 1, 2, 2, 2, 2, 2, 1, 2, 2, 1, 2, 1, 2, 2, 2, 2, 2, 2, 2, 2, 2, 2, 2, 2, 2, 2, 2, 2, 2, 2, 2, 2, 2, 1, 1, 2, 2, 1, 2, 2, 2, 2, 2, 2, 2, 2, 1, 2, 2, 2, 1, 2, 2, 2, 2, 2, 2, 2, 2, 2, 2, 2, 2, 2, 2, 2, 1, 2, 2, 2, 1, 2, 2, 2, 2, 1, 2, 2, 1, 1, 2, 2, 2, 2, 2, 2, 1, 2, 2, 2, 2, 2, 2, 2, 1, 2, 2, 2, 2, 1, 2, 2, 2, 2, 2, 2, 2, 2, 2, 2, 2, 2, 2, 1, 1, 2, 2, 2, 1, 2, 2, 2, 2, 2, 2, 2, 1, 2, 2, 2, 1, 2, 1, 2, 2, 2, 1, 2, 2, 2, 2, 2, 1, 2, 1, 2, 2, 2, 2, 2, 1, 2, 2, 2, 2, 2, 2, 2, 2, 2, 2, 2, 2, 2, 2, 2, 2, 2, 2, 2, 2, 2, 2, 2, 1, 2, 2, 2, 2, 2, 2, 2, 2, 2, 2, 2, 2, 2, 1, 2, 2, 2, 2, 2, 2, 2, 2, 2, 2, 2, 2, 2, 2, 1, 1, 2, 2, 2, 1, 2, 2, 2, 2, 2, 2, 2, 2, 2, 2, 1, 2, 2, 2, 2, 2, 2, 2, 2, 2, 2, 2, 2, 1, 2, 2, 2, 2, 2, 2, 1, 2, 2, 2, 2, 2, 2, 2, 2, 2, 2, 2, 2, 2, 2, 2, 2, 2, 2, 2, 2, 2, 2, 2, 2, 1, 2, 1, 2, 2, 2, 2, 2, 2, 2, 1, 2, 2, 2, 2, 2, 1, 2, 2, 1, 2, 2, 2, 2, 2, 2, 2, 2, 2, 2, 2, 2, 2, 2, 2, 2, 2, 2, 2, 2, 2, 2, 2, 2, 2, 2, 2, 2, 2, 2, 2, 1, 2, 2, 2, 2, 2, 2, 1, 2, 1, 2, 2, 2, 2, 2, 2, 2, 2, 2, 2, 1, 2, 2, 2, 1, 2, 2, 2, 1, 2, 2, 2, 2, 1, 2, 1, 2, 2, 2, 2, 2, 2, 2, 1, 2, 2, 2, 2, 2, 2, 2, 2, 2, 2, 2, 2, 2, 2, 2, 2, 2, 2, 2, 2, 1, 2, 2, 2, 2, 2, 1, 2, 1, 2, 2, 1, 2, 2, 2, 2, 1, 2, 2, 2, 2, 1, 2, 2, 2, 2, 2, 2, 2, 2, 1, 2, 2, 2, 2, 2, 2, 2, 2, 2, 2, 2, 1, 2, 2, 2, 2, 2, 2, 2, 2, 2, 2, 2, 2, 1, 2, 2, 2, 2, 1, 1, 2, 2, 2, 2, 1, 2, 1, 2, 2, 2, 2, 2, 2, 1, 2, 2, 2, 1, 2, 2, 2, 2, 1, 2, 2, 1, 2, 2, 2, 2, 2, 2, 2, 2, 2, 1, 2, 2, 2, 2, 2, 2, 2, 2, 2, 1, 2, 1, 2, 2, 2, 2, 2, 1, 1, 2, 2, 2, 2, 2, 2, 2, 2, 2, 2, 2, 2, 2, 2, 1, 2, 2, 2, 2, 2, 2, 2, 2, 2, 2, 2, 2, 2, 2, 2, 1, 2, 1, 2, 2, 2, 2, 2, 2, 2, 1, 2, 2, 2, 2, 1, 2, 1, 2, 2, 2, 2, 2, 2, 1, 2, 1, 2, 2, 2, 2, 2, 2, 1, 2, 2, 2, 2, 2, 2, 2, 2, 2, 2, 2, 1, 1, 2, 2, 2, 2, 2, 2, 1, 2, 2, 2, 2, 2, 1, 2, 2, 2, 2, 1, 2, 2, 2, 2, 1, 2, 2, 2, 2, 2, 2, 2, 2, 1, 2, 2, 2, 2, 2, 2, 2, 2, 2, 2, 2, 2, 1, 2, 1, 2, 2, 2, 2, 2, 2, 2, 2, 2, 2, 2, 2, 2, 2, 2, 2, 2, 2, 2, 2, 2, 2, 2, 2, 2, 2, 2, 2, 2, 2, 2, 2, 2, 2, 1, 1, 2, 2, 2, 2, 2, 2, 2, 2, 2, 2, 1, 2, 2, 2, 2, 2, 2, 2, 2, 2, 2, 2, 2, 1, 2, 2, 1, 2, 2, 2, 2, 2, 2, 2, 2, 1, 2, 2, 2, 2, 2, 2, 2, 2, 2, 2, 2, 2, 1, 2, 2, 2, 2, 1, 2, 2, 2, 1, 2, 2, 2, 2, 2, 2, 2, 2, 2, 2, 2, 2, 2, 2, 2, 2, 2, 2, 2, 2, 2, 2, 2, 2, 2, 2, 2, 1, 1, 2, 2, 2, 2, 2, 2, 2, 2, 2, 2, 2, 2, 1, 2, 2, 1, 2, 2, 2, 2, 2, 1, 2, 2, 2, 2, 2, 2, 2, 2, 2, 2, 2, 2, 2, 2, 2, 2, 2, 2, 2, 2, 2, 2, 2, 2, 2, 2, 2, 2, 1, 2, 2, 2, 2, 2, 2, 2, 2, 2, 2, 2, 2, 2, 2, 2, 2, 2, 2, 2, 2, 2, 2, 2, 2, 1, 2, 2, 1, 2, 2, 2, 2, 2, 2, 2, 2, 2, 2, 2, 2, 2, 1, 2, 2, 2, 2, 1, 2, 2, 2, 2, 2, 2, 2, 1, 2, 1, 2, 2, 1, 2, 2, 2, 2, 2, 2, 1, 2, 2, 2, 2, 2, 2, 2, 2, 1, 2, 2, 2, 2, 2, 2, 1, 2, 2, 2, 2, 2, 2, 2, 2, 1, 2, 2, 2, 2, 2, 2, 2, 2, 2, 2, 1, 2, 2, 2, 2, 2, 2, 2, 2, 2, 2, 2, 2, 2, 2, 2, 2, 2, 1, 2, 2, 2, 2, 2, 2, 2, 2, 2, 2, 2, 2, 1, 2, 1, 2, 2, 2, 1, 2, 2, 1, 2, 2, 2, 2, 2, 2, 2, 2, 2, 2, 2, 2, 2, 2, 2, 2, 2, 1, 2, 2, 2, 2, 2, 2, 2, 2, 2, 2, 2, 2, 2, 2, 2, 1, 2, 2, 2, 2, 1, 2, 1, 2, 2, 2, 2, 2, 2, 2, 2, 1, 2, 2, 2, 2, 2, 2, 1, 2, 2, 2, 2, 2, 2, 2, 2, 2, 2, 2, 2, 2, 2, 2, 1, 2, 2, 2, 2, 2, 2, 2, 2, 2, 2, 2, 2, 2, 1, 2, 2, 2, 2, 1, 2, 2, 1, 2, 2, 2, 1, 2, 1, 2, 2, 1, 2, 2, 2, 2, 2, 2, 2, 2, 2, 2, 2, 2, 2, 2, 2, 2, 2, 2, 1, 1, 1, 2, 1, 2, 2, 2, 2, 2, 2, 2, 2, 2, 2, 2, 2, 2, 2, 2, 1, 2, 1, 2, 2, 2, 2, 2, 1, 2, 2, 2, 2, 2, 2, 1, 2, 2, 2, 2, 2, 2, 1, 2, 2, 2, 2, 2, 2, 2, 2, 2, 2, 2, 1, 2, 2, 2, 2, 1, 2, 2, 2, 2, 2, 1, 2, 2, 2, 2, 2, 2, 2, 2, 2, 2, 2, 2, 2, 2, 2, 2, 2, 2, 2, 2, 2, 2, 2, 2, 2, 2, 2, 2, 2, 2, 2, 2, 2, 2, 2, 2, 2, 2, 1, 2, 2, 1, 2, 2, 2, 2, 2, 2, 2, 2, 2, 2, 2, 2, 2, 2, 2, 2, 2, 2, 2, 2, 2, 1, 2, 1, 2, 2, 1, 2, 2, 2, 1, 2, 2, 1, 2, 2, 2, 2, 2, 2, 1, 2, 2, 2, 2, 2, 2, 2, 2, 2, 2, 2, 2, 2, 1, 2, 2, 2, 2, 2, 1, 1, 2, 2, 2, 2, 2, 2, 2, 2, 2, 1, 2, 1, 2, 2, 2, 2, 2, 2, 2, 2, 2, 2, 2, 2, 2, 2, 2, 2, 2, 2, 2, 2, 2, 2, 2, 2, 2, 2, 2, 2, 1, 2, 2, 2, 2, 2, 2, 2, 2, 2, 2, 1, 2, 2, 1, 2, 2, 2, 2, 2, 2, 2, 2, 2, 2, 2, 2, 2, 2, 2, 1, 2, 2, 2, 2, 2, 2, 2, 2, 2, 2, 2, 2, 2, 2, 2, 2, 2, 2, 2, 1, 1, 2, 2, 2, 2, 2, 2, 2, 2, 1, 2, 2, 2, 2, 2, 1, 2, 2, 2, 2, 2, 2, 2, 2, 2, 2, 2, 2, 1, 2, 2, 2, 2, 2, 2, 2, 2, 2, 2, 2, 2, 2, 2, 2, 2, 2, 2, 2, 1, 2, 2, 2, 1, 2, 2, 2, 2, 2, 2, 2, 2, 2, 2, 2, 2, 2, 2, 2, 1, 2, 2, 2, 2, 2, 2, 2, 2, 1, 1, 2, 2, 2, 2, 2, 2, 2, 2, 2, 2, 2, 2, 2, 2, 2, 2, 2, 2, 2, 2, 2, 2, 2, 2, 2, 2, 2, 2, 2, 2, 2, 2, 2, 1, 2, 2, 2, 2, 2, 2, 2, 2, 2], \"xaxis\": \"x\", \"yaxis\": \"y\"}, {\"alignmentgroup\": \"True\", \"bingroup\": \"x\", \"hoverlabel\": {\"namelength\": 0}, \"hovertemplate\": \"High-Salary=0<br>CollegeTier=%{x}<br>count=%{y}\", \"legendgroup\": \"High-Salary=0\", \"marker\": {\"color\": \"#EF553B\"}, \"name\": \"High-Salary=0\", \"offsetgroup\": \"High-Salary=0\", \"orientation\": \"v\", \"showlegend\": true, \"type\": \"histogram\", \"x\": [2, 2, 2, 2, 2, 2, 2, 2, 2, 2, 2, 2, 2, 1, 2, 2, 2, 2, 2, 2, 2, 2, 2, 2, 2, 2, 2, 2, 2, 2, 2, 2, 2, 2, 2, 2, 2, 2, 2, 2, 2, 2, 2, 2, 2, 2, 2, 2, 2, 2, 2, 2, 2, 2, 2, 2, 2, 2, 2, 2, 2, 2, 2, 2, 2, 2, 2, 2, 2, 2, 2, 2, 2, 2, 2, 2, 2, 1, 2, 2, 2, 2, 2, 2, 2, 2, 2, 2, 2, 2, 2, 2, 2, 2, 2, 2, 2, 2, 2, 2, 2, 1, 2, 2, 2, 2, 2, 2, 2, 2, 2, 2, 2, 2, 2, 2, 2, 2, 2, 2, 2, 2, 2, 2, 2, 2, 2, 2, 2, 2, 1, 2, 2, 2, 2, 2, 2, 2, 2, 2, 2, 2, 2, 2, 2, 2, 2, 2, 1, 2, 2, 2, 2, 2, 2, 2, 2, 2, 2, 2, 2, 2, 2, 2, 2, 2, 2, 2, 2, 2, 2, 2, 2, 2, 2, 2, 2, 2, 2, 2, 2, 2, 2, 2, 2, 2, 2, 2, 2, 2, 2, 2, 2, 2, 2, 2, 2, 2, 2, 2, 2, 2, 2, 2, 2, 2, 2, 2, 2, 2, 2, 2, 2, 2, 2, 2, 2, 2, 2, 2, 2, 2, 2, 2, 2, 2, 2, 2, 2, 2, 2, 1, 2, 2, 2, 2, 2, 2, 2, 2, 2, 2, 2, 2, 2, 2, 2, 2, 2, 2, 2, 2, 2, 1, 2, 1, 2, 2, 1, 2, 2, 2, 2, 2, 2, 2, 2, 2, 2, 2, 2, 2, 2, 2, 2, 2, 2, 2, 2, 2, 2, 2, 2, 2, 2, 2, 2, 2, 2, 2, 2, 2, 2, 2, 2, 2, 2, 2, 2, 2, 2, 2, 2, 2, 2, 2, 2, 2, 2, 2, 2, 2, 2, 2, 2, 2, 2, 2, 2, 2, 2, 2, 2, 2, 2, 2, 2, 2, 2, 2, 2, 2, 2, 2, 2, 2, 2, 2, 2, 2, 2, 2, 2, 2, 2, 2, 2, 2, 2, 2, 2, 2, 2, 2, 2, 2, 2, 2, 2, 2, 2, 2, 2, 2, 2, 2, 2, 2, 2, 2, 2, 2, 2, 2, 2, 2, 2, 2, 2, 2, 2, 2, 2, 2, 2, 2, 2, 2, 2, 2, 2, 2, 2, 2, 2, 2, 2, 2, 2, 2, 2, 2, 2, 2, 1, 2, 2, 2, 2, 2, 2, 2, 2, 2, 2, 2, 2, 2, 2, 2, 2, 2, 2, 2, 2, 2, 2, 2, 2, 2, 2, 2, 2, 2, 2, 2, 2, 2, 2, 2, 2, 2, 2, 2, 2, 2, 2, 2, 2, 2, 2, 1, 2, 2, 2, 2, 2, 2, 2, 2, 2, 2, 2, 2, 2, 2, 2, 2, 2, 2, 2, 2, 2, 2, 2, 2, 2, 2, 2, 2, 2, 2, 2, 2, 2, 2, 2, 2, 2, 2, 2, 2, 2, 2, 2, 2, 2, 2, 2, 2, 2, 2, 2, 2, 2, 2, 2, 2, 2, 2, 2, 2, 2, 2, 2, 2, 2, 2, 2, 2, 2, 2, 2, 2, 2, 1, 2, 2, 2, 2, 2, 2, 2, 2, 2, 2, 2, 2, 2, 2, 2, 2, 2, 2, 2, 2, 2, 2, 2, 2, 2, 2, 2, 2, 2, 2, 2, 2, 2, 2, 2, 2, 2, 2, 2, 2, 2, 2, 2, 2, 2, 2, 2, 2, 2, 2, 2, 2, 2, 2, 2, 2, 2, 2, 2, 2, 2, 2, 2, 2, 2, 2, 2, 2, 2, 2, 2, 2, 2, 2, 1, 2, 2, 2, 2, 2, 2, 2, 2, 2, 2, 2, 2, 2, 2, 2, 2, 2, 2, 2, 2, 2, 2, 2, 2, 2, 2, 2, 2, 2, 2, 2, 2, 2, 2, 2, 2, 2, 2, 2, 2, 2, 2, 2, 2, 2, 2, 2, 2, 2, 2, 2, 2, 2, 2, 2, 2, 2, 2, 2, 2, 2, 2, 2, 2, 2, 2, 2, 2, 2, 2, 2, 2, 2, 2, 2, 2, 2, 2, 2, 2, 2, 2, 2, 2, 2, 2, 2, 2, 2, 2, 2, 2, 2, 2, 2, 2, 2, 2, 2, 2, 2, 2, 2, 2, 2, 2, 2, 2, 1, 1, 2, 2, 2, 2, 2, 2, 2, 2, 2, 2, 2, 2, 1, 2, 2, 2, 2, 2, 2, 2, 2, 2, 2, 2, 2, 2, 2, 2, 2, 1, 2, 2, 2, 2, 2, 2, 2, 2, 2, 2, 2, 2, 2, 2, 2, 2, 2, 2, 2, 2, 2, 2, 2, 2, 2, 2, 2, 2, 2, 2, 2, 2, 1, 2, 2, 2, 1, 2, 2, 2, 2, 2, 2, 2, 2, 2, 2, 2, 2, 2, 2, 2, 2, 2, 2, 2, 2, 2, 2, 2, 2, 2, 2, 2, 2, 2, 2, 2, 2, 2, 2, 2, 2, 2, 2, 2, 2, 2, 2, 2, 2, 2, 2, 2, 2, 2, 2, 2, 2, 2, 2, 2, 2, 2, 2, 2, 2, 2, 2, 2, 2, 2, 2, 2, 2, 2, 1, 2, 2, 2, 2, 2, 2, 2, 2, 2, 2, 2, 2, 2, 2, 2, 2, 2, 2, 2, 2, 2, 2, 2, 2, 2, 2, 2, 2, 2, 2, 2, 2, 2, 2, 2, 2, 2, 2, 2, 2, 2, 2, 2, 2, 2, 2, 2, 2, 2, 2, 2, 2, 2, 2, 2, 2, 2, 2, 2, 2, 2, 2, 2, 2, 2, 2, 2, 2, 2, 2, 2, 2, 2, 2, 2, 2, 2, 2, 2, 2, 2, 2, 2, 2, 2, 2, 2, 2, 2, 2, 2, 2, 2, 2, 2, 2, 2, 2, 2, 2, 2, 2, 2, 2, 2, 2, 2, 2, 2, 2, 2, 2, 2, 2, 2, 2, 2, 2, 2, 2, 2, 2, 2, 2, 2, 2, 2, 2, 2, 2, 2, 2, 2, 2, 2, 2, 2, 2, 2, 2, 2, 2, 2, 2, 2, 2, 2, 2, 2, 2, 2, 2, 2, 2, 2, 2, 2, 2, 2, 2, 2, 2, 2, 2, 2, 2, 2, 2, 2, 2, 2, 2, 2, 2, 2, 2, 2, 2, 2, 2, 2, 2, 2, 2, 2, 2, 2, 2, 2, 2, 2, 2, 2, 2, 2, 2, 2, 2, 2, 2, 2, 2, 2, 2, 2, 2, 2, 2, 2, 2, 2, 2, 2, 2, 2, 2, 2, 1, 2, 2, 2, 2, 2, 2, 2, 2, 2, 2, 1, 2, 2, 2, 2, 2, 2, 2, 2, 2, 2, 2, 2, 2, 2, 2, 2, 2, 2, 2, 2, 2, 2, 2, 2, 2, 2, 2, 2, 2, 2, 2, 2, 2, 2, 2, 2, 2, 2, 2, 2, 2, 2, 2, 2, 2, 2, 2, 2, 2, 2, 2, 2, 2, 2, 2, 2, 2, 2, 2, 2, 2, 2, 2, 2, 2, 2, 2, 2, 2, 2, 2, 2, 2, 2, 2, 2, 2, 2, 2, 2, 2, 2, 1, 2, 2, 2, 2, 2, 2, 2, 2, 2, 2, 2, 2, 2, 2, 2, 2, 2, 2, 2, 2, 2, 2, 2, 2, 2, 2, 2, 2, 2, 2, 2, 2, 2, 2, 2, 2, 2, 2, 2, 2, 2, 1, 2, 2, 2, 2, 2, 2, 2, 2, 2, 2, 2, 2, 2, 2, 2, 2, 2, 2, 2, 2, 2, 2, 2, 2, 2, 2, 2, 2, 2, 2, 2, 2, 2, 2, 2, 2, 2, 2, 2, 2, 2, 2, 2, 2, 1, 2, 2, 2, 2, 2, 2, 2, 2, 2, 2, 2, 2, 2, 2, 2, 2, 2, 1, 2, 2, 2, 2, 2, 2, 2, 2, 2, 2, 2, 2, 2, 2, 2, 2, 2, 2, 2, 2, 2, 2, 2, 2, 2, 2, 2, 2, 2, 2, 2, 2, 2, 2, 2, 2, 2, 2, 2, 2, 2, 2, 2, 2, 2, 2, 2, 2, 2, 2, 2, 2, 2, 2, 2, 2, 2, 2, 2, 2, 2, 2, 2, 2, 2, 2, 2, 2, 2, 2, 2, 2, 2, 2, 2, 2, 2, 2, 2, 2, 2, 2, 2, 2, 2, 2, 2, 2, 2, 2, 2, 2, 2, 2, 2, 2, 2, 2, 2, 2, 2, 2, 2, 2, 2, 2, 2, 2, 2, 2, 2, 2, 2, 2, 2, 2, 2, 2, 2, 2, 2, 2, 2, 2, 2, 2, 2, 2, 2, 2, 2, 2, 2, 2, 2, 2, 2, 2, 2, 2, 2, 2, 2, 2, 2, 2, 2, 2, 2, 2, 2, 2, 2, 2, 2, 1, 2, 2, 2, 2, 2, 2, 2, 2, 2, 2, 2, 2, 2, 2, 2, 2, 2, 2, 2, 2, 2, 2, 2, 2, 2, 2, 2, 2, 2, 2, 2, 2, 2, 2, 2, 2, 2, 2, 2, 2, 2, 2, 2, 2, 2, 2, 2, 2, 2, 2, 2, 2, 2, 2, 2, 2, 2, 2, 2, 2, 2, 2, 2, 2, 2, 2, 2, 2, 2, 2, 2, 2, 2, 2, 2, 2, 1, 2, 2, 2, 2, 2, 2, 2, 2, 2, 2, 2, 2, 2, 2, 2, 2, 2, 2, 2, 2, 1, 2, 2, 1, 2, 2, 2, 2, 1, 2, 2, 2, 2, 2, 2, 2, 2, 2, 2, 2, 2, 2, 2, 2, 2, 2, 2, 2, 2, 1, 2, 2, 2, 1, 2, 2, 2, 2, 2, 2, 2, 2, 2, 2, 2, 2, 2, 2, 2, 2, 2, 2, 2, 2, 2, 2, 2, 2, 2, 2, 2, 2, 2, 2, 2, 2, 2, 2, 2, 2, 2, 2, 2, 2, 2, 2, 2, 2, 2, 2, 2, 2, 2, 2, 2, 2, 2, 2, 2, 2, 2, 2, 2, 2, 2, 2, 2, 2, 2, 2, 2, 2, 2, 2, 2, 2, 2, 2, 2, 2, 2, 2, 2, 2, 2, 2, 2, 2, 2, 2, 2, 2, 2, 2, 2, 2, 2, 2, 1, 2, 2, 2, 2, 2, 2, 2, 2, 2, 2, 2, 2, 2, 2, 2, 2, 2, 2, 2, 2, 2, 2, 2, 2, 2, 2, 2, 2, 2, 2, 2, 2, 2, 2, 2, 2, 2, 2, 2, 2, 2, 2, 2, 2, 2, 2, 2, 2, 2, 2, 2, 2, 2, 2, 2, 2, 2, 2, 2, 1, 2, 2, 2, 2, 2, 2, 2, 2, 2, 2, 2, 2, 2, 2, 2, 2, 2, 2, 2, 2, 2, 2, 1, 2, 2, 2, 2, 2, 2, 2, 2, 2, 2, 2, 2, 2, 2, 2, 2, 2, 2, 2, 2, 2, 2, 2, 2, 2, 2, 2, 2, 2, 2, 2, 2, 2, 2, 2, 2, 2, 2, 2, 2, 1, 2, 2, 2, 2, 2, 2, 1, 2, 2, 2, 2, 2, 2, 2, 2, 2, 2, 2, 2, 2, 2, 2, 2, 2, 2, 2, 2, 2, 2, 2, 2, 2, 2, 2, 2, 2, 2, 2, 2, 2, 2, 2, 2, 2, 2, 1, 2, 2, 2, 2, 2, 1, 2, 2, 2, 2, 2, 2, 2, 2, 2, 2, 2, 2, 2, 2, 2, 2, 2, 2, 2, 2, 2, 2, 2, 2, 2, 2, 2, 2, 2, 1, 2, 2, 2, 2, 2, 2, 2, 2, 2, 2], \"xaxis\": \"x\", \"yaxis\": \"y\"}],\n",
              "                        {\"barmode\": \"relative\", \"legend\": {\"tracegroupgap\": 0}, \"template\": {\"data\": {\"bar\": [{\"error_x\": {\"color\": \"#2a3f5f\"}, \"error_y\": {\"color\": \"#2a3f5f\"}, \"marker\": {\"line\": {\"color\": \"#E5ECF6\", \"width\": 0.5}}, \"type\": \"bar\"}], \"barpolar\": [{\"marker\": {\"line\": {\"color\": \"#E5ECF6\", \"width\": 0.5}}, \"type\": \"barpolar\"}], \"carpet\": [{\"aaxis\": {\"endlinecolor\": \"#2a3f5f\", \"gridcolor\": \"white\", \"linecolor\": \"white\", \"minorgridcolor\": \"white\", \"startlinecolor\": \"#2a3f5f\"}, \"baxis\": {\"endlinecolor\": \"#2a3f5f\", \"gridcolor\": \"white\", \"linecolor\": \"white\", \"minorgridcolor\": \"white\", \"startlinecolor\": \"#2a3f5f\"}, \"type\": \"carpet\"}], \"choropleth\": [{\"colorbar\": {\"outlinewidth\": 0, \"ticks\": \"\"}, \"type\": \"choropleth\"}], \"contour\": [{\"colorbar\": {\"outlinewidth\": 0, \"ticks\": \"\"}, \"colorscale\": [[0.0, \"#0d0887\"], [0.1111111111111111, \"#46039f\"], [0.2222222222222222, \"#7201a8\"], [0.3333333333333333, \"#9c179e\"], [0.4444444444444444, \"#bd3786\"], [0.5555555555555556, \"#d8576b\"], [0.6666666666666666, \"#ed7953\"], [0.7777777777777778, \"#fb9f3a\"], [0.8888888888888888, \"#fdca26\"], [1.0, \"#f0f921\"]], \"type\": \"contour\"}], \"contourcarpet\": [{\"colorbar\": {\"outlinewidth\": 0, \"ticks\": \"\"}, \"type\": \"contourcarpet\"}], \"heatmap\": [{\"colorbar\": {\"outlinewidth\": 0, \"ticks\": \"\"}, \"colorscale\": [[0.0, \"#0d0887\"], [0.1111111111111111, \"#46039f\"], [0.2222222222222222, \"#7201a8\"], [0.3333333333333333, \"#9c179e\"], [0.4444444444444444, \"#bd3786\"], [0.5555555555555556, \"#d8576b\"], [0.6666666666666666, \"#ed7953\"], [0.7777777777777778, \"#fb9f3a\"], [0.8888888888888888, \"#fdca26\"], [1.0, \"#f0f921\"]], \"type\": \"heatmap\"}], \"heatmapgl\": [{\"colorbar\": {\"outlinewidth\": 0, \"ticks\": \"\"}, \"colorscale\": [[0.0, \"#0d0887\"], [0.1111111111111111, \"#46039f\"], [0.2222222222222222, \"#7201a8\"], [0.3333333333333333, \"#9c179e\"], [0.4444444444444444, \"#bd3786\"], [0.5555555555555556, \"#d8576b\"], [0.6666666666666666, \"#ed7953\"], [0.7777777777777778, \"#fb9f3a\"], [0.8888888888888888, \"#fdca26\"], [1.0, \"#f0f921\"]], \"type\": \"heatmapgl\"}], \"histogram\": [{\"marker\": {\"colorbar\": {\"outlinewidth\": 0, \"ticks\": \"\"}}, \"type\": \"histogram\"}], \"histogram2d\": [{\"colorbar\": {\"outlinewidth\": 0, \"ticks\": \"\"}, \"colorscale\": [[0.0, \"#0d0887\"], [0.1111111111111111, \"#46039f\"], [0.2222222222222222, \"#7201a8\"], [0.3333333333333333, \"#9c179e\"], [0.4444444444444444, \"#bd3786\"], [0.5555555555555556, \"#d8576b\"], [0.6666666666666666, \"#ed7953\"], [0.7777777777777778, \"#fb9f3a\"], [0.8888888888888888, \"#fdca26\"], [1.0, \"#f0f921\"]], \"type\": \"histogram2d\"}], \"histogram2dcontour\": [{\"colorbar\": {\"outlinewidth\": 0, \"ticks\": \"\"}, \"colorscale\": [[0.0, \"#0d0887\"], [0.1111111111111111, \"#46039f\"], [0.2222222222222222, \"#7201a8\"], [0.3333333333333333, \"#9c179e\"], [0.4444444444444444, \"#bd3786\"], [0.5555555555555556, \"#d8576b\"], [0.6666666666666666, \"#ed7953\"], [0.7777777777777778, \"#fb9f3a\"], [0.8888888888888888, \"#fdca26\"], [1.0, \"#f0f921\"]], \"type\": \"histogram2dcontour\"}], \"mesh3d\": [{\"colorbar\": {\"outlinewidth\": 0, \"ticks\": \"\"}, \"type\": \"mesh3d\"}], \"parcoords\": [{\"line\": {\"colorbar\": {\"outlinewidth\": 0, \"ticks\": \"\"}}, \"type\": \"parcoords\"}], \"pie\": [{\"automargin\": true, \"type\": \"pie\"}], \"scatter\": [{\"marker\": {\"colorbar\": {\"outlinewidth\": 0, \"ticks\": \"\"}}, \"type\": \"scatter\"}], \"scatter3d\": [{\"line\": {\"colorbar\": {\"outlinewidth\": 0, \"ticks\": \"\"}}, \"marker\": {\"colorbar\": {\"outlinewidth\": 0, \"ticks\": \"\"}}, \"type\": \"scatter3d\"}], \"scattercarpet\": [{\"marker\": {\"colorbar\": {\"outlinewidth\": 0, \"ticks\": \"\"}}, \"type\": \"scattercarpet\"}], \"scattergeo\": [{\"marker\": {\"colorbar\": {\"outlinewidth\": 0, \"ticks\": \"\"}}, \"type\": \"scattergeo\"}], \"scattergl\": [{\"marker\": {\"colorbar\": {\"outlinewidth\": 0, \"ticks\": \"\"}}, \"type\": \"scattergl\"}], \"scattermapbox\": [{\"marker\": {\"colorbar\": {\"outlinewidth\": 0, \"ticks\": \"\"}}, \"type\": \"scattermapbox\"}], \"scatterpolar\": [{\"marker\": {\"colorbar\": {\"outlinewidth\": 0, \"ticks\": \"\"}}, \"type\": \"scatterpolar\"}], \"scatterpolargl\": [{\"marker\": {\"colorbar\": {\"outlinewidth\": 0, \"ticks\": \"\"}}, \"type\": \"scatterpolargl\"}], \"scatterternary\": [{\"marker\": {\"colorbar\": {\"outlinewidth\": 0, \"ticks\": \"\"}}, \"type\": \"scatterternary\"}], \"surface\": [{\"colorbar\": {\"outlinewidth\": 0, \"ticks\": \"\"}, \"colorscale\": [[0.0, \"#0d0887\"], [0.1111111111111111, \"#46039f\"], [0.2222222222222222, \"#7201a8\"], [0.3333333333333333, \"#9c179e\"], [0.4444444444444444, \"#bd3786\"], [0.5555555555555556, \"#d8576b\"], [0.6666666666666666, \"#ed7953\"], [0.7777777777777778, \"#fb9f3a\"], [0.8888888888888888, \"#fdca26\"], [1.0, \"#f0f921\"]], \"type\": \"surface\"}], \"table\": [{\"cells\": {\"fill\": {\"color\": \"#EBF0F8\"}, \"line\": {\"color\": \"white\"}}, \"header\": {\"fill\": {\"color\": \"#C8D4E3\"}, \"line\": {\"color\": \"white\"}}, \"type\": \"table\"}]}, \"layout\": {\"annotationdefaults\": {\"arrowcolor\": \"#2a3f5f\", \"arrowhead\": 0, \"arrowwidth\": 1}, \"coloraxis\": {\"colorbar\": {\"outlinewidth\": 0, \"ticks\": \"\"}}, \"colorscale\": {\"diverging\": [[0, \"#8e0152\"], [0.1, \"#c51b7d\"], [0.2, \"#de77ae\"], [0.3, \"#f1b6da\"], [0.4, \"#fde0ef\"], [0.5, \"#f7f7f7\"], [0.6, \"#e6f5d0\"], [0.7, \"#b8e186\"], [0.8, \"#7fbc41\"], [0.9, \"#4d9221\"], [1, \"#276419\"]], \"sequential\": [[0.0, \"#0d0887\"], [0.1111111111111111, \"#46039f\"], [0.2222222222222222, \"#7201a8\"], [0.3333333333333333, \"#9c179e\"], [0.4444444444444444, \"#bd3786\"], [0.5555555555555556, \"#d8576b\"], [0.6666666666666666, \"#ed7953\"], [0.7777777777777778, \"#fb9f3a\"], [0.8888888888888888, \"#fdca26\"], [1.0, \"#f0f921\"]], \"sequentialminus\": [[0.0, \"#0d0887\"], [0.1111111111111111, \"#46039f\"], [0.2222222222222222, \"#7201a8\"], [0.3333333333333333, \"#9c179e\"], [0.4444444444444444, \"#bd3786\"], [0.5555555555555556, \"#d8576b\"], [0.6666666666666666, \"#ed7953\"], [0.7777777777777778, \"#fb9f3a\"], [0.8888888888888888, \"#fdca26\"], [1.0, \"#f0f921\"]]}, \"colorway\": [\"#636efa\", \"#EF553B\", \"#00cc96\", \"#ab63fa\", \"#FFA15A\", \"#19d3f3\", \"#FF6692\", \"#B6E880\", \"#FF97FF\", \"#FECB52\"], \"font\": {\"color\": \"#2a3f5f\"}, \"geo\": {\"bgcolor\": \"white\", \"lakecolor\": \"white\", \"landcolor\": \"#E5ECF6\", \"showlakes\": true, \"showland\": true, \"subunitcolor\": \"white\"}, \"hoverlabel\": {\"align\": \"left\"}, \"hovermode\": \"closest\", \"mapbox\": {\"style\": \"light\"}, \"paper_bgcolor\": \"white\", \"plot_bgcolor\": \"#E5ECF6\", \"polar\": {\"angularaxis\": {\"gridcolor\": \"white\", \"linecolor\": \"white\", \"ticks\": \"\"}, \"bgcolor\": \"#E5ECF6\", \"radialaxis\": {\"gridcolor\": \"white\", \"linecolor\": \"white\", \"ticks\": \"\"}}, \"scene\": {\"xaxis\": {\"backgroundcolor\": \"#E5ECF6\", \"gridcolor\": \"white\", \"gridwidth\": 2, \"linecolor\": \"white\", \"showbackground\": true, \"ticks\": \"\", \"zerolinecolor\": \"white\"}, \"yaxis\": {\"backgroundcolor\": \"#E5ECF6\", \"gridcolor\": \"white\", \"gridwidth\": 2, \"linecolor\": \"white\", \"showbackground\": true, \"ticks\": \"\", \"zerolinecolor\": \"white\"}, \"zaxis\": {\"backgroundcolor\": \"#E5ECF6\", \"gridcolor\": \"white\", \"gridwidth\": 2, \"linecolor\": \"white\", \"showbackground\": true, \"ticks\": \"\", \"zerolinecolor\": \"white\"}}, \"shapedefaults\": {\"line\": {\"color\": \"#2a3f5f\"}}, \"ternary\": {\"aaxis\": {\"gridcolor\": \"white\", \"linecolor\": \"white\", \"ticks\": \"\"}, \"baxis\": {\"gridcolor\": \"white\", \"linecolor\": \"white\", \"ticks\": \"\"}, \"bgcolor\": \"#E5ECF6\", \"caxis\": {\"gridcolor\": \"white\", \"linecolor\": \"white\", \"ticks\": \"\"}}, \"title\": {\"x\": 0.05}, \"xaxis\": {\"automargin\": true, \"gridcolor\": \"white\", \"linecolor\": \"white\", \"ticks\": \"\", \"title\": {\"standoff\": 15}, \"zerolinecolor\": \"white\", \"zerolinewidth\": 2}, \"yaxis\": {\"automargin\": true, \"gridcolor\": \"white\", \"linecolor\": \"white\", \"ticks\": \"\", \"title\": {\"standoff\": 15}, \"zerolinecolor\": \"white\", \"zerolinewidth\": 2}}}, \"title\": {\"text\": \"College Tier vs. Salary\"}, \"xaxis\": {\"anchor\": \"y\", \"domain\": [0.0, 1.0], \"title\": {\"text\": \"CollegeTier\"}}, \"yaxis\": {\"anchor\": \"x\", \"domain\": [0.0, 1.0], \"title\": {\"text\": \"count\"}}},\n",
              "                        {\"responsive\": true}\n",
              "                    ).then(function(){\n",
              "                            \n",
              "var gd = document.getElementById('ab9c1b8f-c708-4a05-bfa1-8fafa3118803');\n",
              "var x = new MutationObserver(function (mutations, observer) {{\n",
              "        var display = window.getComputedStyle(gd).display;\n",
              "        if (!display || display === 'none') {{\n",
              "            console.log([gd, 'removed!']);\n",
              "            Plotly.purge(gd);\n",
              "            observer.disconnect();\n",
              "        }}\n",
              "}});\n",
              "\n",
              "// Listen for the removal of the full notebook cells\n",
              "var notebookContainer = gd.closest('#notebook-container');\n",
              "if (notebookContainer) {{\n",
              "    x.observe(notebookContainer, {childList: true});\n",
              "}}\n",
              "\n",
              "// Listen for the clearing of the current output cell\n",
              "var outputEl = gd.closest('.output');\n",
              "if (outputEl) {{\n",
              "    x.observe(outputEl, {childList: true});\n",
              "}}\n",
              "\n",
              "                        })\n",
              "                };\n",
              "                \n",
              "            </script>\n",
              "        </div>\n",
              "</body>\n",
              "</html>"
            ]
          },
          "metadata": {}
        }
      ]
    },
    {
      "cell_type": "markdown",
      "metadata": {
        "id": "T4LBB65rIPHR"
      },
      "source": [
        "**According to the above plot, we can conclude that the students from Tier-1 college are likely to get high salary while students from Tier-2 college have almost 50-50 chance of getting a high or low salary depending on other factors.**"
      ]
    },
    {
      "cell_type": "code",
      "metadata": {
        "colab": {
          "base_uri": "https://localhost:8080/",
          "height": 542
        },
        "id": "6Y_gtKXFIvK5",
        "outputId": "c1ecf499-d93d-41cf-87aa-72968b6da686"
      },
      "source": [
        "px.histogram(df , x='Gender',title='Gender vs. Salary', color='High-Salary')"
      ],
      "execution_count": 1895,
      "outputs": [
        {
          "output_type": "display_data",
          "data": {
            "text/html": [
              "<html>\n",
              "<head><meta charset=\"utf-8\" /></head>\n",
              "<body>\n",
              "    <div>\n",
              "            <script src=\"https://cdnjs.cloudflare.com/ajax/libs/mathjax/2.7.5/MathJax.js?config=TeX-AMS-MML_SVG\"></script><script type=\"text/javascript\">if (window.MathJax) {MathJax.Hub.Config({SVG: {font: \"STIX-Web\"}});}</script>\n",
              "                <script type=\"text/javascript\">window.PlotlyConfig = {MathJaxConfig: 'local'};</script>\n",
              "        <script src=\"https://cdn.plot.ly/plotly-latest.min.js\"></script>    \n",
              "            <div id=\"bc1fccea-36f5-41ca-bde2-4c538d38cebe\" class=\"plotly-graph-div\" style=\"height:525px; width:100%;\"></div>\n",
              "            <script type=\"text/javascript\">\n",
              "                \n",
              "                    window.PLOTLYENV=window.PLOTLYENV || {};\n",
              "                    \n",
              "                if (document.getElementById(\"bc1fccea-36f5-41ca-bde2-4c538d38cebe\")) {\n",
              "                    Plotly.newPlot(\n",
              "                        'bc1fccea-36f5-41ca-bde2-4c538d38cebe',\n",
              "                        [{\"alignmentgroup\": \"True\", \"bingroup\": \"x\", \"hoverlabel\": {\"namelength\": 0}, \"hovertemplate\": \"High-Salary=1<br>Gender=%{x}<br>count=%{y}\", \"legendgroup\": \"High-Salary=1\", \"marker\": {\"color\": \"#636efa\"}, \"name\": \"High-Salary=1\", \"offsetgroup\": \"High-Salary=1\", \"orientation\": \"v\", \"showlegend\": true, \"type\": \"histogram\", \"x\": [\"f\", \"m\", \"f\", \"m\", \"m\", \"m\", \"m\", \"m\", \"m\", \"m\", \"m\", \"f\", \"m\", \"f\", \"f\", \"m\", \"f\", \"m\", \"m\", \"m\", \"m\", \"f\", \"f\", \"m\", \"m\", \"f\", \"m\", \"m\", \"m\", \"f\", \"f\", \"m\", \"m\", \"m\", \"m\", \"f\", \"m\", \"m\", \"m\", \"f\", \"m\", \"f\", \"m\", \"m\", \"m\", \"m\", \"f\", \"m\", \"f\", \"m\", \"m\", \"m\", \"f\", \"m\", \"m\", \"f\", \"m\", \"m\", \"m\", \"m\", \"m\", \"m\", \"f\", \"f\", \"f\", \"m\", \"m\", \"f\", \"m\", \"m\", \"m\", \"m\", \"m\", \"m\", \"f\", \"m\", \"m\", \"m\", \"m\", \"m\", \"m\", \"m\", \"m\", \"m\", \"m\", \"m\", \"m\", \"m\", \"f\", \"m\", \"m\", \"m\", \"m\", \"f\", \"m\", \"m\", \"f\", \"m\", \"m\", \"m\", \"m\", \"m\", \"m\", \"m\", \"m\", \"m\", \"m\", \"m\", \"m\", \"m\", \"m\", \"m\", \"f\", \"m\", \"m\", \"m\", \"m\", \"f\", \"m\", \"f\", \"f\", \"m\", \"m\", \"f\", \"m\", \"m\", \"m\", \"f\", \"m\", \"m\", \"m\", \"m\", \"m\", \"m\", \"m\", \"m\", \"m\", \"m\", \"m\", \"m\", \"f\", \"m\", \"m\", \"f\", \"m\", \"f\", \"m\", \"m\", \"m\", \"f\", \"m\", \"m\", \"m\", \"m\", \"m\", \"m\", \"m\", \"m\", \"m\", \"m\", \"m\", \"f\", \"f\", \"m\", \"m\", \"m\", \"m\", \"m\", \"m\", \"m\", \"m\", \"f\", \"f\", \"m\", \"m\", \"m\", \"m\", \"m\", \"m\", \"m\", \"m\", \"f\", \"m\", \"f\", \"f\", \"m\", \"m\", \"m\", \"m\", \"m\", \"m\", \"m\", \"m\", \"f\", \"m\", \"m\", \"m\", \"m\", \"f\", \"m\", \"m\", \"m\", \"f\", \"m\", \"m\", \"f\", \"m\", \"m\", \"m\", \"m\", \"f\", \"m\", \"f\", \"f\", \"m\", \"f\", \"m\", \"m\", \"m\", \"m\", \"m\", \"m\", \"m\", \"f\", \"m\", \"m\", \"m\", \"f\", \"m\", \"m\", \"m\", \"m\", \"m\", \"f\", \"m\", \"m\", \"m\", \"m\", \"m\", \"m\", \"m\", \"m\", \"m\", \"m\", \"m\", \"m\", \"m\", \"m\", \"f\", \"m\", \"f\", \"m\", \"f\", \"m\", \"m\", \"m\", \"f\", \"f\", \"m\", \"f\", \"m\", \"f\", \"m\", \"m\", \"m\", \"m\", \"m\", \"m\", \"f\", \"m\", \"f\", \"m\", \"m\", \"m\", \"f\", \"m\", \"m\", \"m\", \"m\", \"f\", \"m\", \"m\", \"f\", \"m\", \"f\", \"m\", \"m\", \"m\", \"m\", \"m\", \"m\", \"m\", \"f\", \"m\", \"m\", \"m\", \"m\", \"m\", \"m\", \"f\", \"m\", \"m\", \"f\", \"f\", \"m\", \"m\", \"f\", \"m\", \"m\", \"m\", \"m\", \"m\", \"m\", \"m\", \"m\", \"m\", \"m\", \"m\", \"f\", \"m\", \"m\", \"m\", \"f\", \"m\", \"m\", \"m\", \"f\", \"m\", \"m\", \"m\", \"m\", \"m\", \"m\", \"m\", \"m\", \"m\", \"m\", \"m\", \"f\", \"f\", \"m\", \"m\", \"f\", \"m\", \"m\", \"m\", \"m\", \"m\", \"m\", \"m\", \"m\", \"f\", \"m\", \"m\", \"f\", \"m\", \"m\", \"f\", \"f\", \"m\", \"f\", \"m\", \"m\", \"m\", \"m\", \"m\", \"m\", \"f\", \"m\", \"m\", \"f\", \"f\", \"f\", \"m\", \"m\", \"m\", \"f\", \"m\", \"m\", \"f\", \"m\", \"f\", \"m\", \"m\", \"m\", \"m\", \"m\", \"m\", \"f\", \"m\", \"m\", \"m\", \"m\", \"f\", \"f\", \"f\", \"m\", \"m\", \"m\", \"m\", \"m\", \"m\", \"m\", \"m\", \"m\", \"m\", \"m\", \"f\", \"f\", \"f\", \"m\", \"m\", \"m\", \"m\", \"f\", \"f\", \"m\", \"f\", \"m\", \"m\", \"m\", \"m\", \"m\", \"m\", \"m\", \"f\", \"m\", \"m\", \"m\", \"f\", \"m\", \"f\", \"m\", \"m\", \"m\", \"m\", \"m\", \"m\", \"m\", \"f\", \"m\", \"m\", \"m\", \"m\", \"m\", \"f\", \"m\", \"m\", \"m\", \"f\", \"m\", \"m\", \"m\", \"m\", \"m\", \"f\", \"m\", \"m\", \"f\", \"m\", \"m\", \"m\", \"m\", \"f\", \"f\", \"f\", \"m\", \"m\", \"m\", \"f\", \"m\", \"f\", \"f\", \"m\", \"m\", \"m\", \"m\", \"f\", \"m\", \"m\", \"m\", \"m\", \"m\", \"m\", \"f\", \"m\", \"m\", \"m\", \"f\", \"f\", \"m\", \"f\", \"f\", \"m\", \"f\", \"m\", \"m\", \"f\", \"m\", \"m\", \"f\", \"m\", \"f\", \"m\", \"m\", \"m\", \"m\", \"f\", \"m\", \"m\", \"f\", \"m\", \"m\", \"f\", \"m\", \"m\", \"m\", \"m\", \"m\", \"m\", \"m\", \"f\", \"m\", \"m\", \"f\", \"m\", \"m\", \"f\", \"m\", \"m\", \"f\", \"m\", \"m\", \"f\", \"m\", \"m\", \"m\", \"m\", \"m\", \"m\", \"m\", \"m\", \"m\", \"m\", \"f\", \"m\", \"m\", \"m\", \"m\", \"f\", \"m\", \"f\", \"m\", \"m\", \"m\", \"m\", \"m\", \"f\", \"m\", \"m\", \"m\", \"f\", \"m\", \"m\", \"m\", \"f\", \"m\", \"m\", \"f\", \"f\", \"m\", \"f\", \"m\", \"m\", \"f\", \"m\", \"m\", \"m\", \"m\", \"f\", \"m\", \"f\", \"m\", \"m\", \"m\", \"m\", \"m\", \"f\", \"f\", \"m\", \"m\", \"m\", \"m\", \"m\", \"m\", \"m\", \"m\", \"m\", \"m\", \"m\", \"m\", \"m\", \"m\", \"m\", \"m\", \"m\", \"f\", \"f\", \"m\", \"m\", \"f\", \"m\", \"f\", \"m\", \"m\", \"m\", \"m\", \"f\", \"m\", \"m\", \"f\", \"m\", \"m\", \"m\", \"m\", \"m\", \"m\", \"f\", \"m\", \"f\", \"m\", \"f\", \"m\", \"m\", \"f\", \"m\", \"m\", \"m\", \"m\", \"f\", \"m\", \"m\", \"m\", \"m\", \"m\", \"m\", \"f\", \"f\", \"m\", \"m\", \"f\", \"m\", \"m\", \"m\", \"m\", \"m\", \"m\", \"m\", \"m\", \"m\", \"m\", \"m\", \"m\", \"m\", \"m\", \"m\", \"m\", \"m\", \"f\", \"f\", \"m\", \"f\", \"m\", \"m\", \"m\", \"m\", \"m\", \"m\", \"m\", \"m\", \"m\", \"f\", \"f\", \"m\", \"m\", \"f\", \"m\", \"m\", \"m\", \"f\", \"m\", \"f\", \"f\", \"f\", \"m\", \"m\", \"m\", \"m\", \"m\", \"m\", \"m\", \"m\", \"m\", \"m\", \"m\", \"m\", \"f\", \"f\", \"m\", \"m\", \"m\", \"m\", \"m\", \"m\", \"m\", \"m\", \"m\", \"m\", \"m\", \"m\", \"m\", \"f\", \"f\", \"m\", \"f\", \"m\", \"m\", \"m\", \"m\", \"f\", \"m\", \"m\", \"m\", \"m\", \"f\", \"m\", \"m\", \"m\", \"m\", \"m\", \"m\", \"f\", \"f\", \"m\", \"m\", \"m\", \"m\", \"f\", \"m\", \"f\", \"m\", \"f\", \"m\", \"m\", \"m\", \"m\", \"m\", \"m\", \"m\", \"m\", \"m\", \"m\", \"m\", \"f\", \"m\", \"f\", \"m\", \"m\", \"m\", \"m\", \"m\", \"m\", \"m\", \"m\", \"m\", \"m\", \"f\", \"m\", \"m\", \"m\", \"m\", \"m\", \"m\", \"m\", \"f\", \"m\", \"m\", \"m\", \"f\", \"m\", \"m\", \"m\", \"m\", \"m\", \"m\", \"f\", \"m\", \"m\", \"m\", \"f\", \"m\", \"m\", \"m\", \"m\", \"f\", \"f\", \"m\", \"m\", \"m\", \"m\", \"m\", \"m\", \"m\", \"m\", \"f\", \"f\", \"f\", \"f\", \"f\", \"m\", \"m\", \"m\", \"f\", \"m\", \"m\", \"m\", \"f\", \"m\", \"m\", \"m\", \"m\", \"m\", \"m\", \"m\", \"f\", \"m\", \"m\", \"f\", \"m\", \"m\", \"f\", \"m\", \"f\", \"m\", \"m\", \"f\", \"m\", \"m\", \"m\", \"f\", \"m\", \"m\", \"m\", \"m\", \"m\", \"f\", \"m\", \"m\", \"m\", \"m\", \"m\", \"m\", \"f\", \"m\", \"f\", \"m\", \"m\", \"f\", \"m\", \"f\", \"f\", \"f\", \"m\", \"m\", \"m\", \"m\", \"m\", \"m\", \"f\", \"m\", \"m\", \"m\", \"m\", \"f\", \"m\", \"f\", \"m\", \"m\", \"f\", \"m\", \"f\", \"m\", \"m\", \"m\", \"m\", \"m\", \"m\", \"m\", \"m\", \"m\", \"f\", \"m\", \"f\", \"m\", \"m\", \"m\", \"f\", \"m\", \"m\", \"m\", \"m\", \"m\", \"f\", \"m\", \"m\", \"m\", \"m\", \"m\", \"m\", \"f\", \"m\", \"m\", \"m\", \"m\", \"m\", \"m\", \"m\", \"f\", \"m\", \"m\", \"m\", \"m\", \"m\", \"m\", \"m\", \"f\", \"m\", \"m\", \"m\", \"f\", \"f\", \"f\", \"m\", \"f\", \"m\", \"f\", \"f\", \"m\", \"m\", \"f\", \"m\", \"m\", \"m\", \"m\", \"m\", \"f\", \"m\", \"m\", \"m\", \"m\", \"m\", \"m\", \"m\", \"m\", \"m\", \"f\", \"m\", \"m\", \"m\", \"f\", \"m\", \"m\", \"m\", \"m\", \"m\", \"f\", \"m\", \"m\", \"m\", \"m\", \"f\", \"f\", \"m\", \"m\", \"m\", \"m\", \"m\", \"m\", \"m\", \"m\", \"m\", \"f\", \"f\", \"m\", \"m\", \"m\", \"f\", \"m\", \"m\", \"f\", \"m\", \"m\", \"f\", \"m\", \"f\", \"m\", \"m\", \"m\", \"m\", \"m\", \"f\", \"m\", \"f\", \"m\", \"m\", \"m\", \"m\", \"m\", \"m\", \"m\", \"f\", \"m\", \"f\", \"f\", \"m\", \"m\", \"m\", \"m\", \"m\", \"m\", \"m\", \"f\", \"m\", \"m\", \"m\", \"f\", \"f\", \"m\", \"m\", \"m\", \"m\", \"m\", \"f\", \"m\", \"f\", \"m\", \"m\", \"m\", \"m\", \"f\", \"m\", \"m\", \"m\", \"m\", \"f\", \"m\", \"m\", \"f\", \"m\", \"m\", \"m\", \"m\", \"m\", \"f\", \"f\", \"m\", \"m\", \"m\", \"m\", \"m\", \"m\", \"m\", \"m\", \"m\", \"f\", \"m\", \"m\", \"f\", \"f\", \"f\", \"m\", \"m\", \"m\", \"m\", \"f\", \"m\", \"m\", \"m\", \"m\", \"m\", \"f\", \"m\", \"m\", \"m\", \"m\", \"f\", \"m\", \"m\", \"m\", \"m\", \"m\", \"m\", \"m\", \"m\", \"m\", \"m\", \"m\", \"m\", \"m\", \"f\", \"f\", \"f\", \"f\", \"m\", \"m\", \"m\", \"m\", \"m\", \"m\", \"m\", \"f\", \"m\", \"m\", \"m\", \"m\", \"m\", \"m\", \"m\", \"m\", \"m\", \"m\", \"m\", \"f\", \"m\", \"m\", \"m\", \"m\", \"m\", \"m\", \"f\", \"f\", \"f\", \"m\", \"m\", \"m\", \"m\", \"m\", \"m\", \"m\", \"m\", \"f\", \"m\", \"m\", \"m\", \"m\", \"m\", \"m\", \"m\", \"f\", \"m\", \"m\", \"f\", \"m\", \"m\", \"m\", \"m\", \"m\", \"m\", \"m\", \"m\", \"m\", \"m\", \"m\", \"m\", \"f\", \"f\", \"m\", \"m\", \"m\", \"m\", \"f\", \"f\", \"m\", \"m\", \"m\", \"m\", \"m\", \"m\", \"f\", \"f\", \"m\", \"m\", \"m\", \"m\", \"m\", \"f\", \"m\", \"m\", \"m\", \"m\", \"m\", \"m\", \"f\", \"m\", \"m\", \"m\", \"m\", \"m\", \"f\", \"m\", \"m\", \"m\", \"m\", \"f\", \"m\", \"m\", \"f\", \"m\", \"m\", \"m\", \"f\", \"f\", \"f\", \"m\", \"m\", \"m\", \"m\", \"m\", \"m\", \"m\", \"f\", \"m\", \"m\", \"m\", \"m\", \"m\", \"m\", \"m\", \"m\", \"m\", \"f\", \"m\", \"f\", \"m\", \"m\", \"m\", \"m\", \"m\", \"m\", \"m\", \"m\", \"m\", \"m\", \"m\", \"f\", \"m\", \"m\", \"m\", \"m\", \"m\", \"m\", \"f\", \"m\", \"m\", \"m\", \"m\", \"m\", \"m\", \"m\", \"m\", \"m\", \"f\", \"m\", \"m\", \"m\", \"m\", \"m\", \"m\", \"f\", \"m\", \"f\", \"m\", \"m\", \"m\", \"m\", \"f\", \"f\", \"m\", \"m\", \"m\", \"m\", \"f\", \"m\", \"m\", \"f\", \"m\", \"f\", \"m\", \"m\", \"m\", \"m\", \"m\", \"m\", \"m\", \"f\", \"m\", \"m\", \"m\", \"f\", \"m\", \"m\", \"m\", \"m\", \"m\", \"m\", \"m\", \"m\", \"m\", \"m\", \"m\", \"m\", \"m\", \"f\", \"m\", \"m\", \"m\", \"m\", \"m\", \"m\", \"f\", \"m\", \"m\", \"m\", \"m\", \"f\", \"m\", \"f\", \"m\", \"f\", \"m\", \"m\", \"m\", \"m\", \"m\", \"m\", \"f\", \"m\", \"m\", \"m\", \"m\", \"f\", \"m\", \"m\", \"m\", \"m\", \"m\", \"m\", \"m\", \"m\", \"f\", \"m\", \"m\", \"m\", \"f\", \"m\", \"m\", \"m\", \"m\", \"m\", \"m\", \"m\", \"m\", \"f\", \"m\", \"f\", \"m\", \"m\", \"m\", \"m\", \"f\", \"m\", \"f\", \"m\", \"f\", \"m\", \"m\", \"m\", \"f\", \"f\", \"m\", \"m\", \"f\", \"m\", \"m\", \"f\", \"m\", \"m\", \"m\", \"f\", \"m\", \"f\", \"m\", \"m\", \"m\", \"m\", \"m\", \"m\", \"m\", \"m\", \"m\", \"m\", \"m\", \"m\", \"m\", \"m\", \"m\", \"m\", \"m\", \"f\", \"f\", \"m\", \"m\", \"m\", \"m\", \"m\", \"f\", \"m\", \"m\", \"m\", \"f\", \"m\", \"m\", \"m\", \"f\", \"m\", \"m\", \"m\", \"m\", \"m\", \"m\", \"m\", \"m\", \"m\", \"m\", \"m\", \"m\", \"m\", \"m\", \"m\", \"f\", \"f\", \"m\", \"m\", \"m\", \"f\", \"m\", \"m\", \"m\", \"m\", \"f\", \"f\", \"m\", \"m\", \"m\", \"m\", \"f\", \"m\", \"m\", \"f\", \"f\", \"m\", \"m\", \"f\", \"m\", \"f\", \"m\", \"m\", \"f\", \"f\", \"m\", \"m\", \"m\", \"m\", \"m\", \"m\", \"f\", \"m\", \"m\", \"f\", \"m\", \"m\", \"m\", \"m\", \"f\", \"m\", \"m\", \"m\", \"f\", \"f\", \"m\", \"m\", \"f\", \"m\", \"m\", \"m\", \"m\", \"m\", \"m\", \"f\", \"f\", \"m\", \"m\", \"f\", \"m\", \"m\", \"m\", \"f\", \"f\", \"m\", \"m\", \"f\", \"m\", \"m\", \"f\", \"m\", \"m\", \"m\", \"f\", \"m\", \"m\", \"m\", \"f\", \"m\", \"m\", \"m\", \"m\", \"m\", \"m\", \"f\", \"m\", \"m\", \"m\", \"m\", \"m\", \"m\", \"f\", \"f\", \"m\", \"f\", \"m\", \"m\", \"f\", \"m\", \"m\", \"m\", \"f\", \"f\", \"m\", \"m\", \"m\", \"m\", \"m\", \"m\", \"m\", \"m\", \"m\", \"m\", \"m\", \"m\", \"m\", \"m\", \"m\", \"m\", \"f\", \"m\", \"f\", \"f\", \"m\", \"m\", \"m\", \"f\", \"f\", \"f\", \"f\", \"m\", \"f\", \"f\", \"f\", \"m\", \"m\", \"m\", \"f\", \"m\", \"f\", \"f\", \"m\", \"f\", \"m\", \"m\", \"m\", \"m\", \"m\", \"f\", \"m\", \"m\", \"m\", \"m\", \"m\", \"m\", \"m\", \"m\", \"m\", \"f\", \"m\", \"f\", \"f\", \"m\", \"m\", \"f\", \"m\", \"m\", \"m\", \"m\", \"f\", \"m\", \"f\", \"m\", \"m\", \"m\", \"m\", \"f\", \"m\", \"m\", \"m\", \"m\", \"m\", \"m\", \"m\", \"m\", \"m\", \"m\", \"f\", \"m\", \"m\", \"m\", \"m\", \"m\", \"m\", \"f\", \"m\", \"m\", \"m\", \"f\", \"m\", \"m\", \"m\", \"m\", \"m\", \"f\", \"m\", \"f\", \"m\", \"f\", \"m\", \"m\", \"m\", \"m\", \"m\", \"m\", \"m\", \"m\", \"m\", \"f\", \"m\", \"m\", \"m\", \"f\", \"m\", \"f\", \"f\", \"m\", \"f\", \"m\", \"m\", \"m\", \"m\", \"m\", \"m\", \"m\", \"m\", \"m\", \"f\", \"f\", \"m\", \"m\", \"m\", \"m\", \"m\", \"m\", \"f\", \"f\", \"m\", \"m\", \"m\", \"m\", \"f\", \"f\", \"m\", \"m\", \"m\", \"m\", \"m\", \"m\", \"m\", \"f\", \"f\", \"m\", \"m\", \"f\", \"m\", \"f\", \"m\", \"m\", \"m\", \"m\", \"m\", \"m\", \"f\", \"m\", \"m\", \"m\", \"m\", \"m\", \"m\", \"m\", \"m\", \"m\", \"f\", \"m\", \"m\", \"m\", \"f\", \"f\", \"m\", \"f\", \"m\", \"f\", \"m\", \"f\", \"m\", \"f\", \"f\", \"m\", \"m\", \"f\", \"f\", \"m\", \"m\", \"f\", \"m\", \"m\", \"f\", \"m\", \"m\", \"m\", \"m\", \"f\", \"m\", \"f\", \"f\", \"m\", \"m\", \"m\", \"m\", \"m\", \"m\", \"m\", \"f\", \"m\", \"f\", \"m\", \"f\", \"m\", \"m\", \"m\", \"m\", \"f\", \"m\", \"m\", \"m\", \"f\", \"m\", \"m\", \"m\", \"m\", \"m\", \"f\", \"m\", \"m\", \"m\", \"m\", \"f\", \"m\", \"m\", \"m\", \"f\", \"m\", \"m\", \"m\", \"m\", \"f\", \"m\", \"m\", \"m\", \"m\", \"f\", \"m\", \"m\", \"m\", \"f\", \"m\", \"f\", \"f\", \"m\", \"f\", \"m\", \"f\", \"f\", \"m\", \"m\", \"f\", \"m\", \"m\", \"m\", \"m\", \"m\", \"f\", \"f\", \"m\", \"f\", \"m\", \"m\", \"m\", \"m\", \"m\", \"m\", \"m\", \"f\", \"m\", \"m\", \"m\", \"m\", \"m\", \"m\", \"m\", \"f\", \"f\", \"m\", \"m\", \"m\", \"m\", \"m\", \"m\", \"m\", \"m\", \"m\", \"m\", \"m\", \"m\", \"m\", \"m\", \"m\", \"m\", \"f\", \"m\", \"f\", \"m\", \"f\", \"m\", \"m\", \"f\", \"m\", \"m\", \"m\", \"f\", \"m\", \"m\", \"f\", \"m\", \"m\", \"m\", \"m\", \"m\", \"m\", \"m\", \"f\", \"m\", \"m\", \"f\", \"m\", \"m\", \"m\", \"m\", \"m\", \"m\", \"m\", \"m\", \"f\", \"m\", \"f\", \"m\", \"m\", \"m\", \"m\", \"m\", \"m\", \"m\", \"m\", \"m\", \"m\", \"f\", \"f\", \"f\", \"m\", \"m\", \"m\", \"m\", \"m\", \"f\", \"m\", \"f\", \"f\", \"m\", \"m\", \"m\", \"m\", \"f\", \"f\", \"m\", \"m\", \"m\", \"m\", \"m\", \"f\", \"m\", \"f\", \"m\", \"f\", \"m\", \"m\", \"m\", \"m\", \"m\", \"f\", \"m\", \"m\", \"m\", \"m\", \"f\", \"f\", \"m\", \"f\", \"m\", \"m\", \"m\", \"m\", \"m\", \"m\", \"m\", \"m\", \"m\", \"m\", \"m\", \"m\", \"m\", \"f\", \"m\", \"m\", \"m\", \"m\", \"m\", \"m\", \"m\", \"m\", \"m\", \"m\", \"m\", \"m\", \"m\", \"m\", \"m\", \"m\", \"m\", \"m\", \"m\", \"m\", \"m\", \"m\", \"m\", \"m\", \"m\", \"m\", \"m\", \"m\", \"f\", \"m\", \"m\", \"m\", \"f\", \"f\", \"m\", \"m\", \"m\", \"m\", \"m\", \"f\", \"m\", \"m\", \"f\", \"m\", \"f\", \"f\", \"m\", \"m\", \"m\", \"m\", \"m\", \"m\", \"m\", \"m\", \"m\", \"m\", \"m\", \"m\", \"f\", \"m\", \"m\", \"m\", \"m\", \"f\", \"m\", \"m\", \"f\", \"f\", \"m\", \"f\", \"m\", \"f\", \"m\", \"m\", \"f\", \"f\", \"m\", \"m\", \"f\", \"m\", \"m\", \"m\", \"f\", \"f\", \"f\", \"m\", \"f\", \"f\", \"m\", \"f\", \"m\", \"m\", \"m\", \"m\", \"m\", \"f\", \"m\", \"m\", \"m\", \"m\", \"f\", \"f\", \"m\", \"m\", \"m\", \"m\", \"m\", \"f\", \"m\", \"m\", \"f\", \"m\", \"m\", \"m\", \"m\", \"m\", \"m\", \"m\", \"m\", \"m\", \"m\", \"m\", \"m\", \"m\", \"m\", \"m\", \"m\", \"m\", \"f\", \"m\", \"m\", \"f\", \"f\", \"f\", \"f\", \"m\", \"m\", \"m\", \"m\", \"m\", \"f\", \"m\", \"m\", \"f\", \"m\", \"m\", \"f\", \"m\", \"f\", \"m\", \"m\", \"f\", \"f\", \"m\", \"f\", \"m\", \"m\", \"m\", \"f\"], \"xaxis\": \"x\", \"yaxis\": \"y\"}, {\"alignmentgroup\": \"True\", \"bingroup\": \"x\", \"hoverlabel\": {\"namelength\": 0}, \"hovertemplate\": \"High-Salary=0<br>Gender=%{x}<br>count=%{y}\", \"legendgroup\": \"High-Salary=0\", \"marker\": {\"color\": \"#EF553B\"}, \"name\": \"High-Salary=0\", \"offsetgroup\": \"High-Salary=0\", \"orientation\": \"v\", \"showlegend\": true, \"type\": \"histogram\", \"x\": [\"m\", \"m\", \"m\", \"m\", \"m\", \"m\", \"f\", \"m\", \"m\", \"m\", \"m\", \"m\", \"f\", \"f\", \"m\", \"m\", \"m\", \"m\", \"m\", \"m\", \"f\", \"m\", \"m\", \"f\", \"m\", \"f\", \"m\", \"f\", \"m\", \"m\", \"f\", \"m\", \"f\", \"m\", \"m\", \"m\", \"m\", \"f\", \"m\", \"f\", \"m\", \"f\", \"m\", \"f\", \"m\", \"f\", \"m\", \"m\", \"m\", \"m\", \"m\", \"m\", \"m\", \"f\", \"m\", \"m\", \"m\", \"m\", \"m\", \"f\", \"m\", \"m\", \"m\", \"m\", \"m\", \"m\", \"f\", \"m\", \"f\", \"m\", \"f\", \"m\", \"f\", \"m\", \"f\", \"m\", \"m\", \"m\", \"m\", \"m\", \"f\", \"m\", \"f\", \"f\", \"m\", \"m\", \"m\", \"m\", \"m\", \"m\", \"m\", \"f\", \"m\", \"m\", \"m\", \"m\", \"m\", \"m\", \"f\", \"m\", \"m\", \"f\", \"m\", \"f\", \"m\", \"f\", \"m\", \"f\", \"m\", \"m\", \"f\", \"m\", \"f\", \"m\", \"m\", \"m\", \"f\", \"m\", \"m\", \"f\", \"m\", \"m\", \"m\", \"f\", \"m\", \"m\", \"m\", \"m\", \"m\", \"m\", \"m\", \"m\", \"m\", \"m\", \"m\", \"m\", \"f\", \"m\", \"m\", \"m\", \"m\", \"f\", \"m\", \"m\", \"f\", \"m\", \"m\", \"m\", \"m\", \"m\", \"m\", \"f\", \"m\", \"f\", \"m\", \"f\", \"m\", \"m\", \"f\", \"m\", \"f\", \"m\", \"m\", \"m\", \"f\", \"m\", \"m\", \"m\", \"m\", \"m\", \"m\", \"m\", \"m\", \"m\", \"f\", \"f\", \"f\", \"m\", \"m\", \"m\", \"m\", \"f\", \"m\", \"m\", \"f\", \"m\", \"m\", \"m\", \"f\", \"m\", \"m\", \"f\", \"m\", \"f\", \"f\", \"m\", \"f\", \"f\", \"m\", \"m\", \"m\", \"m\", \"m\", \"m\", \"f\", \"m\", \"m\", \"m\", \"m\", \"f\", \"m\", \"m\", \"m\", \"m\", \"f\", \"m\", \"m\", \"m\", \"m\", \"m\", \"m\", \"m\", \"m\", \"m\", \"m\", \"m\", \"f\", \"m\", \"m\", \"m\", \"m\", \"m\", \"m\", \"m\", \"m\", \"f\", \"m\", \"f\", \"m\", \"m\", \"f\", \"m\", \"m\", \"m\", \"m\", \"m\", \"m\", \"m\", \"m\", \"m\", \"m\", \"m\", \"f\", \"m\", \"m\", \"f\", \"f\", \"m\", \"f\", \"m\", \"m\", \"f\", \"m\", \"m\", \"m\", \"f\", \"m\", \"m\", \"m\", \"m\", \"m\", \"m\", \"m\", \"m\", \"m\", \"m\", \"f\", \"f\", \"m\", \"m\", \"m\", \"m\", \"f\", \"m\", \"m\", \"m\", \"m\", \"m\", \"m\", \"f\", \"m\", \"m\", \"m\", \"f\", \"m\", \"m\", \"m\", \"m\", \"m\", \"m\", \"m\", \"f\", \"m\", \"m\", \"m\", \"m\", \"m\", \"m\", \"m\", \"m\", \"f\", \"m\", \"m\", \"f\", \"m\", \"m\", \"m\", \"m\", \"m\", \"m\", \"m\", \"m\", \"m\", \"f\", \"m\", \"f\", \"m\", \"m\", \"m\", \"m\", \"f\", \"m\", \"f\", \"m\", \"m\", \"m\", \"m\", \"f\", \"m\", \"m\", \"f\", \"m\", \"m\", \"m\", \"f\", \"m\", \"m\", \"m\", \"m\", \"m\", \"m\", \"m\", \"f\", \"m\", \"m\", \"m\", \"f\", \"m\", \"m\", \"m\", \"m\", \"m\", \"m\", \"m\", \"m\", \"f\", \"m\", \"m\", \"m\", \"m\", \"m\", \"m\", \"m\", \"f\", \"m\", \"m\", \"m\", \"m\", \"m\", \"m\", \"m\", \"m\", \"m\", \"m\", \"m\", \"m\", \"f\", \"m\", \"m\", \"m\", \"m\", \"m\", \"f\", \"m\", \"m\", \"m\", \"f\", \"f\", \"m\", \"m\", \"m\", \"m\", \"m\", \"f\", \"m\", \"m\", \"m\", \"m\", \"m\", \"m\", \"m\", \"m\", \"m\", \"m\", \"m\", \"m\", \"f\", \"m\", \"m\", \"m\", \"m\", \"f\", \"m\", \"m\", \"f\", \"m\", \"m\", \"m\", \"m\", \"m\", \"m\", \"m\", \"m\", \"f\", \"m\", \"f\", \"m\", \"m\", \"f\", \"m\", \"f\", \"m\", \"m\", \"f\", \"f\", \"f\", \"f\", \"m\", \"m\", \"m\", \"m\", \"f\", \"m\", \"m\", \"f\", \"m\", \"m\", \"f\", \"m\", \"m\", \"m\", \"m\", \"m\", \"m\", \"m\", \"m\", \"f\", \"m\", \"m\", \"m\", \"m\", \"m\", \"m\", \"m\", \"m\", \"m\", \"m\", \"f\", \"m\", \"m\", \"m\", \"f\", \"m\", \"m\", \"m\", \"m\", \"m\", \"f\", \"f\", \"m\", \"m\", \"f\", \"f\", \"f\", \"f\", \"m\", \"m\", \"f\", \"m\", \"m\", \"m\", \"f\", \"m\", \"f\", \"m\", \"m\", \"f\", \"m\", \"m\", \"m\", \"m\", \"m\", \"f\", \"f\", \"m\", \"m\", \"m\", \"m\", \"m\", \"f\", \"m\", \"m\", \"f\", \"m\", \"f\", \"m\", \"f\", \"m\", \"m\", \"f\", \"m\", \"m\", \"m\", \"m\", \"m\", \"f\", \"f\", \"f\", \"f\", \"m\", \"m\", \"f\", \"m\", \"f\", \"f\", \"m\", \"m\", \"m\", \"m\", \"f\", \"m\", \"f\", \"m\", \"f\", \"m\", \"m\", \"f\", \"m\", \"m\", \"m\", \"f\", \"m\", \"m\", \"m\", \"m\", \"m\", \"m\", \"m\", \"m\", \"m\", \"m\", \"m\", \"f\", \"m\", \"m\", \"m\", \"m\", \"m\", \"f\", \"m\", \"f\", \"m\", \"m\", \"m\", \"m\", \"m\", \"m\", \"m\", \"f\", \"f\", \"m\", \"m\", \"m\", \"m\", \"m\", \"m\", \"m\", \"m\", \"f\", \"f\", \"m\", \"f\", \"f\", \"f\", \"f\", \"m\", \"f\", \"m\", \"m\", \"m\", \"m\", \"m\", \"m\", \"m\", \"f\", \"m\", \"m\", \"f\", \"m\", \"m\", \"f\", \"f\", \"m\", \"m\", \"m\", \"m\", \"f\", \"m\", \"m\", \"m\", \"f\", \"m\", \"m\", \"m\", \"m\", \"f\", \"f\", \"m\", \"m\", \"m\", \"m\", \"f\", \"m\", \"m\", \"f\", \"m\", \"f\", \"m\", \"m\", \"m\", \"m\", \"m\", \"f\", \"m\", \"m\", \"m\", \"f\", \"m\", \"f\", \"m\", \"m\", \"f\", \"m\", \"f\", \"m\", \"m\", \"m\", \"m\", \"m\", \"m\", \"m\", \"f\", \"f\", \"m\", \"f\", \"m\", \"m\", \"m\", \"m\", \"m\", \"m\", \"m\", \"m\", \"f\", \"f\", \"m\", \"f\", \"m\", \"m\", \"m\", \"f\", \"m\", \"f\", \"m\", \"f\", \"m\", \"m\", \"m\", \"m\", \"m\", \"f\", \"m\", \"f\", \"f\", \"m\", \"m\", \"m\", \"m\", \"m\", \"m\", \"m\", \"m\", \"f\", \"m\", \"m\", \"m\", \"m\", \"m\", \"f\", \"m\", \"m\", \"m\", \"f\", \"m\", \"m\", \"m\", \"f\", \"f\", \"m\", \"m\", \"m\", \"m\", \"f\", \"m\", \"m\", \"m\", \"m\", \"m\", \"m\", \"m\", \"m\", \"m\", \"f\", \"f\", \"f\", \"m\", \"m\", \"m\", \"m\", \"m\", \"f\", \"m\", \"f\", \"f\", \"m\", \"m\", \"m\", \"f\", \"m\", \"m\", \"f\", \"f\", \"m\", \"f\", \"f\", \"m\", \"m\", \"m\", \"m\", \"m\", \"m\", \"m\", \"m\", \"m\", \"f\", \"f\", \"m\", \"m\", \"f\", \"m\", \"m\", \"f\", \"m\", \"m\", \"m\", \"m\", \"m\", \"m\", \"m\", \"m\", \"m\", \"m\", \"m\", \"m\", \"m\", \"f\", \"m\", \"f\", \"m\", \"f\", \"m\", \"m\", \"m\", \"m\", \"m\", \"m\", \"m\", \"f\", \"m\", \"m\", \"m\", \"m\", \"m\", \"m\", \"m\", \"m\", \"m\", \"m\", \"m\", \"m\", \"m\", \"m\", \"m\", \"m\", \"m\", \"m\", \"f\", \"m\", \"f\", \"m\", \"m\", \"m\", \"m\", \"f\", \"m\", \"m\", \"m\", \"f\", \"m\", \"m\", \"m\", \"m\", \"m\", \"m\", \"f\", \"m\", \"m\", \"f\", \"f\", \"f\", \"f\", \"m\", \"m\", \"m\", \"f\", \"m\", \"m\", \"m\", \"m\", \"m\", \"m\", \"m\", \"m\", \"m\", \"m\", \"m\", \"m\", \"m\", \"m\", \"m\", \"m\", \"m\", \"m\", \"m\", \"f\", \"m\", \"m\", \"m\", \"f\", \"m\", \"m\", \"m\", \"m\", \"m\", \"f\", \"m\", \"m\", \"m\", \"m\", \"f\", \"f\", \"m\", \"m\", \"m\", \"f\", \"m\", \"m\", \"m\", \"m\", \"m\", \"m\", \"m\", \"m\", \"f\", \"f\", \"m\", \"m\", \"m\", \"m\", \"m\", \"m\", \"m\", \"m\", \"m\", \"m\", \"f\", \"m\", \"m\", \"f\", \"m\", \"m\", \"m\", \"m\", \"m\", \"m\", \"m\", \"m\", \"m\", \"m\", \"f\", \"m\", \"m\", \"m\", \"m\", \"f\", \"f\", \"m\", \"f\", \"m\", \"m\", \"m\", \"m\", \"m\", \"m\", \"m\", \"f\", \"m\", \"f\", \"m\", \"m\", \"m\", \"f\", \"m\", \"m\", \"m\", \"m\", \"m\", \"m\", \"m\", \"m\", \"m\", \"m\", \"f\", \"m\", \"m\", \"f\", \"m\", \"f\", \"m\", \"m\", \"m\", \"m\", \"m\", \"m\", \"f\", \"m\", \"f\", \"m\", \"m\", \"m\", \"m\", \"m\", \"m\", \"m\", \"m\", \"m\", \"m\", \"m\", \"m\", \"m\", \"m\", \"m\", \"m\", \"f\", \"m\", \"m\", \"m\", \"f\", \"m\", \"m\", \"m\", \"f\", \"m\", \"m\", \"m\", \"m\", \"f\", \"m\", \"f\", \"m\", \"m\", \"m\", \"m\", \"m\", \"m\", \"m\", \"m\", \"m\", \"m\", \"m\", \"f\", \"m\", \"m\", \"m\", \"m\", \"m\", \"m\", \"m\", \"f\", \"m\", \"m\", \"m\", \"m\", \"m\", \"f\", \"m\", \"f\", \"m\", \"m\", \"m\", \"m\", \"m\", \"m\", \"m\", \"m\", \"m\", \"m\", \"f\", \"m\", \"m\", \"m\", \"m\", \"f\", \"f\", \"m\", \"m\", \"m\", \"f\", \"m\", \"m\", \"m\", \"m\", \"f\", \"m\", \"m\", \"m\", \"m\", \"f\", \"m\", \"f\", \"m\", \"m\", \"f\", \"m\", \"m\", \"f\", \"m\", \"f\", \"m\", \"m\", \"m\", \"m\", \"m\", \"m\", \"f\", \"m\", \"m\", \"m\", \"m\", \"m\", \"f\", \"f\", \"m\", \"m\", \"m\", \"m\", \"m\", \"m\", \"m\", \"m\", \"m\", \"m\", \"f\", \"m\", \"m\", \"m\", \"m\", \"m\", \"m\", \"f\", \"f\", \"m\", \"f\", \"m\", \"m\", \"m\", \"m\", \"m\", \"m\", \"m\", \"f\", \"m\", \"m\", \"m\", \"m\", \"m\", \"m\", \"m\", \"m\", \"m\", \"m\", \"m\", \"m\", \"m\", \"m\", \"m\", \"f\", \"m\", \"f\", \"m\", \"m\", \"m\", \"m\", \"m\", \"f\", \"m\", \"m\", \"m\", \"m\", \"m\", \"m\", \"f\", \"m\", \"f\", \"m\", \"f\", \"m\", \"m\", \"f\", \"f\", \"m\", \"m\", \"m\", \"f\", \"m\", \"m\", \"m\", \"m\", \"m\", \"m\", \"f\", \"m\", \"f\", \"m\", \"m\", \"m\", \"m\", \"m\", \"m\", \"m\", \"m\", \"m\", \"m\", \"m\", \"f\", \"f\", \"m\", \"f\", \"m\", \"m\", \"m\", \"m\", \"m\", \"m\", \"m\", \"m\", \"m\", \"m\", \"f\", \"m\", \"m\", \"m\", \"f\", \"m\", \"f\", \"f\", \"m\", \"m\", \"m\", \"m\", \"f\", \"m\", \"m\", \"m\", \"m\", \"m\", \"f\", \"m\", \"f\", \"f\", \"m\", \"m\", \"m\", \"m\", \"m\", \"f\", \"m\", \"m\", \"m\", \"m\", \"m\", \"m\", \"m\", \"f\", \"m\", \"m\", \"f\", \"m\", \"m\", \"m\", \"f\", \"m\", \"f\", \"m\", \"m\", \"f\", \"m\", \"f\", \"f\", \"m\", \"f\", \"f\", \"m\", \"m\", \"m\", \"m\", \"m\", \"m\", \"m\", \"m\", \"m\", \"f\", \"m\", \"f\", \"m\", \"f\", \"m\", \"m\", \"m\", \"m\", \"m\", \"m\", \"m\", \"m\", \"f\", \"m\", \"f\", \"f\", \"f\", \"m\", \"m\", \"f\", \"m\", \"f\", \"m\", \"m\", \"m\", \"m\", \"f\", \"m\", \"f\", \"m\", \"m\", \"m\", \"m\", \"m\", \"m\", \"f\", \"m\", \"m\", \"m\", \"m\", \"m\", \"m\", \"m\", \"m\", \"m\", \"f\", \"m\", \"m\", \"m\", \"m\", \"m\", \"f\", \"m\", \"m\", \"f\", \"f\", \"m\", \"m\", \"m\", \"f\", \"m\", \"m\", \"m\", \"m\", \"f\", \"m\", \"m\", \"m\", \"f\", \"m\", \"m\", \"m\", \"f\", \"m\", \"m\", \"m\", \"m\", \"m\", \"f\", \"m\", \"m\", \"m\", \"f\", \"f\", \"f\", \"m\", \"m\", \"m\", \"m\", \"m\", \"f\", \"m\", \"f\", \"m\", \"f\", \"m\", \"f\", \"f\", \"m\", \"m\", \"f\", \"m\", \"m\", \"m\", \"m\", \"m\", \"m\", \"m\", \"m\", \"m\", \"m\", \"f\", \"m\", \"m\", \"m\", \"m\", \"m\", \"m\", \"m\", \"m\", \"m\", \"m\", \"m\", \"f\", \"m\", \"m\", \"f\", \"m\", \"f\", \"m\", \"m\", \"m\", \"m\", \"m\", \"m\", \"m\", \"m\", \"f\", \"m\", \"f\", \"f\", \"m\", \"m\", \"m\", \"f\", \"f\", \"m\", \"m\", \"f\", \"m\", \"m\", \"m\", \"m\", \"m\", \"m\", \"m\", \"m\", \"m\", \"m\", \"f\", \"f\", \"m\", \"m\", \"m\", \"f\", \"m\", \"f\", \"m\", \"m\", \"m\", \"m\", \"f\", \"f\", \"f\", \"m\", \"m\", \"m\", \"m\", \"f\", \"m\", \"f\", \"m\", \"f\", \"m\", \"m\", \"m\", \"m\", \"m\", \"m\", \"m\", \"f\", \"m\", \"m\", \"m\", \"m\", \"m\", \"f\", \"m\", \"f\", \"m\", \"m\", \"m\", \"f\", \"m\", \"m\", \"m\", \"m\", \"f\", \"m\", \"m\", \"m\", \"f\", \"m\", \"m\", \"m\", \"m\", \"f\", \"m\", \"m\", \"f\", \"m\", \"m\", \"f\", \"m\", \"m\", \"m\", \"m\", \"m\", \"f\", \"m\", \"m\", \"m\", \"f\", \"f\", \"f\", \"m\", \"m\", \"m\", \"f\", \"f\", \"m\", \"m\", \"m\", \"m\", \"m\", \"m\", \"m\", \"m\", \"f\", \"m\", \"m\", \"m\", \"f\", \"f\", \"m\", \"m\", \"m\", \"m\", \"m\", \"f\", \"m\", \"m\", \"f\", \"f\", \"m\", \"f\", \"f\", \"m\", \"m\", \"f\", \"m\", \"f\", \"m\", \"m\", \"m\", \"m\", \"m\", \"m\", \"m\", \"m\", \"m\", \"m\", \"m\", \"m\", \"m\", \"m\", \"m\", \"m\", \"f\", \"m\", \"f\", \"m\", \"m\", \"m\", \"f\", \"m\", \"m\", \"m\", \"m\", \"m\", \"m\", \"m\", \"f\", \"m\", \"m\", \"m\", \"m\", \"m\", \"m\", \"f\", \"m\", \"m\", \"m\", \"m\", \"f\", \"f\", \"m\", \"m\", \"m\", \"m\", \"f\", \"m\", \"m\", \"m\", \"f\", \"f\", \"f\", \"m\", \"m\", \"m\", \"f\", \"m\", \"m\", \"m\", \"m\", \"m\", \"f\", \"m\", \"f\", \"f\", \"m\", \"m\", \"m\", \"m\", \"m\", \"f\", \"m\", \"f\", \"f\", \"m\", \"m\", \"m\", \"f\", \"m\", \"m\", \"m\", \"m\", \"m\", \"m\", \"m\", \"m\", \"f\", \"m\", \"m\", \"m\", \"m\", \"f\", \"m\", \"m\", \"f\", \"f\", \"m\", \"m\", \"m\", \"m\", \"m\", \"f\", \"f\", \"m\", \"m\", \"m\", \"m\", \"m\", \"m\", \"m\", \"m\", \"m\", \"f\", \"m\", \"f\", \"m\", \"m\", \"m\", \"m\", \"f\", \"m\", \"f\", \"m\", \"m\", \"m\", \"m\", \"m\", \"f\", \"m\", \"m\", \"m\", \"f\", \"m\", \"f\", \"m\", \"m\", \"m\", \"m\", \"m\", \"m\", \"m\", \"f\", \"m\", \"m\", \"f\", \"m\", \"m\", \"m\", \"m\", \"m\", \"m\", \"m\", \"m\", \"m\", \"m\", \"m\", \"m\", \"m\", \"m\", \"f\", \"m\", \"f\", \"m\", \"f\", \"f\", \"f\", \"m\", \"m\", \"m\", \"f\", \"m\", \"f\", \"f\", \"m\", \"m\", \"m\", \"m\", \"m\", \"m\", \"f\", \"m\", \"m\", \"f\", \"m\", \"m\", \"m\", \"m\", \"m\", \"m\", \"m\", \"m\", \"m\", \"m\", \"m\", \"m\", \"m\", \"m\", \"m\", \"m\", \"m\", \"f\", \"m\", \"m\", \"m\", \"m\", \"m\", \"m\", \"m\", \"f\", \"m\", \"f\", \"m\", \"f\", \"m\", \"m\", \"m\", \"m\", \"f\", \"f\", \"f\", \"m\", \"f\", \"m\", \"f\", \"m\", \"m\", \"m\", \"m\", \"m\", \"m\", \"m\", \"m\", \"m\", \"m\", \"f\", \"m\", \"m\", \"m\", \"m\", \"m\", \"f\", \"m\", \"f\", \"f\", \"m\", \"m\", \"f\", \"m\", \"m\", \"m\", \"f\", \"m\", \"m\", \"m\", \"m\", \"m\", \"m\", \"f\", \"m\", \"m\", \"m\", \"f\", \"m\", \"f\", \"m\", \"m\", \"m\", \"m\", \"m\", \"m\", \"m\", \"m\", \"f\", \"m\", \"m\", \"m\", \"m\", \"f\", \"m\", \"f\", \"m\", \"m\", \"m\", \"m\", \"m\", \"m\", \"f\", \"f\", \"m\", \"m\", \"f\", \"m\", \"f\", \"m\", \"f\", \"m\", \"m\", \"m\", \"m\", \"m\", \"m\", \"m\", \"m\", \"m\", \"f\", \"m\", \"m\", \"m\", \"m\", \"m\", \"m\", \"m\", \"m\", \"m\", \"m\", \"m\", \"m\", \"m\", \"m\", \"m\", \"f\", \"f\", \"f\", \"m\", \"f\", \"f\"], \"xaxis\": \"x\", \"yaxis\": \"y\"}],\n",
              "                        {\"barmode\": \"relative\", \"legend\": {\"tracegroupgap\": 0}, \"template\": {\"data\": {\"bar\": [{\"error_x\": {\"color\": \"#2a3f5f\"}, \"error_y\": {\"color\": \"#2a3f5f\"}, \"marker\": {\"line\": {\"color\": \"#E5ECF6\", \"width\": 0.5}}, \"type\": \"bar\"}], \"barpolar\": [{\"marker\": {\"line\": {\"color\": \"#E5ECF6\", \"width\": 0.5}}, \"type\": \"barpolar\"}], \"carpet\": [{\"aaxis\": {\"endlinecolor\": \"#2a3f5f\", \"gridcolor\": \"white\", \"linecolor\": \"white\", \"minorgridcolor\": \"white\", \"startlinecolor\": \"#2a3f5f\"}, \"baxis\": {\"endlinecolor\": \"#2a3f5f\", \"gridcolor\": \"white\", \"linecolor\": \"white\", \"minorgridcolor\": \"white\", \"startlinecolor\": \"#2a3f5f\"}, \"type\": \"carpet\"}], \"choropleth\": [{\"colorbar\": {\"outlinewidth\": 0, \"ticks\": \"\"}, \"type\": \"choropleth\"}], \"contour\": [{\"colorbar\": {\"outlinewidth\": 0, \"ticks\": \"\"}, \"colorscale\": [[0.0, \"#0d0887\"], [0.1111111111111111, \"#46039f\"], [0.2222222222222222, \"#7201a8\"], [0.3333333333333333, \"#9c179e\"], [0.4444444444444444, \"#bd3786\"], [0.5555555555555556, \"#d8576b\"], [0.6666666666666666, \"#ed7953\"], [0.7777777777777778, \"#fb9f3a\"], [0.8888888888888888, \"#fdca26\"], [1.0, \"#f0f921\"]], \"type\": \"contour\"}], \"contourcarpet\": [{\"colorbar\": {\"outlinewidth\": 0, \"ticks\": \"\"}, \"type\": \"contourcarpet\"}], \"heatmap\": [{\"colorbar\": {\"outlinewidth\": 0, \"ticks\": \"\"}, \"colorscale\": [[0.0, \"#0d0887\"], [0.1111111111111111, \"#46039f\"], [0.2222222222222222, \"#7201a8\"], [0.3333333333333333, \"#9c179e\"], [0.4444444444444444, \"#bd3786\"], [0.5555555555555556, \"#d8576b\"], [0.6666666666666666, \"#ed7953\"], [0.7777777777777778, \"#fb9f3a\"], [0.8888888888888888, \"#fdca26\"], [1.0, \"#f0f921\"]], \"type\": \"heatmap\"}], \"heatmapgl\": [{\"colorbar\": {\"outlinewidth\": 0, \"ticks\": \"\"}, \"colorscale\": [[0.0, \"#0d0887\"], [0.1111111111111111, \"#46039f\"], [0.2222222222222222, \"#7201a8\"], [0.3333333333333333, \"#9c179e\"], [0.4444444444444444, \"#bd3786\"], [0.5555555555555556, \"#d8576b\"], [0.6666666666666666, \"#ed7953\"], [0.7777777777777778, \"#fb9f3a\"], [0.8888888888888888, \"#fdca26\"], [1.0, \"#f0f921\"]], \"type\": \"heatmapgl\"}], \"histogram\": [{\"marker\": {\"colorbar\": {\"outlinewidth\": 0, \"ticks\": \"\"}}, \"type\": \"histogram\"}], \"histogram2d\": [{\"colorbar\": {\"outlinewidth\": 0, \"ticks\": \"\"}, \"colorscale\": [[0.0, \"#0d0887\"], [0.1111111111111111, \"#46039f\"], [0.2222222222222222, \"#7201a8\"], [0.3333333333333333, \"#9c179e\"], [0.4444444444444444, \"#bd3786\"], [0.5555555555555556, \"#d8576b\"], [0.6666666666666666, \"#ed7953\"], [0.7777777777777778, \"#fb9f3a\"], [0.8888888888888888, \"#fdca26\"], [1.0, \"#f0f921\"]], \"type\": \"histogram2d\"}], \"histogram2dcontour\": [{\"colorbar\": {\"outlinewidth\": 0, \"ticks\": \"\"}, \"colorscale\": [[0.0, \"#0d0887\"], [0.1111111111111111, \"#46039f\"], [0.2222222222222222, \"#7201a8\"], [0.3333333333333333, \"#9c179e\"], [0.4444444444444444, \"#bd3786\"], [0.5555555555555556, \"#d8576b\"], [0.6666666666666666, \"#ed7953\"], [0.7777777777777778, \"#fb9f3a\"], [0.8888888888888888, \"#fdca26\"], [1.0, \"#f0f921\"]], \"type\": \"histogram2dcontour\"}], \"mesh3d\": [{\"colorbar\": {\"outlinewidth\": 0, \"ticks\": \"\"}, \"type\": \"mesh3d\"}], \"parcoords\": [{\"line\": {\"colorbar\": {\"outlinewidth\": 0, \"ticks\": \"\"}}, \"type\": \"parcoords\"}], \"pie\": [{\"automargin\": true, \"type\": \"pie\"}], \"scatter\": [{\"marker\": {\"colorbar\": {\"outlinewidth\": 0, \"ticks\": \"\"}}, \"type\": \"scatter\"}], \"scatter3d\": [{\"line\": {\"colorbar\": {\"outlinewidth\": 0, \"ticks\": \"\"}}, \"marker\": {\"colorbar\": {\"outlinewidth\": 0, \"ticks\": \"\"}}, \"type\": \"scatter3d\"}], \"scattercarpet\": [{\"marker\": {\"colorbar\": {\"outlinewidth\": 0, \"ticks\": \"\"}}, \"type\": \"scattercarpet\"}], \"scattergeo\": [{\"marker\": {\"colorbar\": {\"outlinewidth\": 0, \"ticks\": \"\"}}, \"type\": \"scattergeo\"}], \"scattergl\": [{\"marker\": {\"colorbar\": {\"outlinewidth\": 0, \"ticks\": \"\"}}, \"type\": \"scattergl\"}], \"scattermapbox\": [{\"marker\": {\"colorbar\": {\"outlinewidth\": 0, \"ticks\": \"\"}}, \"type\": \"scattermapbox\"}], \"scatterpolar\": [{\"marker\": {\"colorbar\": {\"outlinewidth\": 0, \"ticks\": \"\"}}, \"type\": \"scatterpolar\"}], \"scatterpolargl\": [{\"marker\": {\"colorbar\": {\"outlinewidth\": 0, \"ticks\": \"\"}}, \"type\": \"scatterpolargl\"}], \"scatterternary\": [{\"marker\": {\"colorbar\": {\"outlinewidth\": 0, \"ticks\": \"\"}}, \"type\": \"scatterternary\"}], \"surface\": [{\"colorbar\": {\"outlinewidth\": 0, \"ticks\": \"\"}, \"colorscale\": [[0.0, \"#0d0887\"], [0.1111111111111111, \"#46039f\"], [0.2222222222222222, \"#7201a8\"], [0.3333333333333333, \"#9c179e\"], [0.4444444444444444, \"#bd3786\"], [0.5555555555555556, \"#d8576b\"], [0.6666666666666666, \"#ed7953\"], [0.7777777777777778, \"#fb9f3a\"], [0.8888888888888888, \"#fdca26\"], [1.0, \"#f0f921\"]], \"type\": \"surface\"}], \"table\": [{\"cells\": {\"fill\": {\"color\": \"#EBF0F8\"}, \"line\": {\"color\": \"white\"}}, \"header\": {\"fill\": {\"color\": \"#C8D4E3\"}, \"line\": {\"color\": \"white\"}}, \"type\": \"table\"}]}, \"layout\": {\"annotationdefaults\": {\"arrowcolor\": \"#2a3f5f\", \"arrowhead\": 0, \"arrowwidth\": 1}, \"coloraxis\": {\"colorbar\": {\"outlinewidth\": 0, \"ticks\": \"\"}}, \"colorscale\": {\"diverging\": [[0, \"#8e0152\"], [0.1, \"#c51b7d\"], [0.2, \"#de77ae\"], [0.3, \"#f1b6da\"], [0.4, \"#fde0ef\"], [0.5, \"#f7f7f7\"], [0.6, \"#e6f5d0\"], [0.7, \"#b8e186\"], [0.8, \"#7fbc41\"], [0.9, \"#4d9221\"], [1, \"#276419\"]], \"sequential\": [[0.0, \"#0d0887\"], [0.1111111111111111, \"#46039f\"], [0.2222222222222222, \"#7201a8\"], [0.3333333333333333, \"#9c179e\"], [0.4444444444444444, \"#bd3786\"], [0.5555555555555556, \"#d8576b\"], [0.6666666666666666, \"#ed7953\"], [0.7777777777777778, \"#fb9f3a\"], [0.8888888888888888, \"#fdca26\"], [1.0, \"#f0f921\"]], \"sequentialminus\": [[0.0, \"#0d0887\"], [0.1111111111111111, \"#46039f\"], [0.2222222222222222, \"#7201a8\"], [0.3333333333333333, \"#9c179e\"], [0.4444444444444444, \"#bd3786\"], [0.5555555555555556, \"#d8576b\"], [0.6666666666666666, \"#ed7953\"], [0.7777777777777778, \"#fb9f3a\"], [0.8888888888888888, \"#fdca26\"], [1.0, \"#f0f921\"]]}, \"colorway\": [\"#636efa\", \"#EF553B\", \"#00cc96\", \"#ab63fa\", \"#FFA15A\", \"#19d3f3\", \"#FF6692\", \"#B6E880\", \"#FF97FF\", \"#FECB52\"], \"font\": {\"color\": \"#2a3f5f\"}, \"geo\": {\"bgcolor\": \"white\", \"lakecolor\": \"white\", \"landcolor\": \"#E5ECF6\", \"showlakes\": true, \"showland\": true, \"subunitcolor\": \"white\"}, \"hoverlabel\": {\"align\": \"left\"}, \"hovermode\": \"closest\", \"mapbox\": {\"style\": \"light\"}, \"paper_bgcolor\": \"white\", \"plot_bgcolor\": \"#E5ECF6\", \"polar\": {\"angularaxis\": {\"gridcolor\": \"white\", \"linecolor\": \"white\", \"ticks\": \"\"}, \"bgcolor\": \"#E5ECF6\", \"radialaxis\": {\"gridcolor\": \"white\", \"linecolor\": \"white\", \"ticks\": \"\"}}, \"scene\": {\"xaxis\": {\"backgroundcolor\": \"#E5ECF6\", \"gridcolor\": \"white\", \"gridwidth\": 2, \"linecolor\": \"white\", \"showbackground\": true, \"ticks\": \"\", \"zerolinecolor\": \"white\"}, \"yaxis\": {\"backgroundcolor\": \"#E5ECF6\", \"gridcolor\": \"white\", \"gridwidth\": 2, \"linecolor\": \"white\", \"showbackground\": true, \"ticks\": \"\", \"zerolinecolor\": \"white\"}, \"zaxis\": {\"backgroundcolor\": \"#E5ECF6\", \"gridcolor\": \"white\", \"gridwidth\": 2, \"linecolor\": \"white\", \"showbackground\": true, \"ticks\": \"\", \"zerolinecolor\": \"white\"}}, \"shapedefaults\": {\"line\": {\"color\": \"#2a3f5f\"}}, \"ternary\": {\"aaxis\": {\"gridcolor\": \"white\", \"linecolor\": \"white\", \"ticks\": \"\"}, \"baxis\": {\"gridcolor\": \"white\", \"linecolor\": \"white\", \"ticks\": \"\"}, \"bgcolor\": \"#E5ECF6\", \"caxis\": {\"gridcolor\": \"white\", \"linecolor\": \"white\", \"ticks\": \"\"}}, \"title\": {\"x\": 0.05}, \"xaxis\": {\"automargin\": true, \"gridcolor\": \"white\", \"linecolor\": \"white\", \"ticks\": \"\", \"title\": {\"standoff\": 15}, \"zerolinecolor\": \"white\", \"zerolinewidth\": 2}, \"yaxis\": {\"automargin\": true, \"gridcolor\": \"white\", \"linecolor\": \"white\", \"ticks\": \"\", \"title\": {\"standoff\": 15}, \"zerolinecolor\": \"white\", \"zerolinewidth\": 2}}}, \"title\": {\"text\": \"Gender vs. Salary\"}, \"xaxis\": {\"anchor\": \"y\", \"domain\": [0.0, 1.0], \"title\": {\"text\": \"Gender\"}}, \"yaxis\": {\"anchor\": \"x\", \"domain\": [0.0, 1.0], \"title\": {\"text\": \"count\"}}},\n",
              "                        {\"responsive\": true}\n",
              "                    ).then(function(){\n",
              "                            \n",
              "var gd = document.getElementById('bc1fccea-36f5-41ca-bde2-4c538d38cebe');\n",
              "var x = new MutationObserver(function (mutations, observer) {{\n",
              "        var display = window.getComputedStyle(gd).display;\n",
              "        if (!display || display === 'none') {{\n",
              "            console.log([gd, 'removed!']);\n",
              "            Plotly.purge(gd);\n",
              "            observer.disconnect();\n",
              "        }}\n",
              "}});\n",
              "\n",
              "// Listen for the removal of the full notebook cells\n",
              "var notebookContainer = gd.closest('#notebook-container');\n",
              "if (notebookContainer) {{\n",
              "    x.observe(notebookContainer, {childList: true});\n",
              "}}\n",
              "\n",
              "// Listen for the clearing of the current output cell\n",
              "var outputEl = gd.closest('.output');\n",
              "if (outputEl) {{\n",
              "    x.observe(outputEl, {childList: true});\n",
              "}}\n",
              "\n",
              "                        })\n",
              "                };\n",
              "                \n",
              "            </script>\n",
              "        </div>\n",
              "</body>\n",
              "</html>"
            ]
          },
          "metadata": {}
        }
      ]
    },
    {
      "cell_type": "markdown",
      "metadata": {
        "id": "cZVK-C9SI_tY"
      },
      "source": [
        "**In the above plot, we can analyse the type of salary (high/low) on the basis of the gender.**"
      ]
    },
    {
      "cell_type": "code",
      "metadata": {
        "colab": {
          "base_uri": "https://localhost:8080/",
          "height": 542
        },
        "id": "m3XaiaNHJLMe",
        "outputId": "6fbbdf18-68e2-4b01-cea5-59a3734578b8"
      },
      "source": [
        "px.histogram(df , x='extraversion',title='Extraversion vs. Salary', color='High-Salary')"
      ],
      "execution_count": 1896,
      "outputs": [
        {
          "output_type": "display_data",
          "data": {
            "text/html": [
              "<html>\n",
              "<head><meta charset=\"utf-8\" /></head>\n",
              "<body>\n",
              "    <div>\n",
              "            <script src=\"https://cdnjs.cloudflare.com/ajax/libs/mathjax/2.7.5/MathJax.js?config=TeX-AMS-MML_SVG\"></script><script type=\"text/javascript\">if (window.MathJax) {MathJax.Hub.Config({SVG: {font: \"STIX-Web\"}});}</script>\n",
              "                <script type=\"text/javascript\">window.PlotlyConfig = {MathJaxConfig: 'local'};</script>\n",
              "        <script src=\"https://cdn.plot.ly/plotly-latest.min.js\"></script>    \n",
              "            <div id=\"9bdf07be-be18-4718-b37e-cbd12d1840f1\" class=\"plotly-graph-div\" style=\"height:525px; width:100%;\"></div>\n",
              "            <script type=\"text/javascript\">\n",
              "                \n",
              "                    window.PLOTLYENV=window.PLOTLYENV || {};\n",
              "                    \n",
              "                if (document.getElementById(\"9bdf07be-be18-4718-b37e-cbd12d1840f1\")) {\n",
              "                    Plotly.newPlot(\n",
              "                        '9bdf07be-be18-4718-b37e-cbd12d1840f1',\n",
              "                        [{\"alignmentgroup\": \"True\", \"bingroup\": \"x\", \"hoverlabel\": {\"namelength\": 0}, \"hovertemplate\": \"High-Salary=1<br>extraversion=%{x}<br>count=%{y}\", \"legendgroup\": \"High-Salary=1\", \"marker\": {\"color\": \"#636efa\"}, \"name\": \"High-Salary=1\", \"offsetgroup\": \"High-Salary=1\", \"orientation\": \"v\", \"showlegend\": true, \"type\": \"histogram\", \"x\": [0.5269, 1.2396, 0.1637, -0.344, -2.2954, -1.0379, 0.01, -0.6048, 0.0914, 0.8171, 0.01, 0.672, 0.7785, -0.2714, 0.5269, 0.1357, -0.9245, -1.7954, 0.7785, -0.0537, 1.0859, -1.0659, 2.1129, 0.6248, -0.5349, -0.6343, 0.3817, 1.0859, -0.6048, -0.6343, 0.1637, 0.3174, 0.8171, -0.2974, 0.0914, -2.4491, -1.2196, -1.2196, -0.1988, 1.3933, 0.3174, -1.2148, 1.7007, -0.4891, 0.9322, -0.9122, -0.0537, -1.2148, 1.8543, 0.2366, 1.3933, 1.547, 0.8809, -1.2196, -0.2974, 0.01, 0.3174, -1.6807, 0.8171, -0.1437, 0.2366, -1.2196, 0.7083, -0.1988, 0.5994, 0.1637, 1.1074, 1.2396, 1.3933, 0.3817, -0.6343, 0.7785, -1.5776, 0.9623, -0.1437, 0.8171, -0.6048, 1.2396, -0.1988, 0.1637, 0.3174, -0.1437, 0.925999999999999, 0.1637, 0.01, -3.2176, -0.1437, -1.3733, -1.4688, 1.2525, -2.1418, 1.2525, 0.01, -0.2714, 1.688, 1.2396, -0.4511, -1.6502, 0.5269, 0.3174, -0.7585, 0.6248, 0.3817, 0.3174, -0.1988, -1.2196, -1.0697, -0.4511, 0.01, -0.1437, -2.2308, 1.5428, 0.7785, -0.9245, -0.1988, -0.6343, -1.527, -0.6343, 0.4711, -0.1988, -0.4891, -0.4891, -1.9405, -0.1988, 1.3933, -0.7585, 1.2396, -0.2974, -0.6048, -0.0537, -2.2308, 0.7785, 1.3933, 0.5269, 1.2525, 0.0914, -0.9245, -0.6343, 1.2525, 0.01, 0.01, -0.344, -0.1437, 0.9322, -0.344, 0.3817, 0.925999999999999, 1.0859, 0.1637, 0.4906, -0.1437, 0.3817, 1.0859, 0.4711, -0.9245, -0.9122, 0.2113, -1.527, -0.9122, 0.0914, 0.7785, 0.5269, -0.6048, 0.6248, -0.7585, -1.2148, -0.7585, -2.3759, 0.2075, -1.0697, -0.1437, -1.3599, -1.5776, -1.8344, -0.7585, -2.0856, 0.7785, 0.1637, -0.344, -0.0537, -0.3803, -1.0659, 1.547, -0.344, -1.3599, 0.7785, 0.2366, -1.527, 0.7785, 0.3817, 0.4711, -0.7794, 0.4711, -0.1988, -0.4891, 0.0914, 0.1637, -0.7794, -1.2511, -2.2954, -0.2714, 0.0914, -0.1626, -0.1988, 0.5269, 0.0914, 0.3817, -0.0319, -0.6343, -1.3733, 0.4711, 0.1637, 0.4711, -0.2974, 0.4711, -0.2974, 1.7007, 0.2366, -1.0697, 0.0914, 0.3174, 1.0859, -0.9245, 0.6248, -0.6343, -0.0537, 1.547, 0.01, 0.5994, 0.0914, 1.2396, -0.6343, 0.9322, -0.9122, -0.4891, 0.01, -0.7794, -0.8157, 0.9322, 0.3174, -0.0537, 0.0914, 1.2525, 1.7007, -0.1437, -0.4511, -1.0659, 0.2366, 0.4711, -0.9245, -1.0659, -0.4891, 0.3817, -0.1437, -0.0537, 0.1637, 0.3817, 1.0859, 1.3933, -0.6048, -1.2148, -0.0537, -0.4511, 0.1637, 0.3174, 1.7007, 1.1074, -0.598, 1.547, 0.0914, -0.4891, 1.3977, -0.344, 0.7785, -0.4891, -2.3759, 1.2396, 0.4711, -0.4511, 1.2396, 0.672, 0.9322, 0.0914, -0.1437, -0.6343, -0.2714, 0.6248, 0.9322, -1.0659, 1.547, 0.5269, 0.0914, 0.5269, -1.3599, -0.3803, 0.6248, -0.9245, -0.1626, -0.0537, 0.9322, 2.1234, 0.4711, 1.0859, -0.0537, 0.01, 0.1637, 1.2396, -0.4891, -0.344, -1.0659, -0.6343, -0.4891, 0.672, 0.9623, -0.2714, -0.7794, -0.6048, -0.7794, -1.5051, -1.2196, -0.7794, -2.3396, 0.3174, 0.4711, 0.7785, 0.7785, -0.8157, 0.8171, -0.0537, -0.9245, 0.01, 0.8171, -0.4511, 0.3174, 0.0914, 0.4711, 0.7785, -1.3599, 0.672, -0.0537, 0.3817, 0.0914, -0.9245, -0.4891, 1.0859, -1.0659, 0.9322, 0.6248, 0.01, -0.3803, 0.2366, 0.01, 0.6248, 0.1637, 0.0914, -0.1437, 1.547, 0.01, -0.6048, -1.3733, 0.3817, -0.9245, 0.7785, 0.3817, 0.6248, -0.344, -0.0537, -0.6343, -1.0697, -0.7794, 1.0859, -0.7585, -1.7954, 1.2396, 0.8171, -0.1437, -1.5051, 0.7785, 0.0914, -0.7794, 1.1804, -0.4511, -1.7954, 0.672, 1.1074, -0.4891, -0.0537, -0.6048, 1.547, 1.8331, 0.6248, 0.01, 1.547, -0.7585, -2.775, -0.6343, -0.344, -1.0697, 0.2366, -0.0537, -0.2974, -0.1437, 0.5269, -1.6502, 0.2366, 0.9322, 1.1074, 1.2396, 0.9322, 0.5269, -0.6343, -0.598, 0.9623, 0.4711, 1.0859, -1.0659, 0.672, 0.3174, -0.4511, -1.0697, 0.4711, 0.6248, 0.6248, -1.2196, 1.2396, -0.344, 0.6248, -0.7794, 1.2396, 0.8171, 0.8171, -0.9122, -0.2714, -0.1437, -0.1988, 1.8331, 0.7785, -0.9245, 1.547, 0.8171, 0.3174, -0.4891, 0.2366, 0.7785, 0.9322, 1.0859, 0.672, -1.527, 1.7007, 0.672, 1.3977, 0.8171, 0.672, 1.1074, 0.01, 1.2396, -0.2974, 0.1637, -0.344, 0.8171, 0.6248, -0.7585, 1.3933, -1.0697, -0.6343, -1.0697, 0.01, -0.4891, 0.3174, 0.4711, -1.2148, -0.2714, -0.344, -2.1219, -0.0537, -0.6343, 1.8543, 0.672, 0.8171, 0.0914, -0.9245, 0.7785, 0.3174, -0.0537, 0.2366, 0.01, -0.2974, -0.344, -1.6502, 0.3817, -1.2196, 0.7785, 0.6248, 0.163999999999999, -1.0659, 1.3933, 0.6248, -0.7068, 0.2113, 2.1234, -0.6343, 1.0859, 1.0859, 1.1074, 0.3817, 0.2366, -1.3733, 0.5269, 0.8171, -0.7068, 0.0914, 0.01, 1.7007, 1.2396, 0.9623, -0.2974, -0.0537, -0.1988, 0.3817, 0.9623, 0.4711, 0.1637, -0.9245, 2.008, 0.7785, -0.7794, -0.1437, -2.2954, 1.7007, 0.7785, -0.8157, 0.8171, -0.6048, -1.5051, 0.7785, -0.1626, -1.0697, -0.1437, 0.5269, 0.9322, 0.7785, 0.4711, 0.6248, 0.4711, 1.4267, 0.4711, -0.6048, 0.5269, 0.3174, -0.3803, -0.2974, -1.3599, 0.7785, -0.1988, -1.4688, 1.547, 1.3933, 0.672, -1.1422, 1.2396, 0.2366, 0.4711, 0.9322, 0.01, 0.8171, 0.5269, 0.3817, -0.1626, -0.7585, 1.2396, -0.4891, -0.9245, -0.1988, -0.7585, -0.344, 0.1637, 0.8171, -0.7068, -1.3599, 0.3174, 0.672, 0.4711, 0.3174, 0.925999999999999, 1.7007, -2.2308, 0.6248, -1.2196, -1.527, -0.1988, -0.6048, -1.527, -0.1988, 0.9322, -0.9245, 0.8171, -0.4511, 1.547, -0.1988, 1.3933, -0.1437, -1.3599, -0.9245, 0.672, 1.0859, 0.1637, 0.8171, -1.3599, 1.0859, -0.7068, 0.672, -0.1437, -0.7794, 0.3174, 1.3933, 1.2396, -0.9122, 0.5269, 1.8543, -0.6048, 0.6248, -0.9245, 1.2525, 0.4711, -0.6048, 0.3174, -0.9122, 1.0859, -0.2974, -1.6865, -0.4511, -1.3599, 0.5269, -0.1437, 0.9623, 0.6248, -0.6343, 0.01, 1.0859, 0.7785, 1.3977, -0.1437, 0.3174, -0.344, -0.6343, -0.2882, -1.6502, -1.2148, -0.2974, 0.1637, 0.01, 0.2366, 0.3174, 0.9623, 0.4711, 1.2396, 1.2396, 1.0859, -1.6807, -0.6048, -1.9881, 2.1234, -0.4511, 0.5269, 0.6248, 0.9322, 1.1074, 0.3817, 0.1637, -1.9405, -0.4511, -0.3803, -0.4891, -4.6009, -1.5051, -0.2974, -2.1418, -2.6028, -0.0537, 0.0914, -0.6048, -0.344, 0.4711, 0.3174, -1.0659, -1.2511, 0.0552, -1.6502, -0.7585, -0.4511, 1.1074, -2.9565, -0.344, 0.672, 1.547, 0.3174, 0.0914, 0.5269, -0.1988, -0.4511, 0.7785, -1.7954, 0.4711, -1.8344, 0.2366, -0.6343, 1.3933, 0.01, -0.4511, 0.6248, -0.4891, -0.6048, 0.6248, 0.8171, 0.9322, -0.7068, 0.6248, -0.6343, 0.6248, 0.3174, -0.4891, -0.4511, 1.3933, 0.1637, -1.6807, -0.1437, 0.0914, 0.2366, 0.3174, -0.1988, -1.0659, -0.344, 0.5269, -0.7794, 0.8171, -0.6048, -0.7585, 0.01, -0.344, -0.1437, 0.0914, -1.3599, -0.344, -0.6048, -1.527, -1.6807, -0.7585, 0.2366, -0.2974, -0.1626, -4.2935, 0.4711, -0.9245, -1.9405, 0.9322, -0.344, 1.2396, 1.547, 1.2525, -1.9405, 0.0914, -0.4511, -0.6048, -1.0697, 0.672, -0.344, 0.9322, 0.8171, -1.0659, 0.1637, -1.3599, 0.3174, 0.3174, -0.1988, -1.0697, 0.4711, -0.4891, 0.2366, 0.3817, 0.6248, 0.8171, 0.6248, 0.0914, 0.1357, -0.7794, -0.9245, 0.4711, -0.6343, -1.3599, 0.3174, 0.3817, -0.2714, 0.7785, -0.7794, 0.1637, -0.7585, 0.4711, -1.2148, -0.344, 0.9322, -2.0856, -0.6048, -1.9405, -0.2974, -0.6048, 1.3933, -0.4511, 0.6248, 0.0914, 0.2366, -1.2148, -0.4511, -0.2974, 1.547, 0.3174, 0.7785, 1.2396, 1.2396, 1.8543, 0.3174, 0.6248, -0.6343, 0.2366, 0.9322, 0.3174, -0.7585, -0.6343, 0.2366, -1.9405, 0.672, 1.3977, 1.3933, 0.9322, 1.8331, 0.7785, 0.7785, 0.1637, 0.0914, 0.6248, -1.9881, -1.9405, 0.3817, 0.4711, 1.0859, 0.6248, -0.4511, -0.9245, -1.527, -1.0697, 0.01, 0.163999999999999, 0.4711, -0.7794, 0.925999999999999, -0.1626, -1.0659, 0.0914, 0.7785, 1.1074, -0.8157, 0.3817, -0.2974, -1.7954, 1.0859, 0.1637, -0.2974, 0.3817, -0.0537, 0.9623, -0.0537, 1.0859, 0.9623, -0.1988, -1.9881, 0.5269, 0.0552, -0.1437, 0.9322, 0.2366, 1.0859, 1.547, -2.3759, -0.7585, -0.2974, 1.3933, -0.1988, 0.1637, -1.1422, 0.9322, -0.1996, -0.4511, -0.6048, -1.2196, -1.3599, -1.0659, 0.3174, -3.537, 0.3174, 0.4711, -0.7794, -0.1437, -0.2974, 0.9322, 0.1637, -0.0537, -0.0537, -0.344, -0.9245, 0.7083, 0.9322, -0.6343, -0.2974, 0.4711, 0.1637, 0.0914, -2.0131, -0.6048, 1.2396, 0.0914, 0.4711, -0.4891, -1.2148, 1.2396, -1.527, 1.0859, 0.1637, -1.3733, 1.2525, 0.5269, 0.8171, -1.0659, 0.2366, -0.4511, 0.0914, -0.6343, 1.2396, 0.7785, 0.4711, 0.672, -1.2511, 0.9623, -3.525, -1.0659, 0.8171, 1.2396, -0.1437, 0.2366, 0.01, 0.1637, -0.9245, -0.0537, 0.2366, 1.7007, -0.7794, 0.2366, 0.8171, 0.0914, 0.163999999999999, -0.6343, -0.1437, 0.4711, 0.4711, 0.6248, -0.4891, -1.527, -0.2974, 0.0914, 0.3817, 0.4711, 0.01, -0.4511, 0.3174, -0.344, -2.7565, -1.2196, -1.2196, 0.7785, -0.8157, -0.6048, -0.9245, 0.9322, -1.527, -2.2954, -0.9122, -1.2196, -0.9122, 0.6248, -0.0537, -2.0856, -2.7565, -0.9245, -1.1422, 1.547, 0.9623, 0.3817, 1.3933, 0.4906, -0.0537, -0.344, -0.4511, 0.01, 1.3977, 0.3817, 0.4711, 0.3817, -0.2974, 0.4711, -0.2974, 0.7785, 0.5269, 0.1637, -0.344, 0.1637, -2.0131, 0.6248, 0.4711, 0.7785, -0.7585, -1.5051, -0.7585, -0.4511, -1.0697, -0.1437, -0.6343, -1.527, 1.2396, -1.2148, 0.4711, 0.3174, -1.3733, -1.3733, 0.01, 0.9322, -0.1408, 0.9322, -0.7585, 0.3174, -1.527, 1.547, -0.0537, 0.6248, 1.0859, 1.1074, 1.2396, -0.1988, 0.3817, 0.4711, -1.0659, -0.4511, -2.2954, -0.2974, -1.6807, 0.3174, -1.0659, -0.6343, 0.9322, 0.01, 1.1074, -0.344, 1.1074, -1.2148, 0.7785, -0.4511, -0.0537, 0.4906, 1.547, -0.1988, 0.2366, 0.01, 0.2366, -1.0659, 0.3817, 1.2525, -0.344, -0.8157, 0.6248, 0.6248, 0.4711, 0.6248, 1.1074, 0.9623, -1.2196, 1.5428, 0.3817, -0.0537, -1.9405, -0.6048, -0.7585, -0.344, 1.2525, -0.1437, 1.7007, 0.3174, 0.4711, -0.0537, 0.672, -0.9122, 0.7785, -0.1437, 1.2525, 0.01, 1.3933, 0.4711, 1.8331, 0.9322, 0.01, 0.3174, -0.344, 0.7785, 1.0859, 1.7007, 0.2366, 0.672, -0.7585, 0.2366, -1.7954, -0.2974, 0.2366, 0.672, 1.547, 1.547, -0.1437, 0.6248, 0.1637, -1.3599, -2.2308, -0.0537, 0.01, -0.7585, 0.4711, -0.344, -1.0697, 1.0859, -0.6048, -0.1988, -0.7585, 0.4711, 0.0914, 0.8171, 0.3174, 0.4711, 0.6248, -1.0659, 1.3977, -1.6502, 0.3174, 0.0914, -1.9881, -0.6048, -0.0537, 1.688, -0.0537, -0.1437, -1.6807, -1.5051, 0.4711, 0.9623, -0.6343, 0.01, 2.008, -0.1988, 0.8171, -2.2308, 0.5269, 1.2396, -0.1988, -0.1437, 0.5994, -2.4491, 0.2366, 0.6248, -0.1437, -1.0697, 0.3817, 0.5269, 0.3174, -1.0659, -0.2974, 0.6248, 1.3933, 0.3174, -0.1988, 0.0914, 0.2366, 0.9623, 1.2525, 1.3933, 0.672, 0.4711, 0.5269, -0.0537, 0.4711, 1.1074, -0.4891, 0.8171, -2.7565, 1.7007, -0.4891, -0.344, 0.3174, -0.4891, -1.2148, -1.5051, -1.6807, 0.7785, -0.0537, 0.7785, -0.7794, 0.0914, 1.0859, 0.3174, 0.3174, -0.9122, 0.4711, 1.2396, -0.4891, 0.5994, 1.3977, -1.5051, -1.2196, 1.0859, 1.0859, -0.4511, 0.2366, -2.0856, 1.0859, 0.3817, -0.1988, -0.1988, 1.2396, -1.6807, -0.4511, 0.01, -1.2148, -1.9881, -0.0537, 1.0859, 1.1074, 1.2396, -0.0537, -0.7068, 0.1637, 0.5269, -0.1437, 0.0914, 0.7785, -0.7585, 0.9623, -0.2974, 1.0859, -1.0659, -0.4891, -0.6343, 1.688, 1.2396, 0.2366, 0.0914, 0.6248, 0.3174, 0.3174, -1.7954, -0.344, -0.4891, 0.5994, 1.8543, -0.7794, 0.3174, -0.8157, 1.2525, 0.4711, 0.2366, 1.2525, -0.4511, 0.0914, -1.5051, 0.7785, -0.7585, 0.4711, 0.7785, -3.2176, -0.6048, -0.4891, 0.672, -0.7794, -0.1437, -0.598, 0.1637, -1.0697, 0.1637, -1.6502, -0.9245, -0.1437, -0.7794, 0.2729, -0.1437, 1.6484, 0.5269, -0.2974, -1.5051, 1.2396, 0.2366, 0.9322, -0.7585, -0.7068, 0.01, -0.0537, -0.1437, 0.672, -0.344, 0.7785, 0.6248, 0.5269, -2.2308, 0.6248, -0.4891, -0.1437, 1.547, -0.4511, 0.9322, 1.3614, 0.8171, 1.2396, 0.1637, 0.2366, 0.1637, -0.9122, 0.6248, 0.4711, -0.4891, -0.2714, 0.6248, -0.1437, 0.3817, -1.3733, -2.2308, 0.0552, 0.3174, 2.5354, -0.6048, -0.4511, -1.3599, 0.1637, -1.0334, 0.3174, 0.8171, 0.6248, -0.4511, 0.8171, 0.01, 1.0859, 0.4711, -0.2974, 0.4711, 0.2729, -0.9245, 0.4711, -0.6343, 1.2396, -1.0334, 0.7785, -1.8344, 1.0859, 0.672, -0.6048, -0.4511, -1.0697, 0.1637, 0.3817, -0.7585, 0.9322, 0.3817, 1.1074, 0.4711, -0.0537, 0.2366, 0.1637, -0.0537, -0.4511, -1.7954, -1.0697, -0.9245, -1.3599, -0.6048, 1.3977, 0.4711, 0.2366, 2.1617, 1.547, 1.0859, 0.4711, 0.8171, 0.4711, 0.7785, 0.6248, 1.0859, 0.3817, -0.7794, 0.1637, 1.3933, 0.01, 0.6248, 1.2525, 0.2366, 0.0552, 0.1637, -0.1988, 0.8171, 0.9623, -0.7794, 1.3933, -1.0697, 1.2525, -1.3599, -1.527, 1.7007, 1.2525, -0.7068, -0.1988, 0.01, -0.9245, 0.3817, -1.3733, 0.0914, -0.2974, -0.9245, 0.1637, 0.4711, 0.6248, 0.8171, -0.4511, 0.3034, 0.8171, 1.9801, 0.3817, 0.7785, 1.547, 0.5269, -0.2974, 0.4906, -0.9245, -0.9245, -0.9122, 0.7785, -1.2196, -1.527, 0.0914, -0.7585, -1.2148, -0.4511, 0.0914, -0.7585, -0.4891, 1.5428, 1.3933, 0.9322, -0.6048, 0.9623, 0.1637, -0.2974, 0.1637, -0.8157, -1.8344, 0.8171, -0.1988, 1.547, -0.9122, 1.0859, -1.2196, -0.6343, -0.9245, 0.3174, 0.7785, -0.344, -0.1437, 0.6248, -1.5051, 0.2366, -1.6807, 0.3174, -0.7585, -0.4511, -1.2196, 0.3817, 0.4711, -0.6048, 0.0914, -0.0537, -0.2974, 0.3174, -0.9245, -0.4891, 0.2366, -1.0697, -1.5051, 0.01, -0.1437, -1.5051, -0.4891, 1.8543, -0.9122, 0.7785, 0.9623, 0.672, 0.4711, -0.2974, -1.0659, -0.1988, -0.2974, -0.4891, 1.0859, 1.3977, 1.2396, 1.2396, 0.3292, -0.7794, -0.1988, 0.9322, -1.0697, 0.01, -1.0334, 0.2366, 0.0914, 0.5269, 0.672, -0.4891, -0.8703, 0.2366, -1.3599, -0.4511, 0.3174, 0.7785, -0.1437, -0.598, -1.2196, -0.1988, -2.1418, 0.01, -0.1988, -0.3803, -0.4891, -0.1988, -0.9122, -0.4511, -1.9881, -0.9122, -0.9245, 0.4711, 0.3174, -0.1437, 0.3174, -0.4891, -0.1988, -1.5051, 0.672, 1.1074, 0.672, -1.9042, -1.2148, 0.2366, -1.2196, 0.1637, 0.3174, -0.4511, 1.8331, -0.1988, -0.0537, 0.4711, 0.2366, -0.2974, 0.3174, 1.0859, 0.0552, -0.344, 0.7785, 0.0914, -0.1437, -0.1437, -0.4511, 1.8543, 0.6248, -0.2974, -1.3599, 1.0859, 0.1637, 0.1637, 1.3933, -1.5051, 0.1637, 1.0859, -1.9881, -0.344, 1.0859, 0.0914, 0.6248, 0.8171, 1.3977, 0.3174, 0.1637, 0.1637, -0.2974, -0.2974, 0.7785, 0.7785, -0.4899, 0.6248, 0.3174, -0.4891, 0.1637, -0.1988, 0.9322, -1.4688, -0.598, -0.7794, -0.9122, -0.6343, 1.9782, 0.6248, 0.0914, -1.7086, -0.7585, 0.2366, 0.3174, -1.3599, -0.4891, -1.0659, -0.4511, 0.01, 0.2366, 0.3817, -0.6343, -0.1437, 0.9322, 0.8171, -0.4891, 0.7785, 0.5994, 0.4711, -1.0334, -0.4511, -0.344, -0.0537, 1.0859, 0.2366, -1.5051, -1.6502, 0.4711, 0.9623, 1.2396, -2.0856, -0.2974, 1.3933, -0.4891, -1.3599, 0.1637, 1.3977, -0.6343, 1.0859, -0.344, -0.6048, -0.1988, 1.3977, 1.1437, 2.1617, 0.4711, 0.7785, -1.2196, 0.8171, 0.9322, -0.0537, 0.3817, -1.527, -0.2974, -1.2148, 0.8171, 0.3817, 1.0859, 1.2396, -0.7585, -0.0537, 0.7785, -0.344, 1.1437, -2.6662, 0.9322, -2.1418, 0.672, 1.7007, -1.2511, -0.2714, 1.1074, 0.2366, 1.2396, 0.6248, 0.0914, -0.2974, -0.0537, -0.9122, -2.6662, -1.6807, 0.0914, 0.0914, 0.5269, -0.6048, 0.7785, 1.3933, -0.0537, 0.7785, -0.7794, -0.6343, -1.0659, -0.1437, -1.2148, 0.672, 0.3817, -0.344, 0.4711, -0.6048, -2.2954, 1.688, 0.0914, 1.3933, -1.527, 0.0914, -0.7794, -0.1437, 1.547, 1.688, -0.6343, -2.4491, -0.6343, 1.3933, -0.0537, -0.7585, 1.0859, 1.0859, -1.2148, 1.2396, 0.3817, 0.3174, -0.6343, 0.7785, -0.1988, -1.2148, 0.9322, -2.8113, 0.6248, -0.7585, -0.344, -0.344, -0.7585, 0.8171, -0.0537, -0.0537, -0.7794, 0.3174, 0.0552, 0.3174, 1.2396, 0.5994, 0.672, -0.2974, -0.1988, -1.2196, -0.2974, -0.1437, -0.344, 1.2525, -0.344, 1.9782, -0.7794, -0.9122, 0.7785, -1.527, -0.2974, 0.3817, 0.4711, 0.3174, 0.8171, 0.3174, 0.0914, 0.1637, -1.3599, -1.5051, 1.2396, -0.4891, 0.6248, 0.9322, 0.9322, -0.1437, -1.6807, -0.0537, 1.2396, 1.2396, -1.0659, 0.4711, -0.6048, 0.7785, 0.7785, -1.0697, 1.1437, 0.8171, 1.547, 0.6248, 0.3174, -0.2974, 0.7785, 1.0859, -3.0639, -0.344, 0.7785, 2.1617, 0.1637, -0.1437, -1.8344, -1.0659, -0.1988, 0.3174, -0.4891, -0.1988, 1.0859, -1.8344, 0.01, -0.7585, -1.6502, 0.9623, -0.7794, 0.1637, 0.9322, 0.3174, -0.8157, -0.3803, 0.9322, -0.344, 0.672, 0.672, -0.9122, 0.2366, -0.0537, -1.9881, 0.6248, -0.4891, 1.1074, 0.2729, 0.6248, -2.1418, -1.2511, -0.9122, 0.5269, 0.065, -0.0537, 0.3817, -0.2974, 1.2525, -0.344, -0.1988, -0.344, 0.9322, 0.2366, -0.344, 1.2396, 0.4711, -0.4511, -1.0697, -1.2148, 0.672, 1.2396, 0.672, -0.2974, -0.7794, -0.7794, 1.7007, 0.3817, -0.0537, 0.9322, -1.0659, 0.7083, 0.1637, -0.1437, -0.1626, 1.688, -0.1437, -2.0856, -0.1988, -0.9122, 0.3817, 1.1074, 1.3977, -0.7585, -1.3733, -0.0537, 0.3817, 0.1637, -0.4891, -0.6343, 0.4711, -0.1988, 0.2366, -0.1437, 0.2366, 0.1637, 1.7007, 1.1074, 1.3933, 0.3174, -0.0537, 0.01, 1.2396, -0.1988, -0.6343, 0.9322, 0.1637, -0.2974, -0.9245, 0.4711, 1.547, -0.6343, -0.9245, 0.2366, -0.0537, 0.7785, -1.2148, -0.344, 0.9322, 0.4711, 0.9322, -0.2714, -0.7794, 0.2366, -0.344, 0.5269, 0.1637, 0.4906, 1.547, 0.01, 0.9322, -1.0659, 0.1357, -0.9245, 0.1637, 0.1637, 0.3174, 0.2366, 1.8543, 0.5269, 0.3817, -0.6048, -1.0659, -0.2714, 0.3817, 0.4711, 1.1074, 1.1074, 0.9322, 0.8171, 1.5428, 0.5269, -1.3733, 1.547, -1.6807, -1.6865, -1.6502, 0.5269, -1.8344, -1.3733, -0.4891, 1.1437, -0.2714, 0.1637, 0.3817, -0.1437, -0.9122, -1.7954, -1.8344, -1.7954, -0.4891, -0.7585, 0.7785, 0.4711, -0.1988, -0.6343, -1.2196, -1.6865, -0.4511, -0.7794, -1.527, 0.3174, 0.3817, -0.344, -0.4891, -0.7068, -1.0697, 0.9623, -0.2974, -0.1988, -0.1437, -0.2714, 0.1637, -0.1437, 0.7785, 0.672, -2.1418, -0.0537, 1.7007, 0.5269, 0.5269, 0.3174, -0.1626, -0.344, 0.0914, -1.5051, 1.0859, 0.2366, 0.6248, -0.6048, -2.2954, -0.0537, 1.3933, -0.7585, 1.0859, -2.6028, 0.7785, -0.0537, -0.2974, -0.6048, 0.7785, -0.1437, 0.3817, 0.5269, 1.0859, -0.0537, 0.3817, -1.0659, 0.7785, -1.3599, 0.672, -0.0537, -0.4511, -0.2974, -0.9245, -0.4511, -0.1437, -0.1437, -0.4891, -0.0537, -0.4891, -1.3733, 0.01, 2.1617, -0.1437, 0.925999999999999, -2.4491, -0.2974, 1.547, 0.3174, 1.3977, 0.1637, 0.9322, -0.4511, -0.1626, -0.7068, -1.6502, -1.3733, 0.4711, -1.3599, -0.2974, -0.9245, -0.9122, 1.5428, 0.01, -0.3803, -0.2714, 0.3174, 0.3174, 0.7785, 1.3933, 0.3174, -0.1437, 0.4711, 1.8331, -1.527, 0.01, 0.1637, -0.344, 0.5269, -0.1437, 0.672, -0.0537, -0.1988, -1.6807, -0.1988, 0.672, 0.1637, 0.8171, -0.6343, -0.7794, -1.7954, -0.6048, -0.2974, -0.1437, 1.7007, -0.6343, 0.2366, -1.2148, -0.0537, -0.4511, -0.3803, 0.0914, -1.0659, 0.5269, 0.9623, -1.2056, 0.4711, 0.9322, -2.3759, 0.4711, -1.0697, -0.344, 0.01, 0.3174, -0.6343, -1.2196, 0.1637, 0.01, -0.344, 0.4711, -0.4891, 0.4711, 0.3817, 0.0914, 1.2396, 0.3817, -1.6502, 0.9623, -1.5051, -0.6343], \"xaxis\": \"x\", \"yaxis\": \"y\"}, {\"alignmentgroup\": \"True\", \"bingroup\": \"x\", \"hoverlabel\": {\"namelength\": 0}, \"hovertemplate\": \"High-Salary=0<br>extraversion=%{x}<br>count=%{y}\", \"legendgroup\": \"High-Salary=0\", \"marker\": {\"color\": \"#EF553B\"}, \"name\": \"High-Salary=0\", \"offsetgroup\": \"High-Salary=0\", \"orientation\": \"v\", \"showlegend\": true, \"type\": \"histogram\", \"x\": [-1.0697, -0.9122, -0.7585, -0.598, -1.0659, 1.3933, -1.3599, -0.6048, -1.9881, 1.3933, 0.0552, -0.7585, 0.3174, 0.4711, 0.3174, 0.2366, 0.0914, -1.0659, -0.4511, 0.4711, 0.1637, -0.7794, 1.8331, -2.2308, -1.0659, -0.6582, -0.2974, -0.598, -0.2974, -0.9245, 0.01, -2.6028, 0.3817, 0.01, 2.1617, 0.1637, 1.2396, 0.1637, 0.4711, 0.01, -0.2974, -0.4891, 0.9322, 1.0859, 0.3174, 1.2396, 1.1437, -0.1437, 0.6248, 1.2396, -0.1988, -0.4511, 0.2366, 0.2366, 0.6248, -0.1988, -0.1988, -0.4891, 0.7785, 0.6248, -1.8344, -1.5051, 0.4711, -0.2974, -0.2974, 0.01, 1.547, 0.6248, -0.2974, 0.6248, 1.0859, -0.1988, -0.1626, -0.7585, 0.2366, 0.6248, 0.3174, 1.2525, 1.0859, 0.5994, 1.3933, 0.4711, -0.2974, 1.1558, -2.1418, -0.1437, -0.598, 0.672, 0.2366, -0.4511, 0.4906, 0.3817, 0.01, 0.6248, 0.7785, -0.6048, -1.2148, -1.527, 0.3174, 0.672, -0.9245, 0.3174, 1.9782, 1.2396, -0.4891, 0.3174, 0.0914, 0.2366, 0.1637, -0.2714, -1.0697, 0.3174, -0.2714, -0.7794, -0.1437, 0.3174, -0.4511, 0.3174, -2.2308, 0.9322, 0.7785, 0.2366, 1.2396, 0.3817, 1.2396, 1.2396, 0.4711, -0.7585, 0.1637, -0.4891, -1.6807, 1.2396, 1.2396, -0.4511, -1.2148, 0.4711, 0.0914, 0.01, 0.1637, 0.7785, -0.1988, -1.6807, -0.1988, 0.5269, 0.9322, 0.2729, 1.3933, -1.3599, 0.3174, 1.3933, -4.6009, -0.1437, -0.344, 0.4711, -0.2974, 0.9322, -1.0697, 0.3174, 0.6248, 1.0859, 0.7785, 0.9322, -0.1437, 0.9322, 1.2525, 0.6248, 0.4711, 0.4711, 1.0859, -0.7585, -0.6048, -0.2974, -0.6048, -0.1437, -1.3599, 0.7785, -0.1437, 0.01, -0.6048, -0.4511, 0.3174, 0.7785, -1.0697, 2.3154, -1.0659, 0.01, -3.525, 0.7785, 0.5269, 1.7007, 0.01, 0.01, 0.4711, -0.2974, -1.6807, -1.7954, -0.8157, 1.2525, 1.2396, 0.01, 0.7785, -0.2974, 1.0859, -0.6355, -1.5776, 0.672, 1.0859, 1.0859, -0.1437, 0.5269, -0.2974, 0.3174, 0.4711, 1.0859, 1.7007, 1.3933, 0.01, 0.01, -0.0537, 1.547, 0.6248, 0.4711, 0.672, 0.01, -0.6048, -0.3803, 0.3174, 0.6984, -1.0697, 1.7007, -0.9122, 0.1637, -0.1437, 0.0914, 0.9623, -1.2148, -0.1437, 1.0859, 0.3817, -0.1437, -3.0639, -0.6343, 0.2366, 0.0914, 0.4711, 0.3817, 0.9623, 0.1637, -0.0537, -0.1626, -0.6048, 0.1637, 0.1637, -0.9122, -1.5051, 2.1617, 0.7785, 0.3817, 0.3817, 0.3174, 0.3174, 0.1637, 1.547, -1.0697, 0.9322, 1.547, -0.4511, -1.6502, 0.4711, 0.01, 1.0859, 1.0859, 2.008, -0.6048, -0.4511, -1.2196, 0.01, -1.2196, 0.2366, 1.547, -1.0659, -0.7585, -1.2196, 0.1637, 1.2525, 1.0859, 1.0859, 0.7785, -0.4511, 0.6248, 2.1617, 0.8171, 0.01, 0.4711, 0.672, 0.7785, 1.3933, -0.2974, 0.3817, 0.8171, 1.7007, 1.0859, 1.2396, 1.8543, 0.01, 1.688, 0.5269, -0.344, 1.0859, -3.2176, -0.1988, -0.7585, 0.6248, -0.9122, 1.7007, -1.9042, -0.598, 0.3174, 0.7785, 0.3174, 0.3174, 0.6248, 0.1637, -1.527, -0.7794, -0.1437, 0.01, -0.3803, 0.5269, -0.4511, -0.344, -0.1988, -1.527, 0.9322, -1.0659, 0.8171, -0.0537, 0.7785, -0.6048, 1.8331, 0.73, 2.008, 0.3174, 1.547, 0.3174, 0.4711, -1.2196, -0.6048, -1.2196, 0.01, 1.547, -0.2974, -0.598, 0.4711, -1.0659, -0.9122, -0.1988, -1.0697, 0.6248, 0.9322, -0.7585, 0.4711, 0.9322, 1.0859, 1.2396, -0.1988, 0.3817, 0.6248, -0.2974, 0.163999999999999, 0.0552, 1.3933, 0.3174, -1.0697, -0.9122, 0.8171, 0.7785, 0.3174, -0.824, -0.4511, -1.8344, 0.1637, -0.7585, -0.6048, -0.6048, 0.1637, 0.1637, -1.2148, -0.1988, 0.3174, 0.01, -0.4511, 0.4711, 1.8543, 0.1637, -1.6807, 1.0859, 1.0859, 0.5269, -0.9122, -1.7954, 0.9623, 0.3174, 0.4711, -0.2974, 0.01, 1.547, -1.5051, -0.344, -1.0697, 1.2396, 1.1074, -0.1988, -0.9122, 0.4906, 0.1637, -0.9122, 0.1637, 1.3933, -0.4891, 1.0859, 0.2366, -0.6343, 0.1637, -1.6807, -0.6048, -0.1988, 0.3817, 0.7785, 0.2366, 1.1074, -0.4511, -2.2308, -0.1988, -0.344, -0.2974, 0.7785, 1.4702, 1.0859, 0.01, -0.344, 0.8171, 1.0859, 0.1637, -0.6048, -1.0697, 1.547, -1.2196, 0.3174, -1.8344, -0.344, -1.0697, 0.1637, 0.7785, 0.3174, 1.2525, 0.1637, -0.1437, 0.6248, -0.0537, -0.2974, -1.3599, 0.9623, -0.344, 0.5269, 0.6248, -0.2974, 0.7785, -0.1437, -0.344, 1.547, 0.01, -0.344, 0.3174, -2.1418, 1.547, 0.925999999999999, -0.344, 0.5269, 0.6248, 0.9322, 0.6248, 0.1637, 0.672, 0.672, -1.5051, 0.1637, -0.6048, -0.4891, -0.1437, 0.1637, 1.2396, 0.9623, -1.527, 1.1074, 0.4711, 1.2525, -1.0659, -0.0537, 0.01, 0.7785, 1.0859, -1.5051, 0.4711, 0.3174, -0.1437, -0.0537, -0.0537, 0.672, 0.7785, 0.4711, -0.2714, -0.9245, 0.6248, -1.3599, -0.1437, 0.2366, 0.1357, -1.3733, 0.672, -2.6662, -2.4491, -0.1437, 1.3933, 0.3174, 0.2366, 0.672, 0.1637, -0.7585, 0.4711, -0.2974, 0.3817, -0.1437, 1.0859, 0.5269, 0.4711, 0.9623, -0.0537, 0.3174, 0.1637, 0.3174, 0.9322, 1.0348, -0.6048, -0.4891, -1.0334, 1.2525, -1.0334, 1.0859, -0.1988, -1.2196, 0.6248, 0.6248, 1.8543, 0.9322, 0.5269, 0.1637, 0.1637, 0.4711, 1.2396, -0.9245, -0.6048, -0.2974, 0.1637, 1.2396, 0.7785, 0.0914, 0.672, 0.01, 0.3174, 0.0552, -1.8344, -0.4511, -1.2196, 0.3817, -0.1988, 1.547, 0.4711, -0.2974, 1.2525, 0.3174, 1.2525, -1.0697, -1.2196, 0.9623, -0.4511, 0.01, 1.0859, -2.1418, 2.1617, 0.9322, -0.6048, -0.9245, 0.5269, -0.6048, 2.008, -1.5051, -0.9122, 1.1074, 1.2396, 0.4711, 0.7785, 0.5994, 0.1637, 0.9623, 0.9623, 1.547, -0.1437, 0.7785, 0.7083, 0.5269, -1.8344, -0.4511, -0.1437, 0.01, 0.1637, -0.7585, 0.4711, -0.2974, 0.9322, 0.0552, 1.2396, 0.9322, -1.0659, -1.8344, -0.4511, -1.0697, -1.5776, 1.0859, 2.008, -1.527, 0.3174, 1.3933, 0.672, 0.6248, 1.5428, 1.3933, -0.6343, -0.4511, 0.1637, 0.4711, 0.3174, 0.1637, 0.3817, 0.01, 0.01, 1.2396, -0.0537, 1.547, -0.7585, -0.0537, -2.2308, 0.7785, -0.2974, 0.7785, 1.2396, 0.672, -0.2974, 0.1637, 0.9322, -0.9122, -1.2196, -0.6048, -1.3733, -0.7585, 0.7785, 0.4711, 0.1637, 0.8171, -1.1422, -0.1437, -1.3733, 0.1637, 0.6248, -0.4511, 1.1074, -0.5349, 0.9623, 0.6248, -0.1437, 0.7785, 0.1637, 0.7785, -0.1437, -1.0659, 2.008, 0.7785, -0.7585, 1.3933, 0.4711, 0.2729, 0.4711, -0.9122, 1.1074, -1.2196, 0.4711, -0.9245, 1.0859, -1.9881, -3.0639, 0.5269, 0.3174, -0.4511, 1.3933, 1.0859, 0.0914, -0.4511, -1.8344, 0.01, -0.344, -1.0697, -2.7565, 0.2366, -1.5051, -0.1437, -0.1988, 0.9623, 0.8171, 1.0859, -0.7585, 0.1637, 0.01, -0.2974, -2.3759, 0.7785, 1.2396, -0.4891, 0.9322, 1.2396, 0.9322, -0.9122, 0.4711, 0.7785, 0.1637, -0.0537, 1.2396, 0.065, -0.2974, 1.2396, 0.9322, 0.6248, 0.2366, -0.2714, -0.9122, 0.1637, -0.6048, 0.9623, -0.2974, 0.6248, 0.4711, 1.547, -0.7585, -0.1437, 1.1074, -0.344, -0.2974, 0.7785, 1.547, -0.9122, -1.2196, 0.7785, -0.4511, -0.6048, 0.6248, 0.7785, 0.1637, 0.3174, -0.2974, 0.01, 0.7785, 0.6248, 0.3817, 0.672, 1.7007, 0.9322, 0.3174, -0.1437, -0.4226, 1.0859, -0.4511, 1.688, 1.1074, -0.6048, -0.9122, -1.2148, -0.6048, -0.9122, 0.01, 1.7007, -1.0697, 0.4711, 1.547, -0.9245, 0.01, 0.8171, 1.2396, -1.0659, 0.7785, -0.0537, 0.3174, 0.4711, 0.6248, -1.6502, -1.8344, -1.6807, 0.0914, 0.8171, 0.1637, 0.9322, 0.1637, 1.3933, 0.4906, 0.01, -2.6662, 0.9623, -0.344, 0.9623, 1.8543, 0.6248, 1.0859, -2.2954, 0.6248, 0.4711, -0.7794, -0.0537, -0.7585, 0.0914, -0.7585, 0.9623, 0.8171, 0.1637, -1.4688, -1.0659, 0.2366, 0.9322, 0.672, 1.3933, -0.7068, -0.1626, 0.2366, -1.2148, -1.0659, 0.3174, 0.01, 0.1637, -1.5051, -0.2974, 0.6248, 0.1637, 0.1637, 0.3174, -0.9122, -3.8636, -0.7794, 0.2366, 0.1637, 0.8171, 0.3174, -0.7794, -0.9245, -1.2148, 0.1637, -0.6048, 0.4711, 0.5269, 0.4711, -0.1437, 0.2729, 1.5791, 1.0859, 0.3174, 0.3817, 0.4711, 0.6248, -0.8157, 0.4711, -0.1437, -0.1437, -1.3733, 1.2396, -0.6048, -1.527, 0.0552, 0.9322, -1.6807, 1.1074, 0.01, -1.3599, -1.6502, -1.9408, 0.9322, 1.547, -1.527, -0.2974, 0.2366, 0.3174, 1.3933, -0.7026, -0.344, 0.1637, -0.1437, -1.0697, 1.3933, 0.1637, 0.01, 0.3174, -0.344, 0.6248, 0.9322, -0.6343, -0.2974, 1.2396, -0.6048, 0.7785, -0.2974, 1.1437, -1.6502, 1.2396, 0.4711, 0.1637, 0.3817, -0.4511, -1.6807, -0.7068, -0.1437, 0.3174, -1.527, -0.3803, 0.9322, 1.2525, 0.3817, -0.6343, -0.0537, 0.01, -0.2974, -0.7585, 0.0914, 1.2396, 0.7785, 0.3174, -1.2148, 0.4711, 0.0914, -0.9245, -1.6502, -3.0639, 0.5994, -0.9122, -0.9122, 0.3174, 1.2396, -1.0659, -0.2974, 0.9322, -0.344, 1.7007, -2.1418, 0.9322, -0.4891, -0.9245, 0.01, -1.2148, 0.01, 1.3977, -0.7585, 0.9322, -0.4511, 0.3174, 0.4711, 0.7785, 2.008, 0.4711, -0.6343, -1.7954, 0.1637, 0.9322, -0.2974, 0.4711, 0.4711, 0.9322, -0.7585, 0.3817, -0.1437, -0.4891, 1.2396, 0.3817, -0.7794, -0.7794, 1.0859, 0.6248, 0.3174, 0.4711, -0.6343, -0.4511, -0.6048, 0.9623, 1.5428, -1.9405, -0.7794, 0.01, 0.9322, -0.1437, 0.2366, 1.7007, -0.1437, -1.0659, -0.1988, -2.4485, 0.0914, 1.2525, 0.2729, -1.527, -0.2974, -0.344, -1.7954, -1.0659, 0.1637, 0.7785, 0.3174, -0.2974, -0.7585, 0.7785, -0.2974, -0.4511, 0.1637, 0.5269, 0.3174, -0.7794, -0.6048, 0.9322, -0.6048, 0.01, 0.01, -0.9245, -1.9881, 0.01, -0.1988, 0.01, 0.3174, 0.6248, 1.1074, -1.527, 0.0914, 1.0859, -0.2974, -0.344, -0.1437, 1.2396, 1.3933, -0.6048, 2.1617, -0.1988, -0.7585, 0.3817, -0.7794, 0.1637, 1.3977, 1.547, -2.9102, 0.4711, 0.1637, -0.1988, 0.7785, 1.3933, -0.2974, 0.01, -0.4511, -0.7585, -1.0659, 0.3817, 0.2366, 0.4711, -1.2196, -0.4511, 1.2525, 2.1617, 0.1637, 0.7785, -0.7585, -0.6339, -0.4891, -1.527, 0.2366, 0.0914, -0.6343, -0.7585, -0.9122, 0.3174, -0.9122, -2.4491, 0.01, -1.2148, -0.0537, -0.7794, 0.01, -0.6048, 1.0859, 0.3174, -0.7585, -1.7954, -0.1437, -3.2176, -3.3713, 0.01, 0.0914, 0.4906, 0.9322, -0.4511, -0.1437, -1.3599, 0.672, 1.2525, 0.3174, 0.6248, 0.6248, -0.4511, 0.3034, 0.01, 0.4711, -0.6343, -2.4491, 0.7785, 0.1637, -0.1437, -0.344, 0.3174, -0.1437, 0.4711, 1.2396, -0.598, 0.01, -0.1988, 1.547, -1.2148, -2.2308, -0.1437, -0.2974, 0.9322, 0.6248, -0.2974, -0.6343, -0.4511, -0.1437, 0.3817, -1.9405, -0.8157, 0.3817, 1.2396, -0.2714, 0.4711, -0.1437, -0.1437, -0.2974, -0.2974, -0.6048, 0.3817, 0.7785, 1.0859, -0.7794, 0.3174, 0.7785, 0.1637, 0.672, -0.9245, 0.6248, -0.4511, -0.7585, 1.2396, 0.4711, -0.1437, 1.2396, 0.6248, 0.3817, 0.4711, 0.9322, -2.4485, 0.9322, -0.0933, -0.4891, -1.0659, 0.4711, -0.0537, -1.2148, 0.9322, 0.6248, 0.3174, -0.9122, 0.01, 0.1637, -1.527, -0.9122, -0.8157, -0.9122, 0.8171, 0.3174, 0.3174, 1.3977, -0.4511, 1.3977, -1.9881, 0.3817, 0.5994, 1.0859, -1.3599, 0.3174, -1.0659, 1.0859, 0.4711, 1.3977, -0.9245, 0.9322, -0.1437, 0.3174, -0.6343, 0.4711, 0.01, -1.7954, -0.4891, -1.6807, -0.1437, 0.9322, -0.4891, -0.1988, 0.8171, -0.2974, 0.4906, 0.7785, 0.3817, 0.3817, -0.344, 0.1637, 1.2525, -1.9881, -0.1437, 0.3174, 0.4711, -0.6048, -0.1988, -0.6048, -1.2196, 0.7785, -0.1988, -0.2974, 0.2729, 0.9322, 0.9322, 0.4711, -0.1437, -0.1437, 0.6248, -1.3599, 1.7007, -0.6343, 1.2396, 1.9782, 0.4711, 0.672, -0.7068, 1.3977, -0.7585, -1.0697, 0.9322, 1.0859, 0.4711, -0.4511, 0.1637, -0.2974, -0.1437, 0.01, 0.2366, 0.9322, 0.1637, -1.7954, -0.598, -1.0697, 0.6248, 1.7007, 0.7785, 0.01, -1.0659, 0.01, -0.9245, -0.4511, 0.7785, 1.0859, -0.6048, 1.8543, -0.7585, -0.2974, -0.7068, -0.1988, 1.0859, -1.0697, 0.6248, 0.3174, 1.3933, -0.4511, 1.547, 0.6248, 0.01, 0.1637, 1.3933, -2.2954, -0.7585, 0.9322, 0.2729, -0.1437, -1.0659, 0.5269, -0.6343, -1.6502, -0.1437, -0.1626, 0.4711, -0.2974, 0.9322, -1.5051, -0.1437, 1.8543, 1.0859, 0.6248, -0.3803, 0.3174, 0.0914, 1.547, -1.2511, -0.6048, 0.6248, 1.2525, 1.2396, 0.672, -0.6048, -0.6048, 1.547, -1.5051, 0.672, 2.1617, -0.4891, 0.7785, 0.01, -0.4511, -0.7585, 1.3933, 0.4711, -1.9405, 0.1637, -0.2974, 0.3174, 0.3174, -0.6343, 0.6248, 1.1437, -1.0659, -0.0537, -0.7585, -0.9245, 0.672, 0.3817, -0.4891, 0.6248, -1.0697, 1.7007, 1.2396, -0.7585, 1.2396, 0.9623, -0.7794, -1.0116, -0.6048, -1.3733, 2.008, -0.1437, -1.2196, -0.4891, 0.0914, 0.2366, 0.2729, -0.6048, 0.6248, 0.7785, -0.9245, -0.6048, 1.688, -0.7585, -0.2974, -0.1437, -1.0659, -0.4511, -2.0856, 1.547, 0.7785, 0.1138, 0.2366, -0.2974, 0.7785, 1.1074, -0.9122, 0.2366, -0.9245, -0.344, -1.3733, -0.2974, 0.672, -0.1437, -0.344, 1.2396, -0.2974, 0.3817, 0.4711, 1.0859, 0.7785, 1.8543, -1.2148, -1.0697, 0.1637, 0.4711, -0.1437, -1.2196, -1.2196, -0.1437, -0.4511, 1.0859, -0.344, 0.4711, 1.9782, -0.4511, -1.6807, 0.4711, 0.7785, -1.0697, -0.2974, 0.8171, 0.6248, 0.3174, 0.1637, 0.01, 1.8543, -0.598, -0.0537, 0.01, 0.3174, 0.9322, 0.3174, 0.5269, -0.6343, 0.3174, 0.4711, -0.9122, 0.6248, -0.9122, 0.6388, -0.1988, -0.9245, -1.0659, 1.3933, 0.7785, 0.0914, 1.0859, -0.7068, 1.2525, -3.9861, -0.344, 0.01, -2.4491, -2.2954, -0.1437, -0.1988, -0.2974, 0.4711, -0.6048, -0.6048, -0.9122, -0.6048, 0.4711, -1.0659, 0.7785, 0.01, 0.9322, 0.9322, 0.672, -1.527, -0.4511, 1.0859, -0.6048, 0.3817, 0.4711, -2.0131, -2.0856, -0.6048, 0.9322, -1.0697, -1.2196, -2.521, 0.5269, 1.7007, -0.7794, -0.1437, -0.2974, 2.1617, 0.3174, 0.0914, -1.2148, 0.1637, 1.2525, 0.4711, 0.6248, 0.7785, 0.6248, 2.1617, 0.4711, 0.2366, -0.9122, 1.7007, 0.3174, 1.3933, 0.1637, 0.7785, -1.5776, -0.6048, 0.4711, 1.7007, 1.7007, -2.8113, 0.3174, 0.7785, -1.0697, -1.2196, -0.6048, -0.0537, 0.9042, 0.7785, 0.6248, -1.0659, 1.0859, -0.0537, 0.8171, -1.0659, 0.5994, -0.0537, -0.2974, -0.7585, 0.2477, -1.3599, 0.672, 0.4711, -0.9122, -0.6048, 1.3977, 0.1637, -1.8344, -1.3599, -0.4511, -1.3733, -0.7585, -0.9122, 0.6248, -0.6343, 0.1637, -0.6343, -0.4891, 0.9322, -0.6343, 1.0859, 1.2396, 1.3933, 0.7785, -0.4511, 1.1074, 0.1637, 1.0859, 2.008, -0.4511, 0.1637, 0.9322, 0.3174, 0.4711, 1.2396, 0.8171, 0.4711, 1.0859, 0.3174, 0.6248, -0.0537, -1.2196, -1.9881, 1.0859, 0.3174, -2.1219, 1.3933, 0.01, -0.598, -0.344, -1.5776, -0.2974, -0.4511, -0.0537, 1.7007, -2.6028, -0.6048, -0.6343, 0.01, 0.2366, 0.9322, -0.0537, 0.3174, 0.7785, -0.7794, 0.5269, 1.5428, 0.4711, 0.6248, -1.3733, 1.0859, -0.0537, 0.6248, 0.3174, -1.9881, -1.3599, -3.8324, 0.6248, 0.0914, -0.1988, -1.2196, -1.4688, 2.1617, 0.0552, 0.1637, 0.672, -0.2974, 0.7785, -1.2511, 0.2366, 0.8171, 0.672, -0.7585, -0.1437, 0.9322, 0.3174, -0.9245, -0.598, 0.672, -0.9245, -0.6343, -1.527, -0.0537, -1.9881, 1.0859, 0.3174, 0.9322, 0.7785, 0.3174, -0.9245, -0.6343, 0.8171, -2.6028, 0.7785, -0.1626, -0.7794, 0.1637, 0.01, 0.0914, 0.3817, -0.4511, -2.0131, 0.3174, -0.344, -1.2196, -0.4891, 0.3174, -0.9122, 0.1637, 0.0914, 0.6248, -0.1988, 0.9322, 0.3174, -2.6028, -0.344, -0.4511, -1.2196, 0.01, 0.01, 0.4711, 0.7785, 0.9623, 0.3174, 0.3174, 0.672, 0.3174, -0.344, 0.01, -0.4511, 1.1074, 1.0859, -2.2954, -0.344, -0.2714, 0.3174, -1.527, 2.008, 1.2396, -2.2954, -0.3149, -1.6865, -0.2516, 1.2396, 0.3174, 0.7785, -1.6807, 0.4711, 0.2366, 0.8171, 0.5994, -2.6028, 0.3174, 0.4711, 0.1637, 0.7785, 0.9322, 0.7785, -0.7068, -0.6048, 1.0859, 0.2366, -4.4472, 0.1357, 2.008, 0.9623, -0.0537, 0.3817, 0.1637, -0.2974, 0.7785, -1.0659, -1.6807, -0.6048, -2.2954, 0.1637, -0.6048, -0.2714, 1.3933, 1.7007, 0.4711, -0.2974, 0.672, 0.6248, 0.0552, 0.163999999999999, 0.4711, 1.0859, 0.8171, 2.008, -1.6807, -1.6807, 1.3933, -0.1437, 0.01, 1.7007, 1.2396, 0.01, -0.1437, -1.527, 0.163999999999999, 0.3174, 1.547, -0.9122, -1.0659, -1.7083, -0.7794, 0.4711, 0.6248, 0.01, -1.0379, 0.1637, 0.4711, -0.2974, 0.9322, 0.7785, 0.2366, 0.3174, -0.4511, 1.3933, -0.6048, -0.2974, -0.6048, -0.4511, 0.9322, -0.1988, 1.0348, -1.9881, -0.1437, -1.0659, 0.4711, 0.3174, 0.9322, -0.344, 1.2396, -0.1437, -0.9122, 1.0859, 1.7007, 0.6248, 0.6248, 0.3817, 0.3174, 0.01, -0.6048, -0.1437, 0.9322, 0.1637, 0.4711, 0.0914, -0.6048, -0.4511, -0.4891, 0.8171, -0.9122, -0.6048, -1.0697, -0.0319, -0.6343, -0.1437, 0.6248, -0.6048, -1.6807, -1.3733, -0.344, 0.1637, -0.4511, -0.4891, -1.0334, 0.672, -0.6343, -1.5776, -0.344, -0.6048, -0.4891, 0.1637, -0.9122, -2.4491, 0.4711, -0.2974, -0.2974, -0.0537, -1.2511, 0.9322, -1.2511, 0.4711, -0.4511, -0.4891, -0.7585, 0.01, -0.2974, 0.6248, -0.9245, -0.1437, 0.6248, 1.9782, -0.7794, -0.0537, 0.2366, 0.9322, -0.4511], \"xaxis\": \"x\", \"yaxis\": \"y\"}],\n",
              "                        {\"barmode\": \"relative\", \"legend\": {\"tracegroupgap\": 0}, \"template\": {\"data\": {\"bar\": [{\"error_x\": {\"color\": \"#2a3f5f\"}, \"error_y\": {\"color\": \"#2a3f5f\"}, \"marker\": {\"line\": {\"color\": \"#E5ECF6\", \"width\": 0.5}}, \"type\": \"bar\"}], \"barpolar\": [{\"marker\": {\"line\": {\"color\": \"#E5ECF6\", \"width\": 0.5}}, \"type\": \"barpolar\"}], \"carpet\": [{\"aaxis\": {\"endlinecolor\": \"#2a3f5f\", \"gridcolor\": \"white\", \"linecolor\": \"white\", \"minorgridcolor\": \"white\", \"startlinecolor\": \"#2a3f5f\"}, \"baxis\": {\"endlinecolor\": \"#2a3f5f\", \"gridcolor\": \"white\", \"linecolor\": \"white\", \"minorgridcolor\": \"white\", \"startlinecolor\": \"#2a3f5f\"}, \"type\": \"carpet\"}], \"choropleth\": [{\"colorbar\": {\"outlinewidth\": 0, \"ticks\": \"\"}, \"type\": \"choropleth\"}], \"contour\": [{\"colorbar\": {\"outlinewidth\": 0, \"ticks\": \"\"}, \"colorscale\": [[0.0, \"#0d0887\"], [0.1111111111111111, \"#46039f\"], [0.2222222222222222, \"#7201a8\"], [0.3333333333333333, \"#9c179e\"], [0.4444444444444444, \"#bd3786\"], [0.5555555555555556, \"#d8576b\"], [0.6666666666666666, \"#ed7953\"], [0.7777777777777778, \"#fb9f3a\"], [0.8888888888888888, \"#fdca26\"], [1.0, \"#f0f921\"]], \"type\": \"contour\"}], \"contourcarpet\": [{\"colorbar\": {\"outlinewidth\": 0, \"ticks\": \"\"}, \"type\": \"contourcarpet\"}], \"heatmap\": [{\"colorbar\": {\"outlinewidth\": 0, \"ticks\": \"\"}, \"colorscale\": [[0.0, \"#0d0887\"], [0.1111111111111111, \"#46039f\"], [0.2222222222222222, \"#7201a8\"], [0.3333333333333333, \"#9c179e\"], [0.4444444444444444, \"#bd3786\"], [0.5555555555555556, \"#d8576b\"], [0.6666666666666666, \"#ed7953\"], [0.7777777777777778, \"#fb9f3a\"], [0.8888888888888888, \"#fdca26\"], [1.0, \"#f0f921\"]], \"type\": \"heatmap\"}], \"heatmapgl\": [{\"colorbar\": {\"outlinewidth\": 0, \"ticks\": \"\"}, \"colorscale\": [[0.0, \"#0d0887\"], [0.1111111111111111, \"#46039f\"], [0.2222222222222222, \"#7201a8\"], [0.3333333333333333, \"#9c179e\"], [0.4444444444444444, \"#bd3786\"], [0.5555555555555556, \"#d8576b\"], [0.6666666666666666, \"#ed7953\"], [0.7777777777777778, \"#fb9f3a\"], [0.8888888888888888, \"#fdca26\"], [1.0, \"#f0f921\"]], \"type\": \"heatmapgl\"}], \"histogram\": [{\"marker\": {\"colorbar\": {\"outlinewidth\": 0, \"ticks\": \"\"}}, \"type\": \"histogram\"}], \"histogram2d\": [{\"colorbar\": {\"outlinewidth\": 0, \"ticks\": \"\"}, \"colorscale\": [[0.0, \"#0d0887\"], [0.1111111111111111, \"#46039f\"], [0.2222222222222222, \"#7201a8\"], [0.3333333333333333, \"#9c179e\"], [0.4444444444444444, \"#bd3786\"], [0.5555555555555556, \"#d8576b\"], [0.6666666666666666, \"#ed7953\"], [0.7777777777777778, \"#fb9f3a\"], [0.8888888888888888, \"#fdca26\"], [1.0, \"#f0f921\"]], \"type\": \"histogram2d\"}], \"histogram2dcontour\": [{\"colorbar\": {\"outlinewidth\": 0, \"ticks\": \"\"}, \"colorscale\": [[0.0, \"#0d0887\"], [0.1111111111111111, \"#46039f\"], [0.2222222222222222, \"#7201a8\"], [0.3333333333333333, \"#9c179e\"], [0.4444444444444444, \"#bd3786\"], [0.5555555555555556, \"#d8576b\"], [0.6666666666666666, \"#ed7953\"], [0.7777777777777778, \"#fb9f3a\"], [0.8888888888888888, \"#fdca26\"], [1.0, \"#f0f921\"]], \"type\": \"histogram2dcontour\"}], \"mesh3d\": [{\"colorbar\": {\"outlinewidth\": 0, \"ticks\": \"\"}, \"type\": \"mesh3d\"}], \"parcoords\": [{\"line\": {\"colorbar\": {\"outlinewidth\": 0, \"ticks\": \"\"}}, \"type\": \"parcoords\"}], \"pie\": [{\"automargin\": true, \"type\": \"pie\"}], \"scatter\": [{\"marker\": {\"colorbar\": {\"outlinewidth\": 0, \"ticks\": \"\"}}, \"type\": \"scatter\"}], \"scatter3d\": [{\"line\": {\"colorbar\": {\"outlinewidth\": 0, \"ticks\": \"\"}}, \"marker\": {\"colorbar\": {\"outlinewidth\": 0, \"ticks\": \"\"}}, \"type\": \"scatter3d\"}], \"scattercarpet\": [{\"marker\": {\"colorbar\": {\"outlinewidth\": 0, \"ticks\": \"\"}}, \"type\": \"scattercarpet\"}], \"scattergeo\": [{\"marker\": {\"colorbar\": {\"outlinewidth\": 0, \"ticks\": \"\"}}, \"type\": \"scattergeo\"}], \"scattergl\": [{\"marker\": {\"colorbar\": {\"outlinewidth\": 0, \"ticks\": \"\"}}, \"type\": \"scattergl\"}], \"scattermapbox\": [{\"marker\": {\"colorbar\": {\"outlinewidth\": 0, \"ticks\": \"\"}}, \"type\": \"scattermapbox\"}], \"scatterpolar\": [{\"marker\": {\"colorbar\": {\"outlinewidth\": 0, \"ticks\": \"\"}}, \"type\": \"scatterpolar\"}], \"scatterpolargl\": [{\"marker\": {\"colorbar\": {\"outlinewidth\": 0, \"ticks\": \"\"}}, \"type\": \"scatterpolargl\"}], \"scatterternary\": [{\"marker\": {\"colorbar\": {\"outlinewidth\": 0, \"ticks\": \"\"}}, \"type\": \"scatterternary\"}], \"surface\": [{\"colorbar\": {\"outlinewidth\": 0, \"ticks\": \"\"}, \"colorscale\": [[0.0, \"#0d0887\"], [0.1111111111111111, \"#46039f\"], [0.2222222222222222, \"#7201a8\"], [0.3333333333333333, \"#9c179e\"], [0.4444444444444444, \"#bd3786\"], [0.5555555555555556, \"#d8576b\"], [0.6666666666666666, \"#ed7953\"], [0.7777777777777778, \"#fb9f3a\"], [0.8888888888888888, \"#fdca26\"], [1.0, \"#f0f921\"]], \"type\": \"surface\"}], \"table\": [{\"cells\": {\"fill\": {\"color\": \"#EBF0F8\"}, \"line\": {\"color\": \"white\"}}, \"header\": {\"fill\": {\"color\": \"#C8D4E3\"}, \"line\": {\"color\": \"white\"}}, \"type\": \"table\"}]}, \"layout\": {\"annotationdefaults\": {\"arrowcolor\": \"#2a3f5f\", \"arrowhead\": 0, \"arrowwidth\": 1}, \"coloraxis\": {\"colorbar\": {\"outlinewidth\": 0, \"ticks\": \"\"}}, \"colorscale\": {\"diverging\": [[0, \"#8e0152\"], [0.1, \"#c51b7d\"], [0.2, \"#de77ae\"], [0.3, \"#f1b6da\"], [0.4, \"#fde0ef\"], [0.5, \"#f7f7f7\"], [0.6, \"#e6f5d0\"], [0.7, \"#b8e186\"], [0.8, \"#7fbc41\"], [0.9, \"#4d9221\"], [1, \"#276419\"]], \"sequential\": [[0.0, \"#0d0887\"], [0.1111111111111111, \"#46039f\"], [0.2222222222222222, \"#7201a8\"], [0.3333333333333333, \"#9c179e\"], [0.4444444444444444, \"#bd3786\"], [0.5555555555555556, \"#d8576b\"], [0.6666666666666666, \"#ed7953\"], [0.7777777777777778, \"#fb9f3a\"], [0.8888888888888888, \"#fdca26\"], [1.0, \"#f0f921\"]], \"sequentialminus\": [[0.0, \"#0d0887\"], [0.1111111111111111, \"#46039f\"], [0.2222222222222222, \"#7201a8\"], [0.3333333333333333, \"#9c179e\"], [0.4444444444444444, \"#bd3786\"], [0.5555555555555556, \"#d8576b\"], [0.6666666666666666, \"#ed7953\"], [0.7777777777777778, \"#fb9f3a\"], [0.8888888888888888, \"#fdca26\"], [1.0, \"#f0f921\"]]}, \"colorway\": [\"#636efa\", \"#EF553B\", \"#00cc96\", \"#ab63fa\", \"#FFA15A\", \"#19d3f3\", \"#FF6692\", \"#B6E880\", \"#FF97FF\", \"#FECB52\"], \"font\": {\"color\": \"#2a3f5f\"}, \"geo\": {\"bgcolor\": \"white\", \"lakecolor\": \"white\", \"landcolor\": \"#E5ECF6\", \"showlakes\": true, \"showland\": true, \"subunitcolor\": \"white\"}, \"hoverlabel\": {\"align\": \"left\"}, \"hovermode\": \"closest\", \"mapbox\": {\"style\": \"light\"}, \"paper_bgcolor\": \"white\", \"plot_bgcolor\": \"#E5ECF6\", \"polar\": {\"angularaxis\": {\"gridcolor\": \"white\", \"linecolor\": \"white\", \"ticks\": \"\"}, \"bgcolor\": \"#E5ECF6\", \"radialaxis\": {\"gridcolor\": \"white\", \"linecolor\": \"white\", \"ticks\": \"\"}}, \"scene\": {\"xaxis\": {\"backgroundcolor\": \"#E5ECF6\", \"gridcolor\": \"white\", \"gridwidth\": 2, \"linecolor\": \"white\", \"showbackground\": true, \"ticks\": \"\", \"zerolinecolor\": \"white\"}, \"yaxis\": {\"backgroundcolor\": \"#E5ECF6\", \"gridcolor\": \"white\", \"gridwidth\": 2, \"linecolor\": \"white\", \"showbackground\": true, \"ticks\": \"\", \"zerolinecolor\": \"white\"}, \"zaxis\": {\"backgroundcolor\": \"#E5ECF6\", \"gridcolor\": \"white\", \"gridwidth\": 2, \"linecolor\": \"white\", \"showbackground\": true, \"ticks\": \"\", \"zerolinecolor\": \"white\"}}, \"shapedefaults\": {\"line\": {\"color\": \"#2a3f5f\"}}, \"ternary\": {\"aaxis\": {\"gridcolor\": \"white\", \"linecolor\": \"white\", \"ticks\": \"\"}, \"baxis\": {\"gridcolor\": \"white\", \"linecolor\": \"white\", \"ticks\": \"\"}, \"bgcolor\": \"#E5ECF6\", \"caxis\": {\"gridcolor\": \"white\", \"linecolor\": \"white\", \"ticks\": \"\"}}, \"title\": {\"x\": 0.05}, \"xaxis\": {\"automargin\": true, \"gridcolor\": \"white\", \"linecolor\": \"white\", \"ticks\": \"\", \"title\": {\"standoff\": 15}, \"zerolinecolor\": \"white\", \"zerolinewidth\": 2}, \"yaxis\": {\"automargin\": true, \"gridcolor\": \"white\", \"linecolor\": \"white\", \"ticks\": \"\", \"title\": {\"standoff\": 15}, \"zerolinecolor\": \"white\", \"zerolinewidth\": 2}}}, \"title\": {\"text\": \"Extraversion vs. Salary\"}, \"xaxis\": {\"anchor\": \"y\", \"domain\": [0.0, 1.0], \"title\": {\"text\": \"extraversion\"}}, \"yaxis\": {\"anchor\": \"x\", \"domain\": [0.0, 1.0], \"title\": {\"text\": \"count\"}}},\n",
              "                        {\"responsive\": true}\n",
              "                    ).then(function(){\n",
              "                            \n",
              "var gd = document.getElementById('9bdf07be-be18-4718-b37e-cbd12d1840f1');\n",
              "var x = new MutationObserver(function (mutations, observer) {{\n",
              "        var display = window.getComputedStyle(gd).display;\n",
              "        if (!display || display === 'none') {{\n",
              "            console.log([gd, 'removed!']);\n",
              "            Plotly.purge(gd);\n",
              "            observer.disconnect();\n",
              "        }}\n",
              "}});\n",
              "\n",
              "// Listen for the removal of the full notebook cells\n",
              "var notebookContainer = gd.closest('#notebook-container');\n",
              "if (notebookContainer) {{\n",
              "    x.observe(notebookContainer, {childList: true});\n",
              "}}\n",
              "\n",
              "// Listen for the clearing of the current output cell\n",
              "var outputEl = gd.closest('.output');\n",
              "if (outputEl) {{\n",
              "    x.observe(outputEl, {childList: true});\n",
              "}}\n",
              "\n",
              "                        })\n",
              "                };\n",
              "                \n",
              "            </script>\n",
              "        </div>\n",
              "</body>\n",
              "</html>"
            ]
          },
          "metadata": {}
        }
      ]
    },
    {
      "cell_type": "markdown",
      "metadata": {
        "id": "Z_tcv0i0JtFa"
      },
      "source": [
        "**Extraversion is one of the five personality traits of the Big Five personality theory. Extraversion indicates how outgoing and social a person is. The above plot indicates the distribution of salary on the basis of extraversion**"
      ]
    },
    {
      "cell_type": "code",
      "metadata": {
        "colab": {
          "base_uri": "https://localhost:8080/",
          "height": 542
        },
        "id": "GDRvXRqWLuE6",
        "outputId": "3d08d349-596c-415d-da65-4181f89ef7e5"
      },
      "source": [
        "px.scatter(df,title='Class 12 Percentage vs. Class 10 Percentage',x='12percentage',y='10percentage',color='High-Salary')"
      ],
      "execution_count": 1897,
      "outputs": [
        {
          "output_type": "display_data",
          "data": {
            "text/html": [
              "<html>\n",
              "<head><meta charset=\"utf-8\" /></head>\n",
              "<body>\n",
              "    <div>\n",
              "            <script src=\"https://cdnjs.cloudflare.com/ajax/libs/mathjax/2.7.5/MathJax.js?config=TeX-AMS-MML_SVG\"></script><script type=\"text/javascript\">if (window.MathJax) {MathJax.Hub.Config({SVG: {font: \"STIX-Web\"}});}</script>\n",
              "                <script type=\"text/javascript\">window.PlotlyConfig = {MathJaxConfig: 'local'};</script>\n",
              "        <script src=\"https://cdn.plot.ly/plotly-latest.min.js\"></script>    \n",
              "            <div id=\"544ae6e1-b329-4063-96f9-e551acdf35eb\" class=\"plotly-graph-div\" style=\"height:525px; width:100%;\"></div>\n",
              "            <script type=\"text/javascript\">\n",
              "                \n",
              "                    window.PLOTLYENV=window.PLOTLYENV || {};\n",
              "                    \n",
              "                if (document.getElementById(\"544ae6e1-b329-4063-96f9-e551acdf35eb\")) {\n",
              "                    Plotly.newPlot(\n",
              "                        '544ae6e1-b329-4063-96f9-e551acdf35eb',\n",
              "                        [{\"hoverlabel\": {\"namelength\": 0}, \"hovertemplate\": \"12percentage=%{x}<br>10percentage=%{y}<br>High-Salary=%{marker.color}\", \"legendgroup\": \"\", \"marker\": {\"color\": [1, 1, 1, 1, 0, 1, 1, 1, 1, 0, 1, 1, 0, 0, 1, 1, 1, 0, 0, 1, 1, 0, 0, 0, 1, 1, 1, 1, 0, 0, 1, 1, 1, 0, 0, 1, 0, 0, 1, 0, 0, 0, 1, 0, 1, 0, 0, 0, 1, 0, 0, 0, 1, 1, 0, 0, 0, 1, 0, 0, 1, 1, 0, 0, 1, 1, 1, 1, 0, 0, 1, 0, 0, 0, 0, 1, 1, 0, 1, 0, 1, 0, 0, 0, 1, 1, 0, 0, 0, 1, 0, 0, 1, 1, 0, 1, 1, 1, 1, 0, 1, 0, 1, 1, 1, 1, 1, 0, 0, 1, 1, 1, 0, 1, 1, 1, 0, 0, 1, 1, 1, 0, 1, 1, 1, 1, 1, 0, 1, 0, 1, 1, 0, 1, 1, 0, 0, 1, 0, 1, 1, 0, 0, 1, 1, 0, 0, 1, 0, 0, 0, 1, 0, 0, 0, 0, 1, 1, 1, 1, 0, 0, 0, 1, 1, 0, 1, 1, 1, 0, 0, 1, 0, 0, 1, 1, 0, 1, 0, 1, 0, 0, 1, 0, 1, 0, 0, 1, 1, 1, 0, 0, 1, 1, 0, 1, 1, 0, 1, 0, 1, 0, 0, 0, 1, 1, 1, 1, 1, 1, 1, 1, 0, 1, 1, 1, 0, 0, 0, 1, 0, 1, 0, 1, 0, 1, 0, 1, 1, 1, 1, 1, 0, 1, 0, 0, 0, 0, 1, 1, 0, 0, 1, 0, 0, 0, 1, 0, 0, 1, 1, 1, 0, 0, 0, 0, 0, 0, 1, 1, 1, 1, 0, 1, 1, 0, 1, 0, 1, 1, 1, 0, 1, 1, 1, 1, 1, 0, 0, 1, 1, 0, 1, 0, 1, 1, 1, 0, 1, 0, 1, 1, 1, 1, 1, 0, 1, 1, 1, 0, 1, 0, 0, 1, 1, 0, 1, 1, 1, 0, 1, 1, 1, 1, 0, 1, 1, 0, 1, 0, 1, 1, 1, 0, 0, 0, 1, 0, 1, 0, 0, 1, 0, 0, 1, 0, 0, 1, 0, 0, 0, 0, 1, 1, 1, 0, 1, 0, 1, 0, 1, 1, 0, 0, 0, 0, 0, 0, 1, 0, 1, 1, 0, 1, 0, 0, 1, 1, 1, 1, 1, 1, 0, 1, 1, 1, 1, 0, 1, 0, 0, 0, 0, 1, 1, 1, 1, 0, 1, 0, 1, 1, 0, 1, 1, 1, 0, 0, 0, 1, 0, 1, 0, 1, 1, 0, 0, 0, 0, 1, 1, 1, 0, 0, 0, 1, 0, 0, 1, 1, 1, 0, 0, 1, 1, 0, 0, 1, 1, 1, 0, 1, 1, 0, 0, 1, 1, 0, 1, 0, 0, 1, 1, 1, 1, 0, 1, 0, 1, 0, 0, 0, 0, 1, 0, 0, 1, 0, 1, 0, 0, 1, 0, 0, 1, 0, 0, 1, 0, 1, 0, 0, 1, 1, 1, 0, 0, 0, 1, 0, 1, 0, 0, 1, 1, 1, 1, 1, 0, 1, 0, 0, 1, 1, 0, 1, 1, 0, 1, 1, 1, 1, 0, 0, 1, 1, 0, 0, 1, 1, 1, 0, 1, 1, 1, 1, 1, 0, 1, 1, 0, 0, 0, 0, 0, 1, 0, 1, 0, 0, 1, 1, 0, 1, 0, 0, 1, 1, 0, 0, 1, 1, 0, 1, 0, 0, 0, 1, 1, 0, 1, 1, 1, 1, 1, 1, 1, 1, 0, 0, 1, 0, 0, 0, 0, 0, 1, 1, 0, 1, 0, 0, 0, 1, 0, 0, 0, 1, 1, 0, 0, 0, 1, 1, 1, 0, 1, 0, 1, 0, 0, 0, 1, 1, 1, 0, 0, 0, 1, 1, 0, 0, 0, 0, 1, 1, 1, 1, 0, 1, 1, 1, 1, 1, 1, 0, 1, 1, 1, 1, 1, 1, 0, 0, 0, 0, 0, 1, 1, 0, 1, 1, 0, 1, 1, 0, 0, 1, 1, 1, 1, 0, 0, 0, 0, 0, 0, 1, 0, 0, 1, 1, 0, 1, 1, 1, 1, 1, 1, 1, 0, 0, 0, 1, 0, 0, 0, 1, 1, 1, 0, 1, 1, 1, 0, 0, 1, 1, 0, 0, 1, 1, 0, 0, 0, 1, 1, 1, 1, 0, 1, 1, 1, 0, 1, 0, 1, 1, 1, 1, 0, 1, 1, 0, 1, 0, 1, 0, 0, 1, 1, 1, 1, 1, 0, 0, 0, 0, 1, 1, 0, 1, 1, 1, 0, 1, 1, 1, 0, 1, 0, 1, 1, 1, 1, 1, 0, 0, 0, 0, 1, 0, 1, 1, 0, 0, 1, 1, 0, 0, 1, 0, 1, 0, 0, 0, 1, 0, 1, 1, 1, 1, 0, 1, 1, 1, 1, 1, 0, 0, 0, 1, 1, 0, 1, 1, 0, 1, 1, 1, 1, 0, 1, 0, 1, 1, 0, 1, 0, 1, 0, 1, 1, 1, 1, 0, 1, 1, 1, 0, 0, 1, 1, 0, 1, 0, 0, 0, 0, 0, 0, 1, 0, 1, 0, 1, 1, 1, 1, 1, 0, 1, 0, 1, 0, 1, 0, 1, 0, 0, 1, 1, 0, 0, 1, 0, 1, 0, 0, 1, 0, 0, 0, 1, 1, 1, 0, 1, 1, 1, 1, 1, 0, 0, 0, 1, 1, 0, 0, 1, 1, 0, 1, 0, 1, 0, 1, 1, 1, 1, 1, 1, 0, 0, 1, 0, 0, 1, 0, 0, 0, 0, 0, 1, 0, 1, 1, 0, 0, 0, 1, 1, 0, 1, 1, 1, 1, 1, 0, 1, 1, 0, 1, 0, 0, 1, 1, 0, 1, 1, 1, 0, 0, 1, 1, 1, 0, 0, 1, 1, 1, 1, 1, 0, 0, 1, 1, 1, 1, 0, 1, 1, 0, 1, 0, 0, 0, 1, 0, 1, 1, 1, 1, 1, 0, 1, 0, 1, 0, 1, 1, 1, 1, 0, 1, 0, 1, 1, 1, 1, 1, 1, 1, 0, 1, 1, 1, 1, 0, 1, 1, 0, 1, 0, 0, 1, 1, 0, 0, 0, 1, 0, 1, 0, 0, 1, 1, 0, 0, 0, 1, 0, 1, 1, 1, 1, 1, 1, 1, 1, 0, 1, 0, 1, 1, 0, 0, 1, 1, 1, 0, 1, 0, 0, 1, 0, 1, 0, 1, 1, 1, 1, 0, 1, 0, 0, 1, 0, 1, 1, 1, 1, 1, 0, 1, 1, 0, 1, 1, 1, 1, 1, 0, 1, 1, 1, 1, 1, 0, 1, 0, 0, 1, 1, 0, 1, 1, 0, 1, 1, 0, 1, 0, 0, 0, 0, 1, 1, 1, 0, 1, 1, 1, 1, 1, 1, 1, 1, 0, 0, 1, 0, 0, 1, 1, 1, 0, 1, 1, 0, 0, 1, 1, 1, 1, 0, 1, 1, 0, 0, 0, 0, 0, 1, 1, 0, 1, 1, 0, 0, 1, 0, 0, 1, 1, 0, 0, 0, 1, 1, 1, 0, 1, 0, 0, 1, 0, 1, 1, 1, 1, 0, 0, 0, 1, 0, 1, 1, 1, 1, 1, 0, 0, 1, 1, 1, 0, 0, 0, 1, 0, 0, 0, 1, 0, 0, 1, 1, 0, 0, 1, 0, 0, 0, 0, 0, 0, 1, 0, 0, 0, 0, 1, 1, 1, 0, 0, 1, 1, 1, 1, 1, 1, 1, 0, 0, 0, 0, 1, 1, 0, 1, 0, 0, 0, 1, 1, 0, 1, 1, 0, 1, 1, 1, 1, 0, 0, 1, 1, 1, 0, 1, 0, 1, 1, 0, 1, 1, 0, 1, 1, 0, 1, 0, 0, 0, 1, 1, 0, 0, 0, 1, 0, 1, 1, 0, 1, 1, 0, 1, 1, 1, 1, 0, 0, 0, 1, 1, 1, 0, 1, 0, 0, 1, 0, 0, 1, 1, 1, 1, 0, 1, 1, 1, 1, 0, 0, 0, 1, 1, 1, 0, 1, 0, 0, 1, 1, 1, 1, 1, 1, 0, 0, 1, 0, 0, 1, 1, 0, 1, 1, 0, 0, 0, 1, 0, 1, 1, 0, 0, 0, 0, 1, 1, 0, 0, 0, 0, 0, 0, 1, 0, 1, 1, 1, 1, 0, 1, 0, 1, 1, 1, 1, 0, 1, 0, 1, 1, 0, 0, 0, 1, 1, 1, 0, 0, 0, 0, 0, 0, 1, 0, 1, 1, 1, 1, 0, 0, 1, 1, 1, 1, 0, 1, 1, 0, 0, 1, 1, 1, 0, 1, 0, 1, 0, 0, 1, 0, 1, 0, 0, 0, 0, 0, 0, 1, 1, 1, 0, 1, 1, 0, 0, 1, 0, 0, 1, 1, 1, 1, 1, 1, 1, 1, 1, 1, 1, 0, 0, 0, 0, 1, 1, 1, 1, 1, 1, 0, 0, 0, 1, 0, 1, 0, 0, 0, 0, 1, 0, 0, 0, 0, 1, 0, 0, 1, 1, 1, 1, 1, 0, 0, 0, 0, 0, 0, 0, 1, 1, 1, 1, 0, 1, 1, 0, 0, 1, 0, 0, 0, 0, 0, 1, 1, 1, 1, 1, 1, 1, 1, 1, 0, 0, 0, 1, 0, 0, 0, 1, 1, 0, 0, 1, 1, 0, 1, 0, 1, 0, 1, 1, 0, 0, 0, 0, 0, 1, 0, 0, 1, 0, 0, 0, 0, 1, 1, 0, 1, 1, 0, 0, 1, 0, 0, 0, 1, 1, 1, 0, 0, 1, 1, 0, 1, 1, 0, 0, 1, 0, 1, 1, 0, 0, 1, 0, 0, 1, 0, 0, 1, 1, 0, 0, 0, 1, 1, 0, 0, 0, 0, 0, 0, 1, 1, 0, 0, 0, 1, 1, 1, 1, 1, 1, 0, 0, 1, 1, 1, 1, 0, 0, 1, 1, 1, 1, 0, 0, 1, 0, 1, 1, 0, 1, 1, 1, 0, 0, 0, 0, 0, 1, 1, 0, 0, 1, 1, 0, 0, 0, 1, 0, 0, 1, 0, 1, 0, 1, 1, 0, 0, 1, 0, 0, 1, 0, 0, 0, 1, 1, 1, 1, 0, 1, 1, 1, 1, 0, 0, 1, 0, 0, 1, 1, 1, 0, 0, 0, 1, 1, 1, 0, 1, 1, 1, 0, 1, 1, 0, 0, 0, 1, 0, 1, 0, 0, 0, 1, 1, 0, 1, 0, 1, 0, 1, 1, 1, 1, 0, 0, 0, 1, 1, 1, 0, 0, 1, 0, 0, 1, 0, 1, 1, 1, 1, 0, 1, 0, 0, 1, 0, 1, 0, 1, 0, 1, 1, 1, 1, 1, 1, 1, 0, 0, 0, 0, 0, 0, 1, 1, 1, 0, 1, 0, 1, 1, 1, 0, 1, 1, 1, 0, 1, 1, 1, 1, 0, 1, 0, 0, 1, 0, 0, 1, 0, 0, 0, 1, 1, 1, 0, 1, 1, 1, 0, 0, 1, 1, 0, 0, 0, 1, 1, 1, 0, 1, 0, 1, 1, 0, 1, 0, 1, 1, 1, 0, 1, 1, 0, 1, 1, 1, 0, 0, 1, 0, 0, 0, 0, 1, 1, 1, 0, 0, 0, 0, 0, 0, 1, 1, 1, 0, 1, 1, 0, 1, 0, 1, 0, 0, 1, 1, 0, 0, 1, 1, 1, 0, 1, 0, 1, 1, 0, 0, 1, 1, 0, 1, 1, 0, 1, 0, 0, 1, 1, 0, 0, 1, 0, 0, 0, 0, 0, 1, 0, 1, 0, 0, 1, 1, 1, 0, 1, 1, 0, 0, 0, 0, 0, 0, 0, 0, 1, 0, 0, 0, 0, 1, 1, 1, 1, 1, 1, 1, 0, 1, 1, 1, 0, 1, 0, 0, 1, 0, 0, 0, 1, 0, 0, 1, 0, 0, 0, 1, 1, 1, 0, 1, 0, 1, 1, 0, 1, 1, 0, 0, 0, 0, 0, 1, 1, 1, 1, 0, 0, 1, 0, 1, 0, 0, 1, 1, 0, 1, 0, 0, 1, 0, 1, 1, 1, 1, 0, 1, 0, 0, 1, 1, 0, 0, 1, 1, 0, 1, 0, 1, 1, 1, 0, 1, 1, 0, 1, 1, 1, 0, 1, 1, 0, 0, 1, 1, 1, 1, 1, 0, 0, 0, 0, 1, 1, 1, 1, 0, 0, 0, 0, 0, 0, 1, 1, 1, 0, 1, 0, 1, 1, 0, 1, 1, 0, 0, 0, 1, 1, 1, 0, 0, 0, 0, 0, 1, 1, 1, 1, 0, 1, 1, 0, 0, 0, 1, 0, 1, 0, 1, 0, 1, 1, 0, 1, 1, 1, 1, 1, 0, 1, 0, 1, 1, 1, 1, 1, 0, 1, 1, 0, 0, 0, 1, 1, 0, 0, 0, 0, 0, 1, 1, 1, 0, 1, 1, 1, 1, 1, 1, 0, 0, 0, 1, 0, 1, 0, 0, 0, 0, 0, 0, 1, 1, 1, 0, 1, 1, 0, 1, 1, 0, 1, 0, 1, 0, 0, 1, 1, 1, 0, 1, 0, 0, 0, 0, 0, 1, 0, 0, 0, 0, 1, 1, 1, 1, 1, 1, 0, 0, 0, 0, 1, 1, 1, 0, 1, 0, 1, 0, 0, 0, 1, 1, 0, 1, 1, 1, 1, 0, 0, 0, 0, 1, 1, 1, 0, 0, 1, 0, 0, 1, 0, 1, 0, 1, 0, 0, 0, 0, 0, 1, 0, 1, 1, 1, 0, 1, 1, 0, 1, 1, 0, 0, 1, 1, 0, 0, 0, 0, 1, 0, 1, 0, 0, 0, 0, 1, 1, 1, 1, 0, 0, 1, 1, 1, 1, 0, 0, 0, 0, 1, 1, 0, 1, 1, 0, 0, 0, 0, 0, 1, 0, 1, 1, 1, 0, 1, 0, 0, 0, 1, 1, 0, 1, 0, 1, 0, 0, 1, 0, 1, 1, 0, 1, 1, 1, 0, 0, 0, 1, 0, 1, 1, 1, 1, 1, 0, 0, 0, 0, 1, 0, 1, 1, 1, 1, 0, 1, 1, 0, 0, 1, 1, 0, 1, 1, 0, 1, 1, 0, 0, 0, 0, 0, 0, 1, 1, 0, 0, 1, 0, 1, 1, 1, 1, 1, 1, 1, 1, 1, 1, 1, 0, 1, 0, 0, 0, 1, 0, 1, 0, 1, 1, 1, 1, 0, 1, 1, 0, 0, 1, 1, 1, 1, 1, 0, 1, 1, 1, 1, 1, 1, 1, 1, 1, 0, 1, 1, 0, 1, 1, 1, 0, 0, 1, 0, 0, 1, 1, 0, 1, 0, 0, 0, 0, 0, 1, 1, 0, 1, 1, 0, 0, 0, 0, 1, 0, 1, 0, 0, 1, 1, 0, 0, 1, 0, 0, 0, 0, 0, 1, 1, 0, 0, 1, 0, 1, 0, 0, 1, 0, 0, 0, 0, 0, 1, 1, 1, 1, 1, 0, 1, 1, 0, 0, 1, 0, 1, 0, 1, 0, 0, 1, 1, 1, 1, 1, 1, 0, 0, 1, 1, 1, 0, 1, 1, 1, 1, 1, 1, 1, 1, 1, 0, 1, 1, 0, 1, 1, 1, 0, 1, 1, 1, 1, 1, 1, 0, 1, 1, 1, 0, 1, 1, 0, 1, 1, 0, 0, 0, 1, 1, 0, 1, 0, 0, 0, 0, 1, 1, 0, 0, 1, 1, 1, 0, 0, 1, 0, 1, 0, 0, 1, 1, 1, 0, 0, 0, 1, 0, 1, 1, 0, 1, 1, 1, 0, 0, 1, 1, 0, 0, 0, 1, 1, 0, 1, 1, 1, 0, 1, 0, 1, 0, 0, 1, 1, 0, 1, 1, 1, 0, 0, 1, 0, 1, 1, 1, 1, 0, 0, 0, 1, 1, 0, 0, 1, 1, 1, 1, 0, 0, 0, 1, 0, 1, 1, 1, 1, 1, 0, 1, 0, 1, 0, 0, 1, 1, 1, 1, 1, 0, 1, 0, 0, 0, 1, 1, 0, 0, 1, 1, 0, 1, 0, 0, 1, 1, 0, 0, 1, 0, 0, 0, 1, 1, 0, 1, 1, 0, 0, 1, 0, 1, 1, 1, 0, 1, 1, 1, 1, 1, 1, 0, 1, 0, 1, 0, 1, 1, 1, 1, 0, 0, 0, 1, 0, 1, 0, 1, 0, 1, 0, 1, 1, 0, 1, 0, 0, 0, 0, 1, 0, 0, 0, 0, 0, 0, 1, 1, 1, 0, 0, 1, 0, 0, 0, 0, 1, 1, 1, 0, 0, 0, 1, 0, 0, 0, 1, 1, 0, 1, 0, 1, 1, 1, 0, 1, 0, 0, 1, 0, 0, 0, 1, 1, 1, 0, 1, 1, 1, 0, 0, 0, 1, 0, 1, 0, 0, 1, 1, 1, 0, 0, 1, 0, 0, 1, 1, 0, 0, 1, 1, 1, 1, 0, 1, 0, 1, 1, 0, 0, 1, 1, 0, 0, 1, 1, 0, 1, 1, 0, 1, 1, 0, 0, 1, 0, 1, 0, 1, 0, 1, 0, 0, 1, 1, 0, 0, 0, 0, 1, 1, 0, 0, 0, 0, 1, 1, 0, 1, 1, 0, 0, 0, 0, 1, 1, 1, 1, 0, 0, 0, 0, 1, 1, 1, 1, 1, 1, 0, 0, 0, 0, 0, 0, 1, 1, 1, 0, 0, 1, 0, 0, 0, 0, 0, 0, 1, 1, 1, 1, 0, 1, 1, 1, 0, 0, 0, 1, 0, 1, 0, 0, 1, 1, 1, 0, 1, 0, 1, 1, 1, 0, 1, 0, 0, 0, 0, 1, 1, 0, 0, 1, 1, 1, 1, 1, 0, 0, 1, 1, 1, 1, 1, 0, 1, 1, 1, 0, 0, 1, 1, 0, 0, 1, 1, 0, 0, 0, 0, 0, 0, 0, 0, 1, 1, 1, 1, 0, 1, 0, 0, 1, 1, 1, 0, 1, 0, 1, 0, 0, 0, 1, 0, 1, 0, 1, 1, 1, 1, 1, 1, 0, 1, 0, 0, 1, 0, 0, 1, 0, 0, 0, 1, 0, 0, 1, 1, 0, 1, 1, 0, 0, 0, 0, 0, 1, 0, 0, 1, 1, 1, 1, 1, 0, 1, 0, 1, 0, 0, 1, 1, 1, 1, 1, 0, 0, 0, 0, 0, 1, 1, 0, 0, 1, 0, 0, 0, 1, 1, 1, 0, 0, 0, 1, 0, 0, 0, 1, 0, 1, 1, 0, 1, 1, 1, 0, 1, 1, 1, 1, 1, 0, 0, 0, 1, 1, 1, 1, 0, 0, 0, 1, 1, 1, 0, 1, 1, 1, 1, 1, 1, 1, 1, 1, 0, 0, 0, 1, 0, 1, 0, 1, 1, 1, 0, 0, 1, 1, 1, 1, 0, 1, 0, 1, 0, 1, 0, 1, 1, 1, 1, 0, 0, 0, 0, 1, 1, 1, 1, 0, 0, 1, 0, 1, 0, 0, 1, 0, 1, 1, 1, 0, 1, 0, 1, 1, 1, 1, 1, 0, 0, 1, 0, 0, 0, 1, 1, 0, 0, 0, 0, 0, 0, 1, 1, 1, 0, 1, 0, 1, 0, 0, 0, 1, 0, 0, 0, 0, 1, 1, 0, 0, 0, 0, 1, 0, 1, 0, 0, 1, 1, 1, 0, 1, 0, 0, 1, 0, 0, 0, 0, 1, 0, 1, 0, 1, 1, 1, 1, 0, 0, 1, 1, 0, 0, 1, 0, 0, 0, 0, 0, 0, 1, 1, 1, 0, 1, 1, 1, 0, 0, 1, 0, 1, 0, 1, 0, 1, 1, 0, 1, 0, 0, 1, 0, 0, 1, 0, 1, 0, 0, 1, 0, 1, 1, 1, 1, 1, 0, 1, 1, 1, 0, 1, 1, 0, 1, 1, 0, 0, 1, 0, 1, 1, 0, 1, 1, 0, 1, 0, 1, 0, 0, 1, 0, 0, 1, 1, 0, 0, 1, 1, 1, 1, 1, 1, 1, 1, 1, 1, 0, 1, 0, 1, 1, 0, 0, 0, 1, 0, 0, 0, 1, 0, 0, 0, 0, 1, 0, 1, 0, 1, 0, 0, 0, 0, 1, 0, 0, 1, 0, 1, 1, 0, 1, 1, 0, 0, 0, 1, 0, 0, 1, 1, 1, 0, 1, 1, 0, 1, 0, 0, 0, 0, 0, 0, 1, 1, 0, 0, 0, 1, 1, 1, 1, 0, 0, 1, 0, 0, 1, 1, 0, 1, 0, 1, 0, 1, 0, 0, 1, 0, 0, 0, 1, 1, 1, 0, 0, 1, 1, 1, 1, 0, 0, 1, 0, 1, 1, 1, 1, 0, 1, 1, 0, 1, 1, 1, 1, 1, 0, 0, 0, 1, 1, 1, 0, 0, 1, 1, 1, 1, 1, 0, 1, 0, 1, 0, 1, 0, 1, 0, 0, 0, 1, 0, 0, 1, 0, 1, 1, 0, 0, 0, 0, 0, 0, 0, 1, 1, 0, 1, 0, 0, 1, 1, 0, 1, 1, 0, 0, 1, 1, 0, 1, 1, 1, 1, 0, 0, 1, 1, 0, 1, 1, 1, 0, 0, 1, 1, 1, 0, 0, 1, 0, 0, 0, 1, 1, 1, 1, 1, 1, 0, 1, 0, 1, 0, 1, 1, 1, 1, 0, 0, 1, 1, 1, 1, 1, 1, 0, 1, 1, 0, 1, 1, 0, 1, 1, 0, 1, 1, 1, 0, 1, 1, 0, 0, 1, 0, 0, 1, 1, 0, 1, 1, 0, 1, 1, 0, 0, 1, 0, 0, 1, 1, 0, 0, 1, 0, 0, 1, 0, 1, 0, 1, 1, 0, 1, 1, 1, 1, 1, 0, 1, 0, 1, 0, 0, 0, 1, 0, 0, 0, 0, 0, 0, 0, 1, 1, 1, 0, 1, 0, 0, 1, 0, 1, 1, 1, 1, 0, 1, 0, 1, 0, 1, 0, 0, 1, 0, 1, 0, 0, 1, 1, 0, 1, 1, 0, 0, 1, 0, 1, 1, 1, 0, 0, 0, 0, 1, 0, 0, 0, 0, 0, 1, 0, 0, 0, 1, 0, 1, 0, 1, 1, 1, 1, 1, 1, 1, 0, 1, 0, 0, 1, 1, 1, 1, 0, 0, 0, 1, 1, 1, 0, 0, 0, 0, 0, 0, 0, 1, 1, 1, 1, 0, 0, 0, 1, 0, 0, 0, 1, 1, 0, 0, 0, 0, 1, 1, 1, 1, 0, 1, 1, 1, 1, 1, 0, 1, 1, 0, 0, 1, 1, 0, 1, 0, 0, 0, 0, 0, 0, 1, 1, 1, 1, 0, 0, 1, 1, 0, 0, 1, 1, 1, 0, 0, 0, 1, 1, 1, 0, 1, 1, 1, 0, 0, 1, 1, 1, 0, 1, 1, 0, 0, 1, 1, 0, 0, 1, 0, 1, 1, 0, 0, 0, 1, 1, 1, 0, 1, 1, 0, 0, 1, 1, 1, 1, 1, 1, 0, 1, 0, 1, 0, 0, 0, 1, 0, 0, 1, 0, 0, 1, 0, 1, 1, 1, 0, 0, 1, 0, 0, 0, 0, 1, 0, 0, 1, 1, 1, 0, 0, 1, 1, 0, 0, 1, 0, 0, 1, 0, 1, 0, 0, 1, 1, 0, 1, 1, 1, 1, 0, 0, 1, 1, 1, 1, 1, 0, 1, 0, 1, 0, 0, 1, 0, 1, 0, 0, 0, 1, 1, 1, 0, 1, 0, 1, 0, 1, 0, 0, 1, 0, 0, 0, 1, 1, 0, 1, 0, 1, 0, 1, 1, 1, 1, 0, 0, 1, 1, 1, 0, 1, 0, 1, 0, 1, 1, 1, 0, 1, 0, 1, 0, 0, 1, 1, 0, 0, 0, 1, 1, 1, 1, 0, 1, 1, 0, 1, 1, 1, 0, 1, 1, 1, 1, 0, 1, 0, 1, 0, 1, 1, 0, 0, 1, 0, 0, 1, 0, 0, 1, 1, 1, 1, 1, 0, 1, 1, 0, 0, 0, 1, 1, 0, 0, 1, 1, 0, 1, 1, 0, 0, 0, 1, 1, 1, 1, 0, 1, 0, 1, 0, 0, 1, 0, 1, 1, 0, 0, 0, 1, 1, 0, 1, 0, 0, 0, 1, 0, 1, 0, 1, 0, 1, 1, 0, 0, 0, 1, 1, 0, 1, 1, 1, 1, 1, 0, 1, 0, 1, 1, 1, 0, 0, 0, 1, 0, 1, 0, 1, 1, 0, 0, 1, 0, 1, 1, 1, 1, 1, 0, 0, 0, 1, 1, 0, 0, 1, 0, 1, 0, 1, 1, 1, 1, 0, 1, 1, 0, 1, 0, 0, 1, 1, 0, 0, 0, 1, 1, 1, 0, 1, 0, 0, 1, 1, 0, 1, 0, 0, 1, 0, 1, 0, 0, 1, 1, 0, 0, 1, 1, 1, 1, 0, 1, 0, 1, 0, 0, 0, 1, 1, 0, 1, 1, 0, 0, 0, 1, 1, 0, 1, 0, 0, 1, 0, 1, 0, 1, 0, 1, 1, 0, 0, 1, 0, 1, 0, 1, 0, 0, 0, 1, 0, 1, 0, 1, 0, 1, 0, 0, 0, 1, 0, 1, 0, 1, 1, 0, 1, 0, 0, 0, 1, 1, 0, 1, 1, 1, 1, 0, 1, 0, 1, 1, 1, 1, 1, 0, 0, 0, 1, 1, 1, 0, 0, 0, 1, 1, 1, 1, 0, 0, 1, 0, 1], \"coloraxis\": \"coloraxis\", \"symbol\": \"circle\"}, \"mode\": \"markers\", \"name\": \"\", \"showlegend\": false, \"type\": \"scattergl\", \"x\": [95.8, 85.0, 68.2, 83.6, 76.8, 87.0, 67.5, 91.0, 91.2, 72.2, 83.7, 86.0, 69.83, 62.4, 79.9, 64.43, 74.8, 66.66, 64.8, 62.2, 84.63, 74.4, 95.2, 43.42, 90.0, 82.8, 82.5, 83.0, 68.0, 74.0, 92.0, 86.1, 84.4, 68.4, 68.0, 61.0, 93.8, 85.4, 67.0, 89.66, 68.6, 60.0, 73.0, 87.7, 82.5, 87.16, 82.0, 71.4, 75.0, 61.46, 49.5, 72.5, 81.5, 78.0, 64.8, 90.1, 70.1, 95.4, 61.1, 49.0, 79.0, 88.3, 77.8, 62.4, 83.0, 79.0, 94.4, 79.0, 86.67, 73.2, 92.0, 64.0, 75.0, 64.0, 77.0, 78.67, 90.0, 72.0, 78.2, 95.0, 82.4, 60.2, 62.6, 70.0, 71.33, 70.08, 78.0, 56.0, 60.0, 80.0, 84.33, 75.0, 87.9, 65.0, 68.5, 94.2, 66.0, 88.0, 76.6, 50.8, 72.0, 66.5, 76.4, 61.0, 61.0, 92.0, 65.8, 61.0, 48.0, 73.2, 63.0, 71.55, 86.33, 74.0, 71.3, 72.0, 72.0, 57.6, 83.4, 75.16, 76.6, 60.0, 77.77, 60.25, 89.6, 86.4, 67.0, 80.4, 59.0, 63.0, 73.6, 63.6, 61.1, 66.6, 86.8, 63.0, 77.0, 79.6, 87.58, 81.4, 76.4, 89.0, 62.0, 62.0, 66.66, 47.0, 72.0, 77.2, 71.2, 78.0, 54.0, 80.0, 67.6, 91.9, 67.6, 80.0, 63.1, 60.2, 76.6, 79.0, 69.0, 61.0, 72.0, 68.46, 85.2, 72.0, 89.6, 64.0, 78.4, 82.2, 95.6, 81.33, 70.0, 88.9, 82.75, 72.6, 66.67, 67.0, 78.4, 70.2, 76.8, 61.5, 88.9, 70.6, 79.4, 61.8, 48.0, 95.5, 67.0, 79.0, 80.7, 60.4, 77.14, 74.0, 75.2, 81.2, 80.8, 88.88, 87.0, 83.9, 86.0, 67.0, 65.2, 83.1, 78.2, 80.6, 87.0, 70.16, 90.91, 84.7, 69.0, 74.4, 68.55, 59.16, 78.83, 83.0, 67.0, 65.0, 59.9, 75.6, 87.8, 72.0, 67.0, 87.0, 79.2, 75.0, 68.4, 83.0, 68.0, 80.3, 81.4, 82.1, 65.5, 84.3, 68.0, 60.0, 62.2, 64.4, 68.0, 91.6, 95.3, 69.0, 69.8, 86.9, 73.4, 56.9, 86.7, 60.0, 64.7, 80.5, 69.0, 61.6, 90.7, 81.0, 78.0, 63.0, 57.0, 66.0, 62.0, 61.0, 92.6, 78.6, 80.0, 71.0, 71.5, 70.4, 77.2, 89.5, 76.66, 75.0, 80.1, 68.0, 65.0, 70.0, 78.0, 92.0, 83.0, 54.4, 62.0, 80.9, 84.8, 69.45, 93.4, 56.8, 91.5, 60.0, 70.0, 90.67, 77.8, 64.5, 81.2, 96.1, 62.8, 61.0, 94.1, 89.7, 85.0, 86.0, 80.4, 78.6, 74.0, 76.0, 66.0, 91.2, 73.8, 61.6, 75.0, 63.0, 78.3, 56.0, 65.0, 96.6, 60.17, 85.0, 56.0, 75.4, 72.4, 52.0, 77.4, 69.6, 81.0, 84.8, 85.0, 56.2, 67.0, 62.0, 82.0, 62.0, 78.43, 72.6, 82.0, 72.4, 82.7, 68.0, 75.0, 73.2, 74.45, 76.0, 54.4, 64.8, 76.2, 68.8, 78.8, 61.0, 79.0, 50.0, 66.6, 67.4, 65.2, 95.41, 73.8, 71.0, 66.0, 74.0, 84.0, 68.2, 71.08, 86.0, 67.4, 69.6, 94.5, 81.4, 67.75, 71.0, 87.1, 85.0, 81.8, 75.0, 80.4, 70.0, 82.8, 78.8, 75.2, 72.2, 80.2, 81.0, 71.0, 80.9, 67.0, 57.0, 70.1, 83.58, 62.83, 68.2, 69.4, 86.5, 77.2, 61.0, 79.4, 66.0, 68.0, 67.67, 81.0, 74.8, 80.4, 74.2, 68.4, 62.0, 66.4, 55.0, 69.6, 95.3, 71.0, 63.0, 87.0, 66.0, 89.0, 60.4, 59.0, 95.0, 76.0, 61.2, 64.6, 43.12, 80.8, 64.0, 61.57, 84.5, 79.0, 69.0, 83.8, 64.8, 89.1, 75.0, 79.0, 74.6, 56.0, 60.2, 70.0, 81.1, 91.2, 76.0, 80.83, 56.0, 68.0, 67.8, 71.0, 76.5, 65.8, 69.0, 92.0, 75.6, 66.0, 65.0, 73.8, 87.83, 78.0, 54.0, 84.5, 75.16, 69.9, 88.4, 58.55, 83.33, 64.8, 68.0, 61.0, 74.0, 75.0, 82.6, 69.2, 78.0, 91.0, 63.0, 81.0, 63.2, 62.0, 86.8, 83.0, 69.0, 88.7, 72.0, 62.66, 61.0, 76.0, 76.6, 61.7, 96.7, 85.0, 73.0, 95.0, 62.5, 52.0, 79.57, 88.0, 93.0, 78.8, 61.0, 70.0, 85.4, 74.0, 73.6, 82.4, 74.4, 65.8, 73.0, 78.16, 74.92, 77.0, 79.4, 69.6, 94.16, 51.4, 68.4, 84.0, 75.2, 63.6, 65.0, 76.8, 97.1, 73.4, 65.0, 94.9, 86.0, 81.0, 77.0, 70.2, 70.0, 87.4, 74.0, 76.0, 64.0, 63.4, 64.0, 93.0, 82.0, 66.6, 87.66, 52.0, 68.0, 65.4, 78.0, 55.0, 76.6, 69.4, 77.2, 84.5, 68.67, 68.0, 69.0, 58.0, 83.6, 68.66, 93.0, 64.0, 68.0, 68.0, 72.0, 74.0, 66.0, 70.0, 73.8, 88.0, 77.2, 67.7, 91.3, 70.0, 79.2, 71.4, 76.6, 79.8, 71.08, 81.6, 74.0, 67.25, 72.0, 69.0, 69.4, 55.2, 84.0, 65.6, 55.0, 80.6, 72.4, 68.0, 64.3, 74.4, 73.0, 86.0, 75.0, 51.63, 63.0, 76.0, 67.0, 59.0, 91.0, 66.4, 70.2, 75.4, 74.2, 78.4, 73.0, 74.8, 63.0, 84.0, 66.0, 73.2, 93.7, 97.1, 69.04, 63.0, 50.2, 96.5, 68.0, 77.7, 80.4, 93.0, 90.2, 88.0, 72.67, 93.4, 73.83, 79.0, 66.66, 85.4, 64.4, 62.4, 61.0, 71.9, 74.0, 82.83, 83.0, 82.08, 80.0, 61.5, 88.4, 80.2, 65.2, 58.0, 73.0, 65.0, 78.8, 75.0, 77.38, 68.4, 71.0, 68.0, 71.8, 66.8, 63.2, 68.0, 71.25, 70.4, 53.0, 76.62, 61.0, 72.5, 72.0, 73.0, 56.0, 80.2, 83.0, 72.77, 66.0, 72.0, 79.83, 95.4, 73.8, 81.0, 74.6, 68.2, 60.0, 77.3, 81.17, 64.8, 81.12, 60.0, 80.4, 80.0, 66.4, 62.16, 84.0, 91.5, 89.0, 87.0, 78.3, 81.0, 80.0, 67.68, 63.4, 78.2, 70.6, 57.8, 57.0, 63.0, 85.3, 70.16, 70.0, 83.67, 64.0, 77.0, 83.0, 75.69, 61.2, 75.9, 79.0, 55.02, 77.5, 88.83, 78.0, 75.5, 92.3, 66.0, 63.4, 72.2, 67.2, 62.3, 72.48, 79.8, 59.2, 72.8, 77.4, 73.0, 85.0, 60.13, 59.0, 50.0, 81.1, 69.83, 94.3, 74.6, 83.33, 61.0, 72.6, 63.4, 70.0, 88.0, 89.8, 81.3, 82.02, 60.0, 71.0, 91.3, 76.89, 82.0, 68.4, 66.0, 60.16, 91.9, 64.0, 73.0, 78.4, 81.2, 77.6, 87.0, 69.33, 64.0, 77.6, 61.2, 94.2, 80.2, 76.0, 87.5, 74.8, 74.5, 76.0, 82.4, 46.0, 74.88, 78.2, 68.33, 84.67, 65.0, 87.2, 76.5, 91.0, 60.0, 81.6, 66.3, 70.6, 76.0, 58.6, 67.6, 71.0, 71.8, 60.4, 64.0, 77.0, 62.2, 85.36, 87.0, 80.0, 70.6, 79.0, 50.0, 60.0, 68.7, 87.4, 65.5, 79.6, 61.8, 55.54, 90.2, 68.89, 74.0, 68.2, 67.4, 84.4, 79.0, 64.8, 66.0, 82.0, 82.3, 58.2, 68.0, 76.0, 66.0, 48.34, 81.5, 54.2, 72.6, 92.7, 71.01, 94.3, 85.0, 82.8, 91.0, 53.8, 60.0, 87.4, 79.0, 86.0, 89.5, 60.4, 59.0, 70.2, 72.4, 86.8, 56.6, 77.2, 77.2, 81.0, 60.0, 91.9, 83.0, 65.4, 75.2, 66.77, 62.0, 71.6, 73.0, 86.0, 90.6, 82.66, 89.08, 71.0, 62.2, 93.6, 72.3, 72.2, 77.0, 74.0, 67.0, 80.0, 63.0, 93.0, 94.3, 81.5, 69.7, 72.8, 84.17, 79.0, 63.0, 77.0, 68.67, 91.9, 92.1, 84.0, 68.4, 77.4, 85.0, 90.4, 60.2, 62.2, 92.67, 64.33, 84.0, 72.6, 71.0, 76.0, 75.0, 59.0, 63.0, 86.1, 69.0, 71.0, 72.0, 74.0, 62.81, 74.92, 61.7, 62.8, 63.0, 67.17, 65.0, 74.4, 95.1, 68.83, 52.0, 97.8, 67.4, 65.0, 70.0, 73.0, 85.4, 87.1, 85.4, 80.0, 87.2, 67.0, 71.0, 69.4, 74.2, 88.1, 94.2, 61.0, 78.0, 61.0, 76.0, 48.8, 72.0, 71.0, 60.05, 79.6, 70.0, 80.0, 92.0, 90.0, 96.5, 69.07, 89.0, 82.3, 61.0, 81.0, 77.0, 56.6, 66.6, 89.3, 86.3, 85.4, 94.6, 83.0, 65.0, 86.25, 79.23, 80.0, 63.0, 79.6, 84.0, 75.5, 97.0, 84.75, 86.0, 74.0, 89.2, 77.54, 60.8, 90.4, 82.2, 64.0, 77.0, 77.4, 88.0, 67.0, 92.0, 89.7, 67.2, 73.4, 55.0, 87.8, 81.2, 63.0, 84.6, 80.0, 83.0, 86.2, 67.8, 66.6, 65.16, 65.0, 74.0, 90.7, 84.0, 69.0, 53.0, 80.1, 74.6, 61.0, 64.0, 94.33, 74.0, 78.8, 61.0, 56.0, 74.67, 75.0, 62.0, 75.6, 71.0, 62.0, 94.7, 78.2, 74.0, 92.2, 90.33, 78.0, 60.0, 60.8, 70.0, 81.4, 55.0, 71.8, 62.0, 73.61, 80.5, 64.0, 72.0, 53.6, 72.4, 79.0, 58.4, 74.6, 69.0, 63.4, 61.0, 60.0, 60.0, 83.8, 78.86, 95.3, 68.0, 68.0, 86.0, 64.0, 72.0, 76.44, 78.66, 64.4, 75.6, 61.0, 79.83, 91.0, 73.2, 68.67, 97.5, 80.7, 72.0, 82.6, 77.4, 88.0, 76.0, 71.6, 84.6, 74.0, 62.26, 84.5, 61.0, 69.84, 78.13, 66.4, 60.83, 91.5, 77.0, 84.3, 54.0, 62.0, 65.0, 88.3, 81.0, 51.3, 83.0, 65.2, 86.0, 95.6, 57.67, 84.0, 84.0, 70.0, 81.4, 90.1, 65.6, 59.0, 63.2, 50.0, 70.0, 91.5, 67.9, 78.0, 56.3, 68.0, 64.0, 89.0, 75.0, 73.0, 67.0, 59.9, 55.0, 60.0, 70.0, 64.0, 65.0, 82.0, 75.0, 95.2, 62.0, 50.0, 88.6, 82.2, 70.0, 94.9, 77.2, 64.4, 52.5, 90.6, 75.4, 64.0, 73.0, 61.6, 67.6, 76.33, 94.0, 81.0, 69.4, 65.0, 64.88, 81.6, 77.2, 80.75, 71.66, 76.0, 78.0, 69.0, 50.3, 82.6, 76.0, 67.0, 86.4, 66.8, 95.1, 75.0, 81.0, 72.4, 66.0, 84.0, 93.0, 76.67, 88.0, 56.0, 67.57, 70.2, 64.0, 64.45, 69.5, 62.66, 62.0, 88.0, 72.15, 81.8, 58.4, 91.0, 60.0, 71.4, 66.0, 67.5, 63.0, 70.0, 91.0, 79.0, 78.2, 59.77, 75.6, 69.0, 63.0, 87.0, 91.0, 61.0, 61.4, 80.2, 70.2, 63.2, 73.0, 72.0, 68.0, 72.1, 73.8, 90.25, 70.4, 69.0, 83.6, 77.0, 70.0, 77.0, 63.6, 63.6, 65.0, 92.7, 85.4, 69.6, 81.5, 97.4, 66.4, 90.1, 80.8, 73.6, 89.6, 65.2, 72.8, 89.4, 78.0, 95.8, 78.0, 70.0, 57.5, 83.0, 84.8, 69.6, 89.6, 71.0, 72.0, 73.6, 61.0, 76.0, 70.8, 75.6, 86.0, 56.4, 69.4, 89.0, 78.3, 67.0, 64.0, 60.8, 73.0, 66.6, 62.0, 82.8, 96.2, 88.77, 83.6, 70.0, 96.0, 78.0, 97.0, 71.0, 74.0, 83.2, 73.0, 83.0, 82.2, 74.0, 84.8, 58.0, 70.0, 90.7, 75.6, 69.17, 69.0, 80.33, 84.4, 73.0, 61.0, 79.04, 62.0, 60.2, 81.4, 84.4, 63.4, 73.0, 84.0, 76.44, 85.0, 59.8, 64.5, 76.4, 71.2, 71.5, 80.4, 70.0, 89.0, 73.4, 66.4, 81.66, 77.0, 76.0, 66.6, 58.4, 73.8, 75.0, 88.0, 76.2, 69.0, 78.0, 64.4, 62.0, 65.16, 95.0, 87.9, 93.8, 61.0, 94.6, 89.6, 70.0, 81.66, 90.2, 72.46, 82.83, 59.0, 57.8, 55.0, 70.2, 92.5, 60.2, 86.0, 82.6, 82.8, 50.5, 74.4, 72.0, 69.6, 79.4, 63.6, 73.6, 78.0, 76.0, 76.0, 96.8, 72.0, 65.2, 86.0, 69.8, 89.2, 78.0, 81.2, 93.5, 58.4, 66.0, 77.0, 65.33, 67.8, 55.0, 81.2, 69.4, 92.4, 90.2, 72.66, 79.8, 77.2, 87.33, 72.6, 89.5, 67.5, 94.8, 60.3, 73.0, 69.0, 60.0, 73.0, 90.3, 74.8, 74.5, 68.0, 69.0, 74.0, 62.6, 61.17, 70.4, 65.0, 77.0, 82.25, 72.0, 88.5, 64.8, 78.0, 81.4, 87.7, 75.11, 70.33, 83.6, 68.2, 87.2, 79.2, 82.3, 70.0, 95.0, 60.0, 82.0, 71.0, 85.8, 61.6, 88.8, 69.0, 64.6, 68.0, 78.0, 86.0, 45.6, 75.0, 78.0, 90.0, 72.0, 58.33, 92.3, 68.2, 97.5, 66.8, 89.6, 96.1, 70.6, 94.1, 74.0, 76.24, 73.0, 82.6, 91.0, 80.9, 65.0, 62.0, 71.0, 56.6, 68.0, 45.0, 68.0, 75.0, 60.0, 71.6, 63.0, 80.0, 80.6, 68.3, 67.6, 58.0, 94.5, 68.7, 64.0, 90.0, 89.75, 73.6, 72.0, 69.67, 74.0, 67.0, 88.2, 87.2, 65.0, 79.6, 75.0, 91.0, 66.8, 58.6, 60.8, 78.8, 78.0, 65.56, 95.0, 75.5, 76.5, 97.4, 83.8, 71.5, 74.12, 86.4, 86.54, 61.2, 57.11, 83.6, 65.66, 60.2, 95.2, 85.67, 80.0, 72.8, 67.4, 96.3, 81.0, 69.2, 72.0, 76.2, 70.0, 84.4, 83.2, 74.0, 79.0, 72.31, 65.0, 70.3, 65.0, 86.0, 69.4, 77.86, 94.75, 67.4, 69.32, 72.0, 67.4, 84.9, 78.8, 80.0, 82.6, 72.2, 60.1, 74.4, 75.0, 61.0, 78.2, 88.6, 80.4, 86.6, 88.0, 69.0, 70.15, 93.0, 82.0, 62.2, 66.62, 83.0, 69.83, 88.0, 60.0, 91.0, 74.0, 79.16, 70.0, 55.0, 69.4, 86.0, 76.7, 81.0, 87.7, 65.25, 92.2, 71.3, 93.3, 68.15, 78.6, 80.25, 66.0, 76.77, 63.0, 65.0, 67.6, 65.9, 60.0, 78.2, 79.0, 82.0, 79.6, 82.2, 76.8, 83.0, 86.4, 91.25, 88.2, 54.14, 92.0, 55.55, 57.6, 63.0, 70.1, 78.8, 67.0, 76.4, 85.0, 95.65, 79.83, 62.0, 68.6, 75.91, 94.7, 71.0, 62.0, 68.0, 66.2, 70.66, 59.4, 62.0, 68.0, 80.0, 58.92, 66.0, 65.0, 89.6, 55.2, 51.0, 63.7, 91.0, 83.2, 63.0, 83.2, 69.0, 85.5, 68.0, 70.83, 62.2, 77.0, 77.6, 69.8, 85.0, 71.0, 92.4, 67.0, 81.7, 63.8, 68.0, 97.0, 67.0, 87.7, 75.25, 81.1, 78.0, 78.0, 80.0, 74.2, 70.0, 78.0, 56.0, 96.0, 43.0, 62.6, 69.5, 61.16, 56.12, 68.3, 81.4, 77.0, 60.66, 82.0, 79.0, 60.0, 69.58, 70.04, 68.0, 65.6, 88.7, 49.0, 66.8, 74.0, 89.8, 79.67, 62.6, 49.67, 72.6, 69.2, 66.67, 73.8, 53.6, 66.6, 68.0, 73.4, 72.5, 88.0, 80.0, 88.0, 76.3, 80.0, 76.0, 82.1, 78.8, 74.0, 54.14, 71.0, 74.0, 87.0, 75.67, 81.5, 67.6, 68.0, 57.6, 87.0, 68.0, 61.3, 82.33, 88.33, 88.45, 96.75, 84.25, 86.0, 83.0, 67.8, 78.5, 64.0, 77.85, 80.83, 82.46, 66.0, 71.0, 75.6, 72.0, 66.0, 74.3, 71.2, 73.67, 75.6, 64.8, 73.0, 60.01, 81.0, 60.0, 80.0, 74.0, 67.8, 70.2, 81.8, 91.33, 71.6, 77.0, 83.4, 81.2, 76.0, 66.0, 63.0, 84.0, 84.0, 64.0, 76.0, 69.16, 57.8, 60.4, 90.6, 74.5, 83.0, 80.8, 70.0, 63.0, 62.0, 56.0, 65.2, 65.0, 67.0, 71.6, 71.0, 91.7, 82.0, 70.0, 64.0, 65.83, 62.0, 74.0, 63.4, 65.8, 59.0, 64.8, 82.5, 92.5, 82.8, 79.6, 52.0, 72.0, 74.83, 75.0, 86.2, 67.0, 71.8, 83.0, 79.8, 58.5, 85.2, 82.0, 72.17, 87.6, 67.0, 75.85, 79.0, 86.0, 70.0, 61.0, 66.2, 65.0, 76.0, 79.87, 95.8, 77.0, 77.0, 70.0, 77.0, 72.0, 85.9, 87.2, 81.4, 82.4, 66.0, 58.0, 79.4, 85.6, 75.0, 91.0, 71.0, 81.2, 72.8, 60.0, 71.8, 67.0, 63.0, 76.2, 75.5, 81.0, 76.6, 56.0, 77.8, 71.0, 61.2, 84.0, 68.8, 75.0, 85.7, 75.6, 86.8, 95.2, 67.7, 58.4, 73.11, 55.0, 73.2, 72.0, 88.0, 70.0, 62.0, 88.66, 82.56, 49.5, 69.0, 65.0, 84.6, 88.4, 93.0, 86.1, 64.0, 78.34, 92.2, 93.6, 68.0, 60.0, 82.6, 69.6, 81.0, 49.0, 74.0, 58.0, 89.33, 56.0, 60.3, 79.9, 66.6, 59.0, 63.0, 95.5, 60.0, 70.0, 87.6, 57.8, 73.2, 83.7, 79.6, 73.2, 69.2, 66.0, 92.5, 66.15, 77.0, 62.0, 94.1, 77.0, 87.25, 59.0, 68.0, 68.0, 62.8, 69.53, 70.0, 84.0, 53.17, 72.5, 72.0, 94.16, 79.19, 77.16, 83.6, 83.8, 91.3, 82.8, 70.4, 54.08, 82.0, 69.0, 52.0, 60.2, 52.2, 76.0, 70.0, 83.5, 73.0, 69.2, 74.0, 68.0, 71.5, 87.0, 70.4, 95.2, 79.9, 59.0, 60.0, 76.0, 81.6, 83.6, 71.3, 56.9, 78.8, 60.0, 63.0, 83.0, 88.8, 60.66, 73.0, 79.0, 66.6, 75.0, 65.0, 65.8, 66.66, 72.0, 82.0, 85.57, 76.2, 80.5, 69.83, 76.0, 83.5, 79.6, 62.8, 73.0, 78.8, 57.0, 80.3, 68.0, 84.0, 60.33, 53.0, 89.4, 70.08, 71.0, 86.5, 76.0, 82.0, 93.5, 68.8, 75.2, 62.0, 73.0, 77.2, 65.0, 71.6, 63.0, 70.0, 67.23, 64.33, 71.0, 47.6, 68.0, 73.25, 66.0, 61.0, 74.67, 63.0, 79.4, 63.6, 86.6, 69.88, 73.2, 81.0, 87.8, 87.83, 87.0, 75.5, 69.0, 84.53, 89.9, 62.0, 52.5, 65.0, 71.8, 79.83, 59.4, 74.6, 63.0, 77.0, 79.3, 67.0, 69.7, 84.0, 74.6, 65.0, 67.75, 65.6, 92.5, 75.0, 66.3, 91.0, 94.6, 72.0, 85.0, 77.6, 63.6, 67.0, 68.0, 93.1, 79.0, 82.5, 80.0, 91.2, 75.5, 82.5, 76.3, 95.0, 64.5, 92.25, 74.0, 65.0, 91.58, 71.2, 82.0, 62.0, 61.0, 70.0, 67.0, 75.14, 73.3, 74.4, 73.0, 62.8, 58.0, 70.0, 77.1, 81.0, 68.5, 61.6, 78.2, 68.0, 65.0, 54.0, 79.5, 63.6, 86.8, 81.0, 59.6, 87.0, 86.0, 85.6, 60.0, 83.5, 60.0, 71.0, 59.6, 78.83, 64.0, 75.0, 87.0, 69.4, 50.0, 94.3, 81.0, 80.2, 87.4, 96.0, 95.0, 74.83, 78.2, 86.0, 81.33, 50.4, 65.4, 55.0, 64.0, 74.89, 93.3, 63.33, 71.5, 65.0, 56.2, 89.0, 77.6, 64.33, 70.8, 71.25, 90.33, 79.23, 67.0, 77.23, 67.17, 67.8, 83.43, 76.4, 83.3, 69.0, 75.5, 87.0, 76.0, 64.0, 70.2, 68.0, 66.4, 78.3, 95.7, 78.0, 66.0, 90.0, 76.5, 78.0, 89.6, 72.0, 61.6, 61.6, 89.0, 87.8, 62.16, 90.8, 73.0, 75.75, 74.0, 85.6, 63.33, 65.0, 78.6, 60.83, 86.4, 68.0, 80.0, 66.0, 85.2, 67.8, 69.4, 79.8, 47.2, 74.4, 88.4, 79.0, 84.5, 77.6, 69.0, 47.6, 62.0, 86.31, 90.0, 72.0, 81.2, 61.3, 71.66, 95.3, 94.0, 93.5, 72.6, 94.0, 67.0, 63.0, 87.0, 80.0, 74.0, 91.2, 85.17, 72.0, 64.0, 80.0, 77.8, 75.0, 63.83, 92.5, 81.0, 64.57, 80.0, 90.0, 73.69, 84.0, 66.86, 83.7, 67.2, 55.0, 83.2, 52.0, 95.0, 74.6, 78.6, 90.0, 78.0, 81.75, 61.0, 66.2, 61.0, 87.7, 67.0, 69.9, 74.5, 75.6, 55.6, 81.6, 94.4, 85.9, 65.2, 84.8, 89.9, 83.8, 80.0, 80.0, 88.0, 82.2, 65.0, 65.56, 74.4, 82.2, 62.12, 75.0, 73.0, 57.8, 75.6, 81.8, 84.17, 66.0, 67.0, 55.0, 71.0, 51.0, 80.58, 60.0, 74.96, 86.9, 71.0, 68.83, 85.0, 70.14, 62.0, 72.0, 73.6, 86.0, 62.0, 65.0, 83.2, 83.0, 49.0, 77.4, 74.0, 77.8, 64.0, 84.0, 58.6, 69.8, 75.6, 77.8, 86.9, 72.8, 84.0, 91.0, 86.0, 75.0, 82.33, 79.83, 69.54, 61.83, 85.2, 79.0, 72.33, 82.4, 60.0, 66.0, 72.8, 56.0, 74.33, 71.0, 69.5, 59.0, 68.8, 82.4, 76.0, 89.04, 65.0, 71.67, 75.0, 67.0, 73.2, 60.36, 60.0, 90.6, 61.0, 82.0, 85.8, 72.4, 63.0, 74.8, 84.0, 90.66, 76.6, 74.0, 60.5, 77.0, 63.8, 70.26, 57.2, 80.33, 86.25, 84.0, 90.0, 87.69, 76.0, 75.2, 79.0, 71.9, 57.0, 80.6, 79.2, 62.5, 64.0, 77.4, 84.4, 59.0, 82.8, 65.0, 85.56, 60.0, 74.0, 82.0, 54.0, 80.0, 64.2, 74.6, 61.8, 73.4, 79.5, 74.0, 74.0, 81.5, 71.0, 74.0, 77.8, 67.2, 45.5, 75.2, 61.2, 70.0, 63.33, 84.0, 70.5, 72.0, 83.8, 64.4, 88.3, 88.0, 70.0, 70.0, 66.6, 95.0, 59.0, 93.9, 62.0, 66.0, 91.25, 65.8, 65.0, 70.0, 83.0, 82.8, 57.58, 85.1, 60.4, 76.0, 70.0, 85.9, 64.1, 79.1, 78.0, 81.33, 91.83, 79.4, 90.2, 62.0, 62.8, 68.8, 94.7, 83.4, 66.0, 71.66, 76.4, 77.0, 79.2, 63.0, 53.0, 93.8, 74.0, 80.5, 91.0, 74.6, 88.93, 76.6, 83.8, 46.33, 95.0, 73.2, 83.6, 75.2, 86.4, 84.4, 80.4, 56.0, 88.0, 91.6, 75.0, 81.0, 55.0, 90.0, 80.6, 64.0, 87.0, 94.17, 88.5, 66.0, 56.0, 81.8, 70.0, 69.5, 72.0, 74.3, 50.0, 64.5, 70.0, 90.0, 88.2, 75.6, 64.0, 79.9, 95.9, 83.6, 77.0, 83.0, 82.3, 81.0, 62.8, 72.0, 57.0, 60.2, 50.0, 79.9, 79.2, 73.0, 75.0, 81.9, 64.0, 72.0, 75.0, 76.0, 68.8, 81.0, 76.12, 84.28, 81.1, 82.0, 95.0, 76.0, 50.0, 77.4, 75.0, 88.5, 79.4, 70.6, 55.4, 71.8, 82.6, 80.0, 80.8, 59.2, 61.0, 85.2, 91.0, 95.7, 82.3, 76.0, 79.0, 75.85, 81.0, 78.67, 78.0, 92.0, 76.0, 58.04, 91.8, 65.2, 79.0, 78.0, 68.2, 89.0, 74.4, 74.0, 78.0, 77.0, 61.0, 77.4, 79.8, 74.7, 85.6, 79.8, 76.0, 83.25, 77.0, 67.6, 80.6, 71.5, 76.8, 87.5, 87.0, 73.0, 91.33, 80.0, 67.0, 91.4, 54.66, 94.4, 64.0, 82.9, 66.8, 71.0, 70.4, 89.0, 73.8, 74.0, 55.0, 62.0, 65.2, 88.9, 69.33, 74.4, 65.0, 66.46, 81.0, 78.5, 65.2, 72.2, 74.4, 53.0, 80.8, 92.0, 95.5, 72.0, 65.2, 72.4, 77.0, 71.52, 80.8, 89.4, 82.4, 59.0, 65.83, 56.0, 68.2, 76.5, 68.6, 78.5, 80.0, 93.0, 56.17, 78.0, 63.0, 85.2, 72.0, 66.8, 81.6, 67.2, 71.8, 80.8, 89.0, 52.0, 82.0, 77.0, 70.33, 59.2, 56.0, 59.66, 65.4, 94.0, 83.0, 62.7, 60.5, 53.0, 70.0, 77.77, 63.4, 65.0, 74.8, 74.0, 91.0, 73.0, 78.25, 79.6, 61.92, 69.0, 89.0, 61.0, 94.9, 74.0, 68.16, 65.0, 91.3, 78.0, 81.6, 87.2, 75.0, 65.6, 63.6, 81.33, 47.2, 67.0, 53.83, 62.0, 47.83, 65.5, 58.0, 62.5, 92.75, 74.6, 67.0, 63.0, 74.8, 53.0, 56.8, 79.8, 78.0, 88.8, 69.16, 81.6, 77.2, 66.0, 63.44, 83.7, 71.2, 80.4, 74.0, 85.5, 78.4, 87.05, 92.08, 60.0, 85.4, 82.5, 61.0, 70.8, 70.0, 82.0, 95.0, 79.5, 90.67, 79.9, 76.6, 86.8, 84.0, 95.9, 83.0, 62.0, 80.0, 68.69, 69.5, 95.0, 63.0, 55.33, 63.8, 75.2, 89.67, 62.8, 63.77, 77.0, 75.0, 58.0, 85.2, 88.0, 74.53, 72.0, 76.6, 60.6, 69.0, 64.0, 78.0, 69.0, 61.2, 76.4, 72.8, 76.7, 79.0, 77.83, 74.6, 65.8, 78.0, 56.04, 85.2, 74.0, 94.6, 68.83, 91.8, 73.0, 73.2, 87.6, 75.0, 70.83, 68.0, 81.0, 60.0, 81.4, 84.0, 54.0, 68.0, 63.8, 70.67, 89.7, 78.0, 69.16, 77.0, 70.0, 75.0, 69.0, 60.0, 94.1, 65.1, 61.0, 85.4, 87.3, 67.0, 56.22, 49.0, 72.8, 96.5, 94.5, 91.0, 83.0, 64.6, 95.0, 76.6, 68.67, 63.0, 62.0, 69.6, 73.4, 81.0, 89.4, 76.6, 96.4, 76.6, 96.6, 67.6, 70.8, 62.0, 61.0, 79.0, 71.25, 77.2, 91.0, 65.0, 64.4, 65.0, 90.0, 69.0, 92.0, 66.0, 64.8, 73.0, 81.0, 83.62, 74.4, 77.4, 91.7, 79.0, 65.0, 74.44, 89.0, 53.0, 80.2, 70.0, 97.9, 86.0, 57.33, 67.0, 71.17, 60.0, 82.8, 73.4, 65.0, 83.0, 84.0, 83.7, 91.7, 85.0, 88.1, 75.6, 69.6, 95.08, 72.0, 96.2, 74.0, 77.4, 79.0, 66.0, 89.3, 86.33, 64.0, 62.0, 61.0, 70.0, 92.5, 82.5, 72.0, 71.0, 87.6, 84.6, 85.0, 75.0, 67.0, 78.0, 72.6, 80.8, 74.0, 77.0, 60.0, 71.0, 69.0, 70.0, 69.0, 85.0, 83.0, 55.6, 62.2, 68.6, 93.6, 58.0, 87.0, 84.2, 89.0, 76.0, 78.8, 72.8, 74.33, 70.0, 97.6, 62.0, 84.33, 81.2, 80.5, 57.83, 73.6, 93.41, 72.0, 79.33, 74.5, 77.23, 81.2, 74.4, 92.5, 72.8, 56.0, 89.2, 77.0, 83.4, 71.0, 69.8, 74.8, 81.0, 89.1, 79.8, 97.0, 50.0, 64.4, 64.0, 67.0, 64.2, 74.4, 60.0, 64.83, 88.0, 75.66, 94.9, 96.5, 59.0, 71.0, 75.8, 76.0, 68.4, 75.2, 65.8, 82.0, 82.2, 83.6, 84.8, 85.6, 52.0, 74.0, 62.33, 72.48, 78.4, 71.6, 92.9, 63.0, 93.5, 75.8, 66.4, 79.3, 68.0, 84.0, 63.0, 68.4, 92.8, 65.4, 94.6, 68.69, 72.0, 75.8, 50.0, 78.66, 70.92, 78.0, 59.2, 68.6, 71.0, 85.0, 92.5, 78.0, 70.2, 85.4, 73.4, 79.0, 82.6, 81.42, 76.0, 64.0, 90.9, 73.0, 91.9, 86.0, 79.4, 72.0, 69.5, 75.0, 83.0, 73.2, 79.8, 81.6, 80.4, 93.9, 81.0, 77.5, 76.0, 90.0, 88.2, 72.6, 52.7, 82.03, 53.0, 87.0, 60.4, 73.63, 61.0, 67.6, 87.8, 80.0, 75.1, 61.0, 90.6, 81.0, 90.4, 87.6, 61.8, 90.0, 65.8, 87.17, 68.0, 68.5, 70.8, 89.0, 80.0, 85.0, 82.0, 77.5, 71.0, 68.6, 62.0, 89.0, 90.0, 70.0, 65.5, 73.33, 63.8, 80.3, 60.0, 66.4, 62.23, 66.2, 61.33, 52.9, 78.0, 90.4, 91.4, 82.4, 75.4, 94.7, 57.2, 83.88, 72.0, 83.75, 84.0, 68.0, 50.0, 94.0, 71.0, 70.0, 62.0, 72.0, 80.4, 73.0, 60.0, 65.6, 60.0, 77.7, 59.0, 80.0, 83.83, 70.4, 63.0, 75.0, 81.5, 69.0, 81.3, 59.0, 76.2, 80.4, 82.0, 61.6, 63.0, 64.0, 86.4, 89.8, 77.6, 82.4, 69.8, 66.67, 76.0, 72.0, 85.8, 89.1, 59.2, 67.74, 62.0, 78.0, 74.0, 91.7, 61.0, 59.38, 73.4, 85.8, 61.2, 55.0, 76.8, 67.4, 72.6, 93.9, 94.5, 69.16, 89.6, 76.4, 90.1, 81.0, 79.8, 95.8, 58.0, 67.0, 75.67, 77.8, 71.0, 83.0, 74.6, 68.04, 77.81, 83.3, 89.26, 61.4, 63.83, 68.8, 73.6, 74.71, 92.5, 66.0, 83.4, 61.8, 81.2, 82.0, 53.2, 94.0, 84.5, 90.0, 73.0, 78.0, 73.67, 69.0, 86.4, 72.0, 78.2, 53.85, 73.67, 71.6, 86.6, 70.0, 79.0, 78.0, 70.0, 85.2, 78.6, 79.4, 65.54, 57.5, 64.0, 90.0, 83.0, 69.0, 76.0, 92.2, 60.0, 62.0, 58.2, 51.6, 87.5, 67.8, 80.8, 56.0, 84.0, 61.0, 68.77, 71.3, 86.5, 77.8, 72.0, 86.29, 88.75, 49.6, 71.0, 92.9, 50.0, 69.0, 74.4, 82.0, 60.2, 70.0, 94.3, 77.33, 76.33, 72.4, 75.69, 74.6, 61.2, 74.4, 94.5, 58.8, 71.85, 66.0, 64.0, 86.1, 79.0, 80.4, 60.2, 65.0, 93.8, 63.6, 62.0, 72.0, 71.4, 73.0, 66.17, 73.6, 72.0, 93.8, 57.5, 53.44, 59.4, 66.83, 95.0, 76.0, 83.1, 66.8, 80.0, 87.0, 68.8, 69.6, 66.2, 93.2, 75.8, 53.2, 85.33, 92.4, 72.9, 86.6, 57.1, 58.0, 73.0, 81.5, 80.2, 79.5, 85.0, 87.3, 60.2, 67.0, 50.0, 73.4, 65.0, 65.4, 85.0, 81.5, 84.6, 68.7, 80.2, 98.7, 60.0, 80.0, 74.4, 88.16, 94.5, 95.4, 95.3, 71.17, 93.7, 73.0, 68.5, 61.4, 73.0, 97.0, 72.3, 51.0, 92.0, 73.0, 75.0, 65.4, 54.33, 74.0, 85.5, 58.0, 60.2, 63.33, 80.6, 91.0, 72.4, 63.0, 57.0, 51.0, 85.42, 80.0, 59.0, 93.9, 69.6, 85.0, 62.8, 93.6, 88.5, 84.8, 78.0, 74.0, 56.0, 84.8, 64.0, 84.2, 73.0, 89.0, 90.5, 91.0, 75.5, 70.2, 75.6, 77.4, 71.0, 82.0, 74.16, 64.0, 80.0, 80.0, 93.9, 89.2, 63.0, 74.0, 92.1, 79.67, 98.2, 65.6, 76.67, 77.0, 61.2, 75.0, 78.0, 94.9, 94.0, 59.0, 64.0, 79.4, 76.0, 80.2, 73.0, 87.2, 72.0, 88.4, 82.71, 65.5, 73.8, 66.66, 81.0, 86.0, 68.0, 72.0, 66.0, 72.15, 85.0, 90.03, 66.4, 82.5, 70.0, 57.5, 62.6, 77.5, 80.0, 80.4, 68.6, 91.8, 85.23, 77.0, 83.6, 77.77, 63.16, 65.6, 63.0, 87.0, 63.0, 96.33, 54.0, 73.6, 73.3, 77.0, 53.0, 84.09, 86.8, 74.05, 90.91, 74.2, 58.0, 85.0, 81.16, 40.0, 66.0, 86.7, 74.5, 81.0, 89.9, 72.0, 90.7, 65.0, 80.8, 81.6, 60.0, 65.6, 81.0, 57.8, 82.0, 55.0, 78.2, 65.2, 94.6, 71.0, 67.8, 77.0, 77.4, 53.0, 71.2, 60.0, 60.06, 92.4, 82.0, 62.6, 61.2, 78.2, 81.2, 91.4, 89.16, 69.89, 73.6, 66.5, 85.8, 61.23, 61.0, 74.0, 87.0, 65.4, 91.9, 79.0, 86.0, 69.0, 93.0, 72.66, 61.0, 96.6, 69.6, 88.0, 79.82, 62.7, 80.0, 76.0, 85.0, 63.4, 73.83, 78.0, 72.0, 95.0, 65.72, 74.0, 81.0, 65.0, 68.0, 55.8, 92.5, 88.5, 76.85, 60.0, 61.4, 76.66, 89.0, 69.3, 77.0, 95.08, 68.2, 90.17, 88.0, 78.5, 45.0, 66.8, 73.8, 62.0, 53.16, 52.0, 75.0, 81.0, 78.0, 70.0, 68.0, 72.8, 62.0, 61.85, 94.0, 76.67, 89.58, 83.23, 85.0, 61.0, 76.0, 67.3, 82.0, 55.0, 59.0, 82.4, 60.0, 68.6, 66.0, 67.0, 90.2, 64.4, 78.5, 61.2, 75.0, 71.0, 55.8, 93.33, 64.4, 58.0, 86.0, 70.0, 89.0, 52.8, 83.0, 94.5, 65.0, 73.0, 69.6, 72.2, 82.6, 85.4, 80.3, 73.17, 52.34, 73.2, 89.4, 74.6, 60.0, 63.5, 75.6, 89.6, 65.0, 81.0, 76.0, 82.0, 77.11, 66.0, 68.5, 68.8, 70.0, 62.11, 96.3, 86.8, 86.0, 67.0, 83.5, 78.16, 70.67, 97.2, 94.5, 82.4, 96.0, 64.0, 68.3, 58.0, 81.8, 64.0, 86.0, 76.6, 91.5, 80.0, 72.0, 78.88, 72.2, 80.0, 52.0, 65.12, 60.4, 78.6, 70.0, 82.0, 68.4, 55.44, 81.0, 69.0, 77.2, 81.8, 91.2, 76.5, 88.0, 53.55, 80.22, 91.4, 74.0, 89.7, 82.6, 62.4, 79.8, 68.2, 91.8, 78.13, 68.3, 77.8, 70.0, 62.4, 58.0, 75.69, 89.0, 62.0, 87.2, 82.2, 58.0, 91.2, 62.9, 66.66, 55.66, 80.1, 58.0, 81.4, 81.6, 64.0, 75.6, 94.91, 78.0, 69.8, 76.83, 86.5, 76.0, 64.08, 83.34, 75.0, 72.0, 68.0, 65.4, 63.5, 74.83, 83.6, 90.0, 85.88, 84.4, 60.0, 58.0, 77.8, 63.3, 85.0, 72.1, 62.3, 47.0, 70.0, 76.0, 66.0, 73.4, 86.6, 83.0, 54.0, 77.16, 64.0, 96.0, 71.33, 53.4, 74.0, 79.0, 90.2, 90.6, 81.8, 82.7, 66.0, 66.0, 86.0, 73.8, 78.0, 69.6, 75.0, 63.0, 86.3, 74.6, 54.8, 61.6, 54.5, 63.0, 60.33, 56.0, 71.8, 75.0, 62.5, 94.1, 61.5, 89.0, 72.0, 75.0, 76.0, 83.0, 74.25, 51.3, 62.0, 68.2, 82.0, 62.0, 86.5, 67.0, 89.67, 93.0, 73.0, 74.6, 85.6, 79.75, 72.4, 78.0, 62.0, 93.4, 66.8, 75.69, 83.3, 95.7, 60.44, 72.0, 74.0, 89.0, 85.0, 91.2, 72.0, 86.6, 79.6, 88.75, 87.0, 81.66, 78.2, 94.0, 70.0, 75.11, 79.4, 67.0, 85.66, 55.5, 74.8, 51.23, 65.6, 69.33, 80.0, 85.6, 68.4, 65.0, 96.7, 80.0, 68.2, 65.0, 97.2, 56.0, 71.0, 82.8, 59.0, 63.0, 62.0, 77.6, 91.0, 55.0, 93.9, 60.8, 73.4, 63.6, 81.0, 91.0, 91.4, 84.5, 74.0, 84.0, 73.8, 63.4, 76.6, 92.3, 77.0, 61.0, 90.83, 65.6, 55.0, 87.4, 71.4, 89.0, 60.8, 74.0, 67.1, 80.6, 76.0, 70.0, 92.5, 88.0, 57.8, 55.0, 82.2, 88.0, 83.16, 69.0, 60.01, 89.0, 79.7, 66.2, 70.6, 77.0, 60.4, 77.0, 56.1, 74.8, 66.5, 84.0, 68.17, 92.3, 68.0, 81.0, 82.6, 88.6, 82.53, 50.0, 54.2, 65.16, 70.0, 71.0, 83.0, 81.0, 76.8, 69.5, 60.0, 84.0, 63.4, 86.8, 82.0, 69.4, 88.6, 60.5, 62.0, 93.5, 89.0, 76.0, 84.0, 82.6, 79.4, 87.14, 60.6, 65.4, 88.75, 89.0, 60.6, 63.0, 79.8, 64.0, 82.0, 86.0, 76.0, 64.0, 61.0, 85.8, 83.0, 68.4, 64.0, 63.9, 88.7, 85.3, 60.0, 77.2, 64.0, 71.8, 64.0, 89.4, 72.8, 48.0, 66.2, 76.8, 74.14, 67.0, 85.0, 69.67, 90.7, 62.33, 71.4, 64.0, 94.9, 66.6, 69.6, 79.6, 79.8, 60.8, 63.0, 87.0, 57.8, 93.5, 74.8, 83.6, 80.25, 70.08, 69.4, 88.0, 83.6, 77.1, 61.6, 81.0, 79.8, 68.0, 88.0, 83.0, 89.91, 74.4, 61.23, 87.83, 63.2, 68.3, 66.6, 74.8, 96.0, 76.3, 84.0, 69.0, 72.67, 67.0, 69.0, 63.2, 59.4, 83.0, 92.3, 77.06, 75.0, 64.0, 60.8, 76.8, 60.42, 62.0, 72.8, 85.6, 72.0, 75.33, 96.25, 91.0, 61.5, 74.6, 85.5, 72.2, 70.0, 54.8, 88.0, 80.2, 70.2, 81.1, 73.0, 93.9, 92.2, 88.0, 66.0, 72.6, 95.9, 69.0, 75.0, 68.5, 76.0, 85.2, 68.4, 58.0, 79.8, 82.8, 62.0, 69.12, 76.8, 77.56, 68.8, 78.0, 75.5, 77.2, 87.4, 81.0, 72.0, 85.0, 73.2, 86.46, 85.4, 57.8, 82.2, 78.2, 80.0, 53.2, 81.26, 63.0, 62.0, 66.0, 85.0, 66.0, 50.0, 77.0, 68.8, 64.31, 85.67, 73.4, 61.0, 94.4, 90.6, 73.0, 74.2, 65.0, 81.4, 67.0, 87.9, 87.9, 54.0, 91.0, 66.0, 81.0, 62.0, 61.5, 79.2, 87.2, 73.0, 71.83, 90.0, 66.0, 86.91, 92.9, 49.0, 96.0, 74.2, 89.4, 86.2, 69.0, 69.2, 81.25, 82.2, 68.0, 54.83, 67.0, 85.5, 75.6, 89.8, 89.2, 77.0, 76.4, 59.11, 65.2, 76.0, 64.1, 61.0, 86.7, 65.66, 67.0, 65.4, 66.0, 91.1, 83.8, 87.0, 81.67, 80.6, 53.33, 82.55, 88.0, 70.0, 54.0, 55.5, 93.0, 65.5, 69.88, 68.0], \"xaxis\": \"x\", \"y\": [84.3, 85.4, 85.0, 85.6, 78.0, 89.92, 86.08, 92.0, 90.0, 77.0, 88.6, 81.0, 83.6, 60.8, 81.2, 69.54, 85.8, 60.8, 65.0, 79.0, 91.2, 75.67, 92.5, 70.0, 88.0, 86.8, 90.88, 76.8, 84.0, 64.0, 84.0, 77.2, 87.0, 73.0, 71.0, 85.0, 91.5, 77.0, 52.33, 88.0, 66.6, 75.0, 91.4, 59.0, 84.5, 95.8, 85.6, 69.6, 86.6, 81.92, 66.5, 80.0, 85.2, 89.25, 58.4, 90.8, 78.0, 89.88, 63.3, 72.0, 83.0, 85.3, 81.0, 60.66, 78.0, 89.37, 90.0, 81.0, 78.0, 84.4, 89.0, 86.0, 85.0, 75.0, 86.0, 70.6, 93.44, 76.0, 86.4, 86.0, 84.83, 72.3, 69.0, 80.0, 73.33, 86.16, 75.0, 56.0, 87.0, 79.25, 88.66, 80.8, 79.0, 70.0, 81.16, 83.5, 65.0, 88.0, 79.0, 55.6, 75.0, 84.6, 79.0, 62.0, 62.0, 86.0, 85.8, 68.4, 51.0, 79.6, 63.4, 86.53, 76.18, 91.43, 78.0, 76.17, 82.4, 58.0, 79.0, 90.04, 76.0, 60.4, 74.23, 59.8, 82.3, 90.0, 84.2, 86.4, 60.0, 60.8, 82.8, 82.6, 74.0, 89.8, 88.67, 64.66, 78.0, 77.8, 79.6, 89.5, 81.2, 80.0, 78.0, 72.0, 64.56, 60.0, 91.12, 80.0, 73.08, 88.6, 72.0, 85.0, 78.33, 81.33, 77.8, 75.0, 73.0, 77.0, 78.0, 87.0, 72.0, 73.0, 78.0, 73.0, 84.0, 79.0, 89.7, 85.0, 85.8, 87.4, 92.66, 76.87, 70.0, 91.3, 77.9, 76.2, 77.78, 78.0, 81.33, 65.6, 65.8, 67.75, 91.6, 78.66, 85.6, 78.4, 61.0, 91.5, 75.0, 90.4, 81.2, 58.6, 77.0, 82.2, 86.0, 82.0, 84.0, 81.0, 90.1, 86.17, 91.4, 83.89, 81.2, 76.7, 88.2, 80.6, 85.0, 82.0, 91.0, 87.0, 69.0, 74.4, 79.28, 84.96, 89.5, 92.8, 79.4, 83.0, 66.8, 79.8, 88.0, 87.0, 77.0, 87.4, 80.0, 71.0, 65.3, 94.6, 75.0, 83.33, 82.6, 80.83, 67.23, 86.2, 55.0, 74.0, 86.62, 69.13, 89.12, 91.6, 87.5, 73.0, 66.4, 80.33, 75.2, 50.6, 81.1, 60.14, 84.6, 78.83, 78.0, 75.8, 77.66, 86.0, 78.0, 71.0, 64.48, 81.0, 62.0, 67.0, 85.3, 75.6, 91.0, 81.2, 85.28, 71.5, 86.8, 93.6, 93.33, 85.0, 83.0, 78.8, 74.0, 71.0, 76.0, 88.6, 80.0, 64.0, 80.0, 86.6, 82.16, 77.65, 84.0, 56.5, 79.83, 82.0, 87.0, 88.2, 82.8, 57.0, 89.42, 92.5, 72.8, 62.0, 84.5, 86.3, 88.0, 81.0, 79.4, 77.5, 73.0, 84.4, 73.0, 88.6, 70.0, 71.2, 80.0, 80.2, 73.6, 88.6, 70.0, 87.0, 83.6, 85.0, 68.0, 80.0, 74.7, 79.6, 69.2, 85.6, 73.0, 87.4, 77.0, 65.33, 67.0, 78.0, 96.48, 77.0, 84.83, 88.0, 84.0, 82.5, 91.8, 55.0, 93.4, 68.5, 73.4, 86.0, 72.2, 71.8, 77.0, 70.0, 84.2, 66.33, 86.0, 57.0, 71.67, 70.2, 77.2, 90.27, 67.67, 86.0, 53.4, 76.16, 80.0, 65.71, 79.5, 82.0, 77.2, 81.2, 80.0, 82.4, 66.4, 87.2, 78.0, 77.0, 80.4, 87.0, 88.4, 77.0, 90.6, 89.2, 75.2, 81.6, 80.8, 86.5, 77.16, 78.0, 72.33, 64.0, 85.8, 88.2, 79.89, 75.4, 82.0, 91.6, 76.0, 70.0, 72.83, 81.0, 88.33, 78.88, 74.0, 95.2, 89.33, 76.0, 75.3, 71.5, 69.8, 52.0, 58.2, 90.5, 70.83, 93.4, 88.0, 79.0, 92.0, 75.4, 68.0, 72.3, 79.5, 82.0, 71.0, 62.13, 74.5, 63.0, 73.37, 83.4, 81.0, 92.6, 86.0, 78.6, 84.5, 85.3, 85.0, 84.4, 75.0, 86.2, 80.0, 76.4, 75.0, 87.0, 86.88, 75.0, 66.0, 70.67, 65.1, 78.8, 68.14, 74.0, 87.0, 92.2, 76.0, 68.0, 70.0, 84.0, 84.0, 65.0, 93.5, 82.83, 74.4, 86.8, 81.66, 90.15, 68.0, 55.6, 61.0, 80.0, 82.8, 78.6, 82.8, 80.0, 91.0, 72.2, 80.0, 79.5, 44.16, 94.4, 82.0, 64.4, 85.4, 72.0, 73.6, 66.0, 82.4, 85.17, 68.14, 89.0, 74.0, 83.0, 85.0, 79.0, 70.1, 88.25, 84.0, 94.8, 77.4, 66.66, 81.03, 73.0, 44.0, 45.6, 92.0, 87.8, 69.0, 72.6, 79.86, 84.67, 85.6, 90.0, 86.6, 89.0, 48.0, 53.3, 86.0, 71.66, 68.8, 64.0, 78.15, 90.0, 83.43, 70.0, 86.9, 85.6, 73.4, 90.8, 73.33, 69.0, 84.8, 80.0, 64.0, 78.0, 75.06, 63.0, 86.66, 82.0, 70.9, 91.8, 77.0, 64.4, 72.8, 74.0, 81.12, 77.8, 67.5, 82.8, 78.2, 71.06, 72.0, 66.0, 71.0, 82.5, 71.28, 85.0, 65.0, 69.6, 68.0, 76.0, 77.8, 62.1, 78.0, 84.4, 90.56, 87.6, 79.0, 87.0, 86.0, 71.3, 71.3, 82.8, 88.8, 86.09, 86.4, 77.0, 67.72, 78.0, 78.0, 72.6, 60.0, 87.8, 76.6, 75.0, 85.0, 82.4, 81.0, 68.6, 77.4, 80.0, 68.8, 90.0, 63.43, 63.0, 88.4, 87.0, 61.0, 73.0, 70.4, 67.6, 73.8, 84.6, 81.6, 60.0, 74.0, 89.0, 76.0, 55.5, 74.67, 92.16, 83.66, 62.86, 49.0, 78.4, 87.0, 71.0, 81.0, 87.11, 87.0, 92.0, 82.0, 77.53, 91.0, 87.8, 82.0, 48.0, 88.5, 61.9, 75.4, 76.7, 79.2, 82.0, 86.0, 82.0, 86.5, 80.0, 68.0, 83.8, 72.8, 69.0, 73.0, 83.0, 68.0, 87.0, 87.0, 77.5, 81.2, 79.33, 67.3, 83.2, 81.2, 72.5, 68.0, 65.0, 55.0, 60.0, 77.67, 64.0, 79.6, 74.0, 74.0, 63.0, 94.2, 83.0, 59.33, 79.0, 83.0, 87.63, 89.0, 76.6, 84.6, 69.6, 79.6, 70.0, 89.76, 84.14, 76.0, 88.17, 59.6, 83.2, 87.6, 64.3, 75.04, 89.0, 82.9, 88.0, 69.0, 72.5, 73.5, 73.67, 88.0, 70.2, 74.4, 73.5, 81.6, 72.0, 83.0, 77.7, 68.0, 80.0, 87.69, 60.0, 83.16, 91.0, 71.32, 73.6, 77.8, 61.6, 61.8, 85.06, 91.71, 76.0, 75.46, 90.6, 87.0, 74.8, 69.0, 72.2, 67.4, 77.4, 84.4, 75.6, 79.6, 80.8, 91.0, 82.5, 75.0, 79.2, 65.0, 77.0, 69.0, 90.3, 79.0, 86.15, 64.7, 74.0, 80.0, 85.0, 85.0, 85.6, 75.6, 69.7, 75.0, 81.0, 90.6, 82.33, 88.0, 72.0, 58.83, 75.36, 80.2, 71.0, 67.0, 86.6, 79.8, 86.6, 82.0, 79.28, 74.0, 80.6, 61.6, 90.3, 85.2, 70.0, 83.0, 77.4, 76.5, 66.67, 80.0, 55.0, 67.2, 79.8, 78.8, 88.8, 77.0, 84.2, 85.06, 89.0, 73.0, 88.5, 80.88, 87.2, 82.0, 72.5, 65.8, 88.88, 73.5, 71.4, 76.0, 77.8, 65.2, 76.8, 96.0, 89.0, 74.4, 75.0, 61.2, 65.0, 75.4, 84.2, 66.5, 81.4, 68.66, 65.56, 86.7, 63.2, 93.6, 62.2, 68.2, 84.4, 76.0, 77.85, 73.0, 78.0, 83.3, 66.6, 72.0, 83.0, 69.0, 56.78, 78.4, 73.0, 83.04, 91.0, 71.1, 90.6, 76.53, 86.4, 87.0, 78.8, 59.0, 74.83, 80.0, 91.0, 84.0, 59.3, 73.2, 78.6, 82.4, 86.33, 64.83, 72.1, 88.0, 83.3, 61.1, 82.0, 85.0, 74.0, 86.83, 76.5, 72.0, 78.8, 70.8, 94.0, 80.3, 84.5, 93.4, 73.5, 64.6, 86.4, 83.2, 87.6, 81.0, 71.0, 58.0, 85.0, 66.0, 88.8, 84.1, 84.93, 79.2, 86.0, 85.0, 73.0, 78.0, 87.0, 74.83, 92.83, 89.6, 75.0, 80.5, 84.2, 75.0, 94.2, 76.2, 77.0, 83.82, 66.8, 90.0, 78.2, 69.0, 83.0, 65.0, 52.0, 76.0, 74.0, 77.57, 74.0, 78.0, 51.2, 66.46, 82.67, 75.0, 61.4, 69.4, 90.24, 67.0, 75.75, 90.83, 70.0, 49.0, 89.1, 73.6, 52.0, 81.0, 83.0, 87.33, 83.1, 86.4, 63.0, 91.0, 72.0, 88.34, 68.4, 91.67, 77.4, 87.3, 74.0, 75.2, 67.0, 84.0, 48.8, 75.38, 84.0, 55.52, 82.0, 70.0, 78.6, 86.6, 80.0, 87.5, 71.05, 81.0, 91.4, 71.0, 85.0, 75.6, 70.0, 69.0, 84.0, 84.2, 87.8, 88.8, 84.0, 90.4, 77.63, 74.0, 87.0, 67.0, 82.0, 86.0, 92.47, 93.0, 86.8, 93.44, 87.2, 84.8, 68.33, 67.2, 83.4, 89.0, 77.0, 82.2, 79.16, 86.0, 72.0, 96.0, 85.33, 76.8, 77.0, 60.0, 91.4, 87.4, 73.0, 84.8, 78.0, 73.0, 86.4, 85.4, 78.6, 80.42, 58.0, 84.5, 91.3, 82.33, 71.0, 78.0, 83.3, 78.25, 81.0, 74.0, 95.52, 87.4, 86.6, 63.0, 70.0, 87.86, 84.8, 68.0, 89.4, 60.0, 63.0, 94.7, 90.4, 83.0, 89.5, 97.12, 79.0, 68.2, 71.2, 75.0, 93.94, 59.57, 86.3, 71.0, 84.14, 80.53, 73.0, 81.9, 63.6, 72.5, 84.0, 66.16, 81.6, 59.0, 86.5, 68.0, 72.0, 72.0, 83.5, 79.86, 93.5, 62.5, 74.8, 84.0, 57.0, 73.2, 60.0, 71.4, 69.5, 70.2, 61.0, 80.93, 82.7, 82.3, 79.29, 90.4, 80.6, 81.5, 90.4, 84.0, 93.0, 83.0, 72.0, 86.6, 79.0, 62.34, 83.68, 72.0, 70.66, 76.0, 60.1, 77.38, 88.4, 77.7, 88.8, 49.0, 68.83, 82.0, 85.0, 81.0, 69.0, 87.2, 94.43, 85.53, 88.09, 73.33, 84.8, 78.0, 76.0, 83.33, 76.7, 74.2, 73.0, 65.6, 70.0, 85.73, 82.0, 72.4, 89.0, 67.7, 84.0, 79.78, 87.0, 88.0, 74.0, 76.0, 72.0, 78.0, 84.0, 57.0, 87.0, 64.0, 88.2, 49.0, 91.2, 71.0, 65.0, 81.3, 92.2, 73.0, 93.0, 80.2, 74.8, 55.5, 85.8, 81.2, 63.0, 79.0, 79.37, 75.4, 85.5, 87.83, 77.4, 78.6, 55.0, 78.66, 90.4, 70.33, 72.0, 80.64, 68.2, 79.5, 80.6, 58.7, 87.4, 77.0, 77.5, 86.0, 60.2, 85.0, 75.0, 92.0, 86.5, 75.0, 77.81, 85.67, 89.9, 77.0, 79.0, 79.75, 67.6, 72.0, 80.64, 75.73, 87.68, 58.0, 76.2, 60.5, 88.0, 56.0, 88.0, 75.0, 82.0, 65.2, 81.38, 64.0, 75.52, 82.5, 80.4, 85.33, 48.5, 65.0, 88.0, 80.6, 88.3, 80.6, 86.0, 62.0, 86.0, 67.67, 83.4, 71.8, 84.0, 85.4, 82.1, 71.66, 85.18, 65.0, 86.4, 91.0, 83.4, 81.0, 79.8, 81.8, 48.0, 68.0, 84.4, 79.0, 61.8, 90.46, 94.8, 70.5, 82.67, 87.6, 73.2, 91.8, 88.3, 68.0, 90.0, 84.8, 92.66, 82.0, 80.0, 79.52, 88.0, 93.6, 89.29, 89.0, 73.0, 73.0, 75.3, 61.75, 78.67, 90.0, 85.6, 82.4, 81.0, 71.6, 87.0, 79.0, 65.0, 65.0, 73.8, 78.0, 86.6, 79.8, 50.6, 83.0, 90.83, 76.8, 72.0, 90.0, 87.0, 93.0, 84.0, 81.0, 75.6, 82.0, 87.4, 90.8, 55.0, 90.8, 71.0, 62.0, 79.8, 80.4, 80.13, 81.67, 83.2, 94.0, 83.0, 70.0, 79.6, 65.0, 79.4, 87.6, 74.0, 66.0, 77.0, 91.0, 74.0, 95.0, 64.6, 71.5, 81.14, 74.8, 90.0, 84.6, 91.2, 82.0, 72.4, 72.16, 87.04, 61.0, 76.4, 67.0, 78.4, 79.8, 62.0, 75.0, 85.4, 76.0, 77.0, 71.6, 67.0, 88.64, 89.0, 81.6, 92.0, 64.0, 82.0, 80.5, 87.2, 82.56, 91.6, 77.2, 90.01, 63.66, 78.4, 57.0, 65.17, 87.0, 62.0, 77.5, 88.6, 86.4, 78.0, 70.0, 78.0, 57.0, 88.6, 85.0, 72.4, 91.84, 78.0, 82.6, 90.3, 92.0, 80.6, 76.0, 80.2, 69.0, 89.0, 81.8, 92.1, 43.0, 83.6, 81.0, 65.23, 83.4, 59.0, 84.8, 88.8, 92.8, 79.4, 92.48, 74.0, 83.0, 82.88, 73.0, 90.5, 73.07, 92.0, 76.0, 85.0, 71.6, 63.0, 58.56, 84.0, 78.8, 85.83, 84.8, 67.34, 83.0, 86.0, 86.0, 78.8, 73.0, 66.0, 86.0, 75.0, 78.6, 85.75, 86.0, 84.2, 76.8, 80.7, 79.23, 80.0, 71.8, 83.5, 88.4, 92.8, 70.26, 80.5, 73.0, 82.0, 73.0, 86.6, 60.4, 92.0, 88.0, 75.0, 78.0, 78.0, 81.0, 52.7, 79.0, 78.0, 89.0, 70.0, 75.86, 85.0, 68.0, 91.0, 75.6, 80.33, 90.16, 76.6, 86.0, 85.0, 65.33, 72.5, 80.0, 84.6, 90.2, 76.8, 64.0, 78.5, 71.67, 58.9, 68.0, 77.0, 70.0, 80.32, 66.6, 74.0, 83.2, 89.4, 79.4, 79.4, 81.5, 90.0, 76.0, 59.0, 83.0, 89.6, 79.6, 67.16, 84.14, 73.06, 83.2, 83.4, 85.6, 81.6, 83.6, 76.6, 92.93, 74.0, 69.2, 73.2, 90.6, 85.0, 91.4, 89.33, 85.76, 82.0, 85.3, 89.6, 87.52, 88.36, 88.0, 87.0, 74.5, 81.73, 86.8, 60.7, 68.0, 87.7, 84.0, 85.17, 76.8, 71.1, 90.0, 93.6, 79.4, 79.85, 73.4, 82.0, 93.0, 78.6, 68.9, 85.0, 73.83, 74.0, 71.3, 80.0, 93.0, 64.8, 72.0, 94.0, 84.4, 63.0, 76.0, 64.7, 83.0, 83.0, 79.8, 69.8, 76.6, 58.0, 71.0, 71.0, 68.0, 77.8, 89.5, 90.4, 83.4, 82.6, 63.0, 77.84, 90.0, 84.0, 55.0, 74.14, 78.0, 83.5, 80.6, 64.28, 86.5, 92.4, 73.94, 71.2, 63.0, 75.6, 89.0, 78.6, 85.0, 86.0, 58.9, 82.0, 82.4, 81.0, 63.33, 84.2, 81.2, 78.2, 75.6, 80.0, 70.06, 59.6, 94.4, 62.0, 88.7, 78.4, 69.0, 85.2, 76.6, 74.0, 82.0, 88.4, 87.8, 90.4, 59.0, 87.5, 65.0, 72.6, 82.0, 84.4, 77.8, 81.0, 89.3, 84.0, 90.1, 83.83, 69.0, 85.4, 79.4, 91.33, 74.4, 72.0, 73.4, 76.4, 80.07, 71.0, 86.8, 72.0, 92.0, 72.17, 63.5, 69.17, 88.7, 68.2, 76.6, 67.3, 88.6, 90.0, 58.0, 86.4, 72.0, 67.42, 82.0, 83.8, 81.2, 84.0, 81.6, 72.0, 82.0, 92.0, 82.8, 72.0, 84.16, 76.2, 71.5, 90.0, 61.0, 84.0, 84.6, 85.0, 76.0, 89.0, 88.0, 77.8, 71.5, 76.17, 74.4, 87.6, 55.0, 68.6, 74.5, 76.64, 78.13, 67.6, 79.6, 81.0, 61.69, 86.0, 70.0, 89.8, 84.0, 88.8, 84.0, 79.6, 81.7, 75.4, 75.0, 65.3, 94.2, 82.46, 80.0, 64.57, 78.1, 72.2, 66.3, 67.0, 70.4, 78.0, 71.5, 92.0, 79.0, 91.0, 83.4, 86.0, 81.3, 76.0, 76.0, 90.0, 82.0, 62.13, 59.71, 81.8, 79.0, 78.8, 80.67, 77.88, 65.0, 82.4, 73.2, 93.0, 73.0, 69.0, 88.53, 86.0, 88.5, 88.6, 84.6, 86.0, 69.0, 77.0, 93.38, 52.93, 78.17, 72.36, 87.33, 76.0, 80.0, 84.75, 76.0, 63.0, 86.67, 77.6, 73.06, 74.3, 62.4, 76.0, 65.16, 82.2, 66.33, 89.0, 66.0, 72.2, 88.8, 76.5, 89.2, 85.4, 76.0, 88.3, 91.4, 76.0, 81.2, 68.8, 86.0, 88.0, 73.0, 76.0, 82.4, 70.0, 61.0, 80.0, 77.6, 80.33, 71.6, 74.0, 74.0, 69.0, 59.2, 69.85, 80.0, 87.0, 75.0, 89.0, 77.0, 91.0, 82.0, 68.0, 79.68, 72.0, 72.0, 69.4, 65.4, 62.34, 68.6, 72.6, 83.5, 73.6, 77.0, 58.0, 80.0, 94.72, 84.6, 92.6, 75.0, 67.5, 85.0, 86.4, 70.6, 90.4, 88.4, 71.86, 81.6, 89.0, 81.25, 77.0, 87.62, 68.6, 54.0, 70.2, 70.0, 69.0, 85.92, 89.6, 76.0, 74.33, 54.0, 84.0, 83.0, 87.2, 82.28, 88.0, 90.2, 60.0, 75.0, 77.8, 93.0, 78.0, 88.4, 71.6, 75.1, 74.5, 72.0, 78.4, 65.0, 54.0, 84.2, 69.73, 92.12, 74.0, 65.0, 92.0, 74.0, 69.4, 75.6, 71.4, 75.0, 89.6, 84.0, 71.66, 88.5, 81.0, 64.0, 82.8, 66.0, 70.3, 88.0, 83.0, 77.0, 54.0, 92.8, 73.0, 64.0, 74.0, 76.8, 75.2, 82.0, 90.0, 76.33, 67.0, 80.1, 80.83, 69.0, 89.4, 64.0, 76.67, 77.83, 76.0, 57.0, 57.67, 83.14, 79.2, 50.0, 61.0, 91.21, 78.0, 62.0, 61.0, 89.33, 49.0, 79.0, 81.83, 65.0, 86.6, 77.0, 80.6, 78.16, 64.0, 82.0, 87.6, 69.0, 80.0, 62.0, 88.66, 75.0, 89.2, 80.0, 64.0, 78.0, 64.0, 80.14, 72.0, 93.3, 61.63, 73.73, 59.0, 94.4, 80.46, 76.48, 82.25, 91.4, 87.2, 88.5, 84.6, 56.16, 87.0, 82.0, 57.88, 80.4, 71.2, 56.0, 73.8, 92.5, 78.0, 70.4, 90.0, 68.0, 87.07, 92.0, 67.1, 89.6, 87.0, 82.0, 71.0, 87.73, 80.83, 90.4, 79.0, 77.12, 83.0, 63.0, 74.0, 86.15, 89.0, 69.0, 75.0, 81.0, 73.6, 64.53, 73.0, 85.6, 80.0, 80.0, 89.0, 86.46, 82.62, 71.5, 88.0, 85.4, 89.0, 70.6, 68.0, 80.0, 84.0, 82.0, 77.2, 75.0, 70.0, 53.06, 65.0, 93.4, 75.86, 78.0, 91.84, 79.0, 78.2, 82.5, 76.4, 64.8, 74.0, 72.0, 81.33, 83.0, 75.0, 62.0, 74.62, 87.0, 76.66, 81.0, 45.33, 69.69, 81.6, 69.0, 53.0, 75.33, 74.28, 90.2, 74.6, 82.6, 74.88, 70.2, 81.6, 91.0, 84.0, 83.0, 77.0, 58.0, 74.53, 87.3, 60.0, 46.24, 60.2, 81.8, 80.15, 72.0, 75.6, 65.0, 81.0, 90.6, 77.0, 74.4, 74.0, 80.6, 67.0, 75.0, 82.0, 89.0, 81.8, 81.0, 85.0, 92.6, 80.2, 77.7, 80.2, 86.8, 80.6, 69.6, 86.5, 74.8, 86.13, 81.66, 91.3, 88.4, 75.0, 75.0, 85.0, 71.1, 80.4, 73.0, 73.0, 85.72, 77.2, 89.76, 57.0, 67.0, 77.0, 58.0, 87.4, 51.36, 83.0, 87.0, 75.0, 74.6, 83.0, 84.67, 87.0, 78.53, 73.0, 67.7, 54.0, 67.0, 48.0, 96.0, 64.0, 87.4, 88.0, 53.8, 84.0, 83.0, 85.0, 71.0, 90.3, 70.0, 81.4, 75.0, 86.0, 66.0, 72.0, 90.0, 79.0, 67.6, 89.0, 79.0, 85.4, 69.2, 89.0, 87.8, 86.1, 86.8, 85.83, 82.2, 79.6, 71.0, 59.0, 86.4, 83.6, 84.83, 84.43, 76.36, 75.0, 55.6, 92.0, 87.6, 77.86, 88.83, 80.5, 88.18, 82.0, 65.0, 84.83, 62.4, 69.2, 86.67, 81.0, 83.3, 72.0, 81.0, 88.0, 72.0, 54.0, 79.14, 86.0, 84.6, 95.2, 90.5, 76.0, 76.0, 88.0, 75.3, 79.6, 77.6, 60.0, 54.5, 68.8, 92.48, 84.33, 70.0, 91.8, 86.0, 90.0, 83.6, 78.3, 61.4, 74.0, 83.4, 77.44, 85.6, 51.0, 67.0, 60.0, 88.33, 76.6, 78.4, 80.2, 73.0, 86.6, 89.4, 87.6, 70.3, 86.4, 71.0, 65.0, 73.0, 87.31, 91.2, 58.16, 65.0, 68.0, 74.4, 89.0, 74.0, 93.3, 68.33, 84.5, 72.0, 61.3, 92.8, 67.0, 82.0, 94.6, 77.33, 83.8, 83.0, 72.0, 87.2, 86.0, 62.5, 88.0, 85.0, 70.3, 83.66, 87.0, 81.5, 84.0, 75.12, 82.0, 82.8, 72.0, 79.4, 58.0, 90.0, 74.6, 86.17, 81.0, 72.12, 71.4, 53.0, 65.26, 58.6, 84.0, 78.2, 83.0, 79.8, 83.33, 52.0, 74.6, 86.0, 72.5, 89.0, 85.0, 87.5, 92.6, 89.0, 87.0, 94.0, 92.2, 85.0, 83.56, 81.4, 82.4, 73.0, 64.0, 80.2, 58.6, 81.6, 92.2, 89.76, 77.0, 83.0, 50.5, 84.0, 51.0, 82.27, 80.0, 67.36, 87.16, 78.0, 75.83, 83.0, 78.44, 65.0, 73.6, 75.6, 94.4, 67.0, 70.0, 77.5, 78.0, 54.0, 72.2, 82.0, 73.6, 66.5, 76.5, 67.2, 69.4, 74.8, 91.2, 91.9, 72.4, 80.0, 91.0, 68.3, 65.0, 92.64, 93.38, 58.17, 83.46, 79.8, 76.0, 83.33, 69.8, 75.12, 83.0, 75.6, 55.0, 87.2, 76.0, 70.5, 63.0, 77.4, 91.6, 75.0, 88.04, 81.0, 87.2, 75.0, 58.0, 75.0, 70.58, 61.2, 85.6, 62.0, 68.0, 82.4, 71.17, 77.0, 62.4, 78.4, 92.0, 87.2, 73.0, 71.0, 84.13, 81.4, 79.23, 50.0, 89.6, 89.2, 84.0, 85.4, 88.67, 82.0, 86.8, 83.0, 62.0, 70.0, 79.0, 86.8, 64.62, 73.0, 84.2, 82.0, 77.6, 73.4, 89.12, 89.6, 72.33, 79.0, 78.4, 66.15, 65.2, 80.2, 78.8, 70.2, 89.8, 74.5, 67.8, 74.0, 80.5, 79.0, 73.0, 85.0, 81.0, 57.78, 78.4, 67.0, 56.2, 67.0, 90.0, 74.8, 83.0, 87.8, 61.5, 90.0, 87.0, 72.0, 72.0, 72.6, 94.1, 58.0, 87.0, 73.0, 74.16, 81.4, 78.0, 78.93, 78.0, 78.4, 81.4, 70.56, 81.2, 65.2, 82.2, 71.0, 85.16, 77.7, 90.0, 82.0, 82.26, 92.8, 79.0, 87.4, 62.0, 75.0, 73.8, 88.6, 87.4, 71.13, 65.66, 85.6, 80.0, 77.8, 57.0, 82.0, 85.0, 71.71, 86.37, 88.57, 92.8, 88.6, 79.2, 86.0, 59.05, 86.0, 85.2, 81.0, 83.8, 89.4, 85.6, 83.4, 63.0, 76.0, 92.6, 89.0, 80.33, 52.0, 80.0, 80.0, 66.0, 79.66, 89.39, 86.6, 77.0, 66.8, 81.6, 86.0, 74.67, 85.0, 73.2, 78.0, 68.5, 72.0, 95.54, 90.0, 75.4, 58.0, 85.6, 88.5, 92.4, 78.0, 78.5, 81.5, 87.0, 67.0, 55.3, 50.0, 75.4, 70.14, 76.0, 72.8, 71.0, 77.0, 82.0, 54.0, 83.0, 56.0, 80.0, 75.4, 83.0, 87.23, 78.16, 85.5, 85.0, 87.0, 85.0, 74.0, 70.0, 73.6, 77.33, 83.0, 73.0, 61.8, 75.0, 86.2, 83.0, 83.0, 68.0, 64.0, 68.5, 91.0, 82.5, 74.0, 67.0, 85.0, 78.0, 84.0, 94.4, 85.38, 90.0, 77.0, 86.5, 87.0, 75.4, 89.0, 76.0, 73.6, 87.33, 81.6, 74.0, 81.2, 81.6, 63.0, 83.4, 85.6, 75.4, 91.6, 87.6, 86.92, 88.6, 69.0, 58.2, 78.0, 75.0, 79.8, 86.5, 95.04, 81.0, 86.2, 87.0, 62.0, 80.0, 60.0, 95.6, 72.0, 81.3, 77.0, 87.2, 60.83, 95.0, 76.4, 68.0, 70.2, 74.0, 76.2, 78.8, 63.6, 82.4, 69.0, 71.33, 78.3, 79.8, 67.8, 83.2, 82.0, 68.0, 74.6, 88.0, 94.16, 82.0, 59.0, 69.4, 64.0, 78.57, 76.8, 90.0, 75.0, 89.0, 80.16, 63.0, 76.0, 88.2, 70.25, 82.13, 92.8, 91.4, 84.96, 68.0, 61.0, 88.76, 70.0, 73.37, 95.6, 79.2, 68.6, 84.33, 85.33, 51.6, 78.5, 81.3, 70.76, 57.5, 52.0, 68.67, 78.8, 90.0, 71.0, 82.0, 85.0, 64.4, 87.0, 85.17, 68.6, 82.0, 80.2, 71.0, 89.5, 74.18, 82.8, 89.2, 88.64, 55.0, 92.0, 68.25, 90.5, 76.0, 73.0, 66.0, 89.4, 88.0, 86.0, 69.0, 68.0, 68.6, 78.2, 71.04, 58.0, 68.0, 75.46, 77.0, 64.43, 76.4, 57.0, 82.24, 90.06, 85.2, 75.0, 65.16, 83.6, 64.0, 67.12, 87.2, 87.0, 92.0, 86.5, 77.4, 75.85, 74.0, 80.2, 78.0, 75.2, 88.0, 75.0, 76.7, 88.8, 90.4, 87.81, 63.0, 86.0, 83.0, 74.2, 78.93, 76.0, 70.0, 91.0, 76.93, 88.6, 76.0, 82.0, 78.2, 94.0, 84.67, 88.0, 58.0, 88.8, 86.0, 65.5, 92.3, 81.0, 50.66, 71.3, 75.4, 87.6, 61.83, 60.14, 76.0, 77.38, 67.0, 89.0, 60.0, 80.0, 70.33, 65.0, 63.16, 66.15, 64.2, 77.8, 77.8, 53.6, 80.0, 76.6, 85.0, 91.0, 83.69, 89.6, 57.0, 81.0, 80.04, 85.6, 78.3, 93.0, 78.86, 90.0, 72.0, 79.2, 81.2, 76.0, 70.61, 66.0, 75.0, 62.8, 78.0, 90.0, 53.0, 66.0, 61.0, 67.06, 94.0, 82.24, 87.2, 76.0, 82.6, 91.0, 65.0, 80.0, 89.0, 74.0, 65.0, 81.6, 83.0, 73.0, 65.85, 75.0, 90.2, 88.8, 85.33, 94.24, 91.0, 69.85, 87.5, 84.4, 70.0, 74.0, 81.2, 63.8, 74.3, 92.0, 88.6, 79.2, 81.6, 86.0, 82.3, 79.6, 75.77, 66.0, 59.0, 78.0, 74.3, 77.4, 94.5, 71.83, 66.5, 72.0, 91.1, 70.0, 87.0, 60.14, 78.8, 75.0, 91.52, 90.08, 90.6, 81.7, 80.0, 76.0, 67.0, 86.0, 90.0, 61.0, 80.13, 75.0, 93.16, 85.0, 80.8, 73.4, 80.0, 62.5, 78.0, 86.2, 61.0, 89.0, 80.6, 86.34, 86.9, 91.8, 88.1, 84.4, 79.0, 97.0, 72.0, 89.1, 76.0, 77.6, 78.6, 62.93, 81.9, 86.33, 76.0, 67.0, 70.0, 76.96, 90.83, 85.46, 61.0, 76.0, 92.0, 86.8, 87.0, 87.0, 78.8, 81.0, 71.0, 78.08, 70.0, 75.0, 66.7, 77.0, 76.5, 78.8, 78.0, 87.0, 77.5, 76.0, 80.8, 70.1, 87.5, 62.0, 95.86, 82.3, 80.8, 83.0, 73.4, 76.2, 89.12, 64.0, 89.0, 63.0, 91.0, 91.2, 87.0, 61.6, 78.67, 92.09, 73.0, 81.46, 87.8, 73.5, 94.8, 81.86, 83.5, 79.6, 73.0, 79.0, 81.0, 92.4, 73.8, 86.2, 71.0, 79.8, 81.83, 90.4, 89.33, 69.0, 69.2, 64.0, 67.0, 71.1, 84.6, 61.73, 78.16, 88.0, 77.22, 92.0, 86.0, 58.0, 84.0, 82.0, 91.6, 82.6, 70.14, 52.0, 86.2, 76.6, 81.4, 91.2, 80.0, 65.0, 76.0, 63.8, 46.8, 82.8, 82.2, 79.3, 71.0, 83.33, 81.7, 68.6, 80.0, 74.0, 86.0, 75.0, 70.2, 86.0, 72.75, 85.0, 73.0, 82.0, 76.2, 69.0, 84.8, 77.0, 76.0, 68.0, 75.6, 71.0, 84.5, 86.8, 84.0, 79.6, 83.6, 74.6, 74.4, 82.2, 82.7, 81.0, 72.0, 82.33, 67.0, 87.33, 84.3, 79.0, 69.5, 84.6, 70.0, 87.0, 77.4, 78.0, 81.2, 84.16, 92.3, 80.0, 81.5, 93.8, 88.0, 93.0, 93.67, 63.0, 75.16, 81.0, 90.0, 75.0, 72.45, 71.0, 76.2, 85.6, 87.0, 74.5, 77.8, 89.0, 85.62, 93.8, 79.6, 61.0, 91.0, 73.4, 86.85, 87.0, 72.0, 71.0, 88.0, 77.4, 91.3, 83.0, 93.28, 76.0, 74.6, 75.83, 91.8, 79.0, 83.4, 74.8, 58.33, 78.3, 83.4, 70.0, 58.0, 50.0, 80.33, 72.8, 64.33, 82.0, 91.0, 95.2, 68.33, 74.8, 88.5, 67.1, 88.53, 87.2, 74.6, 85.0, 77.0, 60.0, 87.0, 82.46, 66.6, 74.5, 71.0, 67.5, 85.0, 72.0, 72.8, 60.0, 72.6, 73.0, 76.7, 85.76, 80.8, 76.0, 82.0, 90.24, 74.0, 68.3, 75.62, 73.0, 82.8, 78.0, 54.8, 72.8, 68.0, 93.6, 90.4, 92.5, 82.2, 82.2, 78.0, 73.0, 73.83, 86.33, 70.3, 68.6, 81.86, 56.0, 88.0, 68.0, 86.8, 65.0, 55.5, 78.0, 84.8, 71.17, 59.0, 87.0, 58.5, 77.6, 83.66, 89.4, 91.68, 69.3, 81.6, 89.9, 84.0, 77.2, 86.4, 69.0, 70.0, 85.67, 79.5, 64.0, 94.0, 73.2, 62.6, 65.41, 82.0, 90.0, 83.2, 80.0, 57.5, 72.0, 91.62, 88.16, 65.5, 79.0, 88.4, 82.4, 83.0, 72.5, 93.0, 92.32, 92.0, 87.0, 74.0, 77.0, 79.0, 87.6, 68.0, 84.2, 69.83, 83.67, 82.6, 91.6, 70.0, 87.4, 74.0, 75.0, 86.0, 86.8, 85.2, 69.92, 54.5, 75.0, 90.0, 85.8, 69.0, 73.0, 85.3, 58.0, 53.0, 85.5, 52.5, 88.66, 85.0, 74.6, 72.0, 87.0, 73.0, 66.5, 73.0, 84.3, 77.6, 56.4, 92.0, 92.4, 54.6, 87.0, 73.8, 67.0, 65.0, 73.4, 68.3, 62.0, 70.0, 92.2, 83.2, 78.61, 85.2, 71.0, 88.4, 70.2, 85.0, 90.0, 77.8, 73.5, 76.4, 71.0, 81.0, 82.0, 66.66, 73.8, 77.0, 84.5, 72.4, 70.0, 72.0, 83.0, 75.0, 69.53, 77.8, 71.2, 84.33, 89.12, 75.71, 67.0, 71.84, 92.0, 77.0, 80.0, 70.16, 80.4, 79.0, 82.2, 69.66, 80.8, 95.4, 88.0, 60.83, 75.4, 91.1, 83.0, 87.4, 66.67, 56.0, 82.5, 80.8, 84.2, 83.0, 94.4, 83.5, 75.2, 85.0, 73.0, 89.5, 72.0, 84.62, 89.0, 86.6, 90.4, 68.8, 81.5, 91.5, 64.0, 86.0, 81.0, 88.5, 80.0, 89.6, 92.5, 91.53, 87.33, 86.0, 77.6, 54.6, 79.2, 89.0, 82.2, 57.0, 85.66, 83.0, 77.0, 65.0, 61.57, 75.0, 86.8, 70.0, 73.0, 64.0, 78.2, 88.2, 80.63, 56.0, 80.0, 72.6, 87.73, 91.2, 76.64, 89.5, 68.83, 81.5, 72.0, 84.5, 91.5, 90.2, 79.0, 85.0, 69.33, 89.0, 58.0, 90.8, 74.7, 85.0, 69.5, 86.0, 91.5, 84.3, 62.3, 85.8, 72.0, 85.66, 88.6, 76.8, 82.0, 85.0, 87.87, 89.0, 70.75, 81.4, 88.0, 73.5, 94.0, 64.4, 83.69, 67.0, 75.2, 82.0, 90.6, 91.8, 85.0, 72.0, 50.0, 78.0, 78.2, 92.5, 73.0, 79.6, 78.0, 90.0, 87.58, 58.8, 62.0, 66.0, 81.0, 90.0, 67.0, 68.0, 76.0, 63.33, 91.0, 88.0, 66.5, 86.5, 72.2, 78.0, 63.2, 62.88, 84.0, 85.6, 85.0, 88.3, 82.5, 67.0, 90.1, 84.0, 73.66, 67.8, 63.8, 84.0, 69.33, 97.76, 54.0, 74.5, 89.12, 89.92, 72.0, 94.8, 91.0, 81.5, 87.8, 71.0, 66.0, 81.0, 83.33, 74.0, 77.0, 78.0, 87.52, 83.0, 92.6, 81.6, 86.5, 86.0, 88.2, 70.6, 69.4, 83.8, 82.0, 75.8, 88.8, 83.0, 78.6, 80.0, 88.44, 89.0, 90.0, 73.0, 77.33, 54.0, 69.2, 87.0, 60.0, 83.3, 90.16, 77.33, 68.2, 85.8, 90.0, 85.4, 86.92, 76.0, 79.8, 64.0, 86.0, 54.83, 64.0, 78.0, 87.2, 74.5, 87.6, 87.0, 76.0, 85.73, 85.0, 70.61, 69.0, 91.33, 90.0, 82.0, 84.33, 81.6, 78.8, 86.0, 88.4, 67.25, 74.0, 86.0, 92.0, 89.0, 63.5, 73.0, 82.0, 83.0, 78.0, 73.8, 90.76, 87.7, 82.75, 68.0, 81.6, 75.66, 86.7, 79.0, 76.0, 91.04, 78.2, 85.46, 86.0, 75.0, 65.0, 73.0, 75.2, 50.0, 67.0, 77.0, 55.0, 70.0, 86.0, 75.0, 80.0, 74.6, 64.0, 68.5, 88.0, 80.14, 90.58, 81.67, 83.6, 76.0, 87.4, 66.6, 85.0, 58.0, 68.0, 92.4, 71.2, 67.2, 64.0, 73.5, 83.6, 79.6, 83.6, 72.0, 75.0, 79.8, 66.6, 88.0, 78.0, 84.8, 78.0, 77.0, 86.0, 54.8, 88.0, 91.86, 65.8, 59.0, 79.6, 81.3, 67.0, 85.3, 91.68, 74.5, 64.48, 80.6, 93.0, 73.1, 65.56, 83.5, 73.3, 86.0, 59.0, 80.0, 80.6, 80.8, 63.8, 84.0, 69.5, 74.4, 68.0, 69.1, 91.0, 80.83, 79.4, 72.0, 88.3, 74.28, 78.3, 88.0, 88.33, 89.4, 88.0, 73.0, 73.1, 51.83, 71.8, 85.2, 82.0, 75.4, 87.0, 77.2, 58.6, 62.26, 65.67, 89.0, 69.0, 69.4, 68.65, 75.83, 73.0, 85.6, 79.6, 51.42, 83.6, 85.0, 83.0, 82.6, 84.2, 80.64, 91.0, 78.28, 80.58, 80.16, 77.0, 92.3, 77.6, 64.8, 81.6, 65.5, 89.5, 84.0, 61.2, 88.2, 83.0, 55.33, 67.0, 79.0, 85.0, 65.0, 91.17, 78.8, 71.0, 91.0, 74.9, 76.0, 93.43, 74.8, 67.2, 69.0, 85.4, 73.0, 72.0, 90.81, 67.0, 93.6, 82.25, 87.52, 82.6, 66.67, 85.38, 89.89, 81.4, 78.0, 62.67, 88.7, 63.0, 92.3, 91.0, 85.0, 89.6, 71.0, 76.0, 87.6, 71.0, 78.0, 80.0, 82.0, 58.0, 75.0, 88.0, 70.0, 84.16, 91.6, 93.6, 65.0, 72.6, 60.0, 87.0, 81.38, 77.2, 69.0, 81.0, 78.83, 86.5, 78.2, 90.26, 80.4, 63.0, 87.0, 86.92, 86.0, 68.83, 87.68, 54.0, 82.5, 68.4, 71.33, 78.33, 70.5, 62.15, 93.44, 79.0, 72.2, 74.0, 78.08, 88.5, 70.08, 87.88, 82.0, 74.0, 78.0, 91.0, 78.25, 78.0, 67.6, 72.67, 87.3, 82.0, 73.2, 85.0, 94.24, 91.4, 83.0, 73.0, 92.0, 93.2, 54.5, 88.0, 56.0, 85.0, 79.8, 79.0, 70.0, 89.0, 67.0, 74.0, 83.46, 81.5, 93.0, 79.0, 84.0, 90.8, 92.6, 84.0, 86.0, 81.86, 76.4, 84.0, 83.0, 86.2, 73.4, 52.0, 93.2, 60.46, 84.0, 71.07, 67.4, 85.83, 76.66, 83.33, 78.6, 65.0, 91.0, 78.0, 67.0, 56.0, 88.83, 46.0, 79.0, 70.5, 54.4, 72.0, 66.0, 75.8, 86.5, 68.2, 79.6, 60.2, 77.4, 67.5, 81.0, 93.0, 93.2, 89.9, 74.0, 93.8, 85.0, 83.8, 82.0, 88.0, 86.12, 64.0, 85.76, 68.0, 63.0, 86.0, 82.4, 91.2, 65.5, 63.0, 72.15, 80.4, 81.0, 60.0, 85.5, 84.4, 73.0, 80.0, 77.0, 74.0, 81.5, 78.0, 64.0, 86.16, 74.5, 65.17, 71.85, 84.0, 65.4, 86.0, 49.9, 83.75, 76.16, 91.68, 71.73, 75.83, 71.0, 78.0, 72.3, 92.2, 84.0, 79.33, 66.7, 88.64, 85.0, 62.0, 68.0, 74.0, 69.6, 75.6, 80.0, 85.0, 71.2, 88.6, 77.0, 68.6, 90.33, 80.8, 70.0, 86.5, 86.6, 86.14, 84.0, 90.8, 84.4, 87.2, 77.8, 66.2, 88.75, 93.0, 55.33, 60.0, 82.6, 64.0, 85.0, 84.0, 67.0, 74.0, 82.62, 91.6, 88.0, 70.8, 70.8, 75.1, 81.0, 84.0, 71.5, 65.0, 67.33, 67.25, 62.0, 83.66, 76.2, 57.14, 82.4, 72.2, 78.53, 73.5, 83.0, 67.76, 64.2, 69.0, 72.6, 60.0, 89.5, 73.8, 89.6, 84.4, 86.4, 63.6, 87.4, 94.4, 72.16, 88.0, 80.2, 69.0, 83.8, 69.33, 82.66, 92.83, 77.92, 79.5, 76.0, 84.0, 72.3, 68.4, 90.8, 84.8, 83.6, 79.38, 67.17, 90.56, 70.3, 76.2, 63.4, 78.6, 89.17, 81.2, 81.0, 89.2, 79.67, 72.5, 78.0, 63.2, 62.0, 83.0, 96.8, 85.0, 87.2, 82.0, 71.37, 88.8, 82.87, 78.0, 71.6, 87.4, 72.0, 89.44, 90.3, 77.0, 71.76, 62.6, 71.2, 77.2, 71.0, 57.7, 89.23, 81.0, 80.4, 75.0, 72.0, 80.5, 83.33, 76.0, 65.0, 81.2, 93.4, 69.0, 56.0, 78.0, 79.06, 87.4, 68.5, 65.0, 83.25, 81.2, 72.0, 69.0, 73.2, 61.86, 82.8, 83.4, 80.64, 81.5, 92.3, 67.0, 67.0, 89.56, 64.0, 84.67, 77.8, 71.8, 84.4, 79.8, 93.0, 62.0, 82.14, 77.0, 62.0, 63.0, 83.0, 80.0, 65.0, 65.0, 89.2, 58.17, 70.27, 83.6, 63.0, 91.0, 87.0, 76.0, 78.4, 68.0, 84.8, 72.0, 65.0, 81.0, 59.7, 78.0, 74.0, 91.3, 64.0, 73.0, 64.4, 89.8, 57.0, 84.0, 93.07, 71.0, 79.2, 88.4, 53.0, 86.0, 71.0, 79.9, 89.6, 77.0, 84.2, 84.2, 74.33, 65.0, 85.33, 89.6, 64.5, 81.0, 76.0, 82.8, 81.0, 68.2, 66.85, 70.8, 86.0, 64.2, 62.0, 89.7, 69.16, 84.0, 53.4, 83.0, 88.1, 89.8, 90.4, 84.93, 86.7, 74.4, 74.88, 88.0, 80.0, 73.0, 52.09, 90.0, 81.86, 78.72, 70.6], \"yaxis\": \"y\"}],\n",
              "                        {\"coloraxis\": {\"colorbar\": {\"title\": {\"text\": \"High-Salary\"}}, \"colorscale\": [[0.0, \"#0d0887\"], [0.1111111111111111, \"#46039f\"], [0.2222222222222222, \"#7201a8\"], [0.3333333333333333, \"#9c179e\"], [0.4444444444444444, \"#bd3786\"], [0.5555555555555556, \"#d8576b\"], [0.6666666666666666, \"#ed7953\"], [0.7777777777777778, \"#fb9f3a\"], [0.8888888888888888, \"#fdca26\"], [1.0, \"#f0f921\"]]}, \"legend\": {\"tracegroupgap\": 0}, \"template\": {\"data\": {\"bar\": [{\"error_x\": {\"color\": \"#2a3f5f\"}, \"error_y\": {\"color\": \"#2a3f5f\"}, \"marker\": {\"line\": {\"color\": \"#E5ECF6\", \"width\": 0.5}}, \"type\": \"bar\"}], \"barpolar\": [{\"marker\": {\"line\": {\"color\": \"#E5ECF6\", \"width\": 0.5}}, \"type\": \"barpolar\"}], \"carpet\": [{\"aaxis\": {\"endlinecolor\": \"#2a3f5f\", \"gridcolor\": \"white\", \"linecolor\": \"white\", \"minorgridcolor\": \"white\", \"startlinecolor\": \"#2a3f5f\"}, \"baxis\": {\"endlinecolor\": \"#2a3f5f\", \"gridcolor\": \"white\", \"linecolor\": \"white\", \"minorgridcolor\": \"white\", \"startlinecolor\": \"#2a3f5f\"}, \"type\": \"carpet\"}], \"choropleth\": [{\"colorbar\": {\"outlinewidth\": 0, \"ticks\": \"\"}, \"type\": \"choropleth\"}], \"contour\": [{\"colorbar\": {\"outlinewidth\": 0, \"ticks\": \"\"}, \"colorscale\": [[0.0, \"#0d0887\"], [0.1111111111111111, \"#46039f\"], [0.2222222222222222, \"#7201a8\"], [0.3333333333333333, \"#9c179e\"], [0.4444444444444444, \"#bd3786\"], [0.5555555555555556, \"#d8576b\"], [0.6666666666666666, \"#ed7953\"], [0.7777777777777778, \"#fb9f3a\"], [0.8888888888888888, \"#fdca26\"], [1.0, \"#f0f921\"]], \"type\": \"contour\"}], \"contourcarpet\": [{\"colorbar\": {\"outlinewidth\": 0, \"ticks\": \"\"}, \"type\": \"contourcarpet\"}], \"heatmap\": [{\"colorbar\": {\"outlinewidth\": 0, \"ticks\": \"\"}, \"colorscale\": [[0.0, \"#0d0887\"], [0.1111111111111111, \"#46039f\"], [0.2222222222222222, \"#7201a8\"], [0.3333333333333333, \"#9c179e\"], [0.4444444444444444, \"#bd3786\"], [0.5555555555555556, \"#d8576b\"], [0.6666666666666666, \"#ed7953\"], [0.7777777777777778, \"#fb9f3a\"], [0.8888888888888888, \"#fdca26\"], [1.0, \"#f0f921\"]], \"type\": \"heatmap\"}], \"heatmapgl\": [{\"colorbar\": {\"outlinewidth\": 0, \"ticks\": \"\"}, \"colorscale\": [[0.0, \"#0d0887\"], [0.1111111111111111, \"#46039f\"], [0.2222222222222222, \"#7201a8\"], [0.3333333333333333, \"#9c179e\"], [0.4444444444444444, \"#bd3786\"], [0.5555555555555556, \"#d8576b\"], [0.6666666666666666, \"#ed7953\"], [0.7777777777777778, \"#fb9f3a\"], [0.8888888888888888, \"#fdca26\"], [1.0, \"#f0f921\"]], \"type\": \"heatmapgl\"}], \"histogram\": [{\"marker\": {\"colorbar\": {\"outlinewidth\": 0, \"ticks\": \"\"}}, \"type\": \"histogram\"}], \"histogram2d\": [{\"colorbar\": {\"outlinewidth\": 0, \"ticks\": \"\"}, \"colorscale\": [[0.0, \"#0d0887\"], [0.1111111111111111, \"#46039f\"], [0.2222222222222222, \"#7201a8\"], [0.3333333333333333, \"#9c179e\"], [0.4444444444444444, \"#bd3786\"], [0.5555555555555556, \"#d8576b\"], [0.6666666666666666, \"#ed7953\"], [0.7777777777777778, \"#fb9f3a\"], [0.8888888888888888, \"#fdca26\"], [1.0, \"#f0f921\"]], \"type\": \"histogram2d\"}], \"histogram2dcontour\": [{\"colorbar\": {\"outlinewidth\": 0, \"ticks\": \"\"}, \"colorscale\": [[0.0, \"#0d0887\"], [0.1111111111111111, \"#46039f\"], [0.2222222222222222, \"#7201a8\"], [0.3333333333333333, \"#9c179e\"], [0.4444444444444444, \"#bd3786\"], [0.5555555555555556, \"#d8576b\"], [0.6666666666666666, \"#ed7953\"], [0.7777777777777778, \"#fb9f3a\"], [0.8888888888888888, \"#fdca26\"], [1.0, \"#f0f921\"]], \"type\": \"histogram2dcontour\"}], \"mesh3d\": [{\"colorbar\": {\"outlinewidth\": 0, \"ticks\": \"\"}, \"type\": \"mesh3d\"}], \"parcoords\": [{\"line\": {\"colorbar\": {\"outlinewidth\": 0, \"ticks\": \"\"}}, \"type\": \"parcoords\"}], \"pie\": [{\"automargin\": true, \"type\": \"pie\"}], \"scatter\": [{\"marker\": {\"colorbar\": {\"outlinewidth\": 0, \"ticks\": \"\"}}, \"type\": \"scatter\"}], \"scatter3d\": [{\"line\": {\"colorbar\": {\"outlinewidth\": 0, \"ticks\": \"\"}}, \"marker\": {\"colorbar\": {\"outlinewidth\": 0, \"ticks\": \"\"}}, \"type\": \"scatter3d\"}], \"scattercarpet\": [{\"marker\": {\"colorbar\": {\"outlinewidth\": 0, \"ticks\": \"\"}}, \"type\": \"scattercarpet\"}], \"scattergeo\": [{\"marker\": {\"colorbar\": {\"outlinewidth\": 0, \"ticks\": \"\"}}, \"type\": \"scattergeo\"}], \"scattergl\": [{\"marker\": {\"colorbar\": {\"outlinewidth\": 0, \"ticks\": \"\"}}, \"type\": \"scattergl\"}], \"scattermapbox\": [{\"marker\": {\"colorbar\": {\"outlinewidth\": 0, \"ticks\": \"\"}}, \"type\": \"scattermapbox\"}], \"scatterpolar\": [{\"marker\": {\"colorbar\": {\"outlinewidth\": 0, \"ticks\": \"\"}}, \"type\": \"scatterpolar\"}], \"scatterpolargl\": [{\"marker\": {\"colorbar\": {\"outlinewidth\": 0, \"ticks\": \"\"}}, \"type\": \"scatterpolargl\"}], \"scatterternary\": [{\"marker\": {\"colorbar\": {\"outlinewidth\": 0, \"ticks\": \"\"}}, \"type\": \"scatterternary\"}], \"surface\": [{\"colorbar\": {\"outlinewidth\": 0, \"ticks\": \"\"}, \"colorscale\": [[0.0, \"#0d0887\"], [0.1111111111111111, \"#46039f\"], [0.2222222222222222, \"#7201a8\"], [0.3333333333333333, \"#9c179e\"], [0.4444444444444444, \"#bd3786\"], [0.5555555555555556, \"#d8576b\"], [0.6666666666666666, \"#ed7953\"], [0.7777777777777778, \"#fb9f3a\"], [0.8888888888888888, \"#fdca26\"], [1.0, \"#f0f921\"]], \"type\": \"surface\"}], \"table\": [{\"cells\": {\"fill\": {\"color\": \"#EBF0F8\"}, \"line\": {\"color\": \"white\"}}, \"header\": {\"fill\": {\"color\": \"#C8D4E3\"}, \"line\": {\"color\": \"white\"}}, \"type\": \"table\"}]}, \"layout\": {\"annotationdefaults\": {\"arrowcolor\": \"#2a3f5f\", \"arrowhead\": 0, \"arrowwidth\": 1}, \"coloraxis\": {\"colorbar\": {\"outlinewidth\": 0, \"ticks\": \"\"}}, \"colorscale\": {\"diverging\": [[0, \"#8e0152\"], [0.1, \"#c51b7d\"], [0.2, \"#de77ae\"], [0.3, \"#f1b6da\"], [0.4, \"#fde0ef\"], [0.5, \"#f7f7f7\"], [0.6, \"#e6f5d0\"], [0.7, \"#b8e186\"], [0.8, \"#7fbc41\"], [0.9, \"#4d9221\"], [1, \"#276419\"]], \"sequential\": [[0.0, \"#0d0887\"], [0.1111111111111111, \"#46039f\"], [0.2222222222222222, \"#7201a8\"], [0.3333333333333333, \"#9c179e\"], [0.4444444444444444, \"#bd3786\"], [0.5555555555555556, \"#d8576b\"], [0.6666666666666666, \"#ed7953\"], [0.7777777777777778, \"#fb9f3a\"], [0.8888888888888888, \"#fdca26\"], [1.0, \"#f0f921\"]], \"sequentialminus\": [[0.0, \"#0d0887\"], [0.1111111111111111, \"#46039f\"], [0.2222222222222222, \"#7201a8\"], [0.3333333333333333, \"#9c179e\"], [0.4444444444444444, \"#bd3786\"], [0.5555555555555556, \"#d8576b\"], [0.6666666666666666, \"#ed7953\"], [0.7777777777777778, \"#fb9f3a\"], [0.8888888888888888, \"#fdca26\"], [1.0, \"#f0f921\"]]}, \"colorway\": [\"#636efa\", \"#EF553B\", \"#00cc96\", \"#ab63fa\", \"#FFA15A\", \"#19d3f3\", \"#FF6692\", \"#B6E880\", \"#FF97FF\", \"#FECB52\"], \"font\": {\"color\": \"#2a3f5f\"}, \"geo\": {\"bgcolor\": \"white\", \"lakecolor\": \"white\", \"landcolor\": \"#E5ECF6\", \"showlakes\": true, \"showland\": true, \"subunitcolor\": \"white\"}, \"hoverlabel\": {\"align\": \"left\"}, \"hovermode\": \"closest\", \"mapbox\": {\"style\": \"light\"}, \"paper_bgcolor\": \"white\", \"plot_bgcolor\": \"#E5ECF6\", \"polar\": {\"angularaxis\": {\"gridcolor\": \"white\", \"linecolor\": \"white\", \"ticks\": \"\"}, \"bgcolor\": \"#E5ECF6\", \"radialaxis\": {\"gridcolor\": \"white\", \"linecolor\": \"white\", \"ticks\": \"\"}}, \"scene\": {\"xaxis\": {\"backgroundcolor\": \"#E5ECF6\", \"gridcolor\": \"white\", \"gridwidth\": 2, \"linecolor\": \"white\", \"showbackground\": true, \"ticks\": \"\", \"zerolinecolor\": \"white\"}, \"yaxis\": {\"backgroundcolor\": \"#E5ECF6\", \"gridcolor\": \"white\", \"gridwidth\": 2, \"linecolor\": \"white\", \"showbackground\": true, \"ticks\": \"\", \"zerolinecolor\": \"white\"}, \"zaxis\": {\"backgroundcolor\": \"#E5ECF6\", \"gridcolor\": \"white\", \"gridwidth\": 2, \"linecolor\": \"white\", \"showbackground\": true, \"ticks\": \"\", \"zerolinecolor\": \"white\"}}, \"shapedefaults\": {\"line\": {\"color\": \"#2a3f5f\"}}, \"ternary\": {\"aaxis\": {\"gridcolor\": \"white\", \"linecolor\": \"white\", \"ticks\": \"\"}, \"baxis\": {\"gridcolor\": \"white\", \"linecolor\": \"white\", \"ticks\": \"\"}, \"bgcolor\": \"#E5ECF6\", \"caxis\": {\"gridcolor\": \"white\", \"linecolor\": \"white\", \"ticks\": \"\"}}, \"title\": {\"x\": 0.05}, \"xaxis\": {\"automargin\": true, \"gridcolor\": \"white\", \"linecolor\": \"white\", \"ticks\": \"\", \"title\": {\"standoff\": 15}, \"zerolinecolor\": \"white\", \"zerolinewidth\": 2}, \"yaxis\": {\"automargin\": true, \"gridcolor\": \"white\", \"linecolor\": \"white\", \"ticks\": \"\", \"title\": {\"standoff\": 15}, \"zerolinecolor\": \"white\", \"zerolinewidth\": 2}}}, \"title\": {\"text\": \"Class 12 Percentage vs. Class 10 Percentage\"}, \"xaxis\": {\"anchor\": \"y\", \"domain\": [0.0, 1.0], \"title\": {\"text\": \"12percentage\"}}, \"yaxis\": {\"anchor\": \"x\", \"domain\": [0.0, 1.0], \"title\": {\"text\": \"10percentage\"}}},\n",
              "                        {\"responsive\": true}\n",
              "                    ).then(function(){\n",
              "                            \n",
              "var gd = document.getElementById('544ae6e1-b329-4063-96f9-e551acdf35eb');\n",
              "var x = new MutationObserver(function (mutations, observer) {{\n",
              "        var display = window.getComputedStyle(gd).display;\n",
              "        if (!display || display === 'none') {{\n",
              "            console.log([gd, 'removed!']);\n",
              "            Plotly.purge(gd);\n",
              "            observer.disconnect();\n",
              "        }}\n",
              "}});\n",
              "\n",
              "// Listen for the removal of the full notebook cells\n",
              "var notebookContainer = gd.closest('#notebook-container');\n",
              "if (notebookContainer) {{\n",
              "    x.observe(notebookContainer, {childList: true});\n",
              "}}\n",
              "\n",
              "// Listen for the clearing of the current output cell\n",
              "var outputEl = gd.closest('.output');\n",
              "if (outputEl) {{\n",
              "    x.observe(outputEl, {childList: true});\n",
              "}}\n",
              "\n",
              "                        })\n",
              "                };\n",
              "                \n",
              "            </script>\n",
              "        </div>\n",
              "</body>\n",
              "</html>"
            ]
          },
          "metadata": {}
        }
      ]
    },
    {
      "cell_type": "markdown",
      "metadata": {
        "id": "35ADgfWPOtyy"
      },
      "source": [
        "**As we can see from above plot, mostly those students who got good marks (almost above 80 %) both in class 10th and 12th got high salary jobs in future**"
      ]
    },
    {
      "cell_type": "markdown",
      "metadata": {
        "id": "Wdaov9VsXodt"
      },
      "source": [
        "**Training, Validation and Test Sets**"
      ]
    },
    {
      "cell_type": "code",
      "metadata": {
        "id": "-XciQKaeO9vQ"
      },
      "source": [
        "from sklearn.model_selection import train_test_split"
      ],
      "execution_count": 1898,
      "outputs": []
    },
    {
      "cell_type": "markdown",
      "metadata": {
        "id": "c-dtwIDeYHPk"
      },
      "source": [
        "**Test Data - 20% , Training Data - 60%, Validation Data - 20%**"
      ]
    },
    {
      "cell_type": "code",
      "metadata": {
        "id": "Vl7fQyMjX_pb"
      },
      "source": [
        "train_val_df, test_df = train_test_split(df, test_size=0.2, random_state = 121)\n",
        "train_df, val_df = train_test_split(train_val_df, test_size=0.25, random_state = 121)"
      ],
      "execution_count": 1949,
      "outputs": []
    },
    {
      "cell_type": "code",
      "metadata": {
        "colab": {
          "base_uri": "https://localhost:8080/"
        },
        "id": "t0gtOkszYuL1",
        "outputId": "37d0e1ff-4781-45bb-ce37-d070fdf9aad0"
      },
      "source": [
        "print('train_df.shape :', train_df.shape)\n",
        "print('val_df.shape :', val_df.shape)\n",
        "print('test_df.shape :', test_df.shape)"
      ],
      "execution_count": 1950,
      "outputs": [
        {
          "output_type": "stream",
          "name": "stdout",
          "text": [
            "train_df.shape : (2398, 35)\n",
            "val_df.shape : (800, 35)\n",
            "test_df.shape : (800, 35)\n"
          ]
        }
      ]
    },
    {
      "cell_type": "markdown",
      "metadata": {
        "id": "GZZ6SCxOp82g"
      },
      "source": [
        "**Identifying Input and Target Columns**"
      ]
    },
    {
      "cell_type": "code",
      "metadata": {
        "id": "XPySgqvIq3aL"
      },
      "source": [
        "input_columns = list(df[[\"Gender\", \"10percentage\" ,\t\"10board\" , \"12percentage\" , \"12board\" , \"CollegeTier\" , \"Degree\" , \"Specialization\" , \"collegeGPA\" , \"CollegeCityID\" , \"CollegeState\" , \"GraduationYear\" , \"English\" , \"Logical\" , \"Quant\" , \"Domain\" , \"ComputerProgramming\" , \"ComputerScience\" , \"MechanicalEngg\" , \"ElectricalEngg\" , \"TelecomEngg\" , \"CivilEngg\" , \"conscientiousness\" , \"agreeableness\" , \"extraversion\" , \"nueroticism\" , \"openess_to_experience\"]])"
      ],
      "execution_count": 1951,
      "outputs": []
    },
    {
      "cell_type": "code",
      "metadata": {
        "id": "6haUEZTotBpE"
      },
      "source": [
        "target_column = 'High-Salary'"
      ],
      "execution_count": 1952,
      "outputs": []
    },
    {
      "cell_type": "code",
      "metadata": {
        "colab": {
          "base_uri": "https://localhost:8080/"
        },
        "id": "QhbVtIzctIq3",
        "outputId": "f85ddfd3-0fd7-49b8-d486-e4edf7942367"
      },
      "source": [
        "print(input_columns)"
      ],
      "execution_count": 1953,
      "outputs": [
        {
          "output_type": "stream",
          "name": "stdout",
          "text": [
            "['Gender', '10percentage', '10board', '12percentage', '12board', 'CollegeTier', 'Degree', 'Specialization', 'collegeGPA', 'CollegeCityID', 'CollegeState', 'GraduationYear', 'English', 'Logical', 'Quant', 'Domain', 'ComputerProgramming', 'ComputerScience', 'MechanicalEngg', 'ElectricalEngg', 'TelecomEngg', 'CivilEngg', 'conscientiousness', 'agreeableness', 'extraversion', 'nueroticism', 'openess_to_experience']\n"
          ]
        }
      ]
    },
    {
      "cell_type": "code",
      "metadata": {
        "id": "MYDfASLZtTQp"
      },
      "source": [
        "training_inputs = train_df[input_columns].copy()\n",
        "training_target = train_df[target_column].copy()"
      ],
      "execution_count": 1954,
      "outputs": []
    },
    {
      "cell_type": "code",
      "metadata": {
        "id": "5ERy1ehjtnYD"
      },
      "source": [
        "validating_inputs = val_df[input_columns].copy()\n",
        "validating_target = val_df[target_column].copy()"
      ],
      "execution_count": 1955,
      "outputs": []
    },
    {
      "cell_type": "code",
      "metadata": {
        "id": "VvoOPYZptyZb"
      },
      "source": [
        "test_inputs = test_df[input_columns].copy()\n",
        "test_target = test_df[target_column].copy()"
      ],
      "execution_count": 1956,
      "outputs": []
    },
    {
      "cell_type": "code",
      "metadata": {
        "id": "EtF5dQJ1x09C"
      },
      "source": [
        "numeric_cols = training_inputs.select_dtypes(include=np.number).columns.tolist()\n",
        "other_cols = training_inputs.select_dtypes('object').columns.tolist()"
      ],
      "execution_count": 1957,
      "outputs": []
    },
    {
      "cell_type": "code",
      "metadata": {
        "colab": {
          "base_uri": "https://localhost:8080/"
        },
        "id": "ee4b6vI7zNE2",
        "outputId": "b07a3a3c-a16f-4403-ea93-e3f9f48da8ee"
      },
      "source": [
        "training_inputs[numeric_cols].info()"
      ],
      "execution_count": 1958,
      "outputs": [
        {
          "output_type": "stream",
          "name": "stdout",
          "text": [
            "<class 'pandas.core.frame.DataFrame'>\n",
            "Int64Index: 2398 entries, 1603 to 767\n",
            "Data columns (total 21 columns):\n",
            " #   Column                 Non-Null Count  Dtype  \n",
            "---  ------                 --------------  -----  \n",
            " 0   10percentage           2398 non-null   float64\n",
            " 1   12percentage           2398 non-null   float64\n",
            " 2   CollegeTier            2398 non-null   float64\n",
            " 3   collegeGPA             2398 non-null   float64\n",
            " 4   CollegeCityID          2398 non-null   float64\n",
            " 5   GraduationYear         2398 non-null   float64\n",
            " 6   English                2398 non-null   float64\n",
            " 7   Logical                2398 non-null   float64\n",
            " 8   Quant                  2398 non-null   float64\n",
            " 9   Domain                 2398 non-null   float64\n",
            " 10  ComputerProgramming    2398 non-null   float64\n",
            " 11  ComputerScience        2398 non-null   float64\n",
            " 12  MechanicalEngg         2398 non-null   float64\n",
            " 13  ElectricalEngg         2398 non-null   float64\n",
            " 14  TelecomEngg            2398 non-null   float64\n",
            " 15  CivilEngg              2398 non-null   float64\n",
            " 16  conscientiousness      2398 non-null   float64\n",
            " 17  agreeableness          2398 non-null   float64\n",
            " 18  extraversion           2398 non-null   float64\n",
            " 19  nueroticism            2398 non-null   float64\n",
            " 20  openess_to_experience  2398 non-null   float64\n",
            "dtypes: float64(21)\n",
            "memory usage: 412.2 KB\n"
          ]
        }
      ]
    },
    {
      "cell_type": "code",
      "metadata": {
        "colab": {
          "base_uri": "https://localhost:8080/"
        },
        "id": "2qLX_p9xzUff",
        "outputId": "0b97b6c1-cc66-4064-fd6d-52f0fbccab5f"
      },
      "source": [
        "training_inputs[other_cols].info()"
      ],
      "execution_count": 1959,
      "outputs": [
        {
          "output_type": "stream",
          "name": "stdout",
          "text": [
            "<class 'pandas.core.frame.DataFrame'>\n",
            "Int64Index: 2398 entries, 1603 to 767\n",
            "Data columns (total 6 columns):\n",
            " #   Column          Non-Null Count  Dtype \n",
            "---  ------          --------------  ----- \n",
            " 0   Gender          2398 non-null   object\n",
            " 1   10board         2398 non-null   object\n",
            " 2   12board         2398 non-null   object\n",
            " 3   Degree          2398 non-null   object\n",
            " 4   Specialization  2398 non-null   object\n",
            " 5   CollegeState    2398 non-null   object\n",
            "dtypes: object(6)\n",
            "memory usage: 131.1+ KB\n"
          ]
        }
      ]
    },
    {
      "cell_type": "markdown",
      "metadata": {
        "id": "7SVESIRuzb3l"
      },
      "source": [
        "**As we can see there are no NAN values in any of the columns of the dataframe. If there would have been any NAN values in dataframe, then we would have used the SimpleImputer of sklearn library to fill the missing values (we can replace NAN by mean/median/mode/any other fixed values in the columns)**"
      ]
    },
    {
      "cell_type": "markdown",
      "metadata": {
        "id": "YClvQ2VTGWu7"
      },
      "source": [
        "**Feature Scaling**"
      ]
    },
    {
      "cell_type": "code",
      "metadata": {
        "colab": {
          "base_uri": "https://localhost:8080/",
          "height": 317
        },
        "id": "VpdMf2a1z8bC",
        "outputId": "acfecd0e-4f59-4f69-ef2f-483179792c3b"
      },
      "source": [
        "df[numeric_cols].describe()"
      ],
      "execution_count": 1960,
      "outputs": [
        {
          "output_type": "execute_result",
          "data": {
            "text/html": [
              "<div>\n",
              "<style scoped>\n",
              "    .dataframe tbody tr th:only-of-type {\n",
              "        vertical-align: middle;\n",
              "    }\n",
              "\n",
              "    .dataframe tbody tr th {\n",
              "        vertical-align: top;\n",
              "    }\n",
              "\n",
              "    .dataframe thead th {\n",
              "        text-align: right;\n",
              "    }\n",
              "</style>\n",
              "<table border=\"1\" class=\"dataframe\">\n",
              "  <thead>\n",
              "    <tr style=\"text-align: right;\">\n",
              "      <th></th>\n",
              "      <th>10percentage</th>\n",
              "      <th>12percentage</th>\n",
              "      <th>CollegeTier</th>\n",
              "      <th>collegeGPA</th>\n",
              "      <th>CollegeCityID</th>\n",
              "      <th>GraduationYear</th>\n",
              "      <th>English</th>\n",
              "      <th>Logical</th>\n",
              "      <th>Quant</th>\n",
              "      <th>Domain</th>\n",
              "      <th>ComputerProgramming</th>\n",
              "      <th>ComputerScience</th>\n",
              "      <th>MechanicalEngg</th>\n",
              "      <th>ElectricalEngg</th>\n",
              "      <th>TelecomEngg</th>\n",
              "      <th>CivilEngg</th>\n",
              "      <th>conscientiousness</th>\n",
              "      <th>agreeableness</th>\n",
              "      <th>extraversion</th>\n",
              "      <th>nueroticism</th>\n",
              "      <th>openess_to_experience</th>\n",
              "    </tr>\n",
              "  </thead>\n",
              "  <tbody>\n",
              "    <tr>\n",
              "      <th>count</th>\n",
              "      <td>3998.000000</td>\n",
              "      <td>3998.000000</td>\n",
              "      <td>3998.000000</td>\n",
              "      <td>3998.000000</td>\n",
              "      <td>3998.000000</td>\n",
              "      <td>3998.000000</td>\n",
              "      <td>3998.000000</td>\n",
              "      <td>3998.000000</td>\n",
              "      <td>3998.000000</td>\n",
              "      <td>3998.000000</td>\n",
              "      <td>3998.000000</td>\n",
              "      <td>3998.000000</td>\n",
              "      <td>3998.000000</td>\n",
              "      <td>3998.000000</td>\n",
              "      <td>3998.000000</td>\n",
              "      <td>3998.000000</td>\n",
              "      <td>3998.000000</td>\n",
              "      <td>3998.000000</td>\n",
              "      <td>3998.000000</td>\n",
              "      <td>3998.000000</td>\n",
              "      <td>3998.000000</td>\n",
              "    </tr>\n",
              "    <tr>\n",
              "      <th>mean</th>\n",
              "      <td>0.637791</td>\n",
              "      <td>0.587161</td>\n",
              "      <td>0.925713</td>\n",
              "      <td>0.695723</td>\n",
              "      <td>0.280048</td>\n",
              "      <td>0.997574</td>\n",
              "      <td>0.462804</td>\n",
              "      <td>0.510998</td>\n",
              "      <td>0.504331</td>\n",
              "      <td>0.755279</td>\n",
              "      <td>0.421050</td>\n",
              "      <td>0.128132</td>\n",
              "      <td>0.038421</td>\n",
              "      <td>0.025797</td>\n",
              "      <td>0.059777</td>\n",
              "      <td>0.007119</td>\n",
              "      <td>0.667898</td>\n",
              "      <td>0.771245</td>\n",
              "      <td>0.645105</td>\n",
              "      <td>0.412637</td>\n",
              "      <td>0.786857</td>\n",
              "    </tr>\n",
              "    <tr>\n",
              "      <th>std</th>\n",
              "      <td>0.179879</td>\n",
              "      <td>0.187392</td>\n",
              "      <td>0.262270</td>\n",
              "      <td>0.087370</td>\n",
              "      <td>0.260893</td>\n",
              "      <td>0.015794</td>\n",
              "      <td>0.150993</td>\n",
              "      <td>0.144639</td>\n",
              "      <td>0.156798</td>\n",
              "      <td>0.234346</td>\n",
              "      <td>0.244180</td>\n",
              "      <td>0.244795</td>\n",
              "      <td>0.157249</td>\n",
              "      <td>0.129281</td>\n",
              "      <td>0.190819</td>\n",
              "      <td>0.070851</td>\n",
              "      <td>0.168028</td>\n",
              "      <td>0.122526</td>\n",
              "      <td>0.133328</td>\n",
              "      <td>0.168056</td>\n",
              "      <td>0.109596</td>\n",
              "    </tr>\n",
              "    <tr>\n",
              "      <th>min</th>\n",
              "      <td>0.000000</td>\n",
              "      <td>0.000000</td>\n",
              "      <td>0.000000</td>\n",
              "      <td>0.000000</td>\n",
              "      <td>0.000000</td>\n",
              "      <td>0.000000</td>\n",
              "      <td>0.000000</td>\n",
              "      <td>0.000000</td>\n",
              "      <td>0.000000</td>\n",
              "      <td>0.000000</td>\n",
              "      <td>0.000000</td>\n",
              "      <td>0.000000</td>\n",
              "      <td>0.000000</td>\n",
              "      <td>0.000000</td>\n",
              "      <td>0.000000</td>\n",
              "      <td>0.000000</td>\n",
              "      <td>0.000000</td>\n",
              "      <td>0.000000</td>\n",
              "      <td>0.000000</td>\n",
              "      <td>0.000000</td>\n",
              "      <td>0.000000</td>\n",
              "    </tr>\n",
              "    <tr>\n",
              "      <th>25%</th>\n",
              "      <td>0.523740</td>\n",
              "      <td>0.442930</td>\n",
              "      <td>1.000000</td>\n",
              "      <td>0.641394</td>\n",
              "      <td>0.026729</td>\n",
              "      <td>0.997521</td>\n",
              "      <td>0.352518</td>\n",
              "      <td>0.416667</td>\n",
              "      <td>0.397436</td>\n",
              "      <td>0.671188</td>\n",
              "      <td>0.351962</td>\n",
              "      <td>0.000000</td>\n",
              "      <td>0.000000</td>\n",
              "      <td>0.000000</td>\n",
              "      <td>0.000000</td>\n",
              "      <td>0.000000</td>\n",
              "      <td>0.557526</td>\n",
              "      <td>0.714834</td>\n",
              "      <td>0.559968</td>\n",
              "      <td>0.296022</td>\n",
              "      <td>0.729118</td>\n",
              "    </tr>\n",
              "    <tr>\n",
              "      <th>50%</th>\n",
              "      <td>0.660153</td>\n",
              "      <td>0.586031</td>\n",
              "      <td>1.000000</td>\n",
              "      <td>0.698224</td>\n",
              "      <td>0.210626</td>\n",
              "      <td>0.998017</td>\n",
              "      <td>0.460432</td>\n",
              "      <td>0.516667</td>\n",
              "      <td>0.506410</td>\n",
              "      <td>0.811358</td>\n",
              "      <td>0.494649</td>\n",
              "      <td>0.000000</td>\n",
              "      <td>0.000000</td>\n",
              "      <td>0.000000</td>\n",
              "      <td>0.000000</td>\n",
              "      <td>0.000000</td>\n",
              "      <td>0.681656</td>\n",
              "      <td>0.779819</td>\n",
              "      <td>0.657526</td>\n",
              "      <td>0.401735</td>\n",
              "      <td>0.791620</td>\n",
              "    </tr>\n",
              "    <tr>\n",
              "      <th>75%</th>\n",
              "      <td>0.779218</td>\n",
              "      <td>0.725724</td>\n",
              "      <td>1.000000</td>\n",
              "      <td>0.747513</td>\n",
              "      <td>0.478948</td>\n",
              "      <td>0.998513</td>\n",
              "      <td>0.561151</td>\n",
              "      <td>0.616667</td>\n",
              "      <td>0.608974</td>\n",
              "      <td>0.921165</td>\n",
              "      <td>0.589774</td>\n",
              "      <td>0.000000</td>\n",
              "      <td>0.000000</td>\n",
              "      <td>0.000000</td>\n",
              "      <td>0.000000</td>\n",
              "      <td>0.000000</td>\n",
              "      <td>0.788860</td>\n",
              "      <td>0.857931</td>\n",
              "      <td>0.738884</td>\n",
              "      <td>0.528596</td>\n",
              "      <td>0.856492</td>\n",
              "    </tr>\n",
              "    <tr>\n",
              "      <th>max</th>\n",
              "      <td>1.000000</td>\n",
              "      <td>1.000000</td>\n",
              "      <td>1.000000</td>\n",
              "      <td>1.000000</td>\n",
              "      <td>1.000000</td>\n",
              "      <td>1.000000</td>\n",
              "      <td>1.000000</td>\n",
              "      <td>1.000000</td>\n",
              "      <td>1.000000</td>\n",
              "      <td>1.000000</td>\n",
              "      <td>1.000000</td>\n",
              "      <td>1.000000</td>\n",
              "      <td>1.000000</td>\n",
              "      <td>1.000000</td>\n",
              "      <td>1.000000</td>\n",
              "      <td>1.000000</td>\n",
              "      <td>1.000000</td>\n",
              "      <td>1.000000</td>\n",
              "      <td>1.000000</td>\n",
              "      <td>1.000000</td>\n",
              "      <td>1.000000</td>\n",
              "    </tr>\n",
              "  </tbody>\n",
              "</table>\n",
              "</div>"
            ],
            "text/plain": [
              "       10percentage  12percentage  ...  nueroticism  openess_to_experience\n",
              "count   3998.000000   3998.000000  ...  3998.000000            3998.000000\n",
              "mean       0.637791      0.587161  ...     0.412637               0.786857\n",
              "std        0.179879      0.187392  ...     0.168056               0.109596\n",
              "min        0.000000      0.000000  ...     0.000000               0.000000\n",
              "25%        0.523740      0.442930  ...     0.296022               0.729118\n",
              "50%        0.660153      0.586031  ...     0.401735               0.791620\n",
              "75%        0.779218      0.725724  ...     0.528596               0.856492\n",
              "max        1.000000      1.000000  ...     1.000000               1.000000\n",
              "\n",
              "[8 rows x 21 columns]"
            ]
          },
          "metadata": {},
          "execution_count": 1960
        }
      ]
    },
    {
      "cell_type": "markdown",
      "metadata": {
        "id": "p9UosZT9HLfy"
      },
      "source": [
        "**Using MinMaxScaler from sklearn.preprocessing for feature scaling**"
      ]
    },
    {
      "cell_type": "code",
      "metadata": {
        "id": "lj38oY5nGw6o"
      },
      "source": [
        "from sklearn.preprocessing import MinMaxScaler"
      ],
      "execution_count": 1961,
      "outputs": []
    },
    {
      "cell_type": "code",
      "metadata": {
        "id": "W1rVMljbgRCF"
      },
      "source": [
        "df['CivilEngg'] = df['CivilEngg'].replace(-1,0)\n",
        "df['MechanicalEnggEngg'] = df['MechanicalEngg'].replace(-1,0)\n",
        "df['ElectricalEngg'] = df['ElectricalEngg'].replace(-1,0)\n",
        "df['TelecomEngg'] = df['TelecomEngg'].replace(-1,0)"
      ],
      "execution_count": 1962,
      "outputs": []
    },
    {
      "cell_type": "code",
      "metadata": {
        "id": "x9au-_twHgqx"
      },
      "source": [
        "scaling = MinMaxScaler() "
      ],
      "execution_count": 1963,
      "outputs": []
    },
    {
      "cell_type": "code",
      "metadata": {
        "colab": {
          "base_uri": "https://localhost:8080/"
        },
        "id": "rYygXQ4mHxsh",
        "outputId": "c0d89db0-5a9d-4ac0-db47-09204ef1847c"
      },
      "source": [
        "scaling.fit(df[numeric_cols])"
      ],
      "execution_count": 1964,
      "outputs": [
        {
          "output_type": "execute_result",
          "data": {
            "text/plain": [
              "MinMaxScaler()"
            ]
          },
          "metadata": {},
          "execution_count": 1964
        }
      ]
    },
    {
      "cell_type": "code",
      "metadata": {
        "id": "xHJtEGwzLi_5"
      },
      "source": [
        "df[numeric_cols]=scaling.transform(df[numeric_cols])"
      ],
      "execution_count": 1965,
      "outputs": []
    },
    {
      "cell_type": "code",
      "metadata": {
        "colab": {
          "base_uri": "https://localhost:8080/",
          "height": 317
        },
        "id": "yqR1g1K7MUy9",
        "outputId": "cf5870de-d81d-487d-8473-387571eab609"
      },
      "source": [
        "training_inputs[numeric_cols].describe()"
      ],
      "execution_count": 1966,
      "outputs": [
        {
          "output_type": "execute_result",
          "data": {
            "text/html": [
              "<div>\n",
              "<style scoped>\n",
              "    .dataframe tbody tr th:only-of-type {\n",
              "        vertical-align: middle;\n",
              "    }\n",
              "\n",
              "    .dataframe tbody tr th {\n",
              "        vertical-align: top;\n",
              "    }\n",
              "\n",
              "    .dataframe thead th {\n",
              "        text-align: right;\n",
              "    }\n",
              "</style>\n",
              "<table border=\"1\" class=\"dataframe\">\n",
              "  <thead>\n",
              "    <tr style=\"text-align: right;\">\n",
              "      <th></th>\n",
              "      <th>10percentage</th>\n",
              "      <th>12percentage</th>\n",
              "      <th>CollegeTier</th>\n",
              "      <th>collegeGPA</th>\n",
              "      <th>CollegeCityID</th>\n",
              "      <th>GraduationYear</th>\n",
              "      <th>English</th>\n",
              "      <th>Logical</th>\n",
              "      <th>Quant</th>\n",
              "      <th>Domain</th>\n",
              "      <th>ComputerProgramming</th>\n",
              "      <th>ComputerScience</th>\n",
              "      <th>MechanicalEngg</th>\n",
              "      <th>ElectricalEngg</th>\n",
              "      <th>TelecomEngg</th>\n",
              "      <th>CivilEngg</th>\n",
              "      <th>conscientiousness</th>\n",
              "      <th>agreeableness</th>\n",
              "      <th>extraversion</th>\n",
              "      <th>nueroticism</th>\n",
              "      <th>openess_to_experience</th>\n",
              "    </tr>\n",
              "  </thead>\n",
              "  <tbody>\n",
              "    <tr>\n",
              "      <th>count</th>\n",
              "      <td>2398.000000</td>\n",
              "      <td>2398.000000</td>\n",
              "      <td>2398.000000</td>\n",
              "      <td>2398.000000</td>\n",
              "      <td>2398.000000</td>\n",
              "      <td>2398.000000</td>\n",
              "      <td>2398.000000</td>\n",
              "      <td>2398.000000</td>\n",
              "      <td>2398.000000</td>\n",
              "      <td>2398.000000</td>\n",
              "      <td>2398.000000</td>\n",
              "      <td>2398.000000</td>\n",
              "      <td>2398.000000</td>\n",
              "      <td>2398.000000</td>\n",
              "      <td>2398.000000</td>\n",
              "      <td>2398.000000</td>\n",
              "      <td>2398.000000</td>\n",
              "      <td>2398.000000</td>\n",
              "      <td>2398.000000</td>\n",
              "      <td>2398.000000</td>\n",
              "      <td>2398.000000</td>\n",
              "    </tr>\n",
              "    <tr>\n",
              "      <th>mean</th>\n",
              "      <td>0.637370</td>\n",
              "      <td>0.587906</td>\n",
              "      <td>0.926606</td>\n",
              "      <td>0.696103</td>\n",
              "      <td>0.284491</td>\n",
              "      <td>0.997416</td>\n",
              "      <td>0.463801</td>\n",
              "      <td>0.513347</td>\n",
              "      <td>0.508775</td>\n",
              "      <td>0.756202</td>\n",
              "      <td>0.419764</td>\n",
              "      <td>0.128689</td>\n",
              "      <td>0.036471</td>\n",
              "      <td>0.025973</td>\n",
              "      <td>0.056468</td>\n",
              "      <td>0.007207</td>\n",
              "      <td>0.668483</td>\n",
              "      <td>0.771500</td>\n",
              "      <td>0.644698</td>\n",
              "      <td>0.416642</td>\n",
              "      <td>0.785814</td>\n",
              "    </tr>\n",
              "    <tr>\n",
              "      <th>std</th>\n",
              "      <td>0.179577</td>\n",
              "      <td>0.186600</td>\n",
              "      <td>0.260837</td>\n",
              "      <td>0.087101</td>\n",
              "      <td>0.261874</td>\n",
              "      <td>0.020387</td>\n",
              "      <td>0.149262</td>\n",
              "      <td>0.143480</td>\n",
              "      <td>0.155374</td>\n",
              "      <td>0.235308</td>\n",
              "      <td>0.246892</td>\n",
              "      <td>0.244880</td>\n",
              "      <td>0.151632</td>\n",
              "      <td>0.129612</td>\n",
              "      <td>0.187455</td>\n",
              "      <td>0.070459</td>\n",
              "      <td>0.168518</td>\n",
              "      <td>0.124041</td>\n",
              "      <td>0.135815</td>\n",
              "      <td>0.168899</td>\n",
              "      <td>0.111439</td>\n",
              "    </tr>\n",
              "    <tr>\n",
              "      <th>min</th>\n",
              "      <td>0.021183</td>\n",
              "      <td>0.000000</td>\n",
              "      <td>0.000000</td>\n",
              "      <td>0.000000</td>\n",
              "      <td>0.000000</td>\n",
              "      <td>0.000000</td>\n",
              "      <td>0.000000</td>\n",
              "      <td>0.016667</td>\n",
              "      <td>0.019231</td>\n",
              "      <td>0.000000</td>\n",
              "      <td>0.000000</td>\n",
              "      <td>0.000000</td>\n",
              "      <td>0.000000</td>\n",
              "      <td>0.000000</td>\n",
              "      <td>0.000000</td>\n",
              "      <td>0.000000</td>\n",
              "      <td>0.000000</td>\n",
              "      <td>0.000000</td>\n",
              "      <td>0.000000</td>\n",
              "      <td>0.000000</td>\n",
              "      <td>0.041661</td>\n",
              "    </tr>\n",
              "    <tr>\n",
              "      <th>25%</th>\n",
              "      <td>0.525383</td>\n",
              "      <td>0.442930</td>\n",
              "      <td>1.000000</td>\n",
              "      <td>0.643640</td>\n",
              "      <td>0.027109</td>\n",
              "      <td>0.997521</td>\n",
              "      <td>0.359712</td>\n",
              "      <td>0.416667</td>\n",
              "      <td>0.403846</td>\n",
              "      <td>0.678299</td>\n",
              "      <td>0.340071</td>\n",
              "      <td>0.000000</td>\n",
              "      <td>0.000000</td>\n",
              "      <td>0.000000</td>\n",
              "      <td>0.000000</td>\n",
              "      <td>0.000000</td>\n",
              "      <td>0.568050</td>\n",
              "      <td>0.714834</td>\n",
              "      <td>0.559968</td>\n",
              "      <td>0.296022</td>\n",
              "      <td>0.729118</td>\n",
              "    </tr>\n",
              "    <tr>\n",
              "      <th>50%</th>\n",
              "      <td>0.661066</td>\n",
              "      <td>0.583901</td>\n",
              "      <td>1.000000</td>\n",
              "      <td>0.699294</td>\n",
              "      <td>0.218694</td>\n",
              "      <td>0.998017</td>\n",
              "      <td>0.460432</td>\n",
              "      <td>0.516667</td>\n",
              "      <td>0.519231</td>\n",
              "      <td>0.811358</td>\n",
              "      <td>0.494649</td>\n",
              "      <td>0.000000</td>\n",
              "      <td>0.000000</td>\n",
              "      <td>0.000000</td>\n",
              "      <td>0.000000</td>\n",
              "      <td>0.000000</td>\n",
              "      <td>0.681656</td>\n",
              "      <td>0.779819</td>\n",
              "      <td>0.657526</td>\n",
              "      <td>0.406874</td>\n",
              "      <td>0.791620</td>\n",
              "    </tr>\n",
              "    <tr>\n",
              "      <th>75%</th>\n",
              "      <td>0.777940</td>\n",
              "      <td>0.727428</td>\n",
              "      <td>1.000000</td>\n",
              "      <td>0.747192</td>\n",
              "      <td>0.479179</td>\n",
              "      <td>0.998513</td>\n",
              "      <td>0.561151</td>\n",
              "      <td>0.616667</td>\n",
              "      <td>0.608974</td>\n",
              "      <td>0.921165</td>\n",
              "      <td>0.589774</td>\n",
              "      <td>0.000000</td>\n",
              "      <td>0.000000</td>\n",
              "      <td>0.000000</td>\n",
              "      <td>0.000000</td>\n",
              "      <td>0.000000</td>\n",
              "      <td>0.788860</td>\n",
              "      <td>0.857931</td>\n",
              "      <td>0.738884</td>\n",
              "      <td>0.528596</td>\n",
              "      <td>0.856492</td>\n",
              "    </tr>\n",
              "    <tr>\n",
              "      <th>max</th>\n",
              "      <td>1.000000</td>\n",
              "      <td>1.000000</td>\n",
              "      <td>1.000000</td>\n",
              "      <td>0.990051</td>\n",
              "      <td>1.000000</td>\n",
              "      <td>1.000000</td>\n",
              "      <td>0.964029</td>\n",
              "      <td>0.900000</td>\n",
              "      <td>1.000000</td>\n",
              "      <td>1.000000</td>\n",
              "      <td>1.000000</td>\n",
              "      <td>1.000000</td>\n",
              "      <td>1.000000</td>\n",
              "      <td>0.976331</td>\n",
              "      <td>1.000000</td>\n",
              "      <td>0.968992</td>\n",
              "      <td>1.000000</td>\n",
              "      <td>1.000000</td>\n",
              "      <td>1.000000</td>\n",
              "      <td>1.000000</td>\n",
              "      <td>0.979104</td>\n",
              "    </tr>\n",
              "  </tbody>\n",
              "</table>\n",
              "</div>"
            ],
            "text/plain": [
              "       10percentage  12percentage  ...  nueroticism  openess_to_experience\n",
              "count   2398.000000   2398.000000  ...  2398.000000            2398.000000\n",
              "mean       0.637370      0.587906  ...     0.416642               0.785814\n",
              "std        0.179577      0.186600  ...     0.168899               0.111439\n",
              "min        0.021183      0.000000  ...     0.000000               0.041661\n",
              "25%        0.525383      0.442930  ...     0.296022               0.729118\n",
              "50%        0.661066      0.583901  ...     0.406874               0.791620\n",
              "75%        0.777940      0.727428  ...     0.528596               0.856492\n",
              "max        1.000000      1.000000  ...     1.000000               0.979104\n",
              "\n",
              "[8 rows x 21 columns]"
            ]
          },
          "metadata": {},
          "execution_count": 1966
        }
      ]
    },
    {
      "cell_type": "markdown",
      "metadata": {
        "id": "jCtabyZ4Nz4K"
      },
      "source": [
        "**Encoding non-numerical data**\n",
        "\n",
        "> We need to convert non-numerical data to numbers as ML models can only be trained using numerical data. One of the technique that we are going to use here is hot-encoding method.\n",
        "\n",
        "\n",
        "\n"
      ]
    },
    {
      "cell_type": "code",
      "metadata": {
        "id": "6UNAo4YINu2H"
      },
      "source": [
        "from sklearn.preprocessing import OneHotEncoder"
      ],
      "execution_count": 1967,
      "outputs": []
    },
    {
      "cell_type": "code",
      "metadata": {
        "id": "nwgfz0MbPVvp"
      },
      "source": [
        "encoder = OneHotEncoder(sparse=False, handle_unknown='ignore')"
      ],
      "execution_count": 1968,
      "outputs": []
    },
    {
      "cell_type": "code",
      "metadata": {
        "colab": {
          "base_uri": "https://localhost:8080/"
        },
        "id": "-5RZWeu4lvB1",
        "outputId": "f0820450-7af6-485c-99a3-cf8fc79a0c58"
      },
      "source": [
        "other_cols"
      ],
      "execution_count": 1969,
      "outputs": [
        {
          "output_type": "execute_result",
          "data": {
            "text/plain": [
              "['Gender', '10board', '12board', 'Degree', 'Specialization', 'CollegeState']"
            ]
          },
          "metadata": {},
          "execution_count": 1969
        }
      ]
    },
    {
      "cell_type": "code",
      "metadata": {
        "colab": {
          "base_uri": "https://localhost:8080/"
        },
        "id": "Y9u3nhaXj823",
        "outputId": "0a1a7dce-6440-4b37-8888-4e83c7bc01cb"
      },
      "source": [
        "df2 = df[other_cols]\n",
        "df2['10board'] = df['10board'].replace(0,str(0))\n",
        "df2['12board'] = df['12board'].replace(0,str(0))"
      ],
      "execution_count": 1970,
      "outputs": [
        {
          "output_type": "stream",
          "name": "stderr",
          "text": [
            "/usr/local/lib/python3.7/dist-packages/ipykernel_launcher.py:2: SettingWithCopyWarning:\n",
            "\n",
            "\n",
            "A value is trying to be set on a copy of a slice from a DataFrame.\n",
            "Try using .loc[row_indexer,col_indexer] = value instead\n",
            "\n",
            "See the caveats in the documentation: https://pandas.pydata.org/pandas-docs/stable/user_guide/indexing.html#returning-a-view-versus-a-copy\n",
            "\n",
            "/usr/local/lib/python3.7/dist-packages/ipykernel_launcher.py:3: SettingWithCopyWarning:\n",
            "\n",
            "\n",
            "A value is trying to be set on a copy of a slice from a DataFrame.\n",
            "Try using .loc[row_indexer,col_indexer] = value instead\n",
            "\n",
            "See the caveats in the documentation: https://pandas.pydata.org/pandas-docs/stable/user_guide/indexing.html#returning-a-view-versus-a-copy\n",
            "\n"
          ]
        }
      ]
    },
    {
      "cell_type": "code",
      "metadata": {
        "colab": {
          "base_uri": "https://localhost:8080/"
        },
        "id": "svFHp4Mmieu0",
        "outputId": "7994af3b-8b59-4f02-fece-5e466916ea96"
      },
      "source": [
        "encoder.fit(df2)"
      ],
      "execution_count": 1971,
      "outputs": [
        {
          "output_type": "execute_result",
          "data": {
            "text/plain": [
              "OneHotEncoder(handle_unknown='ignore', sparse=False)"
            ]
          },
          "metadata": {},
          "execution_count": 1971
        }
      ]
    },
    {
      "cell_type": "code",
      "metadata": {
        "id": "OQtpbdyemcJv"
      },
      "source": [
        "encoded_cols = list(encoder.get_feature_names(other_cols))"
      ],
      "execution_count": 1972,
      "outputs": []
    },
    {
      "cell_type": "code",
      "metadata": {
        "id": "EbvHJUHCmo20"
      },
      "source": [
        "training_inputs[encoded_cols] = encoder.transform(training_inputs[other_cols])\n",
        "validating_inputs[encoded_cols] = encoder.transform(validating_inputs[other_cols])\n",
        "test_inputs[encoded_cols] = encoder.transform(test_inputs[other_cols])"
      ],
      "execution_count": 1973,
      "outputs": []
    },
    {
      "cell_type": "markdown",
      "metadata": {
        "id": "PBIG9ff8bw1R"
      },
      "source": [
        "**Applying Logistic Regression**"
      ]
    },
    {
      "cell_type": "code",
      "metadata": {
        "id": "suYiDgezve0v"
      },
      "source": [
        "from sklearn.linear_model import LogisticRegression"
      ],
      "execution_count": 1974,
      "outputs": []
    },
    {
      "cell_type": "code",
      "metadata": {
        "id": "09reW-ZYvi-l"
      },
      "source": [
        "model = LogisticRegression(solver = 'lbfgs',max_iter=100000)"
      ],
      "execution_count": 1975,
      "outputs": []
    },
    {
      "cell_type": "code",
      "metadata": {
        "colab": {
          "base_uri": "https://localhost:8080/"
        },
        "id": "gHQM9eW0vqub",
        "outputId": "ca82d73c-aa39-4b3b-99ca-0a06d5073cad"
      },
      "source": [
        "model.fit(training_inputs[numeric_cols + encoded_cols], training_target)"
      ],
      "execution_count": 1976,
      "outputs": [
        {
          "output_type": "execute_result",
          "data": {
            "text/plain": [
              "LogisticRegression(max_iter=100000)"
            ]
          },
          "metadata": {},
          "execution_count": 1976
        }
      ]
    },
    {
      "cell_type": "code",
      "metadata": {
        "colab": {
          "base_uri": "https://localhost:8080/"
        },
        "id": "oBuVz33txFbi",
        "outputId": "592c0a76-6031-4535-b9f6-13ac39172f12"
      },
      "source": [
        "print(numeric_cols + encoded_cols)"
      ],
      "execution_count": 1977,
      "outputs": [
        {
          "output_type": "stream",
          "name": "stdout",
          "text": [
            "['10percentage', '12percentage', 'CollegeTier', 'collegeGPA', 'CollegeCityID', 'GraduationYear', 'English', 'Logical', 'Quant', 'Domain', 'ComputerProgramming', 'ComputerScience', 'MechanicalEngg', 'ElectricalEngg', 'TelecomEngg', 'CivilEngg', 'conscientiousness', 'agreeableness', 'extraversion', 'nueroticism', 'openess_to_experience', 'Gender_f', 'Gender_m', '10board_0', '10board_aisse', '10board_andhra pradesh board ssc', '10board_andhra pradesh state board', '10board_anglo indian', '10board_ap state board', '10board_ap state board for secondary education', '10board_apsche', '10board_apssc', '10board_aurangabad board', '10board_bharathi matriculation school', '10board_bihar', '10board_bihar board', '10board_bihar examination board, patna', '10board_bihar school examination board', '10board_bihar school examination board patna', '10board_bihar secondary education board,patna', '10board_biharboard', '10board_board of  secondary education', '10board_board of high school and intermediate education uttarpradesh', '10board_board of intermediate education', '10board_board of school education harayana', '10board_board of school education haryana', '10board_board of school education uttarakhand', '10board_board of secendary education orissa', '10board_board of secondaray education', '10board_board of secondary education', '10board_board of secondary education (bse) orissa', '10board_board of secondary education - andhra pradesh', '10board_board of secondary education orissa', '10board_board of secondary education rajasthan', '10board_board of secondary education(bse) orissa', '10board_board of secondary education, andhra pradesh', '10board_board of secondary education, rajasthan', '10board_board of secondary education,andhara pradesh', '10board_board of secondary education,andhra pradesh', '10board_board of secondary education,ap', '10board_board of secondary education,odisha', '10board_board of secondary education,orissa', '10board_board of secondary education,rajasthan(rbse)', '10board_board of secondary school education', '10board_board of ssc', '10board_board of ssc education andhra pradesh', '10board_board ofsecondary education,ap', '10board_board secondary  education', '10board_bright way college, (up board)', '10board_bsc,orissa', '10board_bse', '10board_bse(board of secondary education)', '10board_bse, odisha', '10board_bse,odisha', '10board_bse,orissa', '10board_bseb', '10board_bseb ,patna', '10board_bseb patna', '10board_bseb, patna', '10board_bseb,patna', '10board_bsemp', '10board_bsepatna', '10board_cbsc', '10board_cbse', '10board_cbse ', '10board_cbse board', '10board_cbse[gulf zone]', '10board_central board of secondary education', '10board_central board of secondary education, new delhi', '10board_certificate of middle years program of ib', '10board_cgbse', '10board_cgbse raipur', '10board_cicse', '10board_cluny', '10board_council for indian school certificate examination', '10board_dav public school sec 14', '10board_dav public school,hehal', '10board_delhi board', '10board_delhi public school', '10board_don bosco maatriculation school', '10board_education board of kerala', '10board_ghseb', '10board_gseb', '10board_gsheb', '10board_gujarat board', '10board_gujarat state board', '10board_gyan bharati school', '10board_haryana board of school education', '10board_haryana board of school education,(hbse)', '10board_hbsc', '10board_hbse', '10board_himachal pradesh board', '10board_himachal pradesh board of school education', '10board_holy cross matriculation hr sec school', '10board_hsc', '10board_hsce', '10board_hse', '10board_hse,board', '10board_hse,orissa', '10board_icse', '10board_icse board', '10board_icse board , new delhi', '10board_j & k bord', '10board_j&k state board of school education', '10board_jawahar navodaya vidyalaya', '10board_jbse,jharkhand', '10board_jharkhand academic council', '10board_jharkhand accademic council', '10board_jharkhand acedemic council', '10board_jharkhand secondary board', '10board_jharkhand secondary education board', '10board_jharkhand secondary examination board (ranchi)', '10board_jharkhand secondary examination board,ranchi', '10board_jkbose', '10board_jseb', '10board_kalaimagal matriculation higher secondary school', '10board_karantaka secondary education and examination borad', '10board_karnataka', '10board_karnataka board', '10board_karnataka board of higher education', '10board_karnataka board of secondary education', '10board_karnataka education board', '10board_karnataka education board (keeb)', '10board_karnataka secondary board', '10board_karnataka secondary education', '10board_karnataka secondary education board', '10board_karnataka secondary education examination board', '10board_karnataka secondary eduction', '10board_karnataka secondary school of examination', '10board_karnataka secondory education board', '10board_karnataka sslc board bangalore', '10board_karnataka state board', '10board_karnataka state education examination board', '10board_karnataka state examination board', '10board_karnataka state secondary education board', '10board_kea', '10board_kerala', '10board_kerala state board', '10board_kerala state technical education', '10board_kerala university', '10board_kiran english medium high school', '10board_kolhapur', '10board_kolhapur divisional board, maharashtra', '10board_ksbe', '10board_kseb', '10board_kseeb', '10board_kseeb(karnataka secondary education examination board)', '10board_ksseb', '10board_ksseb(karnataka state board)', '10board_latur', '10board_latur board', '10board_little jacky matric higher secondary school', '10board_madhya pradesh board', '10board_maharashtra', '10board_maharashtra board', '10board_maharashtra board, pune', '10board_maharashtra nasik board', '10board_maharashtra satate board', '10board_maharashtra sate board', '10board_maharashtra state boar of secondary and higher secondary education', '10board_maharashtra state board', '10board_maharashtra state board for ssc', '10board_maharashtra state board mumbai divisional board', '10board_maharashtra state board of secondary & higher secondary education', '10board_maharashtra state board of secondary and higher secondary education', '10board_maharashtra state board of secondary and higher secondary education,pune', '10board_maharashtra state board pune', '10board_maharashtra state board,pune', '10board_maharashtra state(latur board)', '10board_maharastra board', '10board_maticulation', '10board_matric', '10board_matric board', '10board_matriculation', '10board_matriculation board', '10board_metric', '10board_mhsbse', '10board_mirza ahmed ali baig', '10board_mp', '10board_mp board', '10board_mp board bhopal', '10board_mp state board', '10board_mp-bse', '10board_mpboard', '10board_mpbse', '10board_ms board', '10board_msbshse,pune', '10board_mumbai board', '10board_nagpur', '10board_nagpur board', '10board_nagpur board,nagpur', '10board_nagpur divisional board', '10board_nashik board', '10board_nasik', '10board_national public school', '10board_pseb', '10board_pune', '10board_pune board', '10board_punjab school education board, mohali', '10board_rajasthan board', '10board_rajasthan board ajmer', '10board_rajasthan board of secondary education', '10board_rbse', '10board_rbse (state board)', '10board_rbse,ajmer', '10board_sarada high scchool', '10board_school secondary education, andhra pradesh', '10board_seba', '10board_seba(assam)', '10board_secondary board of rajasthan', '10board_secondary education board of rajasthan', '10board_secondary school cerfificate', '10board_secondary school certificate', '10board_secondary school education', '10board_secondary school of education', '10board_secondary state certificate', '10board_sri kannika parameswari highier secondary school, udumalpet', '10board_ssc', '10board_ssc board of andrapradesh', '10board_ssc maharashtra board', '10board_ssc regular', '10board_ssc-andhra pradesh', '10board_sslc', '10board_sslc board', '10board_sslc,karnataka', '10board_sss pune', '10board_state', '10board_state board', '10board_state board ', '10board_state board (jac, ranchi)', '10board_state board - west bengal board of secondary education : wbbse', '10board_state board of karnataka', '10board_state board of secondary education( ssc)', '10board_state board of secondary education, andhra pradesh', '10board_state board of secondary education, ap', '10board_state board of secondary education,andhra pradesh', '10board_state boardmp board ', '10board_state borad hp', '10board_state bord', '10board_state(karnataka board)', '10board_stateboard', '10board_stjoseph of cluny matrhrsecschool,neyveli,cuddalore district', '10board_stjosephs girls higher sec school,dindigul', '10board_stmary higher secondary', \"10board_stmary's convent inter college\", '10board_tamil nadu state', '10board_tamilnadu matriculation board', '10board_tamilnadu state board', '10board_tn state board', '10board_u p', '10board_u p board', '10board_ua', '10board_up', '10board_up baord', '10board_up board', '10board_up board , allahabad', '10board_up board allahabad', '10board_up board,allahabad', '10board_up borad', '10board_up bord', '10board_up bourd', '10board_up(allahabad)', '10board_up-board', '10board_upbhsie', '10board_upboard', '10board_uttar pradesh', '10board_uttar pradesh board', '10board_uttarakhand board', '10board_uttaranchal shiksha avam pariksha parishad', '10board_uttaranchal state board', '10board_uttrakhand board', '10board_uttranchal board', '10board_wbbsce', '10board_wbbse', '10board_west bengal  board of secondary education', '10board_west bengal board of secondary education', '10board_west bengal board of secondary eucation', '10board_west bengal board of secondary examination (wbbse)', '12board_ board of intermediate', '12board_ upboard', '12board_0', '12board_ahsec', '12board_aissce', '12board_aligarh muslim university', '12board_all india board', '12board_amravati divisional board', '12board_andhpradesh board of intermediate education', '12board_andhra board', '12board_andhra pradesh', '12board_andhra pradesh board of secondary education', '12board_andhra pradesh state board', '12board_ap board', '12board_ap board for intermediate education', '12board_ap intermediate board', '12board_apbie', '12board_apbsc', '12board_apsb', '12board_aurangabad board', '12board_baord of intermediate education', '12board_bciec,patna', '12board_bice', '12board_bie', '12board_bieap', '12board_biec', '12board_biec patna', '12board_biec, patna', '12board_biec,patna', '12board_biec-patna', '12board_bihar', '12board_bihar board', '12board_bihar intermediate education council', '12board_bihar intermediate education council, patna', '12board_bihar school examination board patna', '12board_board fo intermediate education, ap', '12board_board of high school and intermediate education uttarpradesh', '12board_board of higher secondary examination, kerala', '12board_board of higher secondary orissa', '12board_board of intermeadiate education', '12board_board of intermediate', '12board_board of intermediate ap', '12board_board of intermediate education', '12board_board of intermediate education, andhra pradesh', '12board_board of intermediate education, ap', '12board_board of intermediate education,andhra pradesh', '12board_board of intermediate education,andra pradesh', '12board_board of intermediate education,ap', '12board_board of intermediate education,hyderabad', '12board_board of intermediate education:ap,hyderabad', '12board_board of intermediate(bie)', '12board_board of intermediate,ap', '12board_board of intermidiate', '12board_board of intermidiate education,ap', '12board_board of intermidiate examination', '12board_board of intmediate education ap', '12board_board of intrmediate education,ap', '12board_board of school education harayana', '12board_board of school education uttarakhand', '12board_board of secondary education', '12board_board of secondary education rajasthan', '12board_board of secondary education, rajasthan', '12board_board of secondary education,rajasthan(rbse)', '12board_board of secondary school of education', '12board_board of technical education', '12board_board of technicaleducation ,delhi', '12board_boardofintermediate', '12board_borad of intermediate', '12board_bright way college, (up board)', '12board_bseb', '12board_bseb, patna', '12board_bsemp', '12board_bte up', '12board_bte,delhi', '12board_bteup', '12board_cbese', '12board_cbsc', '12board_cbse', '12board_cbse board', '12board_cbse,new delhi', '12board_central board of secondary education', '12board_central board of secondary education, new delhi', '12board_certificate for higher secondary education (chse)orissa', '12board_cgbse', '12board_cgbse raipur', '12board_chsc', '12board_chse', '12board_chse(concil of higher secondary education)', '12board_chse, odisha', '12board_chse,odisha', '12board_chse,orissa', '12board_cicse', '12board_council for indian school certificate examination', '12board_dav public school', '12board_dav public school sec 14', '12board_dav public school,hehal', '12board_department of pre university education', '12board_department of pre-university education', '12board_department of pre-university education(government of karnataka)', '12board_department of pre-university education, bangalore', '12board_department of pre-university eduction', '12board_department of technical education', '12board_department of technical education, bangalore', '12board_dept of pre-university education', '12board_diploma ( maharashtra state board of technical education)', '12board_diploma in computers', '12board_diploma in engg (e &tc) tilak maharashtra vidayapeeth', '12board_diploma(msbte)', '12board_directorate of technical education,banglore', '12board_dote (diploma - computer engg)', '12board_dpue', '12board_dte', '12board_electonincs and communication(dote)', '12board_ghseb', '12board_government polytechnic mumbai , mumbai board', '12board_govt of karnataka department of pre-university education', '12board_gseb', '12board_gseb/technical education board', '12board_gsheb', '12board_gshseb', '12board_gujarat board', '12board_haryana state board of technical education chandigarh', '12board_hbsc', '12board_hbse', '12board_higher secondary', '12board_higher secondary education', '12board_higher secondary state certificate', '12board_himachal pradesh board', '12board_himachal pradesh board of school education', '12board_hisher seconadry examination(state board)', '12board_holy cross matriculation hr sec school', '12board_hsc', '12board_hsc maharashtra board', '12board_hsc pune', '12board_hse', '12board_hslc (tamil nadu state board)', '12board_ibe', '12board_icse', '12board_intermediate', '12board_intermediate board', '12board_intermediate board examination', '12board_intermediate board of andhra pardesh', '12board_intermediate board of education', '12board_intermediate board of education,andhra pradesh', '12board_intermediate council patna', '12board_intermediate state board', '12board_intermedite', '12board_intermideate', '12board_intermidiate', '12board_international baccalaureate (ib) diploma', '12board_ipe', '12board_isc', '12board_isc board', '12board_isc board , new delhi', '12board_isce', '12board_j & k board', '12board_j&k state board of school education', '12board_jaswant modern school', '12board_jawahar higher secondary school', '12board_jaycee matriculation school', '12board_jharkhand academic council', '12board_jharkhand acamedic council (ranchi)', '12board_jharkhand accademic council', '12board_jharkhand acedemic council', '12board_jharkhand board', '12board_jiec', '12board_jkbose', '12board_jstb,jharkhand', '12board_jyoti nivas', '12board_karanataka secondary board', '12board_karnatak pu board', '12board_karnataka board', '12board_karnataka board of university', '12board_karnataka board secondary education', '12board_karnataka education board', '12board_karnataka pre university board', '12board_karnataka pre unversity board', '12board_karnataka pre-university', '12board_karnataka pre-university board', '12board_karnataka pu', '12board_karnataka pu board', '12board_karnataka secondary education', '12board_karnataka secondary education board', '12board_karnataka sslc', '12board_karnataka state', '12board_karnataka state board', '12board_karnataka state examination board', '12board_karnataka state pre- university board', '12board_kea', '12board_kerala', '12board_kerala state board', '12board_kerala state hse board', '12board_kerala university', '12board_kolhapur', '12board_kolhapur divisional board, maharashtra', '12board_ks rangasamy institute of technology', '12board_latur', '12board_latur board', '12board_lucknow public college', '12board_madhya pradesh board', '12board_madhya pradesh open school', '12board_maharashtra', '12board_maharashtra board', '12board_maharashtra board, pune', '12board_maharashtra nasik board', '12board_maharashtra satate board', '12board_maharashtra state boar of secondary and higher secondary education', '12board_maharashtra state board', '12board_maharashtra state board for hsc', '12board_maharashtra state board mumbai divisional board', '12board_maharashtra state board of secondary & higher secondary education', '12board_maharashtra state(latur board)', '12board_matric board', '12board_matriculation', '12board_mbose', '12board_mp', '12board_mp board', '12board_mp board bhopal', '12board_mp-bse', '12board_mpboard', '12board_mpbse', '12board_mpc', '12board_ms board', '12board_msbshse,pune', '12board_msbte', '12board_msbte (diploma in computer technology)', '12board_msbte pune', '12board_nagpur', '12board_nagpur board', '12board_nagpur board,nagpur', '12board_nagpur divisional board', '12board_narayana junior college', '12board_nashik board', '12board_nasik', '12board_nios', '12board_p u board, karnataka', '12board_pre university', '12board_pre university board', '12board_pre university board of karnataka', '12board_pre university board, karnataka', '12board_pre-university', '12board_pre-university board', '12board_preuniversity board(karnataka)', '12board_psbte', '12board_pseb', '12board_pu', '12board_pu  board karnataka', '12board_pu board', '12board_pu board ,karnataka', '12board_pu board karnataka', '12board_pub', '12board_puboard', '12board_puc', '12board_pue', '12board_pune board', '12board_punjab state board of technical education & industrial training', '12board_punjab state board of technical education & industrial training, chandigarh', '12board_rajasthan board', '12board_rajasthan board ajmer', '12board_rajasthan board of secondary education', '12board_rbse', '12board_rbse (state board)', '12board_s j polytechnic', '12board_sbte, jharkhand', '12board_sbtet', '12board_science college', '12board_scte & vt (diploma)', '12board_scte and vt ,orissa', '12board_scte vt orissa', '12board_scte&vt', '12board_sda matric higher secondary school', '12board_secnior secondary education board of rajasthan', '12board_secondary board of rajasthan', '12board_sjrcw', '12board_sri chaitanya junior kalasala', '12board_sri kannika parameswari highier secondary school, udumalpet', '12board_sri sankara vidyalaya', '12board_srv girls higher sec school,rasipuram', '12board_ssc', '12board_ssm srsecschool', '12board_st joseph hr sec school', '12board_staae board', '12board_state', '12board_state  board of intermediate education, andhra pradesh', '12board_state board', '12board_state board ', '12board_state board (jac, ranchi)', '12board_state board - tamilnadu', '12board_state board - west bengal council of higher secondary education : wbchse', '12board_state board of karnataka', '12board_state board of technical education', '12board_state board of technical education and training', '12board_state board of technical education harayana', '12board_state board of technical eduction panchkula', '12board_state bord', '12board_state broad', '12board_state syllabus', '12board_stateboard', '12board_stateboard/tamil nadu', '12board_stjoseph of cluny matrhrsecschool,neyveli,cuddalore district', '12board_stmiras college for girls', '12board_tamil nadu polytechnic', '12board_tamil nadu state', '12board_tamil nadu state board', '12board_tamilnadu higher secondary education board', '12board_tamilnadu state board', '12board_tamilnadu stateboard', '12board_technical board, punchkula', '12board_tn state board', '12board_u p', '12board_u p board', '12board_ua', '12board_uo board', '12board_up', '12board_up baord', '12board_up board', '12board_up board , allahabad', '12board_up board allahabad', '12board_up board,allahabad', '12board_up bord', '12board_up bourd', '12board_up(allahabad)', '12board_up-board', '12board_upbhsie', '12board_upboard', '12board_uttar pradesh', '12board_uttar pradesh board', '12board_uttarakhand board', '12board_uttaranchal shiksha avam pariksha parishad', '12board_uttaranchal state board', '12board_uttrakhand board', '12board_uttranchal board', '12board_wbbhse', '12board_wbchse', '12board_wbscte', '12board_west bengal board of higher secondary education', '12board_west bengal council of higher secondary education', '12board_west bengal council of higher secondary eucation', '12board_west bengal council of higher secondary examination (wbchse)', '12board_west bengal state council of technical education', 'Degree_B.Tech/B.E.', 'Degree_M.Sc. (Tech.)', 'Degree_M.Tech./M.E.', 'Degree_MCA', 'Specialization_aeronautical engineering', 'Specialization_applied electronics and instrumentation', 'Specialization_automobile/automotive engineering', 'Specialization_biomedical engineering', 'Specialization_biotechnology', 'Specialization_ceramic engineering', 'Specialization_chemical engineering', 'Specialization_civil engineering', 'Specialization_computer and communication engineering', 'Specialization_computer application', 'Specialization_computer engineering', 'Specialization_computer networking', 'Specialization_computer science', 'Specialization_computer science & engineering', 'Specialization_computer science and technology', 'Specialization_control and instrumentation engineering', 'Specialization_electrical and power engineering', 'Specialization_electrical engineering', 'Specialization_electronics', 'Specialization_electronics & instrumentation eng', 'Specialization_electronics & telecommunications', 'Specialization_electronics and communication engineering', 'Specialization_electronics and computer engineering', 'Specialization_electronics and electrical engineering', 'Specialization_electronics and instrumentation engineering', 'Specialization_electronics engineering', 'Specialization_embedded systems technology', 'Specialization_industrial & management engineering', 'Specialization_industrial & production engineering', 'Specialization_industrial engineering', 'Specialization_information & communication technology', 'Specialization_information science', 'Specialization_information science engineering', 'Specialization_information technology', 'Specialization_instrumentation and control engineering', 'Specialization_instrumentation engineering', 'Specialization_internal combustion engine', 'Specialization_mechanical & production engineering', 'Specialization_mechanical and automation', 'Specialization_mechanical engineering', 'Specialization_mechatronics', 'Specialization_metallurgical engineering', 'Specialization_other', 'Specialization_polymer technology', 'Specialization_power systems and automation', 'Specialization_telecommunication engineering', 'CollegeState_Andhra Pradesh', 'CollegeState_Assam', 'CollegeState_Bihar', 'CollegeState_Chhattisgarh', 'CollegeState_Delhi', 'CollegeState_Goa', 'CollegeState_Gujarat', 'CollegeState_Haryana', 'CollegeState_Himachal Pradesh', 'CollegeState_Jammu and Kashmir', 'CollegeState_Jharkhand', 'CollegeState_Karnataka', 'CollegeState_Kerala', 'CollegeState_Madhya Pradesh', 'CollegeState_Maharashtra', 'CollegeState_Meghalaya', 'CollegeState_Orissa', 'CollegeState_Punjab', 'CollegeState_Rajasthan', 'CollegeState_Sikkim', 'CollegeState_Tamil Nadu', 'CollegeState_Telangana', 'CollegeState_Union Territory', 'CollegeState_Uttar Pradesh', 'CollegeState_Uttarakhand', 'CollegeState_West Bengal']\n"
          ]
        }
      ]
    },
    {
      "cell_type": "code",
      "metadata": {
        "colab": {
          "base_uri": "https://localhost:8080/"
        },
        "id": "LhsSzfI3xGbo",
        "outputId": "7de86399-2a90-4ebb-f893-9f4411643889"
      },
      "source": [
        "print(model.coef_.tolist())"
      ],
      "execution_count": 1999,
      "outputs": [
        {
          "output_type": "stream",
          "name": "stdout",
          "text": [
            "[[1.4330132862049156, 1.6584753512450234, -1.2152501120664274, 3.2188210386444016, -0.4970556491879268, -0.23082648618724672, 2.0313631246391433, 0.4776368385314412, 2.1824510007461604, 0.2627056002158051, 0.728000190637444, -0.446420710815111, -0.1663695623731466, -0.8231213576699075, -0.2895374128823916, 1.003384249466089, -0.35553803329135675, 0.5532864930610476, 0.12495591943259825, -0.5782216905400298, -0.7620606278222098, -0.1430546010247621, 0.1331950603514784, 0.0, -0.29999713915208415, 0.0, 0.0, 0.6739453213320696, 0.0, -0.631409206995827, 0.0, 0.08559895517375737, -0.5167629590200398, 0.0, 0.25035324285377997, -0.25778735249277845, -0.10653037476778969, -0.3295761666276606, -0.20039887199313047, 0.0, -0.24589597879845207, 0.096121241808574, -0.39014175779899174, 0.07467578847447745, 0.6032346406973065, 0.05308848999544279, 0.0, -0.1944227562937023, -0.4936005075917616, -0.4789776397003784, 0.10191372710169272, 0.09126900043161161, 0.0, 0.10495615140623671, 0.14802257183973916, 0.026736899928185908, -0.5227951851844864, 0.18753946452440215, 0.13112360443805934, 0.06362650617668536, 0.20467464616229902, -0.37703346898864587, -0.3951854515681698, 0.1881276660320881, -0.4174288228379765, 0.09759144398807586, 0.15918989047449214, -0.2634254396043281, -0.38162369596429935, 0.0, 0.20353783948584497, 0.03741756446536165, 0.0, 0.16490560367831175, -0.38245368433560295, 0.08439054130636056, 0.11130039023562649, 0.0, -0.4828485698696259, -0.3727775551797157, 0.22418462158572552, -0.23943005242111381, 0.0, -0.06641492383749537, 0.33292612346806366, -0.7092972616526887, 0.0, -0.1566981292636554, -0.4776418866972338, 0.26041422770794664, -0.17948015436102122, -0.14492409261066655, 0.038110162272057685, 0.5308349877808687, 0.20456477894076605, 0.0, 0.0, 0.17885737711104602, -0.07242175924056936, -0.15167454288270188, 0.07494571755493153, 0.0, -0.7858262752812769, 0.18181144517422965, 0.5061920105401652, -0.2735645096446125, 0.0, 0.0, 0.34839552827515835, 0.38157557137968484, -0.5029538221405034, 0.0, 0.29532894826099326, 0.0, -0.6722555598701857, -0.6042534372741473, -0.13503549265242495, 0.472902416212635, 0.0, 0.007875008786437581, 0.0, 0.0, 0.0, 0.0, 0.0, -0.3603724973507445, -0.3933798243586277, 0.0, 0.0, -0.1313861303766445, 0.45485920535891383, 0.1533127196993296, 0.0, 0.2710370353813669, 0.5151335912464381, 0.3115709776384762, 0.0, 0.11777812920896925, 0.3000655872811292, 0.0, 0.11274232090354137, 0.11145798853986813, 0.16458045156915066, 0.27329049156863006, 0.3531103864622159, -0.6459535322351269, 0.4523448418548138, 0.24155895273017516, 0.10401673801500481, 0.20506313436612195, 0.29441695538584944, 0.8688044875325897, 0.0, 0.12058783783654449, -0.5770172340228763, 0.32563849336931394, 0.3767785644579775, -0.039911203113797866, -0.6721907808805104, 0.0, 0.10077367758818911, 0.0, 0.0, 0.32604537776377746, -0.11376169171045397, 0.059701298684529704, 0.0, -0.12512250114053333, 0.0, 0.3068611298310513, 0.0, -0.39629987169779857, 0.0, 0.40526963996236304, 0.3818871348741249, 0.10336501015747514, 0.0, -0.16616011967489483, -0.46019983203151194, 0.0, 0.09252280826737701, 0.0, 0.0, 0.15714614976537872, 0.048641624328092464, 0.09861339020303934, 0.27568535532514016, 0.0, 0.1255705116525303, -0.37375238811228156, 0.0, -0.3098885133087461, 0.7075238258172569, -0.4164119524071594, -0.16017549067807085, 0.290986571558631, -0.3791200111980853, 0.296189884081904, -0.1691806229227504, 0.5029791513858942, 0.1925567153809731, 0.07774875758623435, 0.0, 0.0, 0.1629660009483862, 0.0, 0.0, 0.1998930911618603, 0.0, 0.6983262644002273, 0.28930865846174497, -0.2529674296009936, 0.21639477650944502, 0.0, -0.31867424262170196, 0.22939695908904806, -0.4234470823704889, -0.17280403321029764, 0.20417596328411355, -0.14032636329067028, -0.5380711917862031, -0.6772820320919739, -0.2525755456943807, 0.0, -0.5288328388749167, 0.35558112527700014, 0.16332171296018003, 0.0, 0.0, 0.0, 0.3251309440292947, -0.3546637765062212, 0.0, 0.11584706599422454, 0.6068124971520893, 0.0, 0.4689097781375783, -0.006293792559185707, 0.2785993139074821, -0.2580525755185888, 0.0, 0.0, 0.4805565601400028, -0.24290214357188034, 0.11279458277464495, 0.0, 0.20174288587192896, -0.2296755352790612, 0.3601346181495682, 0.16702988833800175, 0.24917071198534904, 0.1010695614413747, 0.049436509217819995, 0.07532376820141601, 0.0, 0.0, -0.2907655152694621, -0.05885022839335663, 0.0, 0.0, 0.6881327122782831, -0.38886325457168325, 0.2223791574087682, 0.0, 0.21926847555499174, 0.19193264957755637, 0.08399554014683547, 0.0, 0.0, 0.0, 0.44255772322703896, -0.467753283499374, -0.42024326197640455, -0.12528790591839128, -0.22787344047961486, 0.3552234703731018, 0.15771594553416066, 0.0, -0.13313921692395134, 0.0, -0.2332703893171521, 0.4701422302947357, 0.0, 0.3704431891592689, -0.1712061376852312, -0.5490708466086468, -0.23613901953449043, -0.6086626450490545, -0.32058854553536226, 0.0, -0.3161315005300335, -0.06981498091759192, 0.48881024159078845, -0.5416255969484743, -0.29887439317324366, 0.0863061826439226, 0.15453842039954604, 0.0, -0.7477139375639862, -0.16407957019410735, 0.0, 0.0, -0.29999713915208415, 0.7710309836681899, 0.17885737711104602, 0.0, 0.0, 0.19159209953524833, 0.0, 0.0, 0.0, 0.13677426172959417, -0.631409206995827, 0.0, 0.08559895517375737, 0.0, 0.3538253326185672, -0.5167629590200398, -0.2634254396043281, -0.44444846178722447, -0.274411181562429, -0.020842470680201338, 0.27571423942417606, -0.10145408400048189, 0.0, -0.19820620356339463, 0.1829712968431341, -0.23943005242111381, 0.25035324285377997, 0.43064033063893464, -0.3295761666276606, -0.10653037476778969, -0.20039887199313047, 0.09126900043161161, -0.39014175779899174, 0.0, 0.0, 0.1881276660320881, 0.04488732047121377, 0.25373929590155814, -0.0455916724945381, 0.1900586128883663, 0.37994729535305105, 0.13112360443805934, 0.2785993139074821, -0.4679132223204574, 0.18753946452440215, 0.06362650617668536, -0.3845030413482505, 0.1296914672581322, 0.0, 0.096121241808574, 0.0, 0.09759144398807586, 0.0, 0.721443302874886, 0.0, 0.07467578847447745, -0.05287750849493018, 0.0, -0.3951854515681698, 0.23453805926547963, 0.0, -0.15213574833041202, 0.0, -0.28651285372562785, -0.38162369596429935, -0.2992482552165854, -0.2846423663062312, 0.22418462158572552, -0.07247888250683172, 0.0, 0.0, -0.5651903963780017, 0.0, -0.2910626876640764, 0.0, 0.0, -0.8004443047778831, -0.4776418866972338, 0.10191372710169272, -0.17948015436102122, -0.14492409261066655, 0.0, -0.3519847959848609, 0.03741756446536165, 0.0, 0.36958024984060933, -0.18988154623426748, 0.038110162272057685, 0.20456477894076605, 0.0, 0.0, 0.0, 0.0, 0.17663712964669415, 0.0344461415954563, 0.0, 0.0, 0.32866834613002727, 0.0, 0.0, 0.048641624328092464, 0.17432992765480462, 0.0, -0.2813639016074491, -0.3768570230517347, -0.24289216662406296, 0.13827166828787263, 0.5177327857588472, 0.0, 0.0, 0.1998930911618603, 0.0, 0.0, -0.3447989128028181, -0.2592159173042297, 0.0, 0.5061920105401652, 0.05308848999544279, 0.0, 0.5556964553129007, 0.15741160496758935, 0.0, 0.0, 0.0, 0.29532894826099326, 0.0, 0.0, -0.38437784452290674, -0.2580525755185888, 0.0, 0.0, 0.25953473749151584, 0.247172669711848, -0.15859998907576822, -0.449140793644819, 0.2405593959042426, 0.0, 0.10413305098741545, -0.4183592906446449, 0.15486025577713164, 0.0, 0.14302296010267293, 0.25574902132311894, 0.0, -0.330178491389421, 0.26041422770794664, -0.48842767382612073, 0.3985636478277748, 0.0, 0.0, 0.0, 0.0, 0.0, -0.4466884904933392, -0.31867424262170196, 0.0, -0.06990674937636006, 0.1533127196993296, 0.0, 0.0, -0.19541886610869122, 0.4271544842139101, 0.2710370353813669, -0.3603724973507445, 0.5308349877808687, 0.27610009706228666, 0.22078286675986217, 0.07775622551667383, 0.11274232090354137, 0.3000655872811292, 0.11145798853986813, 0.23754205730793995, -0.7062322095473818, 0.3531103864622159, 0.07562136952789059, 0.2820979392736243, 0.2279625937477801, 0.03599802554207155, 0.29441695538584944, 0.0, 0.11777812920896925, -0.3125996475733667, 0.12058783783654449, 0.33987496081570434, 0.32563849336931394, 0.3767785644579775, -0.039911203113797866, -0.6721907808805104, 0.0, 0.0, 0.0, 0.3115709776384762, 0.3068611298310513, 0.0, 0.21926847555499174, 0.0, -0.271616280130752, 0.40526963996236304, -0.019240049062817052, 0.10336501015747514, 0.0, -0.16616011967489483, 0.0, -0.3676770237641351, 0.0, 0.0, 0.15714614976537872, 0.1255705116525303, -0.414026652233154, -0.27194959282299835, 0.6153850706811168, -0.14840383319880043, 0.3065558090798018, 0.1925567153809731, 0.0, 0.0, 0.1629660009483862, -0.10402155936766783, 0.0, 0.0, -0.5031164501261799, 0.0, 0.27568535532514016, 0.0, 0.6983262644002273, 0.28930865846174497, -0.2529674296009936, 0.0, 0.21639477650944502, 0.0, -0.09596842353241755, -0.0919858625669278, 0.12517967096023563, -0.12512250114053333, 0.0, 0.05787196335947198, 0.3822751098498499, 0.15456676496086302, 0.0, 0.33741371020321886, -0.10801675111417154, 0.0, 0.19994050866840704, 0.5437297682733212, -0.36846711416212835, 0.16458045156915066, 0.18737551596594398, 0.0, -0.11059823947077115, -0.44732614804149595, -0.17280403321029764, 0.0, 0.20417596328411355, 0.09248826204440878, -0.5380711917862031, -0.6772820320919739, -0.847659822932498, 0.0, -0.3318023229185044, 0.0, -0.12402741299890353, 0.0, 0.472902416212635, 0.0, -0.1944227562937023, 0.0, -0.39629987169779857, 0.3251309440292947, 0.0, 0.0, 0.10077367758818911, 0.4689097781375783, 0.14261504863978228, 0.2223791574087682, 0.3938913731124925, -0.5288328388749167, -0.15167454288270188, 0.21003742006890977, 0.49272945743056035, 0.07532376820141601, -0.6455471970124673, 0.3601346181495682, 0.16702988833800175, 0.08957875014747346, 0.24917071198534904, 0.1010695614413747, 0.0, 0.20533768804220917, -0.11820866217757915, -0.23281462533507882, 0.0, 0.3645306842949715, 0.0, 0.3647719193132257, 0.0, -0.38886325457168325, 0.0, 0.0, 0.19193264957755637, 0.3347812198406888, 0.08399554014683547, 0.0, 0.0, 0.0, 0.0, 0.0, 0.44255772322703896, -0.467753283499374, -0.10500770766994606, -0.23812663070999918, -0.12528790591839128, -0.1641229887610123, 0.3552234703731018, 0.15771594553416066, 0.0, 0.0, -0.2332703893171521, 0.4701422302947357, 0.0, 0.3704431891592689, -0.417102116483684, -0.5490708466086468, -0.23613901953449043, -0.6086626450490545, -0.32058854553536226, 0.0, -0.3161315005300335, -0.06981498091759192, -0.47503555421997756, 0.127931755837164, 0.0, -0.29887439317324366, 0.0863061826439226, 0.15453842039954604, 0.0, -0.3227624082548955, 0.2797450148940215, -0.2173770071320175, -0.19250862633872728, 0.12028107790344399, -0.2634254396043281, 0.4113188039866543, 0.20569376262917097, -0.21882868125139884, -0.6836925437860026, 0.02572204782723482, -0.40485018722964017, -0.13563126992980673, 0.0, 0.12028107790344399, 0.23004140301767564, 0.05787196335947198, 0.22512333033422444, -0.11046252501582655, 0.014660958659800558, 0.12031788588444577, -0.6573019252937383, 0.09990162291229217, -0.1702909623093966, 0.8092917402399439, -0.3930727582434875, -0.1185967369672069, -0.059175621534749846, -0.09384362021462193, 0.3043082478596124, 0.44446889118714933, -0.14424581739368633, 0.27090837038490495, 0.767054143730768, 0.594471198280999, 0.02818667828244539, 0.0, -0.6809844373782293, -0.039871714188725656, 0.5326237257872856, -0.3879580359755943, 0.0, -0.12512250114053333, -0.061598455628682006, -0.28792289133574384, 0.11050412313753866, 0.10510849333274852, -0.4659866387106111, 0.12905144857506623, -0.14101289973917214, 0.027106204885026294, -0.0029014111594922584, 0.5716358877114114, -0.6714301875316475, 0.0644939679953021, -0.1511662014037855, 0.31048097948007963, -0.327031042071805, -0.6999240118081768, 0.4285538411715175, 0.38528848335944055, 0.39503096163047197, 0.3296888060850172, -0.004780304169623645, 0.18189050478750443, 0.4356569844104408, -0.1605003340896687, 0.46402881935413715, -0.46377361944200535, -0.030944731572977224, -0.5800589333669697, -0.3804119680157768, -0.3364525966064434, 0.1241340289760543, -0.1394596032088364, 0.31349015559620347, -0.06539801678365345]]\n"
          ]
        }
      ]
    },
    {
      "cell_type": "code",
      "metadata": {
        "colab": {
          "base_uri": "https://localhost:8080/"
        },
        "id": "HqQQpJLhxMNh",
        "outputId": "4caf1a8b-91a1-4e87-d7d1-7a4919930b93"
      },
      "source": [
        "print(model.intercept_)"
      ],
      "execution_count": 2000,
      "outputs": [
        {
          "output_type": "stream",
          "name": "stdout",
          "text": [
            "[-4.36913974]\n"
          ]
        }
      ]
    },
    {
      "cell_type": "code",
      "metadata": {
        "id": "1E3vBClKxPO3"
      },
      "source": [
        "X_train = training_inputs[numeric_cols + encoded_cols]\n",
        "X_val = validating_inputs[numeric_cols + encoded_cols]\n",
        "X_test = test_inputs[numeric_cols + encoded_cols]"
      ],
      "execution_count": 2001,
      "outputs": []
    },
    {
      "cell_type": "code",
      "metadata": {
        "id": "_kmdXWN5xW7T"
      },
      "source": [
        "train_preds = model.predict(X_train)"
      ],
      "execution_count": 2002,
      "outputs": []
    },
    {
      "cell_type": "code",
      "metadata": {
        "id": "QkO0DhaHxfmB"
      },
      "source": [
        "test_preds = model.predict(X_test)"
      ],
      "execution_count": 2003,
      "outputs": []
    },
    {
      "cell_type": "code",
      "metadata": {
        "id": "efJOCv1DgqQ2"
      },
      "source": [
        "val_preds = model.predict(X_val)"
      ],
      "execution_count": 2004,
      "outputs": []
    },
    {
      "cell_type": "markdown",
      "metadata": {
        "id": "c80JPbcDlyXT"
      },
      "source": [
        "**Accuracy Measurement**"
      ]
    },
    {
      "cell_type": "code",
      "metadata": {
        "id": "cLMcFLjBxt7S"
      },
      "source": [
        "from sklearn.metrics import accuracy_score"
      ],
      "execution_count": 2005,
      "outputs": []
    },
    {
      "cell_type": "code",
      "metadata": {
        "colab": {
          "base_uri": "https://localhost:8080/"
        },
        "id": "DNqiv51kxs8g",
        "outputId": "008f1134-2520-40f2-c050-5d86ce36666b"
      },
      "source": [
        "accuracy_score(training_target, train_preds)"
      ],
      "execution_count": 2006,
      "outputs": [
        {
          "output_type": "execute_result",
          "data": {
            "text/plain": [
              "0.7606338615512928"
            ]
          },
          "metadata": {},
          "execution_count": 2006
        }
      ]
    },
    {
      "cell_type": "code",
      "metadata": {
        "colab": {
          "base_uri": "https://localhost:8080/"
        },
        "id": "fq2R022kgu_C",
        "outputId": "8a4a492a-964a-4068-dc30-9c9a778743b0"
      },
      "source": [
        "accuracy_score(test_target, test_preds)"
      ],
      "execution_count": 2007,
      "outputs": [
        {
          "output_type": "execute_result",
          "data": {
            "text/plain": [
              "0.70375"
            ]
          },
          "metadata": {},
          "execution_count": 2007
        }
      ]
    },
    {
      "cell_type": "code",
      "metadata": {
        "colab": {
          "base_uri": "https://localhost:8080/"
        },
        "id": "WQqdAjD5g1ef",
        "outputId": "f302aa1b-f99d-4a47-dd4b-597bc895bfd0"
      },
      "source": [
        "accuracy_score(validating_target, val_preds)"
      ],
      "execution_count": 2008,
      "outputs": [
        {
          "output_type": "execute_result",
          "data": {
            "text/plain": [
              "0.70375"
            ]
          },
          "metadata": {},
          "execution_count": 2008
        }
      ]
    },
    {
      "cell_type": "markdown",
      "metadata": {
        "id": "FxfpGzNBGtcq"
      },
      "source": [
        "**Confusion Matrix**"
      ]
    },
    {
      "cell_type": "code",
      "metadata": {
        "id": "mr8iOhJRmMCk"
      },
      "source": [
        "from sklearn.metrics import confusion_matrix"
      ],
      "execution_count": 2009,
      "outputs": []
    },
    {
      "cell_type": "code",
      "metadata": {
        "id": "Ow7ZtSfcPbg7"
      },
      "source": [
        "label = np.array((0,1))"
      ],
      "execution_count": 2010,
      "outputs": []
    },
    {
      "cell_type": "code",
      "metadata": {
        "colab": {
          "base_uri": "https://localhost:8080/",
          "height": 111
        },
        "id": "dtnzr1VjmNF0",
        "outputId": "0da51dae-00bc-4119-e9f1-c419c7149aee"
      },
      "source": [
        "train_cm = confusion_matrix(training_target, train_preds, normalize='true', labels = label)\n",
        "pd.DataFrame(train_cm, index = label, columns = label)"
      ],
      "execution_count": 2011,
      "outputs": [
        {
          "output_type": "execute_result",
          "data": {
            "text/html": [
              "<div>\n",
              "<style scoped>\n",
              "    .dataframe tbody tr th:only-of-type {\n",
              "        vertical-align: middle;\n",
              "    }\n",
              "\n",
              "    .dataframe tbody tr th {\n",
              "        vertical-align: top;\n",
              "    }\n",
              "\n",
              "    .dataframe thead th {\n",
              "        text-align: right;\n",
              "    }\n",
              "</style>\n",
              "<table border=\"1\" class=\"dataframe\">\n",
              "  <thead>\n",
              "    <tr style=\"text-align: right;\">\n",
              "      <th></th>\n",
              "      <th>0</th>\n",
              "      <th>1</th>\n",
              "    </tr>\n",
              "  </thead>\n",
              "  <tbody>\n",
              "    <tr>\n",
              "      <th>0</th>\n",
              "      <td>0.728173</td>\n",
              "      <td>0.271827</td>\n",
              "    </tr>\n",
              "    <tr>\n",
              "      <th>1</th>\n",
              "      <td>0.211344</td>\n",
              "      <td>0.788656</td>\n",
              "    </tr>\n",
              "  </tbody>\n",
              "</table>\n",
              "</div>"
            ],
            "text/plain": [
              "          0         1\n",
              "0  0.728173  0.271827\n",
              "1  0.211344  0.788656"
            ]
          },
          "metadata": {},
          "execution_count": 2011
        }
      ]
    },
    {
      "cell_type": "code",
      "metadata": {
        "id": "uhIOileZrhFh",
        "colab": {
          "base_uri": "https://localhost:8080/",
          "height": 111
        },
        "outputId": "f5b49f46-454a-4b43-90b3-97b9a499687c"
      },
      "source": [
        "test_cm = confusion_matrix(test_target, test_preds, normalize='true', labels = label)\n",
        "pd.DataFrame(test_cm, index = label, columns = label)"
      ],
      "execution_count": 2012,
      "outputs": [
        {
          "output_type": "execute_result",
          "data": {
            "text/html": [
              "<div>\n",
              "<style scoped>\n",
              "    .dataframe tbody tr th:only-of-type {\n",
              "        vertical-align: middle;\n",
              "    }\n",
              "\n",
              "    .dataframe tbody tr th {\n",
              "        vertical-align: top;\n",
              "    }\n",
              "\n",
              "    .dataframe thead th {\n",
              "        text-align: right;\n",
              "    }\n",
              "</style>\n",
              "<table border=\"1\" class=\"dataframe\">\n",
              "  <thead>\n",
              "    <tr style=\"text-align: right;\">\n",
              "      <th></th>\n",
              "      <th>0</th>\n",
              "      <th>1</th>\n",
              "    </tr>\n",
              "  </thead>\n",
              "  <tbody>\n",
              "    <tr>\n",
              "      <th>0</th>\n",
              "      <td>0.687003</td>\n",
              "      <td>0.312997</td>\n",
              "    </tr>\n",
              "    <tr>\n",
              "      <th>1</th>\n",
              "      <td>0.281324</td>\n",
              "      <td>0.718676</td>\n",
              "    </tr>\n",
              "  </tbody>\n",
              "</table>\n",
              "</div>"
            ],
            "text/plain": [
              "          0         1\n",
              "0  0.687003  0.312997\n",
              "1  0.281324  0.718676"
            ]
          },
          "metadata": {},
          "execution_count": 2012
        }
      ]
    },
    {
      "cell_type": "code",
      "metadata": {
        "colab": {
          "base_uri": "https://localhost:8080/",
          "height": 111
        },
        "id": "ygY-9As-GdID",
        "outputId": "5c30f2c5-04be-4642-b2b5-08117558d5fc"
      },
      "source": [
        "val_cm = confusion_matrix(validating_target, val_preds, normalize='true', labels = label)\n",
        "pd.DataFrame(val_cm, index = label, columns = label)"
      ],
      "execution_count": 2013,
      "outputs": [
        {
          "output_type": "execute_result",
          "data": {
            "text/html": [
              "<div>\n",
              "<style scoped>\n",
              "    .dataframe tbody tr th:only-of-type {\n",
              "        vertical-align: middle;\n",
              "    }\n",
              "\n",
              "    .dataframe tbody tr th {\n",
              "        vertical-align: top;\n",
              "    }\n",
              "\n",
              "    .dataframe thead th {\n",
              "        text-align: right;\n",
              "    }\n",
              "</style>\n",
              "<table border=\"1\" class=\"dataframe\">\n",
              "  <thead>\n",
              "    <tr style=\"text-align: right;\">\n",
              "      <th></th>\n",
              "      <th>0</th>\n",
              "      <th>1</th>\n",
              "    </tr>\n",
              "  </thead>\n",
              "  <tbody>\n",
              "    <tr>\n",
              "      <th>0</th>\n",
              "      <td>0.674667</td>\n",
              "      <td>0.325333</td>\n",
              "    </tr>\n",
              "    <tr>\n",
              "      <th>1</th>\n",
              "      <td>0.270588</td>\n",
              "      <td>0.729412</td>\n",
              "    </tr>\n",
              "  </tbody>\n",
              "</table>\n",
              "</div>"
            ],
            "text/plain": [
              "          0         1\n",
              "0  0.674667  0.325333\n",
              "1  0.270588  0.729412"
            ]
          },
          "metadata": {},
          "execution_count": 2013
        }
      ]
    },
    {
      "cell_type": "markdown",
      "metadata": {
        "id": "a4jGv8VWQRSE"
      },
      "source": [
        "**Class-Wise Accuracies**"
      ]
    },
    {
      "cell_type": "code",
      "metadata": {
        "colab": {
          "base_uri": "https://localhost:8080/"
        },
        "id": "VF74emZzQVgW",
        "outputId": "74865a33-4907-42d3-99db-ce9aaaac8d22"
      },
      "source": [
        "# Training data\n",
        "print('For the training data :')\n",
        "print('Class \"0\" has accuracy' , train_cm[0][0])\n",
        "print('Class \"1\" has accuracy' , train_cm[1][1])"
      ],
      "execution_count": 2014,
      "outputs": [
        {
          "output_type": "stream",
          "name": "stdout",
          "text": [
            "For the training data :\n",
            "Class \"0\" has accuracy 0.7281728172817282\n",
            "Class \"1\" has accuracy 0.7886557886557887\n"
          ]
        }
      ]
    },
    {
      "cell_type": "code",
      "metadata": {
        "colab": {
          "base_uri": "https://localhost:8080/"
        },
        "id": "iGXH9_EJQrUK",
        "outputId": "0ac66b0c-78bd-4c92-ec6e-b2b538c7b36a"
      },
      "source": [
        "# Testing data\n",
        "print('For the testing data :')\n",
        "print('Class \"0\" has accuracy' , test_cm[0][0])\n",
        "print('Class \"1\" has accuracy' , test_cm[1][1])"
      ],
      "execution_count": 2015,
      "outputs": [
        {
          "output_type": "stream",
          "name": "stdout",
          "text": [
            "For the testing data :\n",
            "Class \"0\" has accuracy 0.6870026525198939\n",
            "Class \"1\" has accuracy 0.7186761229314421\n"
          ]
        }
      ]
    },
    {
      "cell_type": "code",
      "metadata": {
        "colab": {
          "base_uri": "https://localhost:8080/"
        },
        "id": "xxos7At6QxRB",
        "outputId": "ea77b448-c465-4453-91f1-4408c0138956"
      },
      "source": [
        "# Validating data\n",
        "print('For the validating data :')\n",
        "print('Class \"0\" has accuracy' , val_cm[0][0])\n",
        "print('Class \"1\" has accuracy' , val_cm[1][1])"
      ],
      "execution_count": 2016,
      "outputs": [
        {
          "output_type": "stream",
          "name": "stdout",
          "text": [
            "For the validating data :\n",
            "Class \"0\" has accuracy 0.6746666666666666\n",
            "Class \"1\" has accuracy 0.7294117647058823\n"
          ]
        }
      ]
    },
    {
      "cell_type": "markdown",
      "metadata": {
        "id": "5GnLc0HUcf3x"
      },
      "source": [
        "**Heatmaps for confusion matrix**"
      ]
    },
    {
      "cell_type": "code",
      "metadata": {
        "colab": {
          "base_uri": "https://localhost:8080/",
          "height": 416
        },
        "id": "DPwEwNzjckEw",
        "outputId": "06b2b473-ea4d-452d-a7f4-e67ea2d03e5a"
      },
      "source": [
        "plt.figure()\n",
        "sns.heatmap(train_cm,annot=True)\n",
        "plt.title('Training Data Confusion Matrix')\n",
        "plt.xlabel('Predictions')\n",
        "plt.ylabel('Targets')\n",
        "plt.show()"
      ],
      "execution_count": 2017,
      "outputs": [
        {
          "output_type": "display_data",
          "data": {
            "image/png": "[encoded data removed]",
            "text/plain": [
              "<Figure size 720x432 with 2 Axes>"
            ]
          },
          "metadata": {
            "needs_background": "light"
          }
        }
      ]
    },
    {
      "cell_type": "code",
      "metadata": {
        "colab": {
          "base_uri": "https://localhost:8080/",
          "height": 416
        },
        "id": "t7ixmlLrdPYF",
        "outputId": "fa86cca8-32e6-4d6b-8bf8-bb242b6dedba"
      },
      "source": [
        "plt.figure()\n",
        "sns.heatmap(test_cm,annot=True)\n",
        "plt.title('Testing Data Confusion Matrix')\n",
        "plt.xlabel('Predictions')\n",
        "plt.ylabel('Targets')\n",
        "plt.show()"
      ],
      "execution_count": 2018,
      "outputs": [
        {
          "output_type": "display_data",
          "data": {
            "image/png": "[encoded data removed]",
            "text/plain": [
              "<Figure size 720x432 with 2 Axes>"
            ]
          },
          "metadata": {
            "needs_background": "light"
          }
        }
      ]
    },
    {
      "cell_type": "code",
      "metadata": {
        "colab": {
          "base_uri": "https://localhost:8080/",
          "height": 416
        },
        "id": "hNhYqnKxdWPZ",
        "outputId": "14ee64e3-506c-4bc4-f2b6-442e29cdc5b2"
      },
      "source": [
        "plt.figure()\n",
        "sns.heatmap(val_cm,annot=True)\n",
        "plt.title('Validating Data Confusion Matrix')\n",
        "plt.xlabel('Predictions')\n",
        "plt.ylabel('Targets')\n",
        "plt.show()"
      ],
      "execution_count": 2019,
      "outputs": [
        {
          "output_type": "display_data",
          "data": {
            "image/png": "[encoded data removed]",
            "text/plain": [
              "<Figure size 720x432 with 2 Axes>"
            ]
          },
          "metadata": {
            "needs_background": "light"
          }
        }
      ]
    }
  ]
}